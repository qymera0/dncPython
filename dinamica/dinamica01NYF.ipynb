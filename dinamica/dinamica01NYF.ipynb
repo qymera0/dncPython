{
 "cells": [
  {
   "cell_type": "markdown",
   "id": "c5353fb4-390c-4f90-a2f0-88722b4620c7",
   "metadata": {},
   "source": [
    "# DNC DATA EXPERT"
   ]
  },
  {
   "cell_type": "markdown",
   "id": "3015cc35-aeb3-4eb5-ae61-fc5221dd8eda",
   "metadata": {},
   "source": [
    "# Dinâmica 01 - New York Flights"
   ]
  },
  {
   "cell_type": "markdown",
   "id": "40acfda4-2886-41e5-9306-a21abf3ba3ec",
   "metadata": {},
   "source": [
    "## CARREGAMENTO DAS BIBLIOTECAS"
   ]
  },
  {
   "cell_type": "code",
   "execution_count": 1,
   "id": "1c7ec1ca-712c-4eb7-8ef3-766d9185ced9",
   "metadata": {},
   "outputs": [],
   "source": [
    "import pandas as pd\n",
    "import numpy as np\n",
    "import matplotlib.pyplot as plt\n",
    "import seaborn as sns\n",
    "%matplotlib widget"
   ]
  },
  {
   "cell_type": "markdown",
   "id": "e910941c-ecce-4518-9ccb-623b8b1dc15c",
   "metadata": {},
   "source": [
    "## CARREGAMENTO DOS DADOS"
   ]
  },
  {
   "cell_type": "code",
   "execution_count": 2,
   "id": "c4686f35-a3a0-4556-8a37-e08f00b594be",
   "metadata": {},
   "outputs": [
    {
     "ename": "FileNotFoundError",
     "evalue": "[Errno 2] No such file or directory: 'D:\\\\Samuel\\\\Documentos\\\\Python\\\\dncPython\\\\dinamica\\\\Datasets\\\\D01\\\\nyflights.csv'",
     "output_type": "error",
     "traceback": [
      "\u001b[1;31m---------------------------------------------------------------------------\u001b[0m",
      "\u001b[1;31mFileNotFoundError\u001b[0m                         Traceback (most recent call last)",
      "\u001b[1;32m<ipython-input-2-3bf0adc59db3>\u001b[0m in \u001b[0;36m<module>\u001b[1;34m\u001b[0m\n\u001b[1;32m----> 1\u001b[1;33m \u001b[0mdf\u001b[0m \u001b[1;33m=\u001b[0m \u001b[0mpd\u001b[0m\u001b[1;33m.\u001b[0m\u001b[0mread_csv\u001b[0m\u001b[1;33m(\u001b[0m\u001b[1;34m'D:\\\\Samuel\\\\Documentos\\\\Python\\\\dncPython\\\\dinamica\\\\Datasets\\\\D01\\\\nyflights.csv'\u001b[0m\u001b[1;33m)\u001b[0m\u001b[1;33m\u001b[0m\u001b[1;33m\u001b[0m\u001b[0m\n\u001b[0m",
      "\u001b[1;32mC:\\ProgramData\\Anaconda3\\lib\\site-packages\\pandas\\io\\parsers.py\u001b[0m in \u001b[0;36mread_csv\u001b[1;34m(filepath_or_buffer, sep, delimiter, header, names, index_col, usecols, squeeze, prefix, mangle_dupe_cols, dtype, engine, converters, true_values, false_values, skipinitialspace, skiprows, skipfooter, nrows, na_values, keep_default_na, na_filter, verbose, skip_blank_lines, parse_dates, infer_datetime_format, keep_date_col, date_parser, dayfirst, cache_dates, iterator, chunksize, compression, thousands, decimal, lineterminator, quotechar, quoting, doublequote, escapechar, comment, encoding, dialect, error_bad_lines, warn_bad_lines, delim_whitespace, low_memory, memory_map, float_precision, storage_options)\u001b[0m\n\u001b[0;32m    608\u001b[0m     \u001b[0mkwds\u001b[0m\u001b[1;33m.\u001b[0m\u001b[0mupdate\u001b[0m\u001b[1;33m(\u001b[0m\u001b[0mkwds_defaults\u001b[0m\u001b[1;33m)\u001b[0m\u001b[1;33m\u001b[0m\u001b[1;33m\u001b[0m\u001b[0m\n\u001b[0;32m    609\u001b[0m \u001b[1;33m\u001b[0m\u001b[0m\n\u001b[1;32m--> 610\u001b[1;33m     \u001b[1;32mreturn\u001b[0m \u001b[0m_read\u001b[0m\u001b[1;33m(\u001b[0m\u001b[0mfilepath_or_buffer\u001b[0m\u001b[1;33m,\u001b[0m \u001b[0mkwds\u001b[0m\u001b[1;33m)\u001b[0m\u001b[1;33m\u001b[0m\u001b[1;33m\u001b[0m\u001b[0m\n\u001b[0m\u001b[0;32m    611\u001b[0m \u001b[1;33m\u001b[0m\u001b[0m\n\u001b[0;32m    612\u001b[0m \u001b[1;33m\u001b[0m\u001b[0m\n",
      "\u001b[1;32mC:\\ProgramData\\Anaconda3\\lib\\site-packages\\pandas\\io\\parsers.py\u001b[0m in \u001b[0;36m_read\u001b[1;34m(filepath_or_buffer, kwds)\u001b[0m\n\u001b[0;32m    460\u001b[0m \u001b[1;33m\u001b[0m\u001b[0m\n\u001b[0;32m    461\u001b[0m     \u001b[1;31m# Create the parser.\u001b[0m\u001b[1;33m\u001b[0m\u001b[1;33m\u001b[0m\u001b[1;33m\u001b[0m\u001b[0m\n\u001b[1;32m--> 462\u001b[1;33m     \u001b[0mparser\u001b[0m \u001b[1;33m=\u001b[0m \u001b[0mTextFileReader\u001b[0m\u001b[1;33m(\u001b[0m\u001b[0mfilepath_or_buffer\u001b[0m\u001b[1;33m,\u001b[0m \u001b[1;33m**\u001b[0m\u001b[0mkwds\u001b[0m\u001b[1;33m)\u001b[0m\u001b[1;33m\u001b[0m\u001b[1;33m\u001b[0m\u001b[0m\n\u001b[0m\u001b[0;32m    463\u001b[0m \u001b[1;33m\u001b[0m\u001b[0m\n\u001b[0;32m    464\u001b[0m     \u001b[1;32mif\u001b[0m \u001b[0mchunksize\u001b[0m \u001b[1;32mor\u001b[0m \u001b[0miterator\u001b[0m\u001b[1;33m:\u001b[0m\u001b[1;33m\u001b[0m\u001b[1;33m\u001b[0m\u001b[0m\n",
      "\u001b[1;32mC:\\ProgramData\\Anaconda3\\lib\\site-packages\\pandas\\io\\parsers.py\u001b[0m in \u001b[0;36m__init__\u001b[1;34m(self, f, engine, **kwds)\u001b[0m\n\u001b[0;32m    817\u001b[0m             \u001b[0mself\u001b[0m\u001b[1;33m.\u001b[0m\u001b[0moptions\u001b[0m\u001b[1;33m[\u001b[0m\u001b[1;34m\"has_index_names\"\u001b[0m\u001b[1;33m]\u001b[0m \u001b[1;33m=\u001b[0m \u001b[0mkwds\u001b[0m\u001b[1;33m[\u001b[0m\u001b[1;34m\"has_index_names\"\u001b[0m\u001b[1;33m]\u001b[0m\u001b[1;33m\u001b[0m\u001b[1;33m\u001b[0m\u001b[0m\n\u001b[0;32m    818\u001b[0m \u001b[1;33m\u001b[0m\u001b[0m\n\u001b[1;32m--> 819\u001b[1;33m         \u001b[0mself\u001b[0m\u001b[1;33m.\u001b[0m\u001b[0m_engine\u001b[0m \u001b[1;33m=\u001b[0m \u001b[0mself\u001b[0m\u001b[1;33m.\u001b[0m\u001b[0m_make_engine\u001b[0m\u001b[1;33m(\u001b[0m\u001b[0mself\u001b[0m\u001b[1;33m.\u001b[0m\u001b[0mengine\u001b[0m\u001b[1;33m)\u001b[0m\u001b[1;33m\u001b[0m\u001b[1;33m\u001b[0m\u001b[0m\n\u001b[0m\u001b[0;32m    820\u001b[0m \u001b[1;33m\u001b[0m\u001b[0m\n\u001b[0;32m    821\u001b[0m     \u001b[1;32mdef\u001b[0m \u001b[0mclose\u001b[0m\u001b[1;33m(\u001b[0m\u001b[0mself\u001b[0m\u001b[1;33m)\u001b[0m\u001b[1;33m:\u001b[0m\u001b[1;33m\u001b[0m\u001b[1;33m\u001b[0m\u001b[0m\n",
      "\u001b[1;32mC:\\ProgramData\\Anaconda3\\lib\\site-packages\\pandas\\io\\parsers.py\u001b[0m in \u001b[0;36m_make_engine\u001b[1;34m(self, engine)\u001b[0m\n\u001b[0;32m   1048\u001b[0m             )\n\u001b[0;32m   1049\u001b[0m         \u001b[1;31m# error: Too many arguments for \"ParserBase\"\u001b[0m\u001b[1;33m\u001b[0m\u001b[1;33m\u001b[0m\u001b[1;33m\u001b[0m\u001b[0m\n\u001b[1;32m-> 1050\u001b[1;33m         \u001b[1;32mreturn\u001b[0m \u001b[0mmapping\u001b[0m\u001b[1;33m[\u001b[0m\u001b[0mengine\u001b[0m\u001b[1;33m]\u001b[0m\u001b[1;33m(\u001b[0m\u001b[0mself\u001b[0m\u001b[1;33m.\u001b[0m\u001b[0mf\u001b[0m\u001b[1;33m,\u001b[0m \u001b[1;33m**\u001b[0m\u001b[0mself\u001b[0m\u001b[1;33m.\u001b[0m\u001b[0moptions\u001b[0m\u001b[1;33m)\u001b[0m  \u001b[1;31m# type: ignore[call-arg]\u001b[0m\u001b[1;33m\u001b[0m\u001b[1;33m\u001b[0m\u001b[0m\n\u001b[0m\u001b[0;32m   1051\u001b[0m \u001b[1;33m\u001b[0m\u001b[0m\n\u001b[0;32m   1052\u001b[0m     \u001b[1;32mdef\u001b[0m \u001b[0m_failover_to_python\u001b[0m\u001b[1;33m(\u001b[0m\u001b[0mself\u001b[0m\u001b[1;33m)\u001b[0m\u001b[1;33m:\u001b[0m\u001b[1;33m\u001b[0m\u001b[1;33m\u001b[0m\u001b[0m\n",
      "\u001b[1;32mC:\\ProgramData\\Anaconda3\\lib\\site-packages\\pandas\\io\\parsers.py\u001b[0m in \u001b[0;36m__init__\u001b[1;34m(self, src, **kwds)\u001b[0m\n\u001b[0;32m   1865\u001b[0m \u001b[1;33m\u001b[0m\u001b[0m\n\u001b[0;32m   1866\u001b[0m         \u001b[1;31m# open handles\u001b[0m\u001b[1;33m\u001b[0m\u001b[1;33m\u001b[0m\u001b[1;33m\u001b[0m\u001b[0m\n\u001b[1;32m-> 1867\u001b[1;33m         \u001b[0mself\u001b[0m\u001b[1;33m.\u001b[0m\u001b[0m_open_handles\u001b[0m\u001b[1;33m(\u001b[0m\u001b[0msrc\u001b[0m\u001b[1;33m,\u001b[0m \u001b[0mkwds\u001b[0m\u001b[1;33m)\u001b[0m\u001b[1;33m\u001b[0m\u001b[1;33m\u001b[0m\u001b[0m\n\u001b[0m\u001b[0;32m   1868\u001b[0m         \u001b[1;32massert\u001b[0m \u001b[0mself\u001b[0m\u001b[1;33m.\u001b[0m\u001b[0mhandles\u001b[0m \u001b[1;32mis\u001b[0m \u001b[1;32mnot\u001b[0m \u001b[1;32mNone\u001b[0m\u001b[1;33m\u001b[0m\u001b[1;33m\u001b[0m\u001b[0m\n\u001b[0;32m   1869\u001b[0m         \u001b[1;32mfor\u001b[0m \u001b[0mkey\u001b[0m \u001b[1;32min\u001b[0m \u001b[1;33m(\u001b[0m\u001b[1;34m\"storage_options\"\u001b[0m\u001b[1;33m,\u001b[0m \u001b[1;34m\"encoding\"\u001b[0m\u001b[1;33m,\u001b[0m \u001b[1;34m\"memory_map\"\u001b[0m\u001b[1;33m,\u001b[0m \u001b[1;34m\"compression\"\u001b[0m\u001b[1;33m)\u001b[0m\u001b[1;33m:\u001b[0m\u001b[1;33m\u001b[0m\u001b[1;33m\u001b[0m\u001b[0m\n",
      "\u001b[1;32mC:\\ProgramData\\Anaconda3\\lib\\site-packages\\pandas\\io\\parsers.py\u001b[0m in \u001b[0;36m_open_handles\u001b[1;34m(self, src, kwds)\u001b[0m\n\u001b[0;32m   1360\u001b[0m         \u001b[0mLet\u001b[0m \u001b[0mthe\u001b[0m \u001b[0mreaders\u001b[0m \u001b[0mopen\u001b[0m \u001b[0mIOHanldes\u001b[0m \u001b[0mafter\u001b[0m \u001b[0mthey\u001b[0m \u001b[0mare\u001b[0m \u001b[0mdone\u001b[0m \u001b[1;32mwith\u001b[0m \u001b[0mtheir\u001b[0m \u001b[0mpotential\u001b[0m \u001b[0mraises\u001b[0m\u001b[1;33m.\u001b[0m\u001b[1;33m\u001b[0m\u001b[1;33m\u001b[0m\u001b[0m\n\u001b[0;32m   1361\u001b[0m         \"\"\"\n\u001b[1;32m-> 1362\u001b[1;33m         self.handles = get_handle(\n\u001b[0m\u001b[0;32m   1363\u001b[0m             \u001b[0msrc\u001b[0m\u001b[1;33m,\u001b[0m\u001b[1;33m\u001b[0m\u001b[1;33m\u001b[0m\u001b[0m\n\u001b[0;32m   1364\u001b[0m             \u001b[1;34m\"r\"\u001b[0m\u001b[1;33m,\u001b[0m\u001b[1;33m\u001b[0m\u001b[1;33m\u001b[0m\u001b[0m\n",
      "\u001b[1;32mC:\\ProgramData\\Anaconda3\\lib\\site-packages\\pandas\\io\\common.py\u001b[0m in \u001b[0;36mget_handle\u001b[1;34m(path_or_buf, mode, encoding, compression, memory_map, is_text, errors, storage_options)\u001b[0m\n\u001b[0;32m    645\u001b[0m                 \u001b[0merrors\u001b[0m \u001b[1;33m=\u001b[0m \u001b[1;34m\"replace\"\u001b[0m\u001b[1;33m\u001b[0m\u001b[1;33m\u001b[0m\u001b[0m\n\u001b[0;32m    646\u001b[0m             \u001b[1;31m# Encoding\u001b[0m\u001b[1;33m\u001b[0m\u001b[1;33m\u001b[0m\u001b[1;33m\u001b[0m\u001b[0m\n\u001b[1;32m--> 647\u001b[1;33m             handle = open(\n\u001b[0m\u001b[0;32m    648\u001b[0m                 \u001b[0mhandle\u001b[0m\u001b[1;33m,\u001b[0m\u001b[1;33m\u001b[0m\u001b[1;33m\u001b[0m\u001b[0m\n\u001b[0;32m    649\u001b[0m                 \u001b[0mioargs\u001b[0m\u001b[1;33m.\u001b[0m\u001b[0mmode\u001b[0m\u001b[1;33m,\u001b[0m\u001b[1;33m\u001b[0m\u001b[1;33m\u001b[0m\u001b[0m\n",
      "\u001b[1;31mFileNotFoundError\u001b[0m: [Errno 2] No such file or directory: 'D:\\\\Samuel\\\\Documentos\\\\Python\\\\dncPython\\\\dinamica\\\\Datasets\\\\D01\\\\nyflights.csv'"
     ]
    }
   ],
   "source": [
    "df = pd.read_csv('D:\\\\Samuel\\\\Documentos\\\\Python\\\\dncPython\\\\dinamica\\\\Datasets\\\\D01\\\\nyflights.csv')"
   ]
  },
  {
   "cell_type": "code",
   "execution_count": null,
   "id": "75a6495b-3cc3-46d0-b4fd-7a15dfec3cd9",
   "metadata": {},
   "outputs": [],
   "source": [
    "# Remover a primeira coluna pois o Python já possui indexação\n",
    "df = df.drop('Unnamed: 0', 1)"
   ]
  },
  {
   "cell_type": "code",
   "execution_count": null,
   "id": "afffde9e-8b53-4053-8981-246afc9525a0",
   "metadata": {},
   "outputs": [],
   "source": [
    "df.head()"
   ]
  },
  {
   "cell_type": "markdown",
   "id": "b391719c-8264-4f23-a9b9-f8771a4b2319",
   "metadata": {},
   "source": [
    "## QUESTÕES A SEREM RESPONDIDAS"
   ]
  },
  {
   "cell_type": "markdown",
   "id": "871e67ce-6616-48d6-b851-36d0515ee277",
   "metadata": {},
   "source": [
    "01 - Quais são as métricas de centralização, variabilidade e quantis dos vôos que atrasam mais que duas horas para decolar? Responda de modo numérico e gráfico.\n",
    "\n",
    "02 - Quais destinos geraram vôos com o maior número de atrasos na partida? Responda de modo qantitativo e gráfico. (5 piores | Considerar 5 minutos um atraso aceitável)\n",
    "\n",
    "03 - Para os 5 piores destinos com maior número de voôes atrasados na partida, calcule as estatísticas descritivas da velocidade média durante o vôo.\n",
    "\n",
    "04 - Aumentar a velocidade média dos voôs pode ser uma solução para diminuir os atrasos? Responda graficamente."
   ]
  },
  {
   "cell_type": "markdown",
   "id": "bdb105be-864b-4578-8527-aa246f48ad92",
   "metadata": {},
   "source": [
    "## QUESTÃO 01"
   ]
  },
  {
   "cell_type": "markdown",
   "id": "febfb5da-99be-474e-97ef-326d25d7cd2d",
   "metadata": {},
   "source": [
    "### Filtrar a tabela: atraso > 2hrs"
   ]
  },
  {
   "cell_type": "code",
   "execution_count": null,
   "id": "24757082-d808-4618-b2a4-ff76ffab6fd7",
   "metadata": {},
   "outputs": [],
   "source": [
    "dfDelay = df[df['dep_delay'] > 120]"
   ]
  },
  {
   "cell_type": "markdown",
   "id": "4792a18d-6c56-4b2a-a4ba-5c066c19f762",
   "metadata": {},
   "source": [
    "### Estatísticas descritivas para os atrados"
   ]
  },
  {
   "cell_type": "code",
   "execution_count": null,
   "id": "730d2a78-d82d-4480-a068-5541ade769fb",
   "metadata": {},
   "outputs": [],
   "source": [
    "delayDesc = dfDelay['dep_delay'].describe()"
   ]
  },
  {
   "cell_type": "code",
   "execution_count": null,
   "id": "6f621c07-7f3a-496b-922a-dc26d8d83126",
   "metadata": {},
   "outputs": [],
   "source": [
    "# Trasnformar as estatísticas descritivas em data frame\n",
    "delayDesc = pd.DataFrame(delayDesc)"
   ]
  },
  {
   "cell_type": "code",
   "execution_count": null,
   "id": "8dced59e-03ba-4a26-9a36-e8ab2dae803a",
   "metadata": {},
   "outputs": [],
   "source": [
    "# Transpor o dataframe e adicionar nas meétricas faltantes\n",
    "delayDesc = pd.DataFrame.transpose(delayDesc)"
   ]
  },
  {
   "cell_type": "code",
   "execution_count": null,
   "id": "19776e57-d7d9-4fe3-a5c3-d27fec7eb66a",
   "metadata": {},
   "outputs": [],
   "source": [
    "# Adicionar uma coluna para a amplitude\n",
    "delayDesc['range'] = delayDesc['max'] - delayDesc['min']"
   ]
  },
  {
   "cell_type": "code",
   "execution_count": null,
   "id": "56558fbf-f9be-4dc3-bc32-daca10b8597b",
   "metadata": {},
   "outputs": [],
   "source": [
    "# Adicionar uma coluna para variância\n",
    "delayDesc['var'] = pow(delayDesc['std'], 2)"
   ]
  },
  {
   "cell_type": "code",
   "execution_count": null,
   "id": "322d863d-c880-48c0-9c1f-5c259b2ea331",
   "metadata": {},
   "outputs": [],
   "source": [
    "delayDesc"
   ]
  },
  {
   "cell_type": "markdown",
   "id": "7bf8052a-0c49-4bbf-a768-00d54146827b",
   "metadata": {},
   "source": [
    "A média de atrasos para os vôos que atrasam mais que duas horas é de 187 minutos com desvio padrão de 75 minutos. A mediana é de 166 minutos. o maior atraso foi de 1301 minutos (21,86 horas... ouch!)."
   ]
  },
  {
   "cell_type": "markdown",
   "id": "053a7113-d7b3-4ec4-b751-14825440b867",
   "metadata": {},
   "source": [
    "### Análise gráfica dos atrasos maiores que duas horas."
   ]
  },
  {
   "cell_type": "markdown",
   "id": "446b7f2c-8f82-4c40-91b1-f477b67897e9",
   "metadata": {},
   "source": [
    "#### Histograma"
   ]
  },
  {
   "cell_type": "code",
   "execution_count": null,
   "id": "84bd6005-78bf-4870-901f-6619422a3c65",
   "metadata": {},
   "outputs": [],
   "source": [
    "# Cria a figura 'vazia'\n",
    "fig = plt.figure()\n",
    "\n",
    "# Plota o histograma\n",
    "plt.hist(dfDelay['dep_delay'], bins = 20)\n",
    "\n",
    "# Adiciona título e subtítulo\n",
    "plt.suptitle('Duração dos atrasos na decolagem', fontsize = 16, fontweight = 'bold', x = 0.465)\n",
    "plt.title('Valores maiores que duas horas', loc = 'left')\n",
    "\n",
    "# Adiciona título aos eixos \n",
    "plt.xlabel('Minutos')\n",
    "plt.ylabel('Frequência')"
   ]
  },
  {
   "cell_type": "markdown",
   "id": "35a87fe3-818c-4ab9-814e-719400a36e47",
   "metadata": {},
   "source": [
    "#### Box Plot"
   ]
  },
  {
   "cell_type": "code",
   "execution_count": null,
   "id": "5e99f1f3-86fc-4d04-a0ac-2003de1daa17",
   "metadata": {},
   "outputs": [],
   "source": [
    "# Plot figura em branco\n",
    "fig = plt.figure()\n",
    "\n",
    "# Plota o gráfico de box plot\n",
    "\n",
    "plt.boxplot(dfDelay['dep_delay'])\n",
    "\n",
    "plt.ylabel('Minutos')\n",
    "\n",
    "# Remove o valor do eixo x\n",
    "plt.xticks([1], [''])\n",
    "\n",
    "# Remove o tick do eixo x\n",
    "plt.tick_params(axis = \"x\", which = \"both\", bottom = False, top = False)\n",
    "\n",
    "plt.suptitle('Duração do atraso na decolagem', fontsize = 16, fontweight = 'bold', x = 0.445)\n",
    "plt.title('Valores maiores que duas horas', loc = 'left')"
   ]
  },
  {
   "cell_type": "markdown",
   "id": "f7d1ccea-b6d0-451f-95ae-f58e6241db9e",
   "metadata": {},
   "source": [
    "## QUESTÃO 02"
   ]
  },
  {
   "cell_type": "markdown",
   "id": "cdfb9c14-6201-4f56-a5b1-1de7c44d1565",
   "metadata": {},
   "source": [
    "### Filtrar tabela com vôos que atrasaram"
   ]
  },
  {
   "cell_type": "code",
   "execution_count": null,
   "id": "ac767f76-7265-4236-aea8-e025fb94158b",
   "metadata": {},
   "outputs": [],
   "source": [
    "dfDest = df[df['dep_delay'] > 5]"
   ]
  },
  {
   "cell_type": "markdown",
   "id": "4ab36452-8cab-4d87-a69f-6264c3777698",
   "metadata": {},
   "source": [
    "### Contar a quantidade de atrasos nos vôos"
   ]
  },
  {
   "cell_type": "code",
   "execution_count": null,
   "id": "ab0ac6bf-6d50-428a-b7c2-1002c6ae5d35",
   "metadata": {},
   "outputs": [],
   "source": [
    "delayCounts = dfDest['dest'].value_counts()"
   ]
  },
  {
   "cell_type": "code",
   "execution_count": null,
   "id": "4099554f-46b2-4b1c-8f55-7fd8bb2cdf43",
   "metadata": {},
   "outputs": [],
   "source": [
    "delayCounts = pd.DataFrame(delayCounts)\n",
    "delayCounts"
   ]
  },
  {
   "cell_type": "code",
   "execution_count": null,
   "id": "bb38bdcb-eedb-41ca-b067-b0c8921b690b",
   "metadata": {},
   "outputs": [],
   "source": [
    "# Transformar o índice das linhas em uma coluna\n",
    "delayCounts['destino'] = delayCounts.index\n",
    "\n",
    "# Mudar o nome da coluna de contagem\n",
    "delayCounts.columns = ['atrasos', 'destino']\n",
    "\n",
    "# Remover os valores do index\n",
    "delayCounts.reset_index(drop = True, inplace = True)\n",
    "\n",
    "# Mudar a sequência das colunas\n",
    "delayCounts = delayCounts[['destino', 'atrasos']]\n",
    "\n",
    "delayCounts"
   ]
  },
  {
   "cell_type": "markdown",
   "id": "ed52474b-e752-4dca-a6fd-edb74800e237",
   "metadata": {},
   "source": [
    "Os 5 destinos que geraram mais vôos atrasados foram: Chicago (ORD), Atlanta (ATL), Los Angeles (LAX), Orlando (MCO) e São Francisco (SFO)."
   ]
  },
  {
   "cell_type": "markdown",
   "id": "0411dd7e-c4ec-4251-b691-074af94b23d2",
   "metadata": {},
   "source": [
    "### Gráfico de barras "
   ]
  },
  {
   "cell_type": "code",
   "execution_count": null,
   "id": "78d5f3cf-f1e3-4916-9070-347a8fc83e26",
   "metadata": {},
   "outputs": [],
   "source": [
    "fig = plt.figure()\n",
    "\n",
    "plt.bar(delayCounts['destino'], delayCounts['atrasos'])\n",
    "\n",
    "plt.ylabel('Atrasos')\n",
    "\n",
    "# Remove o valor do eixo x\n",
    "plt.xticks([1], [''])\n",
    "\n",
    "# Remove o tick do eixo x\n",
    "plt.tick_params(axis = \"x\", which = \"both\", bottom = False, top = False)\n",
    "\n",
    "plt.suptitle('Atraso na decolagem', fontsize = 18, fontweight = 'bold', x = 0.36)\n",
    "plt.title('Valores agrupados por diferentes aeroportos', loc = 'left')"
   ]
  },
  {
   "cell_type": "markdown",
   "id": "cb97c05d-c8e2-4697-b0a7-d90dc8e46335",
   "metadata": {},
   "source": [
    "## QUESTÃO 03"
   ]
  },
  {
   "cell_type": "markdown",
   "id": "7b72a0ce-b229-4aae-8baf-e089fde93e5b",
   "metadata": {},
   "source": [
    "### Filtrar a tabela somente com os piores destinos"
   ]
  },
  {
   "cell_type": "code",
   "execution_count": null,
   "id": "d0ae0fcf-cdf0-46ab-96ac-a82b54613cf5",
   "metadata": {},
   "outputs": [],
   "source": [
    "# Seleciona os piores destinos\n",
    "worstDest = delayCounts.sort_values(by = 'atrasos', ascending = False)[['destino']][0:4]"
   ]
  },
  {
   "cell_type": "code",
   "execution_count": null,
   "id": "e3541f24-3875-47cb-9824-4d901d6c89e6",
   "metadata": {
    "tags": []
   },
   "outputs": [],
   "source": [
    "# Filtra a tabela original baseados nos destinos\n",
    "worstDelay = df[df['dest'].isin(worstDest['destino'])]\n",
    "worstDelay.reset_index(drop = True, inplace = True)"
   ]
  },
  {
   "cell_type": "markdown",
   "id": "6ba77a67-9090-49b9-a58c-6cec256c8e65",
   "metadata": {},
   "source": [
    "### Calculara velocidade média de cada vôo"
   ]
  },
  {
   "cell_type": "code",
   "execution_count": null,
   "id": "f0987459-9d08-4382-bc8a-166c5cc31955",
   "metadata": {},
   "outputs": [],
   "source": [
    "worstDelay = worstDelay.assign(avgVel = (worstDelay['distance'] / worstDelay['air_time'])*60)"
   ]
  },
  {
   "cell_type": "code",
   "execution_count": null,
   "id": "f17d746c-a5cc-4af3-9d9f-8edb4bdeb350",
   "metadata": {},
   "outputs": [],
   "source": [
    "worstDelay"
   ]
  },
  {
   "cell_type": "markdown",
   "id": "6ab4c980-cf51-4154-b486-aac2a372a9c7",
   "metadata": {},
   "source": [
    "### Agrupar a tabela com os piores destinos"
   ]
  },
  {
   "cell_type": "code",
   "execution_count": null,
   "id": "eb2ee1b1-cede-4051-b03c-a236550e55f5",
   "metadata": {},
   "outputs": [],
   "source": [
    "grouped = worstDelay.groupby(worstDelay['dest'])"
   ]
  },
  {
   "cell_type": "markdown",
   "id": "68f2db6b-abd1-4f82-ae96-0d7681ebb800",
   "metadata": {},
   "source": [
    "### Criar estatísticas descritivas para velocidade média"
   ]
  },
  {
   "cell_type": "code",
   "execution_count": null,
   "id": "1930e03b-7462-4570-a02a-88b5681cb01a",
   "metadata": {},
   "outputs": [],
   "source": [
    "grouped.describe()['avgVel']"
   ]
  },
  {
   "cell_type": "markdown",
   "id": "3f0f0e0f-17c3-4590-8a69-0a298c20b4fe",
   "metadata": {},
   "source": [
    "### Plotar box-plot para os quatro destinos."
   ]
  },
  {
   "cell_type": "code",
   "execution_count": null,
   "id": "b7e5f05b-1e24-418b-a6a0-7ad9b88f3220",
   "metadata": {},
   "outputs": [],
   "source": [
    "fig = plt.figure()\n",
    "\n",
    "sns.boxplot(x = worstDelay['dest'], y = worstDelay['avgVel'])\n",
    "\n",
    "plt.ylabel('')\n",
    "\n",
    "plt.xlabel('Destino')\n",
    "\n",
    "plt.suptitle('Velocidade dos piores destinos', fontsize = 18, fontweight = 'bold', x = 0.465)\n",
    "plt.title('Milhas por hora', loc = 'left')"
   ]
  },
  {
   "cell_type": "markdown",
   "id": "2d7569be-7f8a-4756-a4be-c00a4838afa0",
   "metadata": {},
   "source": [
    "## QUESTÃO 04 "
   ]
  },
  {
   "cell_type": "markdown",
   "id": "9a666e53-1c22-4719-8e7d-0e4c3d866483",
   "metadata": {},
   "source": [
    "### Criar tabela com os 'melhores destinos'"
   ]
  },
  {
   "cell_type": "code",
   "execution_count": null,
   "id": "a8651ee1-e49f-46f8-b0c4-e9e0871a9e96",
   "metadata": {},
   "outputs": [],
   "source": [
    "# Seleciona os melhores destinos\n",
    "bestDest = delayCounts.sort_values(by = 'atrasos', ascending = True)[['destino']][0:5]"
   ]
  },
  {
   "cell_type": "code",
   "execution_count": null,
   "id": "ea4a3199-7d5a-490e-82d6-876576056be5",
   "metadata": {},
   "outputs": [],
   "source": [
    "# Filtra a tabela original baseados nos destinos\n",
    "bestDelay = df[df['dest'].isin(bestDest['destino'])]\n",
    "bestDelay.reset_index(drop = True, inplace = True)"
   ]
  },
  {
   "cell_type": "code",
   "execution_count": null,
   "id": "4cc7eb97-58cc-4a66-a13c-1e7ac2fb5d00",
   "metadata": {},
   "outputs": [],
   "source": [
    "# Criar a coluna com a volocidade média\n",
    "bestDelay = bestDelay.assign(avgVel = (bestDelay['distance'] / bestDelay['air_time'])*60)"
   ]
  },
  {
   "cell_type": "code",
   "execution_count": null,
   "id": "36fc865e-8882-40ce-bfde-4b0083c51c7c",
   "metadata": {},
   "outputs": [],
   "source": [
    "# Criar uma coluna com a inscrição 'best'\n",
    "bestDelay = bestDelay.assign(desType = 'best')"
   ]
  },
  {
   "cell_type": "markdown",
   "id": "ad87ef94-a519-4f60-a4d4-73c8cacbcd58",
   "metadata": {},
   "source": [
    "### Empilhar planilha com destinos bons e ruins."
   ]
  },
  {
   "cell_type": "code",
   "execution_count": null,
   "id": "2a2c571c-9fc7-4a51-94ed-98f781f9f2eb",
   "metadata": {},
   "outputs": [],
   "source": [
    "# Adicionar coluna com a inscrição 'worst' nos priores destinos\n",
    "worstDelay = worstDelay.assign(desType = 'worst')"
   ]
  },
  {
   "cell_type": "code",
   "execution_count": null,
   "id": "99597fdd-f84a-4bfd-9af2-b33856cb41ed",
   "metadata": {},
   "outputs": [],
   "source": [
    "# Crioar a mesma coluna com inscrição 'worst' nos destinos 'ruins'\n",
    "allDelay = worstDelay.assign(desType = 'worst')"
   ]
  },
  {
   "cell_type": "code",
   "execution_count": null,
   "id": "52bb892e-1d4b-4cc9-b1f6-e8369aba20eb",
   "metadata": {},
   "outputs": [],
   "source": [
    "allDelay = worstDelay.append(bestDelay.reset_index(drop = True), ignore_index = True)"
   ]
  },
  {
   "cell_type": "markdown",
   "id": "c36198d3-72f5-4ab2-816b-523d5fd7cc57",
   "metadata": {},
   "source": [
    "### Criar gráfico de box plot para explorar as diferenças"
   ]
  },
  {
   "cell_type": "code",
   "execution_count": null,
   "id": "f383ee02-34a8-4dfd-9741-f01a5b37adbd",
   "metadata": {},
   "outputs": [],
   "source": [
    "fig = plt.figure()\n",
    "\n",
    "sns.boxplot(x = allDelay['desType'], y = allDelay['avgVel'])\n",
    "\n",
    "plt.ylabel('Velocidade média')\n",
    "\n",
    "plt.xlabel('Tipo de destino')\n",
    "\n",
    "plt.suptitle('Comparação entre destinos', fontsize = 18, fontweight = 'bold', x = 0.425)\n",
    "plt.title('Velocidade média durate o vôo', loc = 'left')"
   ]
  },
  {
   "cell_type": "markdown",
   "id": "fd8c60df-52bf-4d26-8992-52f0e4f25ac0",
   "metadata": {},
   "source": [
    "As velocidades médias do voôs que mais atrasam e que menos atrasam tende a ser a mesma. Por isso aumentá-la não parece ser uma boa solução inicialmente."
   ]
  }
 ],
 "metadata": {
  "kernelspec": {
   "display_name": "Python 3",
   "language": "python",
   "name": "python3"
  },
  "language_info": {
   "codemirror_mode": {
    "name": "ipython",
    "version": 3
   },
   "file_extension": ".py",
   "mimetype": "text/x-python",
   "name": "python",
   "nbconvert_exporter": "python",
   "pygments_lexer": "ipython3",
   "version": "3.8.10"
  }
 },
 "nbformat": 4,
 "nbformat_minor": 5
}
