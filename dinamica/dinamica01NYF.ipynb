{
 "cells": [
  {
   "cell_type": "markdown",
   "id": "c5353fb4-390c-4f90-a2f0-88722b4620c7",
   "metadata": {},
   "source": [
    "# DNC DATA EXPERT"
   ]
  },
  {
   "cell_type": "markdown",
   "id": "3015cc35-aeb3-4eb5-ae61-fc5221dd8eda",
   "metadata": {},
   "source": [
    "# Dinâmica 01 - New York Flights"
   ]
  },
  {
   "cell_type": "markdown",
   "id": "40acfda4-2886-41e5-9306-a21abf3ba3ec",
   "metadata": {},
   "source": [
    "## CARREGAMENTO DAS BIBLIOTECAS"
   ]
  },
  {
   "cell_type": "code",
   "execution_count": 1,
   "id": "1c7ec1ca-712c-4eb7-8ef3-766d9185ced9",
   "metadata": {},
   "outputs": [],
   "source": [
    "import pandas as pd\n",
    "import numpy as np\n",
    "import matplotlib.pyplot as plt\n",
    "import seaborn as sns\n",
    "%matplotlib widget"
   ]
  },
  {
   "cell_type": "markdown",
   "id": "e910941c-ecce-4518-9ccb-623b8b1dc15c",
   "metadata": {},
   "source": [
    "## CARREGAMENTO DOS DADOS"
   ]
  },
  {
   "cell_type": "code",
   "execution_count": 2,
   "id": "c4686f35-a3a0-4556-8a37-e08f00b594be",
   "metadata": {},
   "outputs": [],
   "source": [
    "df = pd.read_csv('D:\\\\Samuel\\\\Documentos\\\\Python\\\\dncPython\\\\dinamica\\\\Datasets\\\\D01\\\\nyflights.csv')"
   ]
  },
  {
   "cell_type": "code",
   "execution_count": 3,
   "id": "75a6495b-3cc3-46d0-b4fd-7a15dfec3cd9",
   "metadata": {},
   "outputs": [],
   "source": [
    "# Remover a primeira coluna pois o Python já possui indexação\n",
    "df = df.drop('Unnamed: 0', 1)"
   ]
  },
  {
   "cell_type": "code",
   "execution_count": 4,
   "id": "afffde9e-8b53-4053-8981-246afc9525a0",
   "metadata": {},
   "outputs": [
    {
     "data": {
      "text/html": [
       "<div>\n",
       "<style scoped>\n",
       "    .dataframe tbody tr th:only-of-type {\n",
       "        vertical-align: middle;\n",
       "    }\n",
       "\n",
       "    .dataframe tbody tr th {\n",
       "        vertical-align: top;\n",
       "    }\n",
       "\n",
       "    .dataframe thead th {\n",
       "        text-align: right;\n",
       "    }\n",
       "</style>\n",
       "<table border=\"1\" class=\"dataframe\">\n",
       "  <thead>\n",
       "    <tr style=\"text-align: right;\">\n",
       "      <th></th>\n",
       "      <th>year</th>\n",
       "      <th>month</th>\n",
       "      <th>day</th>\n",
       "      <th>dep_time</th>\n",
       "      <th>sched_dep_time</th>\n",
       "      <th>dep_delay</th>\n",
       "      <th>arr_time</th>\n",
       "      <th>sched_arr_time</th>\n",
       "      <th>arr_delay</th>\n",
       "      <th>carrier</th>\n",
       "      <th>flight</th>\n",
       "      <th>tailnum</th>\n",
       "      <th>origin</th>\n",
       "      <th>dest</th>\n",
       "      <th>air_time</th>\n",
       "      <th>distance</th>\n",
       "      <th>hour</th>\n",
       "      <th>minute</th>\n",
       "      <th>time_hour</th>\n",
       "    </tr>\n",
       "  </thead>\n",
       "  <tbody>\n",
       "    <tr>\n",
       "      <th>0</th>\n",
       "      <td>2013</td>\n",
       "      <td>1</td>\n",
       "      <td>1</td>\n",
       "      <td>517.0</td>\n",
       "      <td>515</td>\n",
       "      <td>2.0</td>\n",
       "      <td>830.0</td>\n",
       "      <td>819</td>\n",
       "      <td>11.0</td>\n",
       "      <td>UA</td>\n",
       "      <td>1545</td>\n",
       "      <td>N14228</td>\n",
       "      <td>EWR</td>\n",
       "      <td>IAH</td>\n",
       "      <td>227.0</td>\n",
       "      <td>1400</td>\n",
       "      <td>5</td>\n",
       "      <td>15</td>\n",
       "      <td>2013-01-01 05:00:00</td>\n",
       "    </tr>\n",
       "    <tr>\n",
       "      <th>1</th>\n",
       "      <td>2013</td>\n",
       "      <td>1</td>\n",
       "      <td>1</td>\n",
       "      <td>533.0</td>\n",
       "      <td>529</td>\n",
       "      <td>4.0</td>\n",
       "      <td>850.0</td>\n",
       "      <td>830</td>\n",
       "      <td>20.0</td>\n",
       "      <td>UA</td>\n",
       "      <td>1714</td>\n",
       "      <td>N24211</td>\n",
       "      <td>LGA</td>\n",
       "      <td>IAH</td>\n",
       "      <td>227.0</td>\n",
       "      <td>1416</td>\n",
       "      <td>5</td>\n",
       "      <td>29</td>\n",
       "      <td>2013-01-01 05:00:00</td>\n",
       "    </tr>\n",
       "    <tr>\n",
       "      <th>2</th>\n",
       "      <td>2013</td>\n",
       "      <td>1</td>\n",
       "      <td>1</td>\n",
       "      <td>542.0</td>\n",
       "      <td>540</td>\n",
       "      <td>2.0</td>\n",
       "      <td>923.0</td>\n",
       "      <td>850</td>\n",
       "      <td>33.0</td>\n",
       "      <td>AA</td>\n",
       "      <td>1141</td>\n",
       "      <td>N619AA</td>\n",
       "      <td>JFK</td>\n",
       "      <td>MIA</td>\n",
       "      <td>160.0</td>\n",
       "      <td>1089</td>\n",
       "      <td>5</td>\n",
       "      <td>40</td>\n",
       "      <td>2013-01-01 05:00:00</td>\n",
       "    </tr>\n",
       "    <tr>\n",
       "      <th>3</th>\n",
       "      <td>2013</td>\n",
       "      <td>1</td>\n",
       "      <td>1</td>\n",
       "      <td>544.0</td>\n",
       "      <td>545</td>\n",
       "      <td>-1.0</td>\n",
       "      <td>1004.0</td>\n",
       "      <td>1022</td>\n",
       "      <td>-18.0</td>\n",
       "      <td>B6</td>\n",
       "      <td>725</td>\n",
       "      <td>N804JB</td>\n",
       "      <td>JFK</td>\n",
       "      <td>BQN</td>\n",
       "      <td>183.0</td>\n",
       "      <td>1576</td>\n",
       "      <td>5</td>\n",
       "      <td>45</td>\n",
       "      <td>2013-01-01 05:00:00</td>\n",
       "    </tr>\n",
       "    <tr>\n",
       "      <th>4</th>\n",
       "      <td>2013</td>\n",
       "      <td>1</td>\n",
       "      <td>1</td>\n",
       "      <td>554.0</td>\n",
       "      <td>600</td>\n",
       "      <td>-6.0</td>\n",
       "      <td>812.0</td>\n",
       "      <td>837</td>\n",
       "      <td>-25.0</td>\n",
       "      <td>DL</td>\n",
       "      <td>461</td>\n",
       "      <td>N668DN</td>\n",
       "      <td>LGA</td>\n",
       "      <td>ATL</td>\n",
       "      <td>116.0</td>\n",
       "      <td>762</td>\n",
       "      <td>6</td>\n",
       "      <td>0</td>\n",
       "      <td>2013-01-01 06:00:00</td>\n",
       "    </tr>\n",
       "  </tbody>\n",
       "</table>\n",
       "</div>"
      ],
      "text/plain": [
       "   year  month  day  dep_time  sched_dep_time  dep_delay  arr_time  \\\n",
       "0  2013      1    1     517.0             515        2.0     830.0   \n",
       "1  2013      1    1     533.0             529        4.0     850.0   \n",
       "2  2013      1    1     542.0             540        2.0     923.0   \n",
       "3  2013      1    1     544.0             545       -1.0    1004.0   \n",
       "4  2013      1    1     554.0             600       -6.0     812.0   \n",
       "\n",
       "   sched_arr_time  arr_delay carrier  flight tailnum origin dest  air_time  \\\n",
       "0             819       11.0      UA    1545  N14228    EWR  IAH     227.0   \n",
       "1             830       20.0      UA    1714  N24211    LGA  IAH     227.0   \n",
       "2             850       33.0      AA    1141  N619AA    JFK  MIA     160.0   \n",
       "3            1022      -18.0      B6     725  N804JB    JFK  BQN     183.0   \n",
       "4             837      -25.0      DL     461  N668DN    LGA  ATL     116.0   \n",
       "\n",
       "   distance  hour  minute            time_hour  \n",
       "0      1400     5      15  2013-01-01 05:00:00  \n",
       "1      1416     5      29  2013-01-01 05:00:00  \n",
       "2      1089     5      40  2013-01-01 05:00:00  \n",
       "3      1576     5      45  2013-01-01 05:00:00  \n",
       "4       762     6       0  2013-01-01 06:00:00  "
      ]
     },
     "execution_count": 4,
     "metadata": {},
     "output_type": "execute_result"
    }
   ],
   "source": [
    "df.head()"
   ]
  },
  {
   "cell_type": "markdown",
   "id": "b391719c-8264-4f23-a9b9-f8771a4b2319",
   "metadata": {},
   "source": [
    "## QUESTÕES A SEREM RESPONDIDAS"
   ]
  },
  {
   "cell_type": "markdown",
   "id": "871e67ce-6616-48d6-b851-36d0515ee277",
   "metadata": {},
   "source": [
    "01 - Quais são as métricas de centralização, variabilidade e quantis dos vôos que atrasam mais que duas horas para decolar? Responda de modo numérico e gráfico.\n",
    "\n",
    "02 - Quais destinos geraram vôos com o maior número de atrasos na partida? Responda de modo qantitativo e gráfico. (5 piores | Considerar 5 minutos um atraso aceitável)\n",
    "\n",
    "03 - Para os 5 piores destinos com maior número de voôes atrasados na partida, calcule as estatísticas descritivas da velocidade média durante o vôo.\n",
    "\n",
    "04 - Aumentar a velocidade média dos voôs pode ser uma solução para diminuir os atrasos? Responda graficamente."
   ]
  },
  {
   "cell_type": "markdown",
   "id": "bdb105be-864b-4578-8527-aa246f48ad92",
   "metadata": {},
   "source": [
    "## QUESTÃO 01"
   ]
  },
  {
   "cell_type": "markdown",
   "id": "febfb5da-99be-474e-97ef-326d25d7cd2d",
   "metadata": {},
   "source": [
    "### Filtrar a tabela: atraso > 2hrs"
   ]
  },
  {
   "cell_type": "code",
   "execution_count": 5,
   "id": "24757082-d808-4618-b2a4-ff76ffab6fd7",
   "metadata": {},
   "outputs": [],
   "source": [
    "dfDelay = df[df['dep_delay'] > 120]"
   ]
  },
  {
   "cell_type": "markdown",
   "id": "4792a18d-6c56-4b2a-a4ba-5c066c19f762",
   "metadata": {},
   "source": [
    "### Estatísticas descritivas para os atrados"
   ]
  },
  {
   "cell_type": "code",
   "execution_count": 6,
   "id": "730d2a78-d82d-4480-a068-5541ade769fb",
   "metadata": {},
   "outputs": [],
   "source": [
    "delayDesc = dfDelay['dep_delay'].describe()"
   ]
  },
  {
   "cell_type": "code",
   "execution_count": 7,
   "id": "6f621c07-7f3a-496b-922a-dc26d8d83126",
   "metadata": {},
   "outputs": [],
   "source": [
    "# Trasnformar as estatísticas descritivas em data frame\n",
    "delayDesc = pd.DataFrame(delayDesc)"
   ]
  },
  {
   "cell_type": "code",
   "execution_count": 8,
   "id": "8dced59e-03ba-4a26-9a36-e8ab2dae803a",
   "metadata": {},
   "outputs": [],
   "source": [
    "# Transpor o dataframe e adicionar nas meétricas faltantes\n",
    "delayDesc = pd.DataFrame.transpose(delayDesc)"
   ]
  },
  {
   "cell_type": "code",
   "execution_count": 9,
   "id": "19776e57-d7d9-4fe3-a5c3-d27fec7eb66a",
   "metadata": {},
   "outputs": [],
   "source": [
    "# Adicionar uma coluna para a amplitude\n",
    "delayDesc['range'] = delayDesc['max'] - delayDesc['min']"
   ]
  },
  {
   "cell_type": "code",
   "execution_count": 10,
   "id": "56558fbf-f9be-4dc3-bc32-daca10b8597b",
   "metadata": {},
   "outputs": [],
   "source": [
    "# Adicionar uma coluna para variância\n",
    "delayDesc['var'] = pow(delayDesc['std'], 2)"
   ]
  },
  {
   "cell_type": "code",
   "execution_count": 11,
   "id": "322d863d-c880-48c0-9c1f-5c259b2ea331",
   "metadata": {},
   "outputs": [
    {
     "data": {
      "text/html": [
       "<div>\n",
       "<style scoped>\n",
       "    .dataframe tbody tr th:only-of-type {\n",
       "        vertical-align: middle;\n",
       "    }\n",
       "\n",
       "    .dataframe tbody tr th {\n",
       "        vertical-align: top;\n",
       "    }\n",
       "\n",
       "    .dataframe thead th {\n",
       "        text-align: right;\n",
       "    }\n",
       "</style>\n",
       "<table border=\"1\" class=\"dataframe\">\n",
       "  <thead>\n",
       "    <tr style=\"text-align: right;\">\n",
       "      <th></th>\n",
       "      <th>count</th>\n",
       "      <th>mean</th>\n",
       "      <th>std</th>\n",
       "      <th>min</th>\n",
       "      <th>25%</th>\n",
       "      <th>50%</th>\n",
       "      <th>75%</th>\n",
       "      <th>max</th>\n",
       "      <th>range</th>\n",
       "      <th>var</th>\n",
       "    </tr>\n",
       "  </thead>\n",
       "  <tbody>\n",
       "    <tr>\n",
       "      <th>dep_delay</th>\n",
       "      <td>9723.0</td>\n",
       "      <td>186.983236</td>\n",
       "      <td>74.596836</td>\n",
       "      <td>121.0</td>\n",
       "      <td>139.0</td>\n",
       "      <td>166.0</td>\n",
       "      <td>210.0</td>\n",
       "      <td>1301.0</td>\n",
       "      <td>1180.0</td>\n",
       "      <td>5564.687952</td>\n",
       "    </tr>\n",
       "  </tbody>\n",
       "</table>\n",
       "</div>"
      ],
      "text/plain": [
       "            count        mean        std    min    25%    50%    75%     max  \\\n",
       "dep_delay  9723.0  186.983236  74.596836  121.0  139.0  166.0  210.0  1301.0   \n",
       "\n",
       "            range          var  \n",
       "dep_delay  1180.0  5564.687952  "
      ]
     },
     "execution_count": 11,
     "metadata": {},
     "output_type": "execute_result"
    }
   ],
   "source": [
    "delayDesc"
   ]
  },
  {
   "cell_type": "markdown",
   "id": "7bf8052a-0c49-4bbf-a768-00d54146827b",
   "metadata": {},
   "source": [
    "A média de atrasos para os vôos que atrasam mais que duas horas é de 187 minutos com desvio padrão de 75 minutos. A mediana é de 166 minutos. o maior atraso foi de 1301 minutos (21,86 horas... ouch!)."
   ]
  },
  {
   "cell_type": "markdown",
   "id": "053a7113-d7b3-4ec4-b751-14825440b867",
   "metadata": {},
   "source": [
    "### Análise gráfica dos atrasos maiores que duas horas."
   ]
  },
  {
   "cell_type": "markdown",
   "id": "446b7f2c-8f82-4c40-91b1-f477b67897e9",
   "metadata": {},
   "source": [
    "#### Histograma"
   ]
  },
  {
   "cell_type": "code",
   "execution_count": 12,
   "id": "84bd6005-78bf-4870-901f-6619422a3c65",
   "metadata": {},
   "outputs": [
    {
     "data": {
      "application/vnd.jupyter.widget-view+json": {
       "model_id": "94edef672d8e4e9fb028979d084928d8",
       "version_major": 2,
       "version_minor": 0
      },
      "text/plain": [
       "Canvas(toolbar=Toolbar(toolitems=[('Home', 'Reset original view', 'home', 'home'), ('Back', 'Back to previous …"
      ]
     },
     "metadata": {},
     "output_type": "display_data"
    },
    {
     "data": {
      "text/plain": [
       "Text(0, 0.5, 'Frequência')"
      ]
     },
     "execution_count": 12,
     "metadata": {},
     "output_type": "execute_result"
    }
   ],
   "source": [
    "# Cria a figura 'vazia'\n",
    "fig = plt.figure()\n",
    "\n",
    "# Plota o histograma\n",
    "plt.hist(dfDelay['dep_delay'], bins = 20)\n",
    "\n",
    "# Adiciona título e subtítulo\n",
    "plt.suptitle('Duração dos atrasos na decolagem', fontsize = 16, fontweight = 'bold', x = 0.465)\n",
    "plt.title('Valores maiores que duas horas', loc = 'left')\n",
    "\n",
    "# Adiciona título aos eixos \n",
    "plt.xlabel('Minutos')\n",
    "plt.ylabel('Frequência')"
   ]
  },
  {
   "cell_type": "markdown",
   "id": "35a87fe3-818c-4ab9-814e-719400a36e47",
   "metadata": {},
   "source": [
    "#### Box Plot"
   ]
  },
  {
   "cell_type": "code",
   "execution_count": 13,
   "id": "5e99f1f3-86fc-4d04-a0ac-2003de1daa17",
   "metadata": {},
   "outputs": [
    {
     "data": {
      "application/vnd.jupyter.widget-view+json": {
       "model_id": "1a73809b55844564a6d6dcfdeac2c9a9",
       "version_major": 2,
       "version_minor": 0
      },
      "text/plain": [
       "Canvas(toolbar=Toolbar(toolitems=[('Home', 'Reset original view', 'home', 'home'), ('Back', 'Back to previous …"
      ]
     },
     "metadata": {},
     "output_type": "display_data"
    },
    {
     "data": {
      "text/plain": [
       "Text(0.0, 1.0, 'Valores maiores que duas horas')"
      ]
     },
     "execution_count": 13,
     "metadata": {},
     "output_type": "execute_result"
    }
   ],
   "source": [
    "# Plot figura em branco\n",
    "fig = plt.figure()\n",
    "\n",
    "# Plota o gráfico de box plot\n",
    "\n",
    "plt.boxplot(dfDelay['dep_delay'])\n",
    "\n",
    "plt.ylabel('Minutos')\n",
    "\n",
    "# Remove o valor do eixo x\n",
    "plt.xticks([1], [''])\n",
    "\n",
    "# Remove o tick do eixo x\n",
    "plt.tick_params(axis = \"x\", which = \"both\", bottom = False, top = False)\n",
    "\n",
    "plt.suptitle('Duração do atraso na decolagem', fontsize = 16, fontweight = 'bold', x = 0.445)\n",
    "plt.title('Valores maiores que duas horas', loc = 'left')"
   ]
  },
  {
   "cell_type": "markdown",
   "id": "f7d1ccea-b6d0-451f-95ae-f58e6241db9e",
   "metadata": {},
   "source": [
    "## QUESTÃO 02"
   ]
  },
  {
   "cell_type": "markdown",
   "id": "cdfb9c14-6201-4f56-a5b1-1de7c44d1565",
   "metadata": {},
   "source": [
    "### Filtrar tabela com vôos que atrasaram"
   ]
  },
  {
   "cell_type": "code",
   "execution_count": 14,
   "id": "ac767f76-7265-4236-aea8-e025fb94158b",
   "metadata": {},
   "outputs": [],
   "source": [
    "dfDest = df[df['dep_delay'] > 5]"
   ]
  },
  {
   "cell_type": "markdown",
   "id": "4ab36452-8cab-4d87-a69f-6264c3777698",
   "metadata": {},
   "source": [
    "### Contar a quantidade de atrasos nos vôos"
   ]
  },
  {
   "cell_type": "code",
   "execution_count": 15,
   "id": "ab0ac6bf-6d50-428a-b7c2-1002c6ae5d35",
   "metadata": {},
   "outputs": [],
   "source": [
    "delayCounts = dfDest['dest'].value_counts()"
   ]
  },
  {
   "cell_type": "code",
   "execution_count": 16,
   "id": "4099554f-46b2-4b1c-8f55-7fd8bb2cdf43",
   "metadata": {},
   "outputs": [
    {
     "data": {
      "text/html": [
       "<div>\n",
       "<style scoped>\n",
       "    .dataframe tbody tr th:only-of-type {\n",
       "        vertical-align: middle;\n",
       "    }\n",
       "\n",
       "    .dataframe tbody tr th {\n",
       "        vertical-align: top;\n",
       "    }\n",
       "\n",
       "    .dataframe thead th {\n",
       "        text-align: right;\n",
       "    }\n",
       "</style>\n",
       "<table border=\"1\" class=\"dataframe\">\n",
       "  <thead>\n",
       "    <tr style=\"text-align: right;\">\n",
       "      <th></th>\n",
       "      <th>dest</th>\n",
       "    </tr>\n",
       "  </thead>\n",
       "  <tbody>\n",
       "    <tr>\n",
       "      <th>ORD</th>\n",
       "      <td>4975</td>\n",
       "    </tr>\n",
       "    <tr>\n",
       "      <th>ATL</th>\n",
       "      <td>4687</td>\n",
       "    </tr>\n",
       "    <tr>\n",
       "      <th>LAX</th>\n",
       "      <td>4442</td>\n",
       "    </tr>\n",
       "    <tr>\n",
       "      <th>MCO</th>\n",
       "      <td>4083</td>\n",
       "    </tr>\n",
       "    <tr>\n",
       "      <th>SFO</th>\n",
       "      <td>4078</td>\n",
       "    </tr>\n",
       "    <tr>\n",
       "      <th>...</th>\n",
       "      <td>...</td>\n",
       "    </tr>\n",
       "    <tr>\n",
       "      <th>EYW</th>\n",
       "      <td>6</td>\n",
       "    </tr>\n",
       "    <tr>\n",
       "      <th>SBN</th>\n",
       "      <td>6</td>\n",
       "    </tr>\n",
       "    <tr>\n",
       "      <th>MTJ</th>\n",
       "      <td>6</td>\n",
       "    </tr>\n",
       "    <tr>\n",
       "      <th>ANC</th>\n",
       "      <td>3</td>\n",
       "    </tr>\n",
       "    <tr>\n",
       "      <th>PSP</th>\n",
       "      <td>3</td>\n",
       "    </tr>\n",
       "  </tbody>\n",
       "</table>\n",
       "<p>103 rows × 1 columns</p>\n",
       "</div>"
      ],
      "text/plain": [
       "     dest\n",
       "ORD  4975\n",
       "ATL  4687\n",
       "LAX  4442\n",
       "MCO  4083\n",
       "SFO  4078\n",
       "..    ...\n",
       "EYW     6\n",
       "SBN     6\n",
       "MTJ     6\n",
       "ANC     3\n",
       "PSP     3\n",
       "\n",
       "[103 rows x 1 columns]"
      ]
     },
     "execution_count": 16,
     "metadata": {},
     "output_type": "execute_result"
    }
   ],
   "source": [
    "delayCounts = pd.DataFrame(delayCounts)\n",
    "delayCounts"
   ]
  },
  {
   "cell_type": "code",
   "execution_count": 17,
   "id": "bb38bdcb-eedb-41ca-b067-b0c8921b690b",
   "metadata": {},
   "outputs": [
    {
     "data": {
      "text/html": [
       "<div>\n",
       "<style scoped>\n",
       "    .dataframe tbody tr th:only-of-type {\n",
       "        vertical-align: middle;\n",
       "    }\n",
       "\n",
       "    .dataframe tbody tr th {\n",
       "        vertical-align: top;\n",
       "    }\n",
       "\n",
       "    .dataframe thead th {\n",
       "        text-align: right;\n",
       "    }\n",
       "</style>\n",
       "<table border=\"1\" class=\"dataframe\">\n",
       "  <thead>\n",
       "    <tr style=\"text-align: right;\">\n",
       "      <th></th>\n",
       "      <th>destino</th>\n",
       "      <th>atrasos</th>\n",
       "    </tr>\n",
       "  </thead>\n",
       "  <tbody>\n",
       "    <tr>\n",
       "      <th>0</th>\n",
       "      <td>ORD</td>\n",
       "      <td>4975</td>\n",
       "    </tr>\n",
       "    <tr>\n",
       "      <th>1</th>\n",
       "      <td>ATL</td>\n",
       "      <td>4687</td>\n",
       "    </tr>\n",
       "    <tr>\n",
       "      <th>2</th>\n",
       "      <td>LAX</td>\n",
       "      <td>4442</td>\n",
       "    </tr>\n",
       "    <tr>\n",
       "      <th>3</th>\n",
       "      <td>MCO</td>\n",
       "      <td>4083</td>\n",
       "    </tr>\n",
       "    <tr>\n",
       "      <th>4</th>\n",
       "      <td>SFO</td>\n",
       "      <td>4078</td>\n",
       "    </tr>\n",
       "    <tr>\n",
       "      <th>...</th>\n",
       "      <td>...</td>\n",
       "      <td>...</td>\n",
       "    </tr>\n",
       "    <tr>\n",
       "      <th>98</th>\n",
       "      <td>EYW</td>\n",
       "      <td>6</td>\n",
       "    </tr>\n",
       "    <tr>\n",
       "      <th>99</th>\n",
       "      <td>SBN</td>\n",
       "      <td>6</td>\n",
       "    </tr>\n",
       "    <tr>\n",
       "      <th>100</th>\n",
       "      <td>MTJ</td>\n",
       "      <td>6</td>\n",
       "    </tr>\n",
       "    <tr>\n",
       "      <th>101</th>\n",
       "      <td>ANC</td>\n",
       "      <td>3</td>\n",
       "    </tr>\n",
       "    <tr>\n",
       "      <th>102</th>\n",
       "      <td>PSP</td>\n",
       "      <td>3</td>\n",
       "    </tr>\n",
       "  </tbody>\n",
       "</table>\n",
       "<p>103 rows × 2 columns</p>\n",
       "</div>"
      ],
      "text/plain": [
       "    destino  atrasos\n",
       "0       ORD     4975\n",
       "1       ATL     4687\n",
       "2       LAX     4442\n",
       "3       MCO     4083\n",
       "4       SFO     4078\n",
       "..      ...      ...\n",
       "98      EYW        6\n",
       "99      SBN        6\n",
       "100     MTJ        6\n",
       "101     ANC        3\n",
       "102     PSP        3\n",
       "\n",
       "[103 rows x 2 columns]"
      ]
     },
     "execution_count": 17,
     "metadata": {},
     "output_type": "execute_result"
    }
   ],
   "source": [
    "# Transformar o índice das linhas em uma coluna\n",
    "delayCounts['destino'] = delayCounts.index\n",
    "\n",
    "# Mudar o nome da coluna de contagem\n",
    "delayCounts.columns = ['atrasos', 'destino']\n",
    "\n",
    "# Remover os valores do index\n",
    "delayCounts.reset_index(drop = True, inplace = True)\n",
    "\n",
    "# Mudar a sequência das colunas\n",
    "delayCounts = delayCounts[['destino', 'atrasos']]\n",
    "\n",
    "delayCounts"
   ]
  },
  {
   "cell_type": "markdown",
   "id": "ed52474b-e752-4dca-a6fd-edb74800e237",
   "metadata": {},
   "source": [
    "Os 5 destinos que geraram mais vôos atrasados foram: Chicago (ORD), Atlanta (ATL), Los Angeles (LAX), Orlando (MCO) e São Francisco (SFO)."
   ]
  },
  {
   "cell_type": "markdown",
   "id": "0411dd7e-c4ec-4251-b691-074af94b23d2",
   "metadata": {},
   "source": [
    "### Gráfico de barras "
   ]
  },
  {
   "cell_type": "code",
   "execution_count": 18,
   "id": "78d5f3cf-f1e3-4916-9070-347a8fc83e26",
   "metadata": {},
   "outputs": [
    {
     "data": {
      "application/vnd.jupyter.widget-view+json": {
       "model_id": "761eb1fd49104d23a447369223f42f99",
       "version_major": 2,
       "version_minor": 0
      },
      "text/plain": [
       "Canvas(toolbar=Toolbar(toolitems=[('Home', 'Reset original view', 'home', 'home'), ('Back', 'Back to previous …"
      ]
     },
     "metadata": {},
     "output_type": "display_data"
    },
    {
     "data": {
      "text/plain": [
       "Text(0.0, 1.0, 'Valores agrupados por diferentes aeroportos')"
      ]
     },
     "execution_count": 18,
     "metadata": {},
     "output_type": "execute_result"
    }
   ],
   "source": [
    "fig = plt.figure()\n",
    "\n",
    "plt.bar(delayCounts['destino'], delayCounts['atrasos'])\n",
    "\n",
    "plt.ylabel('Atrasos')\n",
    "\n",
    "# Remove o valor do eixo x\n",
    "plt.xticks([1], [''])\n",
    "\n",
    "# Remove o tick do eixo x\n",
    "plt.tick_params(axis = \"x\", which = \"both\", bottom = False, top = False)\n",
    "\n",
    "plt.suptitle('Atraso na decolagem', fontsize = 18, fontweight = 'bold', x = 0.36)\n",
    "plt.title('Valores agrupados por diferentes aeroportos', loc = 'left')"
   ]
  },
  {
   "cell_type": "markdown",
   "id": "cb97c05d-c8e2-4697-b0a7-d90dc8e46335",
   "metadata": {},
   "source": [
    "## QUESTÃO 03"
   ]
  },
  {
   "cell_type": "markdown",
   "id": "7b72a0ce-b229-4aae-8baf-e089fde93e5b",
   "metadata": {},
   "source": [
    "### Filtrar a tabela somente com os piores destinos"
   ]
  },
  {
   "cell_type": "code",
   "execution_count": 19,
   "id": "d0ae0fcf-cdf0-46ab-96ac-a82b54613cf5",
   "metadata": {},
   "outputs": [],
   "source": [
    "# Seleciona os piores destinos\n",
    "worstDest = delayCounts.sort_values(by = 'atrasos', ascending = False)[['destino']][0:4]"
   ]
  },
  {
   "cell_type": "code",
   "execution_count": 20,
   "id": "e3541f24-3875-47cb-9824-4d901d6c89e6",
   "metadata": {
    "tags": []
   },
   "outputs": [],
   "source": [
    "# Filtra a tabela original baseados nos destinos\n",
    "worstDelay = df[df['dest'].isin(worstDest['destino'])]\n",
    "worstDelay.reset_index(drop = True, inplace = True)"
   ]
  },
  {
   "cell_type": "markdown",
   "id": "6ba77a67-9090-49b9-a58c-6cec256c8e65",
   "metadata": {},
   "source": [
    "### Calculara velocidade média de cada vôo"
   ]
  },
  {
   "cell_type": "code",
   "execution_count": 21,
   "id": "f0987459-9d08-4382-bc8a-166c5cc31955",
   "metadata": {},
   "outputs": [],
   "source": [
    "worstDelay = worstDelay.assign(avgVel = (worstDelay['distance'] / worstDelay['air_time'])*60)"
   ]
  },
  {
   "cell_type": "code",
   "execution_count": 22,
   "id": "f17d746c-a5cc-4af3-9d9f-8edb4bdeb350",
   "metadata": {},
   "outputs": [
    {
     "data": {
      "text/html": [
       "<div>\n",
       "<style scoped>\n",
       "    .dataframe tbody tr th:only-of-type {\n",
       "        vertical-align: middle;\n",
       "    }\n",
       "\n",
       "    .dataframe tbody tr th {\n",
       "        vertical-align: top;\n",
       "    }\n",
       "\n",
       "    .dataframe thead th {\n",
       "        text-align: right;\n",
       "    }\n",
       "</style>\n",
       "<table border=\"1\" class=\"dataframe\">\n",
       "  <thead>\n",
       "    <tr style=\"text-align: right;\">\n",
       "      <th></th>\n",
       "      <th>year</th>\n",
       "      <th>month</th>\n",
       "      <th>day</th>\n",
       "      <th>dep_time</th>\n",
       "      <th>sched_dep_time</th>\n",
       "      <th>dep_delay</th>\n",
       "      <th>arr_time</th>\n",
       "      <th>sched_arr_time</th>\n",
       "      <th>arr_delay</th>\n",
       "      <th>carrier</th>\n",
       "      <th>flight</th>\n",
       "      <th>tailnum</th>\n",
       "      <th>origin</th>\n",
       "      <th>dest</th>\n",
       "      <th>air_time</th>\n",
       "      <th>distance</th>\n",
       "      <th>hour</th>\n",
       "      <th>minute</th>\n",
       "      <th>time_hour</th>\n",
       "      <th>avgVel</th>\n",
       "    </tr>\n",
       "  </thead>\n",
       "  <tbody>\n",
       "    <tr>\n",
       "      <th>0</th>\n",
       "      <td>2013</td>\n",
       "      <td>1</td>\n",
       "      <td>1</td>\n",
       "      <td>554.0</td>\n",
       "      <td>600</td>\n",
       "      <td>-6.0</td>\n",
       "      <td>812.0</td>\n",
       "      <td>837</td>\n",
       "      <td>-25.0</td>\n",
       "      <td>DL</td>\n",
       "      <td>461</td>\n",
       "      <td>N668DN</td>\n",
       "      <td>LGA</td>\n",
       "      <td>ATL</td>\n",
       "      <td>116.0</td>\n",
       "      <td>762</td>\n",
       "      <td>6</td>\n",
       "      <td>0</td>\n",
       "      <td>2013-01-01 06:00:00</td>\n",
       "      <td>394.137931</td>\n",
       "    </tr>\n",
       "    <tr>\n",
       "      <th>1</th>\n",
       "      <td>2013</td>\n",
       "      <td>1</td>\n",
       "      <td>1</td>\n",
       "      <td>554.0</td>\n",
       "      <td>558</td>\n",
       "      <td>-4.0</td>\n",
       "      <td>740.0</td>\n",
       "      <td>728</td>\n",
       "      <td>12.0</td>\n",
       "      <td>UA</td>\n",
       "      <td>1696</td>\n",
       "      <td>N39463</td>\n",
       "      <td>EWR</td>\n",
       "      <td>ORD</td>\n",
       "      <td>150.0</td>\n",
       "      <td>719</td>\n",
       "      <td>5</td>\n",
       "      <td>58</td>\n",
       "      <td>2013-01-01 05:00:00</td>\n",
       "      <td>287.600000</td>\n",
       "    </tr>\n",
       "    <tr>\n",
       "      <th>2</th>\n",
       "      <td>2013</td>\n",
       "      <td>1</td>\n",
       "      <td>1</td>\n",
       "      <td>557.0</td>\n",
       "      <td>600</td>\n",
       "      <td>-3.0</td>\n",
       "      <td>838.0</td>\n",
       "      <td>846</td>\n",
       "      <td>-8.0</td>\n",
       "      <td>B6</td>\n",
       "      <td>79</td>\n",
       "      <td>N593JB</td>\n",
       "      <td>JFK</td>\n",
       "      <td>MCO</td>\n",
       "      <td>140.0</td>\n",
       "      <td>944</td>\n",
       "      <td>6</td>\n",
       "      <td>0</td>\n",
       "      <td>2013-01-01 06:00:00</td>\n",
       "      <td>404.571429</td>\n",
       "    </tr>\n",
       "    <tr>\n",
       "      <th>3</th>\n",
       "      <td>2013</td>\n",
       "      <td>1</td>\n",
       "      <td>1</td>\n",
       "      <td>558.0</td>\n",
       "      <td>600</td>\n",
       "      <td>-2.0</td>\n",
       "      <td>753.0</td>\n",
       "      <td>745</td>\n",
       "      <td>8.0</td>\n",
       "      <td>AA</td>\n",
       "      <td>301</td>\n",
       "      <td>N3ALAA</td>\n",
       "      <td>LGA</td>\n",
       "      <td>ORD</td>\n",
       "      <td>138.0</td>\n",
       "      <td>733</td>\n",
       "      <td>6</td>\n",
       "      <td>0</td>\n",
       "      <td>2013-01-01 06:00:00</td>\n",
       "      <td>318.695652</td>\n",
       "    </tr>\n",
       "    <tr>\n",
       "      <th>4</th>\n",
       "      <td>2013</td>\n",
       "      <td>1</td>\n",
       "      <td>1</td>\n",
       "      <td>558.0</td>\n",
       "      <td>600</td>\n",
       "      <td>-2.0</td>\n",
       "      <td>924.0</td>\n",
       "      <td>917</td>\n",
       "      <td>7.0</td>\n",
       "      <td>UA</td>\n",
       "      <td>194</td>\n",
       "      <td>N29129</td>\n",
       "      <td>JFK</td>\n",
       "      <td>LAX</td>\n",
       "      <td>345.0</td>\n",
       "      <td>2475</td>\n",
       "      <td>6</td>\n",
       "      <td>0</td>\n",
       "      <td>2013-01-01 06:00:00</td>\n",
       "      <td>430.434783</td>\n",
       "    </tr>\n",
       "    <tr>\n",
       "      <th>...</th>\n",
       "      <td>...</td>\n",
       "      <td>...</td>\n",
       "      <td>...</td>\n",
       "      <td>...</td>\n",
       "      <td>...</td>\n",
       "      <td>...</td>\n",
       "      <td>...</td>\n",
       "      <td>...</td>\n",
       "      <td>...</td>\n",
       "      <td>...</td>\n",
       "      <td>...</td>\n",
       "      <td>...</td>\n",
       "      <td>...</td>\n",
       "      <td>...</td>\n",
       "      <td>...</td>\n",
       "      <td>...</td>\n",
       "      <td>...</td>\n",
       "      <td>...</td>\n",
       "      <td>...</td>\n",
       "      <td>...</td>\n",
       "    </tr>\n",
       "    <tr>\n",
       "      <th>64749</th>\n",
       "      <td>2013</td>\n",
       "      <td>9</td>\n",
       "      <td>30</td>\n",
       "      <td>2052.0</td>\n",
       "      <td>2059</td>\n",
       "      <td>-7.0</td>\n",
       "      <td>2315.0</td>\n",
       "      <td>2358</td>\n",
       "      <td>-43.0</td>\n",
       "      <td>UA</td>\n",
       "      <td>1416</td>\n",
       "      <td>N68453</td>\n",
       "      <td>EWR</td>\n",
       "      <td>MCO</td>\n",
       "      <td>123.0</td>\n",
       "      <td>937</td>\n",
       "      <td>20</td>\n",
       "      <td>59</td>\n",
       "      <td>2013-09-30 20:00:00</td>\n",
       "      <td>457.073171</td>\n",
       "    </tr>\n",
       "    <tr>\n",
       "      <th>64750</th>\n",
       "      <td>2013</td>\n",
       "      <td>9</td>\n",
       "      <td>30</td>\n",
       "      <td>2053.0</td>\n",
       "      <td>1815</td>\n",
       "      <td>158.0</td>\n",
       "      <td>2310.0</td>\n",
       "      <td>2054</td>\n",
       "      <td>136.0</td>\n",
       "      <td>EV</td>\n",
       "      <td>5292</td>\n",
       "      <td>N600QX</td>\n",
       "      <td>EWR</td>\n",
       "      <td>ATL</td>\n",
       "      <td>91.0</td>\n",
       "      <td>746</td>\n",
       "      <td>18</td>\n",
       "      <td>15</td>\n",
       "      <td>2013-09-30 18:00:00</td>\n",
       "      <td>491.868132</td>\n",
       "    </tr>\n",
       "    <tr>\n",
       "      <th>64751</th>\n",
       "      <td>2013</td>\n",
       "      <td>9</td>\n",
       "      <td>30</td>\n",
       "      <td>2121.0</td>\n",
       "      <td>2100</td>\n",
       "      <td>21.0</td>\n",
       "      <td>2349.0</td>\n",
       "      <td>14</td>\n",
       "      <td>-25.0</td>\n",
       "      <td>DL</td>\n",
       "      <td>2363</td>\n",
       "      <td>N193DN</td>\n",
       "      <td>JFK</td>\n",
       "      <td>LAX</td>\n",
       "      <td>296.0</td>\n",
       "      <td>2475</td>\n",
       "      <td>21</td>\n",
       "      <td>0</td>\n",
       "      <td>2013-09-30 21:00:00</td>\n",
       "      <td>501.689189</td>\n",
       "    </tr>\n",
       "    <tr>\n",
       "      <th>64752</th>\n",
       "      <td>2013</td>\n",
       "      <td>9</td>\n",
       "      <td>30</td>\n",
       "      <td>2140.0</td>\n",
       "      <td>2140</td>\n",
       "      <td>0.0</td>\n",
       "      <td>10.0</td>\n",
       "      <td>40</td>\n",
       "      <td>-30.0</td>\n",
       "      <td>AA</td>\n",
       "      <td>185</td>\n",
       "      <td>N335AA</td>\n",
       "      <td>JFK</td>\n",
       "      <td>LAX</td>\n",
       "      <td>298.0</td>\n",
       "      <td>2475</td>\n",
       "      <td>21</td>\n",
       "      <td>40</td>\n",
       "      <td>2013-09-30 21:00:00</td>\n",
       "      <td>498.322148</td>\n",
       "    </tr>\n",
       "    <tr>\n",
       "      <th>64753</th>\n",
       "      <td>2013</td>\n",
       "      <td>9</td>\n",
       "      <td>30</td>\n",
       "      <td>2235.0</td>\n",
       "      <td>2001</td>\n",
       "      <td>154.0</td>\n",
       "      <td>59.0</td>\n",
       "      <td>2249</td>\n",
       "      <td>130.0</td>\n",
       "      <td>B6</td>\n",
       "      <td>1083</td>\n",
       "      <td>N804JB</td>\n",
       "      <td>JFK</td>\n",
       "      <td>MCO</td>\n",
       "      <td>123.0</td>\n",
       "      <td>944</td>\n",
       "      <td>20</td>\n",
       "      <td>1</td>\n",
       "      <td>2013-09-30 20:00:00</td>\n",
       "      <td>460.487805</td>\n",
       "    </tr>\n",
       "  </tbody>\n",
       "</table>\n",
       "<p>64754 rows × 20 columns</p>\n",
       "</div>"
      ],
      "text/plain": [
       "       year  month  day  dep_time  sched_dep_time  dep_delay  arr_time  \\\n",
       "0      2013      1    1     554.0             600       -6.0     812.0   \n",
       "1      2013      1    1     554.0             558       -4.0     740.0   \n",
       "2      2013      1    1     557.0             600       -3.0     838.0   \n",
       "3      2013      1    1     558.0             600       -2.0     753.0   \n",
       "4      2013      1    1     558.0             600       -2.0     924.0   \n",
       "...     ...    ...  ...       ...             ...        ...       ...   \n",
       "64749  2013      9   30    2052.0            2059       -7.0    2315.0   \n",
       "64750  2013      9   30    2053.0            1815      158.0    2310.0   \n",
       "64751  2013      9   30    2121.0            2100       21.0    2349.0   \n",
       "64752  2013      9   30    2140.0            2140        0.0      10.0   \n",
       "64753  2013      9   30    2235.0            2001      154.0      59.0   \n",
       "\n",
       "       sched_arr_time  arr_delay carrier  flight tailnum origin dest  \\\n",
       "0                 837      -25.0      DL     461  N668DN    LGA  ATL   \n",
       "1                 728       12.0      UA    1696  N39463    EWR  ORD   \n",
       "2                 846       -8.0      B6      79  N593JB    JFK  MCO   \n",
       "3                 745        8.0      AA     301  N3ALAA    LGA  ORD   \n",
       "4                 917        7.0      UA     194  N29129    JFK  LAX   \n",
       "...               ...        ...     ...     ...     ...    ...  ...   \n",
       "64749            2358      -43.0      UA    1416  N68453    EWR  MCO   \n",
       "64750            2054      136.0      EV    5292  N600QX    EWR  ATL   \n",
       "64751              14      -25.0      DL    2363  N193DN    JFK  LAX   \n",
       "64752              40      -30.0      AA     185  N335AA    JFK  LAX   \n",
       "64753            2249      130.0      B6    1083  N804JB    JFK  MCO   \n",
       "\n",
       "       air_time  distance  hour  minute            time_hour      avgVel  \n",
       "0         116.0       762     6       0  2013-01-01 06:00:00  394.137931  \n",
       "1         150.0       719     5      58  2013-01-01 05:00:00  287.600000  \n",
       "2         140.0       944     6       0  2013-01-01 06:00:00  404.571429  \n",
       "3         138.0       733     6       0  2013-01-01 06:00:00  318.695652  \n",
       "4         345.0      2475     6       0  2013-01-01 06:00:00  430.434783  \n",
       "...         ...       ...   ...     ...                  ...         ...  \n",
       "64749     123.0       937    20      59  2013-09-30 20:00:00  457.073171  \n",
       "64750      91.0       746    18      15  2013-09-30 18:00:00  491.868132  \n",
       "64751     296.0      2475    21       0  2013-09-30 21:00:00  501.689189  \n",
       "64752     298.0      2475    21      40  2013-09-30 21:00:00  498.322148  \n",
       "64753     123.0       944    20       1  2013-09-30 20:00:00  460.487805  \n",
       "\n",
       "[64754 rows x 20 columns]"
      ]
     },
     "execution_count": 22,
     "metadata": {},
     "output_type": "execute_result"
    }
   ],
   "source": [
    "worstDelay"
   ]
  },
  {
   "cell_type": "markdown",
   "id": "6ab4c980-cf51-4154-b486-aac2a372a9c7",
   "metadata": {},
   "source": [
    "### Agrupar a tabela com os piores destinos"
   ]
  },
  {
   "cell_type": "code",
   "execution_count": 23,
   "id": "eb2ee1b1-cede-4051-b03c-a236550e55f5",
   "metadata": {},
   "outputs": [],
   "source": [
    "grouped = worstDelay.groupby(worstDelay['dest'])"
   ]
  },
  {
   "cell_type": "markdown",
   "id": "68f2db6b-abd1-4f82-ae96-0d7681ebb800",
   "metadata": {},
   "source": [
    "### Criar estatísticas descritivas para velocidade média"
   ]
  },
  {
   "cell_type": "code",
   "execution_count": 24,
   "id": "1930e03b-7462-4570-a02a-88b5681cb01a",
   "metadata": {},
   "outputs": [
    {
     "data": {
      "text/html": [
       "<div>\n",
       "<style scoped>\n",
       "    .dataframe tbody tr th:only-of-type {\n",
       "        vertical-align: middle;\n",
       "    }\n",
       "\n",
       "    .dataframe tbody tr th {\n",
       "        vertical-align: top;\n",
       "    }\n",
       "\n",
       "    .dataframe thead th {\n",
       "        text-align: right;\n",
       "    }\n",
       "</style>\n",
       "<table border=\"1\" class=\"dataframe\">\n",
       "  <thead>\n",
       "    <tr style=\"text-align: right;\">\n",
       "      <th></th>\n",
       "      <th>count</th>\n",
       "      <th>mean</th>\n",
       "      <th>std</th>\n",
       "      <th>min</th>\n",
       "      <th>25%</th>\n",
       "      <th>50%</th>\n",
       "      <th>75%</th>\n",
       "      <th>max</th>\n",
       "    </tr>\n",
       "    <tr>\n",
       "      <th>dest</th>\n",
       "      <th></th>\n",
       "      <th></th>\n",
       "      <th></th>\n",
       "      <th></th>\n",
       "      <th></th>\n",
       "      <th></th>\n",
       "      <th></th>\n",
       "      <th></th>\n",
       "    </tr>\n",
       "  </thead>\n",
       "  <tbody>\n",
       "    <tr>\n",
       "      <th>ATL</th>\n",
       "      <td>16837.0</td>\n",
       "      <td>405.182104</td>\n",
       "      <td>33.994256</td>\n",
       "      <td>254.318182</td>\n",
       "      <td>381.000000</td>\n",
       "      <td>406.909091</td>\n",
       "      <td>430.384615</td>\n",
       "      <td>703.384615</td>\n",
       "    </tr>\n",
       "    <tr>\n",
       "      <th>LAX</th>\n",
       "      <td>16026.0</td>\n",
       "      <td>452.799331</td>\n",
       "      <td>25.048269</td>\n",
       "      <td>337.500000</td>\n",
       "      <td>435.483871</td>\n",
       "      <td>451.656442</td>\n",
       "      <td>469.936709</td>\n",
       "      <td>540.000000</td>\n",
       "    </tr>\n",
       "    <tr>\n",
       "      <th>MCO</th>\n",
       "      <td>13967.0</td>\n",
       "      <td>422.385530</td>\n",
       "      <td>32.109714</td>\n",
       "      <td>265.116279</td>\n",
       "      <td>401.571429</td>\n",
       "      <td>425.864662</td>\n",
       "      <td>445.984252</td>\n",
       "      <td>529.345794</td>\n",
       "    </tr>\n",
       "    <tr>\n",
       "      <th>ORD</th>\n",
       "      <td>16566.0</td>\n",
       "      <td>381.130263</td>\n",
       "      <td>31.117499</td>\n",
       "      <td>217.878788</td>\n",
       "      <td>360.491803</td>\n",
       "      <td>382.434783</td>\n",
       "      <td>403.486239</td>\n",
       "      <td>495.862069</td>\n",
       "    </tr>\n",
       "  </tbody>\n",
       "</table>\n",
       "</div>"
      ],
      "text/plain": [
       "        count        mean        std         min         25%         50%  \\\n",
       "dest                                                                       \n",
       "ATL   16837.0  405.182104  33.994256  254.318182  381.000000  406.909091   \n",
       "LAX   16026.0  452.799331  25.048269  337.500000  435.483871  451.656442   \n",
       "MCO   13967.0  422.385530  32.109714  265.116279  401.571429  425.864662   \n",
       "ORD   16566.0  381.130263  31.117499  217.878788  360.491803  382.434783   \n",
       "\n",
       "             75%         max  \n",
       "dest                          \n",
       "ATL   430.384615  703.384615  \n",
       "LAX   469.936709  540.000000  \n",
       "MCO   445.984252  529.345794  \n",
       "ORD   403.486239  495.862069  "
      ]
     },
     "execution_count": 24,
     "metadata": {},
     "output_type": "execute_result"
    }
   ],
   "source": [
    "grouped.describe()['avgVel']"
   ]
  },
  {
   "cell_type": "markdown",
   "id": "3f0f0e0f-17c3-4590-8a69-0a298c20b4fe",
   "metadata": {},
   "source": [
    "### Plotar box-plot para os quatro destinos."
   ]
  },
  {
   "cell_type": "code",
   "execution_count": 25,
   "id": "b7e5f05b-1e24-418b-a6a0-7ad9b88f3220",
   "metadata": {},
   "outputs": [
    {
     "data": {
      "application/vnd.jupyter.widget-view+json": {
       "model_id": "d5a6bd5479604b6aada472e6a619514e",
       "version_major": 2,
       "version_minor": 0
      },
      "text/plain": [
       "Canvas(toolbar=Toolbar(toolitems=[('Home', 'Reset original view', 'home', 'home'), ('Back', 'Back to previous …"
      ]
     },
     "metadata": {},
     "output_type": "display_data"
    },
    {
     "data": {
      "text/plain": [
       "Text(0.0, 1.0, 'Milhas por hora')"
      ]
     },
     "execution_count": 25,
     "metadata": {},
     "output_type": "execute_result"
    }
   ],
   "source": [
    "fig = plt.figure()\n",
    "\n",
    "sns.boxplot(x = worstDelay['dest'], y = worstDelay['avgVel'])\n",
    "\n",
    "plt.ylabel('')\n",
    "\n",
    "plt.xlabel('Destino')\n",
    "\n",
    "plt.suptitle('Velocidade dos piores destinos', fontsize = 18, fontweight = 'bold', x = 0.465)\n",
    "plt.title('Milhas por hora', loc = 'left')"
   ]
  },
  {
   "cell_type": "markdown",
   "id": "2d7569be-7f8a-4756-a4be-c00a4838afa0",
   "metadata": {},
   "source": [
    "## QUESTÃO 04 "
   ]
  },
  {
   "cell_type": "markdown",
   "id": "9a666e53-1c22-4719-8e7d-0e4c3d866483",
   "metadata": {},
   "source": [
    "### Criar tabela com os 'melhores destinos'"
   ]
  },
  {
   "cell_type": "code",
   "execution_count": 26,
   "id": "a8651ee1-e49f-46f8-b0c4-e9e0871a9e96",
   "metadata": {},
   "outputs": [],
   "source": [
    "# Seleciona os melhores destinos\n",
    "bestDest = delayCounts.sort_values(by = 'atrasos', ascending = True)[['destino']][0:5]"
   ]
  },
  {
   "cell_type": "code",
   "execution_count": 27,
   "id": "ea4a3199-7d5a-490e-82d6-876576056be5",
   "metadata": {},
   "outputs": [],
   "source": [
    "# Filtra a tabela original baseados nos destinos\n",
    "bestDelay = df[df['dest'].isin(bestDest['destino'])]\n",
    "bestDelay.reset_index(drop = True, inplace = True)"
   ]
  },
  {
   "cell_type": "code",
   "execution_count": 28,
   "id": "4cc7eb97-58cc-4a66-a13c-1e7ac2fb5d00",
   "metadata": {},
   "outputs": [],
   "source": [
    "# Criar a coluna com a volocidade média\n",
    "bestDelay = bestDelay.assign(avgVel = (bestDelay['distance'] / bestDelay['air_time'])*60)"
   ]
  },
  {
   "cell_type": "code",
   "execution_count": 29,
   "id": "36fc865e-8882-40ce-bfde-4b0083c51c7c",
   "metadata": {},
   "outputs": [],
   "source": [
    "# Criar uma coluna com a inscrição 'best'\n",
    "bestDelay = bestDelay.assign(desType = 'best')"
   ]
  },
  {
   "cell_type": "markdown",
   "id": "ad87ef94-a519-4f60-a4d4-73c8cacbcd58",
   "metadata": {},
   "source": [
    "### Empilhar planilha com destinos bons e ruins."
   ]
  },
  {
   "cell_type": "code",
   "execution_count": 30,
   "id": "2a2c571c-9fc7-4a51-94ed-98f781f9f2eb",
   "metadata": {},
   "outputs": [],
   "source": [
    "# Adicionar coluna com a inscrição 'worst' nos priores destinos\n",
    "worstDelay = worstDelay.assign(desType = 'worst')"
   ]
  },
  {
   "cell_type": "code",
   "execution_count": 31,
   "id": "99597fdd-f84a-4bfd-9af2-b33856cb41ed",
   "metadata": {},
   "outputs": [],
   "source": [
    "# Crioar a mesma coluna com inscrição 'worst' nos destinos 'ruins'\n",
    "allDelay = worstDelay.assign(desType = 'worst')"
   ]
  },
  {
   "cell_type": "code",
   "execution_count": 32,
   "id": "52bb892e-1d4b-4cc9-b1f6-e8369aba20eb",
   "metadata": {},
   "outputs": [],
   "source": [
    "allDelay = worstDelay.append(bestDelay.reset_index(drop = True), ignore_index = True)"
   ]
  },
  {
   "cell_type": "markdown",
   "id": "c36198d3-72f5-4ab2-816b-523d5fd7cc57",
   "metadata": {},
   "source": [
    "### Criar gráfico de box plot para explorar as diferenças"
   ]
  },
  {
   "cell_type": "code",
   "execution_count": 33,
   "id": "f383ee02-34a8-4dfd-9741-f01a5b37adbd",
   "metadata": {},
   "outputs": [
    {
     "data": {
      "application/vnd.jupyter.widget-view+json": {
       "model_id": "e289d3963b174083b00589d36207416e",
       "version_major": 2,
       "version_minor": 0
      },
      "text/plain": [
       "Canvas(toolbar=Toolbar(toolitems=[('Home', 'Reset original view', 'home', 'home'), ('Back', 'Back to previous …"
      ]
     },
     "metadata": {},
     "output_type": "display_data"
    },
    {
     "data": {
      "text/plain": [
       "Text(0.0, 1.0, 'Velocidade média durate o vôo')"
      ]
     },
     "execution_count": 33,
     "metadata": {},
     "output_type": "execute_result"
    }
   ],
   "source": [
    "fig = plt.figure()\n",
    "\n",
    "sns.boxplot(x = allDelay['desType'], y = allDelay['avgVel'])\n",
    "\n",
    "plt.ylabel('Velocidade média')\n",
    "\n",
    "plt.xlabel('Tipo de destino')\n",
    "\n",
    "plt.suptitle('Comparação entre destinos', fontsize = 18, fontweight = 'bold', x = 0.425)\n",
    "plt.title('Velocidade média durate o vôo', loc = 'left')"
   ]
  },
  {
   "cell_type": "markdown",
   "id": "fd8c60df-52bf-4d26-8992-52f0e4f25ac0",
   "metadata": {},
   "source": [
    "As velocidades médias do voôs que mais atrasam e que menos atrasam tende a ser a mesma. Por isso aumentá-la não parece ser uma boa solução inicialmente."
   ]
  }
 ],
 "metadata": {
  "kernelspec": {
   "display_name": "Python 3",
   "language": "python",
   "name": "python3"
  },
  "language_info": {
   "codemirror_mode": {
    "name": "ipython",
    "version": 3
   },
   "file_extension": ".py",
   "mimetype": "text/x-python",
   "name": "python",
   "nbconvert_exporter": "python",
   "pygments_lexer": "ipython3",
   "version": "3.8.10"
  }
 },
 "nbformat": 4,
 "nbformat_minor": 5
}
