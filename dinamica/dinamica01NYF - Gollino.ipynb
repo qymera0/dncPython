{
 "cells": [
  {
   "cell_type": "markdown",
   "id": "c5353fb4-390c-4f90-a2f0-88722b4620c7",
   "metadata": {},
   "source": [
    "# DNC DATA EXPERT"
   ]
  },
  {
   "cell_type": "markdown",
   "id": "3015cc35-aeb3-4eb5-ae61-fc5221dd8eda",
   "metadata": {},
   "source": [
    "# Dinâmica 01 - New York Flights"
   ]
  },
  {
   "cell_type": "markdown",
   "id": "40acfda4-2886-41e5-9306-a21abf3ba3ec",
   "metadata": {},
   "source": [
    "## CARREGAMENTO DAS BIBLIOTECAS"
   ]
  },
  {
   "cell_type": "code",
   "execution_count": 1,
   "id": "1c7ec1ca-712c-4eb7-8ef3-766d9185ced9",
   "metadata": {},
   "outputs": [],
   "source": [
    "import pandas as pd\n",
    "import numpy as np\n",
    "\n",
    "import matplotlib.pyplot as plt\n",
    "import seaborn as sns\n",
    "\n",
    "import warnings\n",
    "warnings.simplefilter('ignore')"
   ]
  },
  {
   "cell_type": "markdown",
   "id": "e910941c-ecce-4518-9ccb-623b8b1dc15c",
   "metadata": {},
   "source": [
    "## CARREGAMENTO DOS DADOS"
   ]
  },
  {
   "cell_type": "code",
   "execution_count": 2,
   "id": "c4686f35-a3a0-4556-8a37-e08f00b594be",
   "metadata": {
    "scrolled": true
   },
   "outputs": [],
   "source": [
    "df = pd.read_csv('nyflights.csv')"
   ]
  },
  {
   "cell_type": "code",
   "execution_count": 3,
   "id": "psychological-livestock",
   "metadata": {},
   "outputs": [
    {
     "data": {
      "text/html": [
       "<div>\n",
       "<style scoped>\n",
       "    .dataframe tbody tr th:only-of-type {\n",
       "        vertical-align: middle;\n",
       "    }\n",
       "\n",
       "    .dataframe tbody tr th {\n",
       "        vertical-align: top;\n",
       "    }\n",
       "\n",
       "    .dataframe thead th {\n",
       "        text-align: right;\n",
       "    }\n",
       "</style>\n",
       "<table border=\"1\" class=\"dataframe\">\n",
       "  <thead>\n",
       "    <tr style=\"text-align: right;\">\n",
       "      <th></th>\n",
       "      <th>Unnamed: 0</th>\n",
       "      <th>year</th>\n",
       "      <th>month</th>\n",
       "      <th>day</th>\n",
       "      <th>dep_time</th>\n",
       "      <th>sched_dep_time</th>\n",
       "      <th>dep_delay</th>\n",
       "      <th>arr_time</th>\n",
       "      <th>sched_arr_time</th>\n",
       "      <th>arr_delay</th>\n",
       "      <th>carrier</th>\n",
       "      <th>flight</th>\n",
       "      <th>tailnum</th>\n",
       "      <th>origin</th>\n",
       "      <th>dest</th>\n",
       "      <th>air_time</th>\n",
       "      <th>distance</th>\n",
       "      <th>hour</th>\n",
       "      <th>minute</th>\n",
       "      <th>time_hour</th>\n",
       "    </tr>\n",
       "  </thead>\n",
       "  <tbody>\n",
       "    <tr>\n",
       "      <th>0</th>\n",
       "      <td>1</td>\n",
       "      <td>2013</td>\n",
       "      <td>1</td>\n",
       "      <td>1</td>\n",
       "      <td>517.0</td>\n",
       "      <td>515</td>\n",
       "      <td>2.0</td>\n",
       "      <td>830.0</td>\n",
       "      <td>819</td>\n",
       "      <td>11.0</td>\n",
       "      <td>UA</td>\n",
       "      <td>1545</td>\n",
       "      <td>N14228</td>\n",
       "      <td>EWR</td>\n",
       "      <td>IAH</td>\n",
       "      <td>227.0</td>\n",
       "      <td>1400</td>\n",
       "      <td>5</td>\n",
       "      <td>15</td>\n",
       "      <td>2013-01-01 05:00:00</td>\n",
       "    </tr>\n",
       "    <tr>\n",
       "      <th>1</th>\n",
       "      <td>2</td>\n",
       "      <td>2013</td>\n",
       "      <td>1</td>\n",
       "      <td>1</td>\n",
       "      <td>533.0</td>\n",
       "      <td>529</td>\n",
       "      <td>4.0</td>\n",
       "      <td>850.0</td>\n",
       "      <td>830</td>\n",
       "      <td>20.0</td>\n",
       "      <td>UA</td>\n",
       "      <td>1714</td>\n",
       "      <td>N24211</td>\n",
       "      <td>LGA</td>\n",
       "      <td>IAH</td>\n",
       "      <td>227.0</td>\n",
       "      <td>1416</td>\n",
       "      <td>5</td>\n",
       "      <td>29</td>\n",
       "      <td>2013-01-01 05:00:00</td>\n",
       "    </tr>\n",
       "    <tr>\n",
       "      <th>2</th>\n",
       "      <td>3</td>\n",
       "      <td>2013</td>\n",
       "      <td>1</td>\n",
       "      <td>1</td>\n",
       "      <td>542.0</td>\n",
       "      <td>540</td>\n",
       "      <td>2.0</td>\n",
       "      <td>923.0</td>\n",
       "      <td>850</td>\n",
       "      <td>33.0</td>\n",
       "      <td>AA</td>\n",
       "      <td>1141</td>\n",
       "      <td>N619AA</td>\n",
       "      <td>JFK</td>\n",
       "      <td>MIA</td>\n",
       "      <td>160.0</td>\n",
       "      <td>1089</td>\n",
       "      <td>5</td>\n",
       "      <td>40</td>\n",
       "      <td>2013-01-01 05:00:00</td>\n",
       "    </tr>\n",
       "    <tr>\n",
       "      <th>3</th>\n",
       "      <td>4</td>\n",
       "      <td>2013</td>\n",
       "      <td>1</td>\n",
       "      <td>1</td>\n",
       "      <td>544.0</td>\n",
       "      <td>545</td>\n",
       "      <td>-1.0</td>\n",
       "      <td>1004.0</td>\n",
       "      <td>1022</td>\n",
       "      <td>-18.0</td>\n",
       "      <td>B6</td>\n",
       "      <td>725</td>\n",
       "      <td>N804JB</td>\n",
       "      <td>JFK</td>\n",
       "      <td>BQN</td>\n",
       "      <td>183.0</td>\n",
       "      <td>1576</td>\n",
       "      <td>5</td>\n",
       "      <td>45</td>\n",
       "      <td>2013-01-01 05:00:00</td>\n",
       "    </tr>\n",
       "    <tr>\n",
       "      <th>4</th>\n",
       "      <td>5</td>\n",
       "      <td>2013</td>\n",
       "      <td>1</td>\n",
       "      <td>1</td>\n",
       "      <td>554.0</td>\n",
       "      <td>600</td>\n",
       "      <td>-6.0</td>\n",
       "      <td>812.0</td>\n",
       "      <td>837</td>\n",
       "      <td>-25.0</td>\n",
       "      <td>DL</td>\n",
       "      <td>461</td>\n",
       "      <td>N668DN</td>\n",
       "      <td>LGA</td>\n",
       "      <td>ATL</td>\n",
       "      <td>116.0</td>\n",
       "      <td>762</td>\n",
       "      <td>6</td>\n",
       "      <td>0</td>\n",
       "      <td>2013-01-01 06:00:00</td>\n",
       "    </tr>\n",
       "  </tbody>\n",
       "</table>\n",
       "</div>"
      ],
      "text/plain": [
       "   Unnamed: 0  year  month  day  dep_time  sched_dep_time  dep_delay  \\\n",
       "0           1  2013      1    1     517.0             515        2.0   \n",
       "1           2  2013      1    1     533.0             529        4.0   \n",
       "2           3  2013      1    1     542.0             540        2.0   \n",
       "3           4  2013      1    1     544.0             545       -1.0   \n",
       "4           5  2013      1    1     554.0             600       -6.0   \n",
       "\n",
       "   arr_time  sched_arr_time  arr_delay carrier  flight tailnum origin dest  \\\n",
       "0     830.0             819       11.0      UA    1545  N14228    EWR  IAH   \n",
       "1     850.0             830       20.0      UA    1714  N24211    LGA  IAH   \n",
       "2     923.0             850       33.0      AA    1141  N619AA    JFK  MIA   \n",
       "3    1004.0            1022      -18.0      B6     725  N804JB    JFK  BQN   \n",
       "4     812.0             837      -25.0      DL     461  N668DN    LGA  ATL   \n",
       "\n",
       "   air_time  distance  hour  minute            time_hour  \n",
       "0     227.0      1400     5      15  2013-01-01 05:00:00  \n",
       "1     227.0      1416     5      29  2013-01-01 05:00:00  \n",
       "2     160.0      1089     5      40  2013-01-01 05:00:00  \n",
       "3     183.0      1576     5      45  2013-01-01 05:00:00  \n",
       "4     116.0       762     6       0  2013-01-01 06:00:00  "
      ]
     },
     "execution_count": 3,
     "metadata": {},
     "output_type": "execute_result"
    }
   ],
   "source": [
    "df.head()"
   ]
  },
  {
   "cell_type": "code",
   "execution_count": 4,
   "id": "passing-flashing",
   "metadata": {},
   "outputs": [
    {
     "data": {
      "text/plain": [
       "(336776, 20)"
      ]
     },
     "execution_count": 4,
     "metadata": {},
     "output_type": "execute_result"
    }
   ],
   "source": [
    "df.shape"
   ]
  },
  {
   "cell_type": "code",
   "execution_count": 5,
   "id": "75a6495b-3cc3-46d0-b4fd-7a15dfec3cd9",
   "metadata": {},
   "outputs": [],
   "source": [
    "# Remover a primeira coluna pois o Python já possui indexação\n",
    "df = df.drop('Unnamed: 0', 1)"
   ]
  },
  {
   "cell_type": "code",
   "execution_count": 6,
   "id": "light-lying",
   "metadata": {},
   "outputs": [
    {
     "data": {
      "text/plain": [
       "year              0.000000\n",
       "month             0.000000\n",
       "day               0.000000\n",
       "dep_time          0.024512\n",
       "sched_dep_time    0.000000\n",
       "dep_delay         0.024512\n",
       "arr_time          0.025872\n",
       "sched_arr_time    0.000000\n",
       "arr_delay         0.028001\n",
       "carrier           0.000000\n",
       "flight            0.000000\n",
       "tailnum           0.007459\n",
       "origin            0.000000\n",
       "dest              0.000000\n",
       "air_time          0.028001\n",
       "distance          0.000000\n",
       "hour              0.000000\n",
       "minute            0.000000\n",
       "time_hour         0.000000\n",
       "dtype: float64"
      ]
     },
     "execution_count": 6,
     "metadata": {},
     "output_type": "execute_result"
    }
   ],
   "source": [
    "df.isnull().sum() / df.shape[0]"
   ]
  },
  {
   "cell_type": "markdown",
   "id": "b391719c-8264-4f23-a9b9-f8771a4b2319",
   "metadata": {},
   "source": [
    "## QUESTÕES A SEREM RESPONDIDAS"
   ]
  },
  {
   "cell_type": "markdown",
   "id": "871e67ce-6616-48d6-b851-36d0515ee277",
   "metadata": {},
   "source": [
    "01 - Quais são as métricas de centralização, variabilidade e quantis dos vôos que atrasam mais que duas horas para decolar? Responda de modo numérico e gráfico.\n",
    "\n",
    "02 - Quais destinos geraram vôos com o maior número de atrasos na partida? Responda de modo qantitativo e gráfico. (5 piores | Considerar 5 minutos um atraso aceitável)\n",
    "\n",
    "03 - Para os 5 piores destinos com maior número de voôes atrasados na partida, calcule as estatísticas descritivas da velocidade média durante o vôo.\n",
    "\n",
    "04 - Aumentar a velocidade média dos voôs pode ser uma solução para diminuir os atrasos? Responda graficamente."
   ]
  },
  {
   "cell_type": "markdown",
   "id": "bdb105be-864b-4578-8527-aa246f48ad92",
   "metadata": {},
   "source": [
    "## QUESTÃO 01"
   ]
  },
  {
   "cell_type": "markdown",
   "id": "febfb5da-99be-474e-97ef-326d25d7cd2d",
   "metadata": {},
   "source": [
    "### Filtrar a tabela: atraso > 2hrs"
   ]
  },
  {
   "cell_type": "code",
   "execution_count": 7,
   "id": "24757082-d808-4618-b2a4-ff76ffab6fd7",
   "metadata": {},
   "outputs": [],
   "source": [
    "df_1 = df[df['dep_delay'] > 120] # variavel esta em minutos"
   ]
  },
  {
   "cell_type": "markdown",
   "id": "4792a18d-6c56-4b2a-a4ba-5c066c19f762",
   "metadata": {},
   "source": [
    "### Estatísticas descritivas para os atrados"
   ]
  },
  {
   "cell_type": "code",
   "execution_count": 8,
   "id": "colored-texture",
   "metadata": {
    "scrolled": true
   },
   "outputs": [
    {
     "data": {
      "text/html": [
       "<div>\n",
       "<style scoped>\n",
       "    .dataframe tbody tr th:only-of-type {\n",
       "        vertical-align: middle;\n",
       "    }\n",
       "\n",
       "    .dataframe tbody tr th {\n",
       "        vertical-align: top;\n",
       "    }\n",
       "\n",
       "    .dataframe thead th {\n",
       "        text-align: right;\n",
       "    }\n",
       "</style>\n",
       "<table border=\"1\" class=\"dataframe\">\n",
       "  <thead>\n",
       "    <tr style=\"text-align: right;\">\n",
       "      <th></th>\n",
       "      <th>year</th>\n",
       "      <th>month</th>\n",
       "      <th>day</th>\n",
       "      <th>dep_time</th>\n",
       "      <th>sched_dep_time</th>\n",
       "      <th>dep_delay</th>\n",
       "      <th>arr_time</th>\n",
       "      <th>sched_arr_time</th>\n",
       "      <th>arr_delay</th>\n",
       "      <th>carrier</th>\n",
       "      <th>flight</th>\n",
       "      <th>tailnum</th>\n",
       "      <th>origin</th>\n",
       "      <th>dest</th>\n",
       "      <th>air_time</th>\n",
       "      <th>distance</th>\n",
       "      <th>hour</th>\n",
       "      <th>minute</th>\n",
       "      <th>time_hour</th>\n",
       "    </tr>\n",
       "  </thead>\n",
       "  <tbody>\n",
       "    <tr>\n",
       "      <th>151</th>\n",
       "      <td>2013</td>\n",
       "      <td>1</td>\n",
       "      <td>1</td>\n",
       "      <td>848.0</td>\n",
       "      <td>1835</td>\n",
       "      <td>853.0</td>\n",
       "      <td>1001.0</td>\n",
       "      <td>1950</td>\n",
       "      <td>851.0</td>\n",
       "      <td>MQ</td>\n",
       "      <td>3944</td>\n",
       "      <td>N942MQ</td>\n",
       "      <td>JFK</td>\n",
       "      <td>BWI</td>\n",
       "      <td>41.0</td>\n",
       "      <td>184</td>\n",
       "      <td>18</td>\n",
       "      <td>35</td>\n",
       "      <td>2013-01-01 18:00:00</td>\n",
       "    </tr>\n",
       "    <tr>\n",
       "      <th>218</th>\n",
       "      <td>2013</td>\n",
       "      <td>1</td>\n",
       "      <td>1</td>\n",
       "      <td>957.0</td>\n",
       "      <td>733</td>\n",
       "      <td>144.0</td>\n",
       "      <td>1056.0</td>\n",
       "      <td>853</td>\n",
       "      <td>123.0</td>\n",
       "      <td>UA</td>\n",
       "      <td>856</td>\n",
       "      <td>N534UA</td>\n",
       "      <td>EWR</td>\n",
       "      <td>BOS</td>\n",
       "      <td>37.0</td>\n",
       "      <td>200</td>\n",
       "      <td>7</td>\n",
       "      <td>33</td>\n",
       "      <td>2013-01-01 07:00:00</td>\n",
       "    </tr>\n",
       "    <tr>\n",
       "      <th>268</th>\n",
       "      <td>2013</td>\n",
       "      <td>1</td>\n",
       "      <td>1</td>\n",
       "      <td>1114.0</td>\n",
       "      <td>900</td>\n",
       "      <td>134.0</td>\n",
       "      <td>1447.0</td>\n",
       "      <td>1222</td>\n",
       "      <td>145.0</td>\n",
       "      <td>UA</td>\n",
       "      <td>1086</td>\n",
       "      <td>N76502</td>\n",
       "      <td>LGA</td>\n",
       "      <td>IAH</td>\n",
       "      <td>248.0</td>\n",
       "      <td>1416</td>\n",
       "      <td>9</td>\n",
       "      <td>0</td>\n",
       "      <td>2013-01-01 09:00:00</td>\n",
       "    </tr>\n",
       "    <tr>\n",
       "      <th>491</th>\n",
       "      <td>2013</td>\n",
       "      <td>1</td>\n",
       "      <td>1</td>\n",
       "      <td>1540.0</td>\n",
       "      <td>1338</td>\n",
       "      <td>122.0</td>\n",
       "      <td>2020.0</td>\n",
       "      <td>1825</td>\n",
       "      <td>115.0</td>\n",
       "      <td>B6</td>\n",
       "      <td>705</td>\n",
       "      <td>N570JB</td>\n",
       "      <td>JFK</td>\n",
       "      <td>SJU</td>\n",
       "      <td>193.0</td>\n",
       "      <td>1598</td>\n",
       "      <td>13</td>\n",
       "      <td>38</td>\n",
       "      <td>2013-01-01 13:00:00</td>\n",
       "    </tr>\n",
       "    <tr>\n",
       "      <th>649</th>\n",
       "      <td>2013</td>\n",
       "      <td>1</td>\n",
       "      <td>1</td>\n",
       "      <td>1815.0</td>\n",
       "      <td>1325</td>\n",
       "      <td>290.0</td>\n",
       "      <td>2120.0</td>\n",
       "      <td>1542</td>\n",
       "      <td>338.0</td>\n",
       "      <td>EV</td>\n",
       "      <td>4417</td>\n",
       "      <td>N17185</td>\n",
       "      <td>EWR</td>\n",
       "      <td>OMA</td>\n",
       "      <td>213.0</td>\n",
       "      <td>1134</td>\n",
       "      <td>13</td>\n",
       "      <td>25</td>\n",
       "      <td>2013-01-01 13:00:00</td>\n",
       "    </tr>\n",
       "  </tbody>\n",
       "</table>\n",
       "</div>"
      ],
      "text/plain": [
       "     year  month  day  dep_time  sched_dep_time  dep_delay  arr_time  \\\n",
       "151  2013      1    1     848.0            1835      853.0    1001.0   \n",
       "218  2013      1    1     957.0             733      144.0    1056.0   \n",
       "268  2013      1    1    1114.0             900      134.0    1447.0   \n",
       "491  2013      1    1    1540.0            1338      122.0    2020.0   \n",
       "649  2013      1    1    1815.0            1325      290.0    2120.0   \n",
       "\n",
       "     sched_arr_time  arr_delay carrier  flight tailnum origin dest  air_time  \\\n",
       "151            1950      851.0      MQ    3944  N942MQ    JFK  BWI      41.0   \n",
       "218             853      123.0      UA     856  N534UA    EWR  BOS      37.0   \n",
       "268            1222      145.0      UA    1086  N76502    LGA  IAH     248.0   \n",
       "491            1825      115.0      B6     705  N570JB    JFK  SJU     193.0   \n",
       "649            1542      338.0      EV    4417  N17185    EWR  OMA     213.0   \n",
       "\n",
       "     distance  hour  minute            time_hour  \n",
       "151       184    18      35  2013-01-01 18:00:00  \n",
       "218       200     7      33  2013-01-01 07:00:00  \n",
       "268      1416     9       0  2013-01-01 09:00:00  \n",
       "491      1598    13      38  2013-01-01 13:00:00  \n",
       "649      1134    13      25  2013-01-01 13:00:00  "
      ]
     },
     "execution_count": 8,
     "metadata": {},
     "output_type": "execute_result"
    }
   ],
   "source": [
    "df_1.head()"
   ]
  },
  {
   "cell_type": "code",
   "execution_count": 9,
   "id": "730d2a78-d82d-4480-a068-5541ade769fb",
   "metadata": {
    "scrolled": true
   },
   "outputs": [
    {
     "data": {
      "text/html": [
       "<div>\n",
       "<style scoped>\n",
       "    .dataframe tbody tr th:only-of-type {\n",
       "        vertical-align: middle;\n",
       "    }\n",
       "\n",
       "    .dataframe tbody tr th {\n",
       "        vertical-align: top;\n",
       "    }\n",
       "\n",
       "    .dataframe thead th {\n",
       "        text-align: right;\n",
       "    }\n",
       "</style>\n",
       "<table border=\"1\" class=\"dataframe\">\n",
       "  <thead>\n",
       "    <tr style=\"text-align: right;\">\n",
       "      <th></th>\n",
       "      <th>count</th>\n",
       "      <th>mean</th>\n",
       "      <th>std</th>\n",
       "      <th>min</th>\n",
       "      <th>25%</th>\n",
       "      <th>50%</th>\n",
       "      <th>75%</th>\n",
       "      <th>max</th>\n",
       "    </tr>\n",
       "  </thead>\n",
       "  <tbody>\n",
       "    <tr>\n",
       "      <th>dep_delay</th>\n",
       "      <td>9723.0</td>\n",
       "      <td>186.983236</td>\n",
       "      <td>74.596836</td>\n",
       "      <td>121.0</td>\n",
       "      <td>139.0</td>\n",
       "      <td>166.0</td>\n",
       "      <td>210.0</td>\n",
       "      <td>1301.0</td>\n",
       "    </tr>\n",
       "  </tbody>\n",
       "</table>\n",
       "</div>"
      ],
      "text/plain": [
       "            count        mean        std    min    25%    50%    75%     max\n",
       "dep_delay  9723.0  186.983236  74.596836  121.0  139.0  166.0  210.0  1301.0"
      ]
     },
     "execution_count": 9,
     "metadata": {},
     "output_type": "execute_result"
    }
   ],
   "source": [
    "dfT_1 = df_1[['dep_delay']].describe().T\n",
    "dfT_1"
   ]
  },
  {
   "cell_type": "markdown",
   "id": "spare-collection",
   "metadata": {},
   "source": [
    "Amplitude:\n",
    "\n",
    "\\begin{equation}\n",
    "A = max - min\n",
    "\\end{equation}"
   ]
  },
  {
   "cell_type": "code",
   "execution_count": 10,
   "id": "polar-variable",
   "metadata": {},
   "outputs": [
    {
     "data": {
      "text/html": [
       "<div>\n",
       "<style scoped>\n",
       "    .dataframe tbody tr th:only-of-type {\n",
       "        vertical-align: middle;\n",
       "    }\n",
       "\n",
       "    .dataframe tbody tr th {\n",
       "        vertical-align: top;\n",
       "    }\n",
       "\n",
       "    .dataframe thead th {\n",
       "        text-align: right;\n",
       "    }\n",
       "</style>\n",
       "<table border=\"1\" class=\"dataframe\">\n",
       "  <thead>\n",
       "    <tr style=\"text-align: right;\">\n",
       "      <th></th>\n",
       "      <th>count</th>\n",
       "      <th>mean</th>\n",
       "      <th>std</th>\n",
       "      <th>min</th>\n",
       "      <th>25%</th>\n",
       "      <th>50%</th>\n",
       "      <th>75%</th>\n",
       "      <th>max</th>\n",
       "      <th>range</th>\n",
       "    </tr>\n",
       "  </thead>\n",
       "  <tbody>\n",
       "    <tr>\n",
       "      <th>dep_delay</th>\n",
       "      <td>9723.0</td>\n",
       "      <td>186.983236</td>\n",
       "      <td>74.596836</td>\n",
       "      <td>121.0</td>\n",
       "      <td>139.0</td>\n",
       "      <td>166.0</td>\n",
       "      <td>210.0</td>\n",
       "      <td>1301.0</td>\n",
       "      <td>1180.0</td>\n",
       "    </tr>\n",
       "  </tbody>\n",
       "</table>\n",
       "</div>"
      ],
      "text/plain": [
       "            count        mean        std    min    25%    50%    75%     max  \\\n",
       "dep_delay  9723.0  186.983236  74.596836  121.0  139.0  166.0  210.0  1301.0   \n",
       "\n",
       "            range  \n",
       "dep_delay  1180.0  "
      ]
     },
     "execution_count": 10,
     "metadata": {},
     "output_type": "execute_result"
    }
   ],
   "source": [
    "# Adicionar uma coluna para a amplitude\n",
    "dfT_1['range'] = dfT_1['max'] - dfT_1['min']\n",
    "\n",
    "dfT_1.head()"
   ]
  },
  {
   "cell_type": "markdown",
   "id": "elegant-fence",
   "metadata": {},
   "source": [
    "Desvio padrão:\n",
    "\\begin{equation}\n",
    "std = \\sqrt{var} \n",
    "\\end{equation}\n",
    "\n",
    "Variancia:\n",
    "\\begin{equation}\n",
    "var = \\frac{\\sum{x - \\hat{x}}}{n - 1} \n",
    "\\end{equation}"
   ]
  },
  {
   "cell_type": "code",
   "execution_count": 11,
   "id": "56558fbf-f9be-4dc3-bc32-daca10b8597b",
   "metadata": {},
   "outputs": [
    {
     "data": {
      "text/html": [
       "<div>\n",
       "<style scoped>\n",
       "    .dataframe tbody tr th:only-of-type {\n",
       "        vertical-align: middle;\n",
       "    }\n",
       "\n",
       "    .dataframe tbody tr th {\n",
       "        vertical-align: top;\n",
       "    }\n",
       "\n",
       "    .dataframe thead th {\n",
       "        text-align: right;\n",
       "    }\n",
       "</style>\n",
       "<table border=\"1\" class=\"dataframe\">\n",
       "  <thead>\n",
       "    <tr style=\"text-align: right;\">\n",
       "      <th></th>\n",
       "      <th>count</th>\n",
       "      <th>mean</th>\n",
       "      <th>std</th>\n",
       "      <th>min</th>\n",
       "      <th>25%</th>\n",
       "      <th>50%</th>\n",
       "      <th>75%</th>\n",
       "      <th>max</th>\n",
       "      <th>range</th>\n",
       "      <th>var</th>\n",
       "    </tr>\n",
       "  </thead>\n",
       "  <tbody>\n",
       "    <tr>\n",
       "      <th>dep_delay</th>\n",
       "      <td>9723.0</td>\n",
       "      <td>186.983236</td>\n",
       "      <td>74.596836</td>\n",
       "      <td>121.0</td>\n",
       "      <td>139.0</td>\n",
       "      <td>166.0</td>\n",
       "      <td>210.0</td>\n",
       "      <td>1301.0</td>\n",
       "      <td>1180.0</td>\n",
       "      <td>5564.687952</td>\n",
       "    </tr>\n",
       "  </tbody>\n",
       "</table>\n",
       "</div>"
      ],
      "text/plain": [
       "            count        mean        std    min    25%    50%    75%     max  \\\n",
       "dep_delay  9723.0  186.983236  74.596836  121.0  139.0  166.0  210.0  1301.0   \n",
       "\n",
       "            range          var  \n",
       "dep_delay  1180.0  5564.687952  "
      ]
     },
     "execution_count": 11,
     "metadata": {},
     "output_type": "execute_result"
    }
   ],
   "source": [
    "# Adicionar uma coluna para variância\n",
    "dfT_1['var'] = pow(dfT_1['std'], 2)\n",
    "\n",
    "dfT_1.head()"
   ]
  },
  {
   "cell_type": "markdown",
   "id": "7bf8052a-0c49-4bbf-a768-00d54146827b",
   "metadata": {},
   "source": [
    "A média de atrasos para os vôos que atrasam mais que duas horas é de 187 minutos com desvio padrão de 75 minutos. A mediana é de 166 minutos. o maior atraso foi de 1301 minutos (21,86 horas... ouch!)."
   ]
  },
  {
   "cell_type": "markdown",
   "id": "053a7113-d7b3-4ec4-b751-14825440b867",
   "metadata": {},
   "source": [
    "### Análise gráfica dos atrasos maiores que duas horas."
   ]
  },
  {
   "cell_type": "markdown",
   "id": "446b7f2c-8f82-4c40-91b1-f477b67897e9",
   "metadata": {},
   "source": [
    "#### Histograma"
   ]
  },
  {
   "cell_type": "code",
   "execution_count": 12,
   "id": "84bd6005-78bf-4870-901f-6619422a3c65",
   "metadata": {},
   "outputs": [
    {
     "data": {
      "image/png": "[encoded data removed]",
      "text/plain": [
       "<Figure size 1080x432 with 1 Axes>"
      ]
     },
     "metadata": {
      "needs_background": "light"
     },
     "output_type": "display_data"
    }
   ],
   "source": [
    "# Cria a figura 'vazia'\n",
    "fig = plt.figure(figsize=(15,6))\n",
    "\n",
    "# Plota o histograma\n",
    "plt.hist(df_1['dep_delay'], bins = 20)\n",
    "\n",
    "# Adiciona título e subtítulo\n",
    "plt.title('Valores maiores que duas horas')\n",
    "\n",
    "# Adiciona título aos eixos \n",
    "plt.xlabel('Minutos')\n",
    "plt.ylabel('Frequência')\n",
    "\n",
    "plt.show()"
   ]
  },
  {
   "cell_type": "markdown",
   "id": "35a87fe3-818c-4ab9-814e-719400a36e47",
   "metadata": {},
   "source": [
    "#### Box Plot"
   ]
  },
  {
   "cell_type": "code",
   "execution_count": 13,
   "id": "5e99f1f3-86fc-4d04-a0ac-2003de1daa17",
   "metadata": {},
   "outputs": [
    {
     "data": {
      "image/png": "[encoded data removed]",
      "text/plain": [
       "<Figure size 1080x432 with 1 Axes>"
      ]
     },
     "metadata": {
      "needs_background": "light"
     },
     "output_type": "display_data"
    }
   ],
   "source": [
    "fig = plt.figure(figsize=(15,6))\n",
    "\n",
    "plt.boxplot(df_1['dep_delay'])\n",
    "\n",
    "plt.title('Valores maiores que duas horas')\n",
    "plt.ylabel('Minutos')\n",
    "plt.show()"
   ]
  },
  {
   "cell_type": "markdown",
   "id": "f7d1ccea-b6d0-451f-95ae-f58e6241db9e",
   "metadata": {},
   "source": [
    "## QUESTÃO 02"
   ]
  },
  {
   "cell_type": "markdown",
   "id": "cdfb9c14-6201-4f56-a5b1-1de7c44d1565",
   "metadata": {},
   "source": [
    "### Filtrar tabela com vôos que atrasaram"
   ]
  },
  {
   "cell_type": "code",
   "execution_count": 14,
   "id": "ac767f76-7265-4236-aea8-e025fb94158b",
   "metadata": {},
   "outputs": [
    {
     "data": {
      "text/html": [
       "<div>\n",
       "<style scoped>\n",
       "    .dataframe tbody tr th:only-of-type {\n",
       "        vertical-align: middle;\n",
       "    }\n",
       "\n",
       "    .dataframe tbody tr th {\n",
       "        vertical-align: top;\n",
       "    }\n",
       "\n",
       "    .dataframe thead th {\n",
       "        text-align: right;\n",
       "    }\n",
       "</style>\n",
       "<table border=\"1\" class=\"dataframe\">\n",
       "  <thead>\n",
       "    <tr style=\"text-align: right;\">\n",
       "      <th></th>\n",
       "      <th>year</th>\n",
       "      <th>month</th>\n",
       "      <th>day</th>\n",
       "      <th>dep_time</th>\n",
       "      <th>sched_dep_time</th>\n",
       "      <th>dep_delay</th>\n",
       "      <th>arr_time</th>\n",
       "      <th>sched_arr_time</th>\n",
       "      <th>arr_delay</th>\n",
       "      <th>carrier</th>\n",
       "      <th>flight</th>\n",
       "      <th>tailnum</th>\n",
       "      <th>origin</th>\n",
       "      <th>dest</th>\n",
       "      <th>air_time</th>\n",
       "      <th>distance</th>\n",
       "      <th>hour</th>\n",
       "      <th>minute</th>\n",
       "      <th>time_hour</th>\n",
       "    </tr>\n",
       "  </thead>\n",
       "  <tbody>\n",
       "    <tr>\n",
       "      <th>25</th>\n",
       "      <td>2013</td>\n",
       "      <td>1</td>\n",
       "      <td>1</td>\n",
       "      <td>608.0</td>\n",
       "      <td>600</td>\n",
       "      <td>8.0</td>\n",
       "      <td>807.0</td>\n",
       "      <td>735</td>\n",
       "      <td>32.0</td>\n",
       "      <td>MQ</td>\n",
       "      <td>3768</td>\n",
       "      <td>N9EAMQ</td>\n",
       "      <td>EWR</td>\n",
       "      <td>ORD</td>\n",
       "      <td>139.0</td>\n",
       "      <td>719</td>\n",
       "      <td>6</td>\n",
       "      <td>0</td>\n",
       "      <td>2013-01-01 06:00:00</td>\n",
       "    </tr>\n",
       "    <tr>\n",
       "      <th>26</th>\n",
       "      <td>2013</td>\n",
       "      <td>1</td>\n",
       "      <td>1</td>\n",
       "      <td>611.0</td>\n",
       "      <td>600</td>\n",
       "      <td>11.0</td>\n",
       "      <td>945.0</td>\n",
       "      <td>931</td>\n",
       "      <td>14.0</td>\n",
       "      <td>UA</td>\n",
       "      <td>303</td>\n",
       "      <td>N532UA</td>\n",
       "      <td>JFK</td>\n",
       "      <td>SFO</td>\n",
       "      <td>366.0</td>\n",
       "      <td>2586</td>\n",
       "      <td>6</td>\n",
       "      <td>0</td>\n",
       "      <td>2013-01-01 06:00:00</td>\n",
       "    </tr>\n",
       "    <tr>\n",
       "      <th>31</th>\n",
       "      <td>2013</td>\n",
       "      <td>1</td>\n",
       "      <td>1</td>\n",
       "      <td>623.0</td>\n",
       "      <td>610</td>\n",
       "      <td>13.0</td>\n",
       "      <td>920.0</td>\n",
       "      <td>915</td>\n",
       "      <td>5.0</td>\n",
       "      <td>AA</td>\n",
       "      <td>1837</td>\n",
       "      <td>N3EMAA</td>\n",
       "      <td>LGA</td>\n",
       "      <td>MIA</td>\n",
       "      <td>153.0</td>\n",
       "      <td>1096</td>\n",
       "      <td>6</td>\n",
       "      <td>10</td>\n",
       "      <td>2013-01-01 06:00:00</td>\n",
       "    </tr>\n",
       "    <tr>\n",
       "      <th>41</th>\n",
       "      <td>2013</td>\n",
       "      <td>1</td>\n",
       "      <td>1</td>\n",
       "      <td>632.0</td>\n",
       "      <td>608</td>\n",
       "      <td>24.0</td>\n",
       "      <td>740.0</td>\n",
       "      <td>728</td>\n",
       "      <td>12.0</td>\n",
       "      <td>EV</td>\n",
       "      <td>4144</td>\n",
       "      <td>N13553</td>\n",
       "      <td>EWR</td>\n",
       "      <td>IAD</td>\n",
       "      <td>52.0</td>\n",
       "      <td>212</td>\n",
       "      <td>6</td>\n",
       "      <td>8</td>\n",
       "      <td>2013-01-01 06:00:00</td>\n",
       "    </tr>\n",
       "    <tr>\n",
       "      <th>47</th>\n",
       "      <td>2013</td>\n",
       "      <td>1</td>\n",
       "      <td>1</td>\n",
       "      <td>644.0</td>\n",
       "      <td>636</td>\n",
       "      <td>8.0</td>\n",
       "      <td>931.0</td>\n",
       "      <td>940</td>\n",
       "      <td>-9.0</td>\n",
       "      <td>UA</td>\n",
       "      <td>1701</td>\n",
       "      <td>N75435</td>\n",
       "      <td>EWR</td>\n",
       "      <td>FLL</td>\n",
       "      <td>151.0</td>\n",
       "      <td>1065</td>\n",
       "      <td>6</td>\n",
       "      <td>36</td>\n",
       "      <td>2013-01-01 06:00:00</td>\n",
       "    </tr>\n",
       "  </tbody>\n",
       "</table>\n",
       "</div>"
      ],
      "text/plain": [
       "    year  month  day  dep_time  sched_dep_time  dep_delay  arr_time  \\\n",
       "25  2013      1    1     608.0             600        8.0     807.0   \n",
       "26  2013      1    1     611.0             600       11.0     945.0   \n",
       "31  2013      1    1     623.0             610       13.0     920.0   \n",
       "41  2013      1    1     632.0             608       24.0     740.0   \n",
       "47  2013      1    1     644.0             636        8.0     931.0   \n",
       "\n",
       "    sched_arr_time  arr_delay carrier  flight tailnum origin dest  air_time  \\\n",
       "25             735       32.0      MQ    3768  N9EAMQ    EWR  ORD     139.0   \n",
       "26             931       14.0      UA     303  N532UA    JFK  SFO     366.0   \n",
       "31             915        5.0      AA    1837  N3EMAA    LGA  MIA     153.0   \n",
       "41             728       12.0      EV    4144  N13553    EWR  IAD      52.0   \n",
       "47             940       -9.0      UA    1701  N75435    EWR  FLL     151.0   \n",
       "\n",
       "    distance  hour  minute            time_hour  \n",
       "25       719     6       0  2013-01-01 06:00:00  \n",
       "26      2586     6       0  2013-01-01 06:00:00  \n",
       "31      1096     6      10  2013-01-01 06:00:00  \n",
       "41       212     6       8  2013-01-01 06:00:00  \n",
       "47      1065     6      36  2013-01-01 06:00:00  "
      ]
     },
     "execution_count": 14,
     "metadata": {},
     "output_type": "execute_result"
    }
   ],
   "source": [
    "df_2 = df[df['dep_delay'] > 5]\n",
    "df_2.head()"
   ]
  },
  {
   "cell_type": "code",
   "execution_count": 15,
   "id": "romantic-optics",
   "metadata": {},
   "outputs": [
    {
     "data": {
      "text/plain": [
       "MTJ    6\n",
       "EYW    6\n",
       "SBN    6\n",
       "ANC    3\n",
       "PSP    3\n",
       "Name: dest, dtype: int64"
      ]
     },
     "execution_count": 15,
     "metadata": {},
     "output_type": "execute_result"
    }
   ],
   "source": [
    "# Menor quantidade de atrasos\n",
    "df_2['dest'].value_counts().tail()"
   ]
  },
  {
   "cell_type": "code",
   "execution_count": 16,
   "id": "charitable-profit",
   "metadata": {},
   "outputs": [
    {
     "data": {
      "text/plain": [
       "ORD    4975\n",
       "ATL    4687\n",
       "LAX    4442\n",
       "MCO    4083\n",
       "SFO    4078\n",
       "Name: dest, dtype: int64"
      ]
     },
     "execution_count": 16,
     "metadata": {},
     "output_type": "execute_result"
    }
   ],
   "source": [
    "# Maior quantidade de atrasos\n",
    "df_2['dest'].value_counts().head()"
   ]
  },
  {
   "cell_type": "code",
   "execution_count": 17,
   "id": "efficient-planner",
   "metadata": {
    "scrolled": true
   },
   "outputs": [
    {
     "data": {
      "text/plain": [
       "Index(['ORD', 'ATL', 'LAX', 'MCO', 'SFO', 'FLL', 'BOS', 'CLT', 'MIA', 'DEN',\n",
       "       ...\n",
       "       'MYR', 'CHO', 'BZN', 'JAC', 'HDN', 'MTJ', 'EYW', 'SBN', 'ANC', 'PSP'],\n",
       "      dtype='object', length=103)"
      ]
     },
     "execution_count": 17,
     "metadata": {},
     "output_type": "execute_result"
    }
   ],
   "source": [
    "df_2['dest'].value_counts().index"
   ]
  },
  {
   "cell_type": "code",
   "execution_count": 18,
   "id": "turkish-terror",
   "metadata": {},
   "outputs": [
    {
     "data": {
      "text/plain": [
       "103"
      ]
     },
     "execution_count": 18,
     "metadata": {},
     "output_type": "execute_result"
    }
   ],
   "source": [
    "df_2['dest'].nunique()"
   ]
  },
  {
   "cell_type": "code",
   "execution_count": 19,
   "id": "78d5f3cf-f1e3-4916-9070-347a8fc83e26",
   "metadata": {},
   "outputs": [
    {
     "data": {
      "image/png": "[encoded data removed]",
      "text/plain": [
       "<Figure size 1080x432 with 1 Axes>"
      ]
     },
     "metadata": {
      "needs_background": "light"
     },
     "output_type": "display_data"
    }
   ],
   "source": [
    "fig = plt.figure(figsize=(15,6))\n",
    "\n",
    "plt.bar(df_2['dest'].value_counts().index, df_2['dest'].value_counts().values)\n",
    "\n",
    "plt.title('Valores agrupados por diferentes aeroportos')\n",
    "plt.xticks(rotation=90, fontsize=9)\n",
    "plt.xlim([-1,df_2['dest'].nunique()])\n",
    "\n",
    "plt.ylabel('Atrasos')\n",
    "\n",
    "plt.tight_layout()\n",
    "plt.show()"
   ]
  },
  {
   "cell_type": "markdown",
   "id": "cb97c05d-c8e2-4697-b0a7-d90dc8e46335",
   "metadata": {},
   "source": [
    "## QUESTÃO 03"
   ]
  },
  {
   "cell_type": "markdown",
   "id": "7b72a0ce-b229-4aae-8baf-e089fde93e5b",
   "metadata": {},
   "source": [
    "### Filtrar a tabela somente com os piores destinos"
   ]
  },
  {
   "cell_type": "code",
   "execution_count": 20,
   "id": "previous-august",
   "metadata": {
    "scrolled": true
   },
   "outputs": [
    {
     "data": {
      "text/plain": [
       "['ORD', 'ATL', 'LAX', 'MCO', 'SFO']"
      ]
     },
     "execution_count": 20,
     "metadata": {},
     "output_type": "execute_result"
    }
   ],
   "source": [
    "list(df_2['dest'].value_counts().head().index)"
   ]
  },
  {
   "cell_type": "code",
   "execution_count": 21,
   "id": "violent-cyprus",
   "metadata": {},
   "outputs": [],
   "source": [
    "df_3 = df[(df['dest'] == 'ORD') | (df['dest'] == 'ATL') | (df['dest'] == 'LAX') | (df['dest'] == 'MCO') | (df['dest'] == 'SFO')]"
   ]
  },
  {
   "cell_type": "code",
   "execution_count": 22,
   "id": "impaired-plasma",
   "metadata": {
    "scrolled": true
   },
   "outputs": [
    {
     "data": {
      "text/html": [
       "<div>\n",
       "<style scoped>\n",
       "    .dataframe tbody tr th:only-of-type {\n",
       "        vertical-align: middle;\n",
       "    }\n",
       "\n",
       "    .dataframe tbody tr th {\n",
       "        vertical-align: top;\n",
       "    }\n",
       "\n",
       "    .dataframe thead th {\n",
       "        text-align: right;\n",
       "    }\n",
       "</style>\n",
       "<table border=\"1\" class=\"dataframe\">\n",
       "  <thead>\n",
       "    <tr style=\"text-align: right;\">\n",
       "      <th></th>\n",
       "      <th>year</th>\n",
       "      <th>month</th>\n",
       "      <th>day</th>\n",
       "      <th>dep_time</th>\n",
       "      <th>sched_dep_time</th>\n",
       "      <th>dep_delay</th>\n",
       "      <th>arr_time</th>\n",
       "      <th>sched_arr_time</th>\n",
       "      <th>arr_delay</th>\n",
       "      <th>carrier</th>\n",
       "      <th>flight</th>\n",
       "      <th>tailnum</th>\n",
       "      <th>origin</th>\n",
       "      <th>dest</th>\n",
       "      <th>air_time</th>\n",
       "      <th>distance</th>\n",
       "      <th>hour</th>\n",
       "      <th>minute</th>\n",
       "      <th>time_hour</th>\n",
       "    </tr>\n",
       "  </thead>\n",
       "  <tbody>\n",
       "    <tr>\n",
       "      <th>4</th>\n",
       "      <td>2013</td>\n",
       "      <td>1</td>\n",
       "      <td>1</td>\n",
       "      <td>554.0</td>\n",
       "      <td>600</td>\n",
       "      <td>-6.0</td>\n",
       "      <td>812.0</td>\n",
       "      <td>837</td>\n",
       "      <td>-25.0</td>\n",
       "      <td>DL</td>\n",
       "      <td>461</td>\n",
       "      <td>N668DN</td>\n",
       "      <td>LGA</td>\n",
       "      <td>ATL</td>\n",
       "      <td>116.0</td>\n",
       "      <td>762</td>\n",
       "      <td>6</td>\n",
       "      <td>0</td>\n",
       "      <td>2013-01-01 06:00:00</td>\n",
       "    </tr>\n",
       "    <tr>\n",
       "      <th>5</th>\n",
       "      <td>2013</td>\n",
       "      <td>1</td>\n",
       "      <td>1</td>\n",
       "      <td>554.0</td>\n",
       "      <td>558</td>\n",
       "      <td>-4.0</td>\n",
       "      <td>740.0</td>\n",
       "      <td>728</td>\n",
       "      <td>12.0</td>\n",
       "      <td>UA</td>\n",
       "      <td>1696</td>\n",
       "      <td>N39463</td>\n",
       "      <td>EWR</td>\n",
       "      <td>ORD</td>\n",
       "      <td>150.0</td>\n",
       "      <td>719</td>\n",
       "      <td>5</td>\n",
       "      <td>58</td>\n",
       "      <td>2013-01-01 05:00:00</td>\n",
       "    </tr>\n",
       "    <tr>\n",
       "      <th>8</th>\n",
       "      <td>2013</td>\n",
       "      <td>1</td>\n",
       "      <td>1</td>\n",
       "      <td>557.0</td>\n",
       "      <td>600</td>\n",
       "      <td>-3.0</td>\n",
       "      <td>838.0</td>\n",
       "      <td>846</td>\n",
       "      <td>-8.0</td>\n",
       "      <td>B6</td>\n",
       "      <td>79</td>\n",
       "      <td>N593JB</td>\n",
       "      <td>JFK</td>\n",
       "      <td>MCO</td>\n",
       "      <td>140.0</td>\n",
       "      <td>944</td>\n",
       "      <td>6</td>\n",
       "      <td>0</td>\n",
       "      <td>2013-01-01 06:00:00</td>\n",
       "    </tr>\n",
       "    <tr>\n",
       "      <th>9</th>\n",
       "      <td>2013</td>\n",
       "      <td>1</td>\n",
       "      <td>1</td>\n",
       "      <td>558.0</td>\n",
       "      <td>600</td>\n",
       "      <td>-2.0</td>\n",
       "      <td>753.0</td>\n",
       "      <td>745</td>\n",
       "      <td>8.0</td>\n",
       "      <td>AA</td>\n",
       "      <td>301</td>\n",
       "      <td>N3ALAA</td>\n",
       "      <td>LGA</td>\n",
       "      <td>ORD</td>\n",
       "      <td>138.0</td>\n",
       "      <td>733</td>\n",
       "      <td>6</td>\n",
       "      <td>0</td>\n",
       "      <td>2013-01-01 06:00:00</td>\n",
       "    </tr>\n",
       "    <tr>\n",
       "      <th>12</th>\n",
       "      <td>2013</td>\n",
       "      <td>1</td>\n",
       "      <td>1</td>\n",
       "      <td>558.0</td>\n",
       "      <td>600</td>\n",
       "      <td>-2.0</td>\n",
       "      <td>924.0</td>\n",
       "      <td>917</td>\n",
       "      <td>7.0</td>\n",
       "      <td>UA</td>\n",
       "      <td>194</td>\n",
       "      <td>N29129</td>\n",
       "      <td>JFK</td>\n",
       "      <td>LAX</td>\n",
       "      <td>345.0</td>\n",
       "      <td>2475</td>\n",
       "      <td>6</td>\n",
       "      <td>0</td>\n",
       "      <td>2013-01-01 06:00:00</td>\n",
       "    </tr>\n",
       "  </tbody>\n",
       "</table>\n",
       "</div>"
      ],
      "text/plain": [
       "    year  month  day  dep_time  sched_dep_time  dep_delay  arr_time  \\\n",
       "4   2013      1    1     554.0             600       -6.0     812.0   \n",
       "5   2013      1    1     554.0             558       -4.0     740.0   \n",
       "8   2013      1    1     557.0             600       -3.0     838.0   \n",
       "9   2013      1    1     558.0             600       -2.0     753.0   \n",
       "12  2013      1    1     558.0             600       -2.0     924.0   \n",
       "\n",
       "    sched_arr_time  arr_delay carrier  flight tailnum origin dest  air_time  \\\n",
       "4              837      -25.0      DL     461  N668DN    LGA  ATL     116.0   \n",
       "5              728       12.0      UA    1696  N39463    EWR  ORD     150.0   \n",
       "8              846       -8.0      B6      79  N593JB    JFK  MCO     140.0   \n",
       "9              745        8.0      AA     301  N3ALAA    LGA  ORD     138.0   \n",
       "12             917        7.0      UA     194  N29129    JFK  LAX     345.0   \n",
       "\n",
       "    distance  hour  minute            time_hour  \n",
       "4        762     6       0  2013-01-01 06:00:00  \n",
       "5        719     5      58  2013-01-01 05:00:00  \n",
       "8        944     6       0  2013-01-01 06:00:00  \n",
       "9        733     6       0  2013-01-01 06:00:00  \n",
       "12      2475     6       0  2013-01-01 06:00:00  "
      ]
     },
     "execution_count": 22,
     "metadata": {},
     "output_type": "execute_result"
    }
   ],
   "source": [
    "df_3.head()"
   ]
  },
  {
   "cell_type": "markdown",
   "id": "6ba77a67-9090-49b9-a58c-6cec256c8e65",
   "metadata": {},
   "source": [
    "### Calculara velocidade média de cada vôo"
   ]
  },
  {
   "cell_type": "markdown",
   "id": "engaging-terrorist",
   "metadata": {},
   "source": [
    "Velocidade:\n",
    "\n",
    "\\begin{equation}\n",
    "V = \\frac{distancia}{tempo}\n",
    "\\end{equation}"
   ]
  },
  {
   "cell_type": "code",
   "execution_count": 23,
   "id": "f0987459-9d08-4382-bc8a-166c5cc31955",
   "metadata": {
    "scrolled": true
   },
   "outputs": [],
   "source": [
    "df_3['avgVel'] = df_3['distance'] / df_3['air_time']"
   ]
  },
  {
   "cell_type": "markdown",
   "id": "6ab4c980-cf51-4154-b486-aac2a372a9c7",
   "metadata": {},
   "source": [
    "### Agrupar a tabela com os piores destinos"
   ]
  },
  {
   "cell_type": "code",
   "execution_count": 24,
   "id": "eb2ee1b1-cede-4051-b03c-a236550e55f5",
   "metadata": {
    "scrolled": true
   },
   "outputs": [
    {
     "data": {
      "text/html": [
       "<div>\n",
       "<style scoped>\n",
       "    .dataframe tbody tr th:only-of-type {\n",
       "        vertical-align: middle;\n",
       "    }\n",
       "\n",
       "    .dataframe tbody tr th {\n",
       "        vertical-align: top;\n",
       "    }\n",
       "\n",
       "    .dataframe thead th {\n",
       "        text-align: right;\n",
       "    }\n",
       "</style>\n",
       "<table border=\"1\" class=\"dataframe\">\n",
       "  <thead>\n",
       "    <tr style=\"text-align: right;\">\n",
       "      <th></th>\n",
       "      <th>dest</th>\n",
       "      <th>count</th>\n",
       "      <th>mean</th>\n",
       "      <th>std</th>\n",
       "      <th>min</th>\n",
       "      <th>25%</th>\n",
       "      <th>50%</th>\n",
       "      <th>75%</th>\n",
       "      <th>max</th>\n",
       "    </tr>\n",
       "  </thead>\n",
       "  <tbody>\n",
       "    <tr>\n",
       "      <th>0</th>\n",
       "      <td>ATL</td>\n",
       "      <td>16837.0</td>\n",
       "      <td>6.753035</td>\n",
       "      <td>0.566571</td>\n",
       "      <td>4.238636</td>\n",
       "      <td>6.350000</td>\n",
       "      <td>6.781818</td>\n",
       "      <td>7.173077</td>\n",
       "      <td>11.723077</td>\n",
       "    </tr>\n",
       "    <tr>\n",
       "      <th>1</th>\n",
       "      <td>LAX</td>\n",
       "      <td>16026.0</td>\n",
       "      <td>7.546656</td>\n",
       "      <td>0.417471</td>\n",
       "      <td>5.625000</td>\n",
       "      <td>7.258065</td>\n",
       "      <td>7.527607</td>\n",
       "      <td>7.832278</td>\n",
       "      <td>9.000000</td>\n",
       "    </tr>\n",
       "    <tr>\n",
       "      <th>2</th>\n",
       "      <td>MCO</td>\n",
       "      <td>13967.0</td>\n",
       "      <td>7.039759</td>\n",
       "      <td>0.535162</td>\n",
       "      <td>4.418605</td>\n",
       "      <td>6.692857</td>\n",
       "      <td>7.097744</td>\n",
       "      <td>7.433071</td>\n",
       "      <td>8.822430</td>\n",
       "    </tr>\n",
       "    <tr>\n",
       "      <th>3</th>\n",
       "      <td>ORD</td>\n",
       "      <td>16566.0</td>\n",
       "      <td>6.352171</td>\n",
       "      <td>0.518625</td>\n",
       "      <td>3.631313</td>\n",
       "      <td>6.008197</td>\n",
       "      <td>6.373913</td>\n",
       "      <td>6.724771</td>\n",
       "      <td>8.264368</td>\n",
       "    </tr>\n",
       "    <tr>\n",
       "      <th>4</th>\n",
       "      <td>SFO</td>\n",
       "      <td>13173.0</td>\n",
       "      <td>7.475697</td>\n",
       "      <td>0.367288</td>\n",
       "      <td>5.277551</td>\n",
       "      <td>7.223464</td>\n",
       "      <td>7.473988</td>\n",
       "      <td>7.725904</td>\n",
       "      <td>8.694915</td>\n",
       "    </tr>\n",
       "  </tbody>\n",
       "</table>\n",
       "</div>"
      ],
      "text/plain": [
       "  dest    count      mean       std       min       25%       50%       75%  \\\n",
       "0  ATL  16837.0  6.753035  0.566571  4.238636  6.350000  6.781818  7.173077   \n",
       "1  LAX  16026.0  7.546656  0.417471  5.625000  7.258065  7.527607  7.832278   \n",
       "2  MCO  13967.0  7.039759  0.535162  4.418605  6.692857  7.097744  7.433071   \n",
       "3  ORD  16566.0  6.352171  0.518625  3.631313  6.008197  6.373913  6.724771   \n",
       "4  SFO  13173.0  7.475697  0.367288  5.277551  7.223464  7.473988  7.725904   \n",
       "\n",
       "         max  \n",
       "0  11.723077  \n",
       "1   9.000000  \n",
       "2   8.822430  \n",
       "3   8.264368  \n",
       "4   8.694915  "
      ]
     },
     "execution_count": 24,
     "metadata": {},
     "output_type": "execute_result"
    }
   ],
   "source": [
    "df_3.groupby('dest')['avgVel'].describe().reset_index()"
   ]
  },
  {
   "cell_type": "markdown",
   "id": "3f0f0e0f-17c3-4590-8a69-0a298c20b4fe",
   "metadata": {},
   "source": [
    "### Plotar box-plot para os quatro destinos."
   ]
  },
  {
   "cell_type": "code",
   "execution_count": 25,
   "id": "b7e5f05b-1e24-418b-a6a0-7ad9b88f3220",
   "metadata": {},
   "outputs": [
    {
     "data": {
      "image/png": "[encoded data removed]",
      "text/plain": [
       "<Figure size 1080x432 with 1 Axes>"
      ]
     },
     "metadata": {
      "needs_background": "light"
     },
     "output_type": "display_data"
    }
   ],
   "source": [
    "fig = plt.figure(figsize=(15,6))\n",
    "\n",
    "sns.boxplot(x = df_3['dest'], y = df_3['avgVel'])\n",
    "\n",
    "plt.xlabel('Destino')\n",
    "\n",
    "plt.title('Milhas por hora')\n",
    "\n",
    "plt.show()"
   ]
  },
  {
   "cell_type": "markdown",
   "id": "2d7569be-7f8a-4756-a4be-c00a4838afa0",
   "metadata": {},
   "source": [
    "## QUESTÃO 04 "
   ]
  },
  {
   "cell_type": "markdown",
   "id": "9a666e53-1c22-4719-8e7d-0e4c3d866483",
   "metadata": {},
   "source": [
    "### Criar tabela com os 'melhores destinos'"
   ]
  },
  {
   "cell_type": "code",
   "execution_count": 26,
   "id": "a8651ee1-e49f-46f8-b0c4-e9e0871a9e96",
   "metadata": {},
   "outputs": [
    {
     "data": {
      "text/plain": [
       "['MTJ', 'EYW', 'SBN', 'ANC', 'PSP']"
      ]
     },
     "execution_count": 26,
     "metadata": {},
     "output_type": "execute_result"
    }
   ],
   "source": [
    "# Seleciona os melhores destinos\n",
    "list(df_2['dest'].value_counts().tail().index)"
   ]
  },
  {
   "cell_type": "code",
   "execution_count": 27,
   "id": "ea4a3199-7d5a-490e-82d6-876576056be5",
   "metadata": {},
   "outputs": [],
   "source": [
    "df_4 = df[(df['dest'] == 'MTJ') |\n",
    "          (df['dest'] == 'SBN') |\n",
    "          (df['dest'] == 'EYW') |\n",
    "          (df['dest'] == 'PSP') |\n",
    "          (df['dest'] == 'ANC')]"
   ]
  },
  {
   "cell_type": "code",
   "execution_count": 28,
   "id": "4cc7eb97-58cc-4a66-a13c-1e7ac2fb5d00",
   "metadata": {},
   "outputs": [],
   "source": [
    "# Criar a coluna com a volocidade média\n",
    "df_4['avgVel'] = df_4['distance'] / df_4['air_time']"
   ]
  },
  {
   "cell_type": "code",
   "execution_count": 29,
   "id": "joint-holly",
   "metadata": {},
   "outputs": [],
   "source": [
    "df_3['desType'] = 'worst'\n",
    "df_4['desType'] = 'best'"
   ]
  },
  {
   "cell_type": "markdown",
   "id": "ad87ef94-a519-4f60-a4d4-73c8cacbcd58",
   "metadata": {},
   "source": [
    "### Empilhar planilha com destinos bons e ruins."
   ]
  },
  {
   "cell_type": "code",
   "execution_count": 30,
   "id": "2a2c571c-9fc7-4a51-94ed-98f781f9f2eb",
   "metadata": {},
   "outputs": [],
   "source": [
    "df_5 = pd.concat([df_3, df_4], axis=0)"
   ]
  },
  {
   "cell_type": "code",
   "execution_count": 31,
   "id": "incident-county",
   "metadata": {},
   "outputs": [],
   "source": [
    "df_5.reset_index(drop=True, inplace=True)"
   ]
  },
  {
   "cell_type": "markdown",
   "id": "c36198d3-72f5-4ab2-816b-523d5fd7cc57",
   "metadata": {},
   "source": [
    "### Criar gráfico de box plot para explorar as diferenças"
   ]
  },
  {
   "cell_type": "code",
   "execution_count": 32,
   "id": "f383ee02-34a8-4dfd-9741-f01a5b37adbd",
   "metadata": {},
   "outputs": [
    {
     "data": {
      "image/png": "[encoded data removed]",
      "text/plain": [
       "<Figure size 1080x432 with 1 Axes>"
      ]
     },
     "metadata": {
      "needs_background": "light"
     },
     "output_type": "display_data"
    }
   ],
   "source": [
    "fig = plt.figure(figsize=(15,6))\n",
    "\n",
    "sns.boxplot(x = df_5['desType'], y = df_5['avgVel'])\n",
    "\n",
    "plt.ylabel('Velocidade média')\n",
    "\n",
    "plt.xlabel('Tipo de destino')\n",
    "\n",
    "plt.title('Velocidade média durate o vôo')\n",
    "\n",
    "plt.show()"
   ]
  },
  {
   "cell_type": "markdown",
   "id": "fd8c60df-52bf-4d26-8992-52f0e4f25ac0",
   "metadata": {},
   "source": [
    "As velocidades médias do voôs que mais atrasam e que menos atrasam tende a ser a mesma. Por isso aumentá-la não parece ser uma boa solução inicialmente."
   ]
  }
 ],
 "metadata": {
  "kernelspec": {
   "display_name": "Python 3",
   "language": "python",
   "name": "python3"
  },
  "language_info": {
   "codemirror_mode": {
    "name": "ipython",
    "version": 3
   },
   "file_extension": ".py",
   "mimetype": "text/x-python",
   "name": "python",
   "nbconvert_exporter": "python",
   "pygments_lexer": "ipython3",
   "version": "3.8.10"
  }
 },
 "nbformat": 4,
 "nbformat_minor": 5
}
