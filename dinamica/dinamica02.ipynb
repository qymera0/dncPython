{
 "cells": [
  {
   "cell_type": "markdown",
   "id": "f9a670d8-1b76-4872-ab32-caa036d318b5",
   "metadata": {},
   "source": [
    "# DNC DATA EXPERTB"
   ]
  },
  {
   "cell_type": "markdown",
   "id": "fd372bbb-0bb8-4510-9bdf-78e139f52d3f",
   "metadata": {},
   "source": [
    "## Estatística e Python básicos - dinâmica 02"
   ]
  },
  {
   "cell_type": "markdown",
   "id": "4f3e4a4e-4933-408d-80bf-e947605b8398",
   "metadata": {},
   "source": [
    "Nessa dinâmica vocês vão trabalhar com um dataset da área de Recursos Humanos, relacionado ao problema de absenteísmo.\n",
    "Vocês devem fazer o download dos arquivos no seguinte endereço:\n",
    "\n",
    "https://archive.ics.uci.edu/ml/machine-learning-databases/00445/Absenteeism_at_work_AAA.zip\n",
    "\n",
    "Após descomprimir os arquivos, vocês abrirão o arquivo ‘Absenteeism_at_work.csv’ e usaram esses dados para apresentar soluções de como reduzir o absenteísmo para essa empresa.\n"
   ]
  },
  {
   "cell_type": "markdown",
   "id": "f7b3defe-7efd-40fd-87c3-b248b8ad66e0",
   "metadata": {},
   "source": [
    "## CARREGAMENTO DAS BIBLIOTECAS"
   ]
  },
  {
   "cell_type": "code",
   "execution_count": 1,
   "id": "58e331a2-89e9-4ddb-9b0a-a02defc36aaa",
   "metadata": {
    "tags": []
   },
   "outputs": [],
   "source": [
    "import pandas as pd\n",
    "import numpy as np\n",
    "import matplotlib.pyplot as plt\n",
    "import seaborn as sns\n",
    "%matplotlib widget"
   ]
  },
  {
   "cell_type": "markdown",
   "id": "da84897b-8afc-4dfc-bde5-e50f17da6fc0",
   "metadata": {
    "tags": []
   },
   "source": [
    "## ABERTURA DO DATASET"
   ]
  },
  {
   "cell_type": "code",
   "execution_count": 2,
   "id": "fca8be17-10b2-4d4d-8eac-9211f1e081f8",
   "metadata": {},
   "outputs": [],
   "source": [
    "df = pd.read_csv('D:\\\\Samuel\\\\Documentos\\\\Python\\\\dncPython\\\\dinamica\\\\Datasets\\\\D02\\\\Absenteeism_at_work.csv', delimiter=';')"
   ]
  },
  {
   "cell_type": "code",
   "execution_count": 3,
   "id": "c74be057-84e7-4bf8-b92f-2ecfa83b69b1",
   "metadata": {},
   "outputs": [
    {
     "data": {
      "text/html": [
       "<div>\n",
       "<style scoped>\n",
       "    .dataframe tbody tr th:only-of-type {\n",
       "        vertical-align: middle;\n",
       "    }\n",
       "\n",
       "    .dataframe tbody tr th {\n",
       "        vertical-align: top;\n",
       "    }\n",
       "\n",
       "    .dataframe thead th {\n",
       "        text-align: right;\n",
       "    }\n",
       "</style>\n",
       "<table border=\"1\" class=\"dataframe\">\n",
       "  <thead>\n",
       "    <tr style=\"text-align: right;\">\n",
       "      <th></th>\n",
       "      <th>ID</th>\n",
       "      <th>Reason for absence</th>\n",
       "      <th>Month of absence</th>\n",
       "      <th>Day of the week</th>\n",
       "      <th>Seasons</th>\n",
       "      <th>Transportation expense</th>\n",
       "      <th>Distance from Residence to Work</th>\n",
       "      <th>Service time</th>\n",
       "      <th>Age</th>\n",
       "      <th>Work load Average/day</th>\n",
       "      <th>...</th>\n",
       "      <th>Disciplinary failure</th>\n",
       "      <th>Education</th>\n",
       "      <th>Son</th>\n",
       "      <th>Social drinker</th>\n",
       "      <th>Social smoker</th>\n",
       "      <th>Pet</th>\n",
       "      <th>Weight</th>\n",
       "      <th>Height</th>\n",
       "      <th>Body mass index</th>\n",
       "      <th>Absenteeism time in hours</th>\n",
       "    </tr>\n",
       "  </thead>\n",
       "  <tbody>\n",
       "    <tr>\n",
       "      <th>0</th>\n",
       "      <td>11</td>\n",
       "      <td>26</td>\n",
       "      <td>7</td>\n",
       "      <td>3</td>\n",
       "      <td>1</td>\n",
       "      <td>289</td>\n",
       "      <td>36</td>\n",
       "      <td>13</td>\n",
       "      <td>33</td>\n",
       "      <td>239.554</td>\n",
       "      <td>...</td>\n",
       "      <td>0</td>\n",
       "      <td>1</td>\n",
       "      <td>2</td>\n",
       "      <td>1</td>\n",
       "      <td>0</td>\n",
       "      <td>1</td>\n",
       "      <td>90</td>\n",
       "      <td>172</td>\n",
       "      <td>30</td>\n",
       "      <td>4</td>\n",
       "    </tr>\n",
       "    <tr>\n",
       "      <th>1</th>\n",
       "      <td>36</td>\n",
       "      <td>0</td>\n",
       "      <td>7</td>\n",
       "      <td>3</td>\n",
       "      <td>1</td>\n",
       "      <td>118</td>\n",
       "      <td>13</td>\n",
       "      <td>18</td>\n",
       "      <td>50</td>\n",
       "      <td>239.554</td>\n",
       "      <td>...</td>\n",
       "      <td>1</td>\n",
       "      <td>1</td>\n",
       "      <td>1</td>\n",
       "      <td>1</td>\n",
       "      <td>0</td>\n",
       "      <td>0</td>\n",
       "      <td>98</td>\n",
       "      <td>178</td>\n",
       "      <td>31</td>\n",
       "      <td>0</td>\n",
       "    </tr>\n",
       "    <tr>\n",
       "      <th>2</th>\n",
       "      <td>3</td>\n",
       "      <td>23</td>\n",
       "      <td>7</td>\n",
       "      <td>4</td>\n",
       "      <td>1</td>\n",
       "      <td>179</td>\n",
       "      <td>51</td>\n",
       "      <td>18</td>\n",
       "      <td>38</td>\n",
       "      <td>239.554</td>\n",
       "      <td>...</td>\n",
       "      <td>0</td>\n",
       "      <td>1</td>\n",
       "      <td>0</td>\n",
       "      <td>1</td>\n",
       "      <td>0</td>\n",
       "      <td>0</td>\n",
       "      <td>89</td>\n",
       "      <td>170</td>\n",
       "      <td>31</td>\n",
       "      <td>2</td>\n",
       "    </tr>\n",
       "    <tr>\n",
       "      <th>3</th>\n",
       "      <td>7</td>\n",
       "      <td>7</td>\n",
       "      <td>7</td>\n",
       "      <td>5</td>\n",
       "      <td>1</td>\n",
       "      <td>279</td>\n",
       "      <td>5</td>\n",
       "      <td>14</td>\n",
       "      <td>39</td>\n",
       "      <td>239.554</td>\n",
       "      <td>...</td>\n",
       "      <td>0</td>\n",
       "      <td>1</td>\n",
       "      <td>2</td>\n",
       "      <td>1</td>\n",
       "      <td>1</td>\n",
       "      <td>0</td>\n",
       "      <td>68</td>\n",
       "      <td>168</td>\n",
       "      <td>24</td>\n",
       "      <td>4</td>\n",
       "    </tr>\n",
       "    <tr>\n",
       "      <th>4</th>\n",
       "      <td>11</td>\n",
       "      <td>23</td>\n",
       "      <td>7</td>\n",
       "      <td>5</td>\n",
       "      <td>1</td>\n",
       "      <td>289</td>\n",
       "      <td>36</td>\n",
       "      <td>13</td>\n",
       "      <td>33</td>\n",
       "      <td>239.554</td>\n",
       "      <td>...</td>\n",
       "      <td>0</td>\n",
       "      <td>1</td>\n",
       "      <td>2</td>\n",
       "      <td>1</td>\n",
       "      <td>0</td>\n",
       "      <td>1</td>\n",
       "      <td>90</td>\n",
       "      <td>172</td>\n",
       "      <td>30</td>\n",
       "      <td>2</td>\n",
       "    </tr>\n",
       "  </tbody>\n",
       "</table>\n",
       "<p>5 rows × 21 columns</p>\n",
       "</div>"
      ],
      "text/plain": [
       "   ID  Reason for absence  Month of absence  Day of the week  Seasons  \\\n",
       "0  11                  26                 7                3        1   \n",
       "1  36                   0                 7                3        1   \n",
       "2   3                  23                 7                4        1   \n",
       "3   7                   7                 7                5        1   \n",
       "4  11                  23                 7                5        1   \n",
       "\n",
       "   Transportation expense  Distance from Residence to Work  Service time  Age  \\\n",
       "0                     289                               36            13   33   \n",
       "1                     118                               13            18   50   \n",
       "2                     179                               51            18   38   \n",
       "3                     279                                5            14   39   \n",
       "4                     289                               36            13   33   \n",
       "\n",
       "   Work load Average/day   ...  Disciplinary failure  Education  Son  \\\n",
       "0                 239.554  ...                     0          1    2   \n",
       "1                 239.554  ...                     1          1    1   \n",
       "2                 239.554  ...                     0          1    0   \n",
       "3                 239.554  ...                     0          1    2   \n",
       "4                 239.554  ...                     0          1    2   \n",
       "\n",
       "   Social drinker  Social smoker  Pet  Weight  Height  Body mass index  \\\n",
       "0               1              0    1      90     172               30   \n",
       "1               1              0    0      98     178               31   \n",
       "2               1              0    0      89     170               31   \n",
       "3               1              1    0      68     168               24   \n",
       "4               1              0    1      90     172               30   \n",
       "\n",
       "   Absenteeism time in hours  \n",
       "0                          4  \n",
       "1                          0  \n",
       "2                          2  \n",
       "3                          4  \n",
       "4                          2  \n",
       "\n",
       "[5 rows x 21 columns]"
      ]
     },
     "execution_count": 3,
     "metadata": {},
     "output_type": "execute_result"
    }
   ],
   "source": [
    "df.head()"
   ]
  },
  {
   "cell_type": "code",
   "execution_count": 4,
   "id": "0eb9068e-5c72-451a-9584-e564fa8d14a7",
   "metadata": {},
   "outputs": [],
   "source": [
    "# Renomear algumas colunas\n",
    "df.rename(columns={'Reason for absence': 'reason', 'Month of absence': 'month', 'Day of the week' : 'weekDay', 'Distance from Residence to Work' : 'wordDist'}, inplace=True)"
   ]
  },
  {
   "cell_type": "markdown",
   "id": "0b4cc6ce-5041-491d-8512-cd74c3d958e9",
   "metadata": {},
   "source": [
    "## SEPARAÇÃO DO DATASET EM VARIÁVEIS CONTÍNUAS E CATEGÓRICAS"
   ]
  },
  {
   "cell_type": "markdown",
   "id": "3533a3ed-129c-4104-8a72-b9cd1229173b",
   "metadata": {},
   "source": [
    "Essa atividade é importante pois o tipo de variável vai direcionar o método de investigação. Aqui tem um detalhe: algumas variáveis se apresentam como numéricas (como ‘dia da semana’, por ex.) mas na verdade são fatores.\n",
    "Por isso, a separação deverá ser ‘manual’. "
   ]
  },
  {
   "cell_type": "markdown",
   "id": "6053f34c-cca4-46cf-9eb7-02535f14f667",
   "metadata": {},
   "source": [
    "### Variáveis categóricas"
   ]
  },
  {
   "cell_type": "code",
   "execution_count": 5,
   "id": "a163d72b-3a1d-436d-b0ff-322c7cf3591c",
   "metadata": {},
   "outputs": [
    {
     "data": {
      "text/plain": [
       "['ID',\n",
       " 'reason',\n",
       " 'month',\n",
       " 'weekDay',\n",
       " 'Seasons',\n",
       " 'Transportation expense',\n",
       " 'wordDist',\n",
       " 'Service time',\n",
       " 'Age',\n",
       " 'Work load Average/day ',\n",
       " 'Hit target',\n",
       " 'Disciplinary failure',\n",
       " 'Education',\n",
       " 'Son',\n",
       " 'Social drinker',\n",
       " 'Social smoker',\n",
       " 'Pet',\n",
       " 'Weight',\n",
       " 'Height',\n",
       " 'Body mass index',\n",
       " 'Absenteeism time in hours']"
      ]
     },
     "execution_count": 5,
     "metadata": {},
     "output_type": "execute_result"
    }
   ],
   "source": [
    "# Mostrar os nomes de todas as colunas\n",
    "list(df.columns)"
   ]
  },
  {
   "cell_type": "code",
   "execution_count": 6,
   "id": "6008dc32-4fec-4edf-be38-c9628ca026d3",
   "metadata": {},
   "outputs": [
    {
     "data": {
      "text/html": [
       "<div>\n",
       "<style scoped>\n",
       "    .dataframe tbody tr th:only-of-type {\n",
       "        vertical-align: middle;\n",
       "    }\n",
       "\n",
       "    .dataframe tbody tr th {\n",
       "        vertical-align: top;\n",
       "    }\n",
       "\n",
       "    .dataframe thead th {\n",
       "        text-align: right;\n",
       "    }\n",
       "</style>\n",
       "<table border=\"1\" class=\"dataframe\">\n",
       "  <thead>\n",
       "    <tr style=\"text-align: right;\">\n",
       "      <th></th>\n",
       "      <th>reason</th>\n",
       "      <th>month</th>\n",
       "      <th>weekDay</th>\n",
       "      <th>Seasons</th>\n",
       "      <th>Disciplinary failure</th>\n",
       "      <th>Education</th>\n",
       "      <th>Social drinker</th>\n",
       "      <th>Social smoker</th>\n",
       "    </tr>\n",
       "  </thead>\n",
       "  <tbody>\n",
       "    <tr>\n",
       "      <th>0</th>\n",
       "      <td>26</td>\n",
       "      <td>7</td>\n",
       "      <td>3</td>\n",
       "      <td>1</td>\n",
       "      <td>0</td>\n",
       "      <td>1</td>\n",
       "      <td>1</td>\n",
       "      <td>0</td>\n",
       "    </tr>\n",
       "    <tr>\n",
       "      <th>1</th>\n",
       "      <td>0</td>\n",
       "      <td>7</td>\n",
       "      <td>3</td>\n",
       "      <td>1</td>\n",
       "      <td>1</td>\n",
       "      <td>1</td>\n",
       "      <td>1</td>\n",
       "      <td>0</td>\n",
       "    </tr>\n",
       "    <tr>\n",
       "      <th>2</th>\n",
       "      <td>23</td>\n",
       "      <td>7</td>\n",
       "      <td>4</td>\n",
       "      <td>1</td>\n",
       "      <td>0</td>\n",
       "      <td>1</td>\n",
       "      <td>1</td>\n",
       "      <td>0</td>\n",
       "    </tr>\n",
       "    <tr>\n",
       "      <th>3</th>\n",
       "      <td>7</td>\n",
       "      <td>7</td>\n",
       "      <td>5</td>\n",
       "      <td>1</td>\n",
       "      <td>0</td>\n",
       "      <td>1</td>\n",
       "      <td>1</td>\n",
       "      <td>1</td>\n",
       "    </tr>\n",
       "    <tr>\n",
       "      <th>4</th>\n",
       "      <td>23</td>\n",
       "      <td>7</td>\n",
       "      <td>5</td>\n",
       "      <td>1</td>\n",
       "      <td>0</td>\n",
       "      <td>1</td>\n",
       "      <td>1</td>\n",
       "      <td>0</td>\n",
       "    </tr>\n",
       "  </tbody>\n",
       "</table>\n",
       "</div>"
      ],
      "text/plain": [
       "  reason month weekDay Seasons Disciplinary failure Education Social drinker  \\\n",
       "0     26     7       3       1                    0         1              1   \n",
       "1      0     7       3       1                    1         1              1   \n",
       "2     23     7       4       1                    0         1              1   \n",
       "3      7     7       5       1                    0         1              1   \n",
       "4     23     7       5       1                    0         1              1   \n",
       "\n",
       "  Social smoker  \n",
       "0             0  \n",
       "1             0  \n",
       "2             0  \n",
       "3             1  \n",
       "4             0  "
      ]
     },
     "execution_count": 6,
     "metadata": {},
     "output_type": "execute_result"
    }
   ],
   "source": [
    "# Separar variáveis categóricas\n",
    "dfCat = df[['reason', 'month', 'weekDay', 'Seasons', 'Disciplinary failure', 'Education', 'Social drinker', 'Social smoker',]]\n",
    "\n",
    "# Classifcar todas as variáveis como categóricas\n",
    "dfCat = dfCat.astype('category')\n",
    "\n",
    "dfCat.head()"
   ]
  },
  {
   "cell_type": "markdown",
   "id": "7f4957cb-026a-4b9b-a4c2-acb4f70d9dff",
   "metadata": {},
   "source": [
    "### Variáveis contínuas"
   ]
  },
  {
   "cell_type": "code",
   "execution_count": 7,
   "id": "247e39a5-d23a-4731-a8ee-8602f8b07201",
   "metadata": {},
   "outputs": [
    {
     "data": {
      "text/html": [
       "<div>\n",
       "<style scoped>\n",
       "    .dataframe tbody tr th:only-of-type {\n",
       "        vertical-align: middle;\n",
       "    }\n",
       "\n",
       "    .dataframe tbody tr th {\n",
       "        vertical-align: top;\n",
       "    }\n",
       "\n",
       "    .dataframe thead th {\n",
       "        text-align: right;\n",
       "    }\n",
       "</style>\n",
       "<table border=\"1\" class=\"dataframe\">\n",
       "  <thead>\n",
       "    <tr style=\"text-align: right;\">\n",
       "      <th></th>\n",
       "      <th>Age</th>\n",
       "      <th>Body mass index</th>\n",
       "      <th>Height</th>\n",
       "      <th>Hit target</th>\n",
       "      <th>Pet</th>\n",
       "      <th>Service time</th>\n",
       "      <th>Son</th>\n",
       "      <th>Transportation expense</th>\n",
       "      <th>Weight</th>\n",
       "      <th>Work load Average/day</th>\n",
       "      <th>wordDist</th>\n",
       "    </tr>\n",
       "  </thead>\n",
       "  <tbody>\n",
       "    <tr>\n",
       "      <th>0</th>\n",
       "      <td>33</td>\n",
       "      <td>30</td>\n",
       "      <td>172</td>\n",
       "      <td>97</td>\n",
       "      <td>1</td>\n",
       "      <td>13</td>\n",
       "      <td>2</td>\n",
       "      <td>289</td>\n",
       "      <td>90</td>\n",
       "      <td>239.554</td>\n",
       "      <td>36</td>\n",
       "    </tr>\n",
       "    <tr>\n",
       "      <th>1</th>\n",
       "      <td>50</td>\n",
       "      <td>31</td>\n",
       "      <td>178</td>\n",
       "      <td>97</td>\n",
       "      <td>0</td>\n",
       "      <td>18</td>\n",
       "      <td>1</td>\n",
       "      <td>118</td>\n",
       "      <td>98</td>\n",
       "      <td>239.554</td>\n",
       "      <td>13</td>\n",
       "    </tr>\n",
       "    <tr>\n",
       "      <th>2</th>\n",
       "      <td>38</td>\n",
       "      <td>31</td>\n",
       "      <td>170</td>\n",
       "      <td>97</td>\n",
       "      <td>0</td>\n",
       "      <td>18</td>\n",
       "      <td>0</td>\n",
       "      <td>179</td>\n",
       "      <td>89</td>\n",
       "      <td>239.554</td>\n",
       "      <td>51</td>\n",
       "    </tr>\n",
       "    <tr>\n",
       "      <th>3</th>\n",
       "      <td>39</td>\n",
       "      <td>24</td>\n",
       "      <td>168</td>\n",
       "      <td>97</td>\n",
       "      <td>0</td>\n",
       "      <td>14</td>\n",
       "      <td>2</td>\n",
       "      <td>279</td>\n",
       "      <td>68</td>\n",
       "      <td>239.554</td>\n",
       "      <td>5</td>\n",
       "    </tr>\n",
       "    <tr>\n",
       "      <th>4</th>\n",
       "      <td>33</td>\n",
       "      <td>30</td>\n",
       "      <td>172</td>\n",
       "      <td>97</td>\n",
       "      <td>1</td>\n",
       "      <td>13</td>\n",
       "      <td>2</td>\n",
       "      <td>289</td>\n",
       "      <td>90</td>\n",
       "      <td>239.554</td>\n",
       "      <td>36</td>\n",
       "    </tr>\n",
       "  </tbody>\n",
       "</table>\n",
       "</div>"
      ],
      "text/plain": [
       "   Age  Body mass index  Height  Hit target  Pet  Service time  Son  \\\n",
       "0   33               30     172          97    1            13    2   \n",
       "1   50               31     178          97    0            18    1   \n",
       "2   38               31     170          97    0            18    0   \n",
       "3   39               24     168          97    0            14    2   \n",
       "4   33               30     172          97    1            13    2   \n",
       "\n",
       "   Transportation expense  Weight  Work load Average/day   wordDist  \n",
       "0                     289      90                 239.554        36  \n",
       "1                     118      98                 239.554        13  \n",
       "2                     179      89                 239.554        51  \n",
       "3                     279      68                 239.554         5  \n",
       "4                     289      90                 239.554        36  "
      ]
     },
     "execution_count": 7,
     "metadata": {},
     "output_type": "execute_result"
    }
   ],
   "source": [
    "# Seleciona as variáveis do DF que NÃO SÃO as variáveis categóricas\n",
    "dfNum = df[df.columns.difference(list(dfCat.columns))]\n",
    "\n",
    "# Remove coluna da variáve sobre absenteísmo\n",
    "dfNum = dfNum.drop(['Absenteeism time in hours', 'ID'], axis = 1)\n",
    "\n",
    "dfNum.head()"
   ]
  },
  {
   "cell_type": "markdown",
   "id": "b9352746-621d-4eb7-8c71-e42a4731759e",
   "metadata": {},
   "source": [
    "## ANÁLISE GRÁFICA DA RESPOSTA"
   ]
  },
  {
   "cell_type": "markdown",
   "id": "9445bddb-36d9-45ed-9a41-d08265b53bf3",
   "metadata": {},
   "source": [
    "### Histograma"
   ]
  },
  {
   "cell_type": "code",
   "execution_count": 8,
   "id": "0d376b79-0a01-4f58-af4e-eafe32194328",
   "metadata": {},
   "outputs": [
    {
     "data": {
      "application/vnd.jupyter.widget-view+json": {
       "model_id": "744e3398c8ee4c419cc5ce0d459bdede",
       "version_major": 2,
       "version_minor": 0
      },
      "text/plain": [
       "Canvas(toolbar=Toolbar(toolitems=[('Home', 'Reset original view', 'home', 'home'), ('Back', 'Back to previous …"
      ]
     },
     "metadata": {},
     "output_type": "display_data"
    },
    {
     "data": {
      "text/plain": [
       "Text(0, 0.5, 'Frequência')"
      ]
     },
     "execution_count": 8,
     "metadata": {},
     "output_type": "execute_result"
    }
   ],
   "source": [
    "fig = plt.figure()\n",
    "\n",
    "# Plota o histograma\n",
    "plt.hist(df['Absenteeism time in hours'], bins = 20)\n",
    "\n",
    "# Coloca título nos eixos\n",
    "plt.title(\"Distribuição do absenteísmo\", loc = 'left')\n",
    "\n",
    "# Coloca nome nos eixos\n",
    "plt.xlabel('Horas')\n",
    "plt.ylabel('Frequência')"
   ]
  },
  {
   "cell_type": "markdown",
   "id": "d97bf07b-a364-4554-94ce-0105dfafeccd",
   "metadata": {},
   "source": [
    "A grande maioria dos dados é referente à valores de absenteísmo menor que 20 horas."
   ]
  },
  {
   "cell_type": "markdown",
   "id": "a92c3c9d-7f99-47c2-973e-f3a06d4a7f05",
   "metadata": {},
   "source": [
    "### Box Plot"
   ]
  },
  {
   "cell_type": "code",
   "execution_count": 9,
   "id": "7dbe1083-a5b9-4b8f-b600-47747e35eb5b",
   "metadata": {},
   "outputs": [
    {
     "data": {
      "application/vnd.jupyter.widget-view+json": {
       "model_id": "98b0ab9c06254b4d978b5d2bc74a696b",
       "version_major": 2,
       "version_minor": 0
      },
      "text/plain": [
       "Canvas(toolbar=Toolbar(toolitems=[('Home', 'Reset original view', 'home', 'home'), ('Back', 'Back to previous …"
      ]
     },
     "metadata": {},
     "output_type": "display_data"
    },
    {
     "data": {
      "text/plain": [
       "Text(0.0, 1.0, 'Absenteísmo em horas')"
      ]
     },
     "execution_count": 9,
     "metadata": {},
     "output_type": "execute_result"
    }
   ],
   "source": [
    "fig = plt.figure()\n",
    "\n",
    "plt.boxplot(df['Absenteeism time in hours'], showmeans = True)\n",
    "\n",
    "plt.ylabel('Horas')\n",
    "\n",
    "# Remove o valor do eixo x\n",
    "plt.xticks([1], [''])\n",
    "\n",
    "# Remove o tick do eixo x\n",
    "plt.tick_params(axis = \"x\", which = \"both\", bottom = False, top = False)\n",
    "\n",
    "plt.title('Absenteísmo em horas', loc = 'left')"
   ]
  },
  {
   "cell_type": "markdown",
   "id": "c44c423e-b880-43e7-9ce6-f751e924dcf7",
   "metadata": {},
   "source": [
    "### Estatísticas descritivas"
   ]
  },
  {
   "cell_type": "code",
   "execution_count": 10,
   "id": "c8ecfcdb-27cb-447b-824e-194d5bd4ee96",
   "metadata": {},
   "outputs": [
    {
     "data": {
      "text/html": [
       "<div>\n",
       "<style scoped>\n",
       "    .dataframe tbody tr th:only-of-type {\n",
       "        vertical-align: middle;\n",
       "    }\n",
       "\n",
       "    .dataframe tbody tr th {\n",
       "        vertical-align: top;\n",
       "    }\n",
       "\n",
       "    .dataframe thead th {\n",
       "        text-align: right;\n",
       "    }\n",
       "</style>\n",
       "<table border=\"1\" class=\"dataframe\">\n",
       "  <thead>\n",
       "    <tr style=\"text-align: right;\">\n",
       "      <th></th>\n",
       "      <th>count</th>\n",
       "      <th>mean</th>\n",
       "      <th>std</th>\n",
       "      <th>min</th>\n",
       "      <th>50%</th>\n",
       "      <th>75%</th>\n",
       "      <th>80%</th>\n",
       "      <th>85%</th>\n",
       "      <th>90%</th>\n",
       "      <th>95%</th>\n",
       "      <th>max</th>\n",
       "    </tr>\n",
       "  </thead>\n",
       "  <tbody>\n",
       "    <tr>\n",
       "      <th>Absenteeism time in hours</th>\n",
       "      <td>740.0</td>\n",
       "      <td>6.924324</td>\n",
       "      <td>13.330998</td>\n",
       "      <td>0.0</td>\n",
       "      <td>3.0</td>\n",
       "      <td>8.0</td>\n",
       "      <td>8.0</td>\n",
       "      <td>8.0</td>\n",
       "      <td>8.0</td>\n",
       "      <td>24.0</td>\n",
       "      <td>120.0</td>\n",
       "    </tr>\n",
       "  </tbody>\n",
       "</table>\n",
       "</div>"
      ],
      "text/plain": [
       "                           count      mean        std  min  50%  75%  80%  \\\n",
       "Absenteeism time in hours  740.0  6.924324  13.330998  0.0  3.0  8.0  8.0   \n",
       "\n",
       "                           85%  90%   95%    max  \n",
       "Absenteeism time in hours  8.0  8.0  24.0  120.0  "
      ]
     },
     "execution_count": 10,
     "metadata": {},
     "output_type": "execute_result"
    }
   ],
   "source": [
    "absDesc = df['Absenteeism time in hours'].describe(percentiles = [.5, .75, .80, .85, .90, .95])\n",
    "\n",
    "absDesc = pd.DataFrame(absDesc)\n",
    "\n",
    "absDesc = absDesc.transpose()\n",
    "\n",
    "absDesc"
   ]
  },
  {
   "cell_type": "markdown",
   "id": "2fc4948d-7915-4cfd-9e7e-d8baf10d6b9b",
   "metadata": {},
   "source": [
    "90% dos dados do absenteísmo são de valores menores que 8 horas e 95% são valores menores que 24 horas. Provavelmente as variáveis que afetam absenteísmos menores que 8 a 24 horas são diferentes daqueles que afetam valores maiores. Por isso, para facilitar a análise, uma variável que divide os valores em 3 grupos: 1 (baixo <= 8 horas), 2 (médio > 8 e <=24) e 3 (alto > 24) será criada."
   ]
  },
  {
   "cell_type": "markdown",
   "id": "8be66544-8893-469f-aee5-83cd903b5b93",
   "metadata": {},
   "source": [
    "### Separação da variável resposta em 3 grupos"
   ]
  },
  {
   "cell_type": "code",
   "execution_count": 11,
   "id": "f49a5e34-7db9-48ec-980a-285874e2b64c",
   "metadata": {},
   "outputs": [],
   "source": [
    "# Definir os três valores\n",
    "\n",
    "binLabelsNum = ['1', '2', '3']\n",
    "\n",
    "binLabelsCat = ['baixo', 'médio', 'alto']\n",
    "\n",
    "df['cutNum'] = pd.qcut(df['Absenteeism time in hours'],\n",
    "                       q = [0, .9, .95, 1],\n",
    "                       labels = binLabelsNum)\n",
    "\n",
    "df['cutCat'] = pd.qcut(df['Absenteeism time in hours'],\n",
    "                       q = [0, .9, .95, 1],\n",
    "                       labels = binLabelsCat)"
   ]
  },
  {
   "cell_type": "code",
   "execution_count": 12,
   "id": "116fc43f-a583-4e58-a764-4f266ee4b5a7",
   "metadata": {},
   "outputs": [
    {
     "data": {
      "application/vnd.jupyter.widget-view+json": {
       "model_id": "88939f95bfe6440e98e66eed218c0480",
       "version_major": 2,
       "version_minor": 0
      },
      "text/plain": [
       "Canvas(toolbar=Toolbar(toolitems=[('Home', 'Reset original view', 'home', 'home'), ('Back', 'Back to previous …"
      ]
     },
     "metadata": {},
     "output_type": "display_data"
    },
    {
     "data": {
      "text/plain": [
       "Text(0.0, 1.0, 'Horas')"
      ]
     },
     "execution_count": 12,
     "metadata": {},
     "output_type": "execute_result"
    }
   ],
   "source": [
    "# Checar graficamente se o corte ficou certo\n",
    "\n",
    "fig = plt.figure()\n",
    "\n",
    "sns.boxplot(x = df['cutCat'], y = df['Absenteeism time in hours'])\n",
    "\n",
    "plt.ylabel('')\n",
    "\n",
    "plt.xlabel('')\n",
    "\n",
    "plt.suptitle('Diferentes grupos de absenteísmo', fontsize = 18, fontweight = 'bold', x = 0.505)\n",
    "plt.title('Horas', loc = 'left')"
   ]
  },
  {
   "cell_type": "code",
   "execution_count": 49,
   "id": "5c314f63-5275-4059-8a14-1343afe2d46b",
   "metadata": {},
   "outputs": [
    {
     "data": {
      "text/plain": [
       "Int64Index([  0,   1,   2,   3,   4,   5,   6,   7,   9,  10,\n",
       "            ...\n",
       "            727, 728, 731, 732, 733, 735, 736, 737, 738, 739],\n",
       "           dtype='int64', length=677)"
      ]
     },
     "execution_count": 49,
     "metadata": {},
     "output_type": "execute_result"
    }
   ],
   "source": [
    "# Transformar cada categoria em label\n",
    "df[df['cutCat'] == 'baixo'].index"
   ]
  },
  {
   "cell_type": "markdown",
   "id": "33b42c0d-9479-4950-b41d-b0a0e2c5654c",
   "metadata": {},
   "source": [
    "A separação ocorreu como desejado."
   ]
  },
  {
   "cell_type": "markdown",
   "id": "fd1651e8-de18-4748-8a8a-1a44130474cb",
   "metadata": {},
   "source": [
    "## ANÁLISE DAS VARIÁVELS CONTÍNUAS"
   ]
  },
  {
   "cell_type": "markdown",
   "id": "9dd57412-4a50-4da5-9c85-92b537fc28fe",
   "metadata": {},
   "source": [
    "Primeiro, gráficos de box plot serão feitos. Posteriormente, gráficos de densidade (uma variação dos gráficos de histograma) serão realizados. As variáveis que “separarem” melhor os três grupos de absenteísmo são candidatas a servirem de justificativa para criação de soluções."
   ]
  },
  {
   "cell_type": "markdown",
   "id": "6705f776-faa0-420e-91c1-24ec6616b01a",
   "metadata": {},
   "source": [
    "### Gráficos de Box Plot"
   ]
  },
  {
   "cell_type": "code",
   "execution_count": 53,
   "id": "cb5619e0-a1e1-4e5e-bc84-06080a902c18",
   "metadata": {},
   "outputs": [],
   "source": [
    "# Definir o tamanho da grade de gráficos\n",
    "ncols = 4\n",
    "nrows = int(np.ceil(len(dfNum.columns) / (1.0*ncols)))"
   ]
  },
  {
   "cell_type": "code",
   "execution_count": 54,
   "id": "7ee2e271-6f85-4455-9c81-1b4b7e253c4f",
   "metadata": {},
   "outputs": [
    {
     "data": {
      "application/vnd.jupyter.widget-view+json": {
       "model_id": "1c6b3c4046ad4dae810ca440b8a2b4db",
       "version_major": 2,
       "version_minor": 0
      },
      "text/plain": [
       "Canvas(toolbar=Toolbar(toolitems=[('Home', 'Reset original view', 'home', 'home'), ('Back', 'Back to previous …"
      ]
     },
     "metadata": {},
     "output_type": "display_data"
    }
   ],
   "source": [
    "fig, axes = plt.subplots(nrows = nrows, ncols = ncols, figsize=(12, 12))\n",
    "\n",
    "counter = 0\n",
    "for i in range(nrows):\n",
    "    for j in range(ncols):\n",
    "\n",
    "        ax = axes[i][j]\n",
    "        \n",
    "        # Plot when we have data\n",
    "        if counter < len(dfNum.columns):\n",
    "\n",
    "            g = sns.boxplot(ax = axes[i][j], x = df['cutCat'], y = np.float64(dfNum[dfNum.columns[counter]]))\n",
    "            g.set(xticks = [])\n",
    "            g.set(xticklabels=[])\n",
    "            g.set(xlabel=None)\n",
    "            g.set(title = dfNum.columns[counter])\n",
    "  \n",
    "\n",
    "        # Remove axis when we no longer have data\n",
    "        else:\n",
    "            ax.set_axis_off()\n",
    "\n",
    "        counter += 1\n",
    "\n",
    "plt.subplots_adjust(left=0.1,\n",
    "                    bottom=0.1, \n",
    "                    right=0.9, \n",
    "                    top=0.9, \n",
    "                    wspace=0.8, \n",
    "                    hspace=0.1)\n",
    "\n",
    "plt.show()"
   ]
  },
  {
   "cell_type": "markdown",
   "id": "38ec651e-5479-45c2-b22a-1a33c32da14b",
   "metadata": {},
   "source": [
    "Alguns pontos interessantes:\n",
    "\n",
    "- Pessoas com menores índices de massa menores tendem a estar no grupo de absenteísmo “alto” – que pode estar relacionado à algum evento pontual, como acidente de trabalho. Será que seria interessante realizar alguma campanha sobre a importância de se alimentar melhor e praticar exercícios?\n",
    "- Pessoas mais altas parecem ter maiores absenteísmos. Será que as condições de trabalho estão de acordo para todas as alturas? Seria interessante cruzar essa variável com o tipo de doença.\n",
    "- Há uma diferença considerável para workload. Pessoas que estão no grupo de absenteísmo entre 8 e 24 horas tem workload consideravelmente maiores. Isso pode significar uma estafa ou cansaço passageiro, em que a pessoa retorna ao trabalho após descansar?\n",
    "- Há uma diferença entre distância do trabalho: pessoas que moram mais longe tendem a ter maiores absenteísmos ‘curtos’. A empresa oferente algum tipo de fretado? O horário do fretado coincide com horários de pico de trânsitos?\n"
   ]
  },
  {
   "cell_type": "markdown",
   "id": "4474d712-f09e-4344-a662-9c04d6e11928",
   "metadata": {},
   "source": [
    "### Gráficos de densidades"
   ]
  },
  {
   "cell_type": "markdown",
   "id": "7adfbadc-dbf1-48e1-b1d8-d83fa39a7ca8",
   "metadata": {},
   "source": [
    "#### Baixo absenteísmo"
   ]
  },
  {
   "cell_type": "code",
   "execution_count": 58,
   "id": "ccb0a413-3d16-4efb-973d-71e4ffe24121",
   "metadata": {},
   "outputs": [],
   "source": [
    "# Definir o tamanho da grade de gráficos\n",
    "ncols = 2\n",
    "nrows = int(np.ceil(len(dfNum.columns) / (1.0*ncols)))"
   ]
  },
  {
   "cell_type": "code",
   "execution_count": 64,
   "id": "18636e73-92a0-47da-be77-0ad83e2da546",
   "metadata": {},
   "outputs": [
    {
     "data": {
      "application/vnd.jupyter.widget-view+json": {
       "model_id": "27b5a0958f754a85840ba371c3c780a1",
       "version_major": 2,
       "version_minor": 0
      },
      "text/plain": [
       "Canvas(toolbar=Toolbar(toolitems=[('Home', 'Reset original view', 'home', 'home'), ('Back', 'Back to previous …"
      ]
     },
     "metadata": {},
     "output_type": "display_data"
    }
   ],
   "source": [
    "absLevel = 'baixo'\n",
    "\n",
    "fig, axes = plt.subplots(nrows = nrows, ncols = ncols, figsize=(12, 12))\n",
    "\n",
    "counter = 0\n",
    "\n",
    "for i in range(nrows):\n",
    "    for j in range(ncols):\n",
    "\n",
    "        ax = axes[i][j]\n",
    "        \n",
    "        # Plot when we have data\n",
    "        if counter < len(dfNum.columns):\n",
    "\n",
    "            g = sns.kdeplot(ax = axes[i][j], \n",
    "                            x = np.float64(dfNum[dfNum.columns[counter]].iloc[df[df['cutCat'] == absLevel].index]), \n",
    "                            hue = df['cutCat'].iloc[df[df['cutCat'] == absLevel].index], \n",
    "                            legend = False)\n",
    "            g.set(title = dfNum.columns[counter])\n",
    "            \n",
    "        # Remove axis when we no longer have data\n",
    "        else:\n",
    "            ax.set_axis_off()\n",
    "\n",
    "        counter += 1\n",
    "\n",
    "plt.subplots_adjust(left=0.1,\n",
    "                    bottom=0.1, \n",
    "                    right=0.9, \n",
    "                    top=0.9, \n",
    "                    wspace=0.2, \n",
    "                    hspace=0.7)        \n",
    "\n",
    "plt.show()"
   ]
  },
  {
   "cell_type": "markdown",
   "id": "d234a960-8003-4f48-87fb-68f44a8db1a5",
   "metadata": {},
   "source": [
    "#### Médio absenteísmo"
   ]
  },
  {
   "cell_type": "code",
   "execution_count": 61,
   "id": "a176d6bf-3ec7-4b02-8301-8714c76cbe68",
   "metadata": {},
   "outputs": [
    {
     "data": {
      "application/vnd.jupyter.widget-view+json": {
       "model_id": "1a114bcaaa21478a9b5ca3e8d799a809",
       "version_major": 2,
       "version_minor": 0
      },
      "text/plain": [
       "Canvas(toolbar=Toolbar(toolitems=[('Home', 'Reset original view', 'home', 'home'), ('Back', 'Back to previous …"
      ]
     },
     "metadata": {},
     "output_type": "display_data"
    }
   ],
   "source": [
    "absLevel = 'médio'\n",
    "\n",
    "fig, axes = plt.subplots(nrows = nrows, ncols = ncols, figsize=(12, 12))\n",
    "\n",
    "counter = 0\n",
    "\n",
    "for i in range(nrows):\n",
    "    for j in range(ncols):\n",
    "\n",
    "        ax = axes[i][j]\n",
    "        \n",
    "        # Plot when we have data\n",
    "        if counter < len(dfNum.columns):\n",
    "\n",
    "            g = sns.kdeplot(ax = axes[i][j], \n",
    "                            x = np.float64(dfNum[dfNum.columns[counter]].iloc[df[df['cutCat'] == absLevel].index]), \n",
    "                            hue = df['cutCat'].iloc[df[df['cutCat'] == absLevel].index], \n",
    "                            legend = False)\n",
    "            g.set(title = dfNum.columns[counter])\n",
    "            \n",
    "        # Remove axis when we no longer have data\n",
    "        else:\n",
    "            ax.set_axis_off()\n",
    "\n",
    "        counter += 1\n",
    "\n",
    "plt.subplots_adjust(left=0.1,\n",
    "                    bottom=0.1, \n",
    "                    right=0.9, \n",
    "                    top=0.9, \n",
    "                    wspace=0.2, \n",
    "                    hspace=0.5)        \n",
    "\n",
    "plt.show()"
   ]
  },
  {
   "cell_type": "markdown",
   "id": "a0eda5df-95af-4c18-855c-50b8eafbbcf3",
   "metadata": {},
   "source": [
    "#### Alto absenteísmo"
   ]
  },
  {
   "cell_type": "code",
   "execution_count": 63,
   "id": "691380b7-0c1a-4635-ad90-3b9207b11f68",
   "metadata": {},
   "outputs": [
    {
     "data": {
      "application/vnd.jupyter.widget-view+json": {
       "model_id": "20b13c77ee0742a797c55e0c2b3d1869",
       "version_major": 2,
       "version_minor": 0
      },
      "text/plain": [
       "Canvas(toolbar=Toolbar(toolitems=[('Home', 'Reset original view', 'home', 'home'), ('Back', 'Back to previous …"
      ]
     },
     "metadata": {},
     "output_type": "display_data"
    }
   ],
   "source": [
    "absLevel = 'alto'\n",
    "\n",
    "fig, axes = plt.subplots(nrows = nrows, ncols = ncols, figsize=(12, 12))\n",
    "\n",
    "counter = 0\n",
    "\n",
    "for i in range(nrows):\n",
    "    for j in range(ncols):\n",
    "\n",
    "        ax = axes[i][j]\n",
    "        \n",
    "        # Plot when we have data\n",
    "        if counter < len(dfNum.columns):\n",
    "\n",
    "            g = sns.kdeplot(ax = axes[i][j], \n",
    "                            x = np.float64(dfNum[dfNum.columns[counter]].iloc[df[df['cutCat'] == absLevel].index]), \n",
    "                            hue = df['cutCat'].iloc[df[df['cutCat'] == absLevel].index], \n",
    "                            legend = False)\n",
    "            g.set(title = dfNum.columns[counter])\n",
    "            \n",
    "        # Remove axis when we no longer have data\n",
    "        else:\n",
    "            ax.set_axis_off()\n",
    "\n",
    "        counter += 1\n",
    "\n",
    "plt.subplots_adjust(left=0.1,\n",
    "                    bottom=0.1, \n",
    "                    right=0.9, \n",
    "                    top=0.9, \n",
    "                    wspace=0.2, \n",
    "                    hspace=0.5)        \n",
    "\n",
    "plt.show()"
   ]
  },
  {
   "cell_type": "markdown",
   "id": "ca7a492f-a2fb-49cf-9d36-f70f09ad5bf9",
   "metadata": {},
   "source": [
    "Comentários..."
   ]
  },
  {
   "cell_type": "markdown",
   "id": "4b72d859-1052-44d5-86ff-7ce0b80b834d",
   "metadata": {},
   "source": [
    "## ANÁLISE DAS VARIÁVEIS CATEGÓRICAS"
   ]
  }
 ],
 "metadata": {
  "kernelspec": {
   "display_name": "Python 3",
   "language": "python",
   "name": "python3"
  },
  "language_info": {
   "codemirror_mode": {
    "name": "ipython",
    "version": 3
   },
   "file_extension": ".py",
   "mimetype": "text/x-python",
   "name": "python",
   "nbconvert_exporter": "python",
   "pygments_lexer": "ipython3",
   "version": "3.8.10"
  }
 },
 "nbformat": 4,
 "nbformat_minor": 5
}
