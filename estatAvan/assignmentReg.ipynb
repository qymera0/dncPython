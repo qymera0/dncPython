{
 "cells": [
  {
   "cell_type": "markdown",
   "id": "6a8a02d7-6fdc-4c0f-973c-b3b22a0c2e14",
   "metadata": {},
   "source": [
    "# SOLUÇÃO DO ENTREGÁVEL\n",
    "## Estatística Avançada | Data Expert | DNC"
   ]
  },
  {
   "cell_type": "markdown",
   "id": "d402c4f0-1825-4834-a6a9-3eae8b2469a1",
   "metadata": {},
   "source": [
    "## 0 PRELIMINARES"
   ]
  },
  {
   "cell_type": "markdown",
   "id": "2671f95c-9f16-4cd5-8419-88b276a12f5b",
   "metadata": {},
   "source": [
    "### 0.1 Carregamento das bibliotecas"
   ]
  },
  {
   "cell_type": "code",
   "execution_count": 1,
   "id": "70f9b0f7-2144-476c-8ae8-15d537a3773d",
   "metadata": {},
   "outputs": [],
   "source": [
    "import numpy as np\n",
    "import pandas as pd\n",
    "import matplotlib.pyplot as plt\n",
    "import statsmodels.api as sm\n",
    "import patsy as pt\n",
    "from scipy import stats\n",
    "from sklearn import metrics\n",
    "from sklearn.model_selection import train_test_split\n",
    "from statsmodels.stats.outliers_influence import variance_inflation_factor\n",
    "from sklearn.linear_model import Ridge\n",
    "\n",
    "%matplotlib widget"
   ]
  },
  {
   "cell_type": "markdown",
   "id": "507bdd80-6fa1-45ee-a71b-c0d8d963d737",
   "metadata": {},
   "source": [
    "### 0.2 Carregamento do dataset"
   ]
  },
  {
   "cell_type": "code",
   "execution_count": 2,
   "id": "ee7f2cfb-462b-4d97-89f8-391faa3bf6cb",
   "metadata": {},
   "outputs": [],
   "source": [
    "url = 'https://github.com/qymera0/dncPython/blob/main/estatAvan/diamonds.csv?raw=true'"
   ]
  },
  {
   "cell_type": "code",
   "execution_count": 3,
   "id": "4ca767e1-797a-4457-ac0e-c88da86e3b10",
   "metadata": {},
   "outputs": [],
   "source": [
    "df = pd.read_csv(url)"
   ]
  },
  {
   "cell_type": "code",
   "execution_count": 4,
   "id": "ed903db7-9a3d-4abb-aa22-e6a6586a33ee",
   "metadata": {},
   "outputs": [
    {
     "data": {
      "text/html": [
       "<div>\n",
       "<style scoped>\n",
       "    .dataframe tbody tr th:only-of-type {\n",
       "        vertical-align: middle;\n",
       "    }\n",
       "\n",
       "    .dataframe tbody tr th {\n",
       "        vertical-align: top;\n",
       "    }\n",
       "\n",
       "    .dataframe thead th {\n",
       "        text-align: right;\n",
       "    }\n",
       "</style>\n",
       "<table border=\"1\" class=\"dataframe\">\n",
       "  <thead>\n",
       "    <tr style=\"text-align: right;\">\n",
       "      <th></th>\n",
       "      <th>Unnamed: 0</th>\n",
       "      <th>carat</th>\n",
       "      <th>cut</th>\n",
       "      <th>color</th>\n",
       "      <th>clarity</th>\n",
       "      <th>depth</th>\n",
       "      <th>table</th>\n",
       "      <th>price</th>\n",
       "      <th>x</th>\n",
       "      <th>y</th>\n",
       "      <th>z</th>\n",
       "    </tr>\n",
       "  </thead>\n",
       "  <tbody>\n",
       "    <tr>\n",
       "      <th>0</th>\n",
       "      <td>1</td>\n",
       "      <td>0.23</td>\n",
       "      <td>Ideal</td>\n",
       "      <td>E</td>\n",
       "      <td>SI2</td>\n",
       "      <td>61.5</td>\n",
       "      <td>55.0</td>\n",
       "      <td>326</td>\n",
       "      <td>3.95</td>\n",
       "      <td>3.98</td>\n",
       "      <td>2.43</td>\n",
       "    </tr>\n",
       "    <tr>\n",
       "      <th>1</th>\n",
       "      <td>2</td>\n",
       "      <td>0.21</td>\n",
       "      <td>Premium</td>\n",
       "      <td>E</td>\n",
       "      <td>SI1</td>\n",
       "      <td>59.8</td>\n",
       "      <td>61.0</td>\n",
       "      <td>326</td>\n",
       "      <td>3.89</td>\n",
       "      <td>3.84</td>\n",
       "      <td>2.31</td>\n",
       "    </tr>\n",
       "    <tr>\n",
       "      <th>2</th>\n",
       "      <td>3</td>\n",
       "      <td>0.23</td>\n",
       "      <td>Good</td>\n",
       "      <td>E</td>\n",
       "      <td>VS1</td>\n",
       "      <td>56.9</td>\n",
       "      <td>65.0</td>\n",
       "      <td>327</td>\n",
       "      <td>4.05</td>\n",
       "      <td>4.07</td>\n",
       "      <td>2.31</td>\n",
       "    </tr>\n",
       "    <tr>\n",
       "      <th>3</th>\n",
       "      <td>4</td>\n",
       "      <td>0.29</td>\n",
       "      <td>Premium</td>\n",
       "      <td>I</td>\n",
       "      <td>VS2</td>\n",
       "      <td>62.4</td>\n",
       "      <td>58.0</td>\n",
       "      <td>334</td>\n",
       "      <td>4.20</td>\n",
       "      <td>4.23</td>\n",
       "      <td>2.63</td>\n",
       "    </tr>\n",
       "    <tr>\n",
       "      <th>4</th>\n",
       "      <td>5</td>\n",
       "      <td>0.31</td>\n",
       "      <td>Good</td>\n",
       "      <td>J</td>\n",
       "      <td>SI2</td>\n",
       "      <td>63.3</td>\n",
       "      <td>58.0</td>\n",
       "      <td>335</td>\n",
       "      <td>4.34</td>\n",
       "      <td>4.35</td>\n",
       "      <td>2.75</td>\n",
       "    </tr>\n",
       "  </tbody>\n",
       "</table>\n",
       "</div>"
      ],
      "text/plain": [
       "   Unnamed: 0  carat      cut color clarity  depth  table  price     x     y  \\\n",
       "0           1   0.23    Ideal     E     SI2   61.5   55.0    326  3.95  3.98   \n",
       "1           2   0.21  Premium     E     SI1   59.8   61.0    326  3.89  3.84   \n",
       "2           3   0.23     Good     E     VS1   56.9   65.0    327  4.05  4.07   \n",
       "3           4   0.29  Premium     I     VS2   62.4   58.0    334  4.20  4.23   \n",
       "4           5   0.31     Good     J     SI2   63.3   58.0    335  4.34  4.35   \n",
       "\n",
       "      z  \n",
       "0  2.43  \n",
       "1  2.31  \n",
       "2  2.31  \n",
       "3  2.63  \n",
       "4  2.75  "
      ]
     },
     "execution_count": 4,
     "metadata": {},
     "output_type": "execute_result"
    }
   ],
   "source": [
    "df.head()"
   ]
  },
  {
   "cell_type": "markdown",
   "id": "9dce1328-e6e9-45e8-a876-bfc76d45c99e",
   "metadata": {},
   "source": [
    "### 0.3 Remoção das colunas não necessárias"
   ]
  },
  {
   "cell_type": "code",
   "execution_count": 5,
   "id": "c68c7055-dfc4-4e39-bfb0-36d243f8a524",
   "metadata": {},
   "outputs": [
    {
     "data": {
      "text/plain": [
       "Index(['Unnamed: 0', 'carat', 'cut', 'color', 'clarity', 'depth', 'table',\n",
       "       'price', 'x', 'y', 'z'],\n",
       "      dtype='object')"
      ]
     },
     "execution_count": 5,
     "metadata": {},
     "output_type": "execute_result"
    }
   ],
   "source": [
    "df.columns"
   ]
  },
  {
   "cell_type": "code",
   "execution_count": 6,
   "id": "2e7bf072-a115-459e-8b4d-0694fa1ca511",
   "metadata": {},
   "outputs": [],
   "source": [
    "df = df.drop('Unnamed: 0', axis = 1)"
   ]
  },
  {
   "cell_type": "code",
   "execution_count": 7,
   "id": "94b57a23-7861-40ab-91ad-1fd7923dd077",
   "metadata": {},
   "outputs": [
    {
     "data": {
      "text/html": [
       "<div>\n",
       "<style scoped>\n",
       "    .dataframe tbody tr th:only-of-type {\n",
       "        vertical-align: middle;\n",
       "    }\n",
       "\n",
       "    .dataframe tbody tr th {\n",
       "        vertical-align: top;\n",
       "    }\n",
       "\n",
       "    .dataframe thead th {\n",
       "        text-align: right;\n",
       "    }\n",
       "</style>\n",
       "<table border=\"1\" class=\"dataframe\">\n",
       "  <thead>\n",
       "    <tr style=\"text-align: right;\">\n",
       "      <th></th>\n",
       "      <th>carat</th>\n",
       "      <th>cut</th>\n",
       "      <th>color</th>\n",
       "      <th>clarity</th>\n",
       "      <th>depth</th>\n",
       "      <th>table</th>\n",
       "      <th>price</th>\n",
       "      <th>x</th>\n",
       "      <th>y</th>\n",
       "      <th>z</th>\n",
       "    </tr>\n",
       "  </thead>\n",
       "  <tbody>\n",
       "    <tr>\n",
       "      <th>0</th>\n",
       "      <td>0.23</td>\n",
       "      <td>Ideal</td>\n",
       "      <td>E</td>\n",
       "      <td>SI2</td>\n",
       "      <td>61.5</td>\n",
       "      <td>55.0</td>\n",
       "      <td>326</td>\n",
       "      <td>3.95</td>\n",
       "      <td>3.98</td>\n",
       "      <td>2.43</td>\n",
       "    </tr>\n",
       "    <tr>\n",
       "      <th>1</th>\n",
       "      <td>0.21</td>\n",
       "      <td>Premium</td>\n",
       "      <td>E</td>\n",
       "      <td>SI1</td>\n",
       "      <td>59.8</td>\n",
       "      <td>61.0</td>\n",
       "      <td>326</td>\n",
       "      <td>3.89</td>\n",
       "      <td>3.84</td>\n",
       "      <td>2.31</td>\n",
       "    </tr>\n",
       "    <tr>\n",
       "      <th>2</th>\n",
       "      <td>0.23</td>\n",
       "      <td>Good</td>\n",
       "      <td>E</td>\n",
       "      <td>VS1</td>\n",
       "      <td>56.9</td>\n",
       "      <td>65.0</td>\n",
       "      <td>327</td>\n",
       "      <td>4.05</td>\n",
       "      <td>4.07</td>\n",
       "      <td>2.31</td>\n",
       "    </tr>\n",
       "    <tr>\n",
       "      <th>3</th>\n",
       "      <td>0.29</td>\n",
       "      <td>Premium</td>\n",
       "      <td>I</td>\n",
       "      <td>VS2</td>\n",
       "      <td>62.4</td>\n",
       "      <td>58.0</td>\n",
       "      <td>334</td>\n",
       "      <td>4.20</td>\n",
       "      <td>4.23</td>\n",
       "      <td>2.63</td>\n",
       "    </tr>\n",
       "    <tr>\n",
       "      <th>4</th>\n",
       "      <td>0.31</td>\n",
       "      <td>Good</td>\n",
       "      <td>J</td>\n",
       "      <td>SI2</td>\n",
       "      <td>63.3</td>\n",
       "      <td>58.0</td>\n",
       "      <td>335</td>\n",
       "      <td>4.34</td>\n",
       "      <td>4.35</td>\n",
       "      <td>2.75</td>\n",
       "    </tr>\n",
       "  </tbody>\n",
       "</table>\n",
       "</div>"
      ],
      "text/plain": [
       "   carat      cut color clarity  depth  table  price     x     y     z\n",
       "0   0.23    Ideal     E     SI2   61.5   55.0    326  3.95  3.98  2.43\n",
       "1   0.21  Premium     E     SI1   59.8   61.0    326  3.89  3.84  2.31\n",
       "2   0.23     Good     E     VS1   56.9   65.0    327  4.05  4.07  2.31\n",
       "3   0.29  Premium     I     VS2   62.4   58.0    334  4.20  4.23  2.63\n",
       "4   0.31     Good     J     SI2   63.3   58.0    335  4.34  4.35  2.75"
      ]
     },
     "execution_count": 7,
     "metadata": {},
     "output_type": "execute_result"
    }
   ],
   "source": [
    "df.head()"
   ]
  },
  {
   "cell_type": "markdown",
   "id": "ce6150ae-5af9-42b2-9cf0-43458615405a",
   "metadata": {},
   "source": [
    "## 1 EDA"
   ]
  },
  {
   "cell_type": "markdown",
   "id": "28006948-413d-4547-8893-fdf166643281",
   "metadata": {},
   "source": [
    "### Questão 01 - Qual é a média da variável 'carat' ?"
   ]
  },
  {
   "cell_type": "code",
   "execution_count": 8,
   "id": "9da5a437-59e3-42df-8f1a-7443166d3401",
   "metadata": {},
   "outputs": [
    {
     "data": {
      "text/html": [
       "<div>\n",
       "<style scoped>\n",
       "    .dataframe tbody tr th:only-of-type {\n",
       "        vertical-align: middle;\n",
       "    }\n",
       "\n",
       "    .dataframe tbody tr th {\n",
       "        vertical-align: top;\n",
       "    }\n",
       "\n",
       "    .dataframe thead th {\n",
       "        text-align: right;\n",
       "    }\n",
       "</style>\n",
       "<table border=\"1\" class=\"dataframe\">\n",
       "  <thead>\n",
       "    <tr style=\"text-align: right;\">\n",
       "      <th></th>\n",
       "      <th>carat</th>\n",
       "      <th>depth</th>\n",
       "      <th>table</th>\n",
       "      <th>price</th>\n",
       "      <th>x</th>\n",
       "      <th>y</th>\n",
       "      <th>z</th>\n",
       "    </tr>\n",
       "  </thead>\n",
       "  <tbody>\n",
       "    <tr>\n",
       "      <th>count</th>\n",
       "      <td>53940.000000</td>\n",
       "      <td>53940.000000</td>\n",
       "      <td>53940.000000</td>\n",
       "      <td>53940.000000</td>\n",
       "      <td>53940.000000</td>\n",
       "      <td>53940.000000</td>\n",
       "      <td>53940.000000</td>\n",
       "    </tr>\n",
       "    <tr>\n",
       "      <th>mean</th>\n",
       "      <td>0.797940</td>\n",
       "      <td>61.749405</td>\n",
       "      <td>57.457184</td>\n",
       "      <td>3932.799722</td>\n",
       "      <td>5.731157</td>\n",
       "      <td>5.734526</td>\n",
       "      <td>3.538734</td>\n",
       "    </tr>\n",
       "    <tr>\n",
       "      <th>std</th>\n",
       "      <td>0.474011</td>\n",
       "      <td>1.432621</td>\n",
       "      <td>2.234491</td>\n",
       "      <td>3989.439738</td>\n",
       "      <td>1.121761</td>\n",
       "      <td>1.142135</td>\n",
       "      <td>0.705699</td>\n",
       "    </tr>\n",
       "    <tr>\n",
       "      <th>min</th>\n",
       "      <td>0.200000</td>\n",
       "      <td>43.000000</td>\n",
       "      <td>43.000000</td>\n",
       "      <td>326.000000</td>\n",
       "      <td>0.000000</td>\n",
       "      <td>0.000000</td>\n",
       "      <td>0.000000</td>\n",
       "    </tr>\n",
       "    <tr>\n",
       "      <th>25%</th>\n",
       "      <td>0.400000</td>\n",
       "      <td>61.000000</td>\n",
       "      <td>56.000000</td>\n",
       "      <td>950.000000</td>\n",
       "      <td>4.710000</td>\n",
       "      <td>4.720000</td>\n",
       "      <td>2.910000</td>\n",
       "    </tr>\n",
       "    <tr>\n",
       "      <th>50%</th>\n",
       "      <td>0.700000</td>\n",
       "      <td>61.800000</td>\n",
       "      <td>57.000000</td>\n",
       "      <td>2401.000000</td>\n",
       "      <td>5.700000</td>\n",
       "      <td>5.710000</td>\n",
       "      <td>3.530000</td>\n",
       "    </tr>\n",
       "    <tr>\n",
       "      <th>75%</th>\n",
       "      <td>1.040000</td>\n",
       "      <td>62.500000</td>\n",
       "      <td>59.000000</td>\n",
       "      <td>5324.250000</td>\n",
       "      <td>6.540000</td>\n",
       "      <td>6.540000</td>\n",
       "      <td>4.040000</td>\n",
       "    </tr>\n",
       "    <tr>\n",
       "      <th>max</th>\n",
       "      <td>5.010000</td>\n",
       "      <td>79.000000</td>\n",
       "      <td>95.000000</td>\n",
       "      <td>18823.000000</td>\n",
       "      <td>10.740000</td>\n",
       "      <td>58.900000</td>\n",
       "      <td>31.800000</td>\n",
       "    </tr>\n",
       "  </tbody>\n",
       "</table>\n",
       "</div>"
      ],
      "text/plain": [
       "              carat         depth         table         price             x  \\\n",
       "count  53940.000000  53940.000000  53940.000000  53940.000000  53940.000000   \n",
       "mean       0.797940     61.749405     57.457184   3932.799722      5.731157   \n",
       "std        0.474011      1.432621      2.234491   3989.439738      1.121761   \n",
       "min        0.200000     43.000000     43.000000    326.000000      0.000000   \n",
       "25%        0.400000     61.000000     56.000000    950.000000      4.710000   \n",
       "50%        0.700000     61.800000     57.000000   2401.000000      5.700000   \n",
       "75%        1.040000     62.500000     59.000000   5324.250000      6.540000   \n",
       "max        5.010000     79.000000     95.000000  18823.000000     10.740000   \n",
       "\n",
       "                  y             z  \n",
       "count  53940.000000  53940.000000  \n",
       "mean       5.734526      3.538734  \n",
       "std        1.142135      0.705699  \n",
       "min        0.000000      0.000000  \n",
       "25%        4.720000      2.910000  \n",
       "50%        5.710000      3.530000  \n",
       "75%        6.540000      4.040000  \n",
       "max       58.900000     31.800000  "
      ]
     },
     "execution_count": 8,
     "metadata": {},
     "output_type": "execute_result"
    }
   ],
   "source": [
    "df.describe()"
   ]
  },
  {
   "cell_type": "markdown",
   "id": "427c848c-dc1c-48aa-a574-1df21ab1be3a",
   "metadata": {},
   "source": [
    "A média da variável 'carat' é igual a 0.797940."
   ]
  },
  {
   "cell_type": "markdown",
   "id": "ca29d7f7-50c1-44a3-8e8c-23802291b541",
   "metadata": {},
   "source": [
    "### Questão 02 - Qual é a correlação entre as variáveis 'price' e 'deph'?"
   ]
  },
  {
   "cell_type": "code",
   "execution_count": 9,
   "id": "991b34c9-3360-4de6-b742-bda626adab5b",
   "metadata": {},
   "outputs": [
    {
     "data": {
      "text/html": [
       "<div>\n",
       "<style scoped>\n",
       "    .dataframe tbody tr th:only-of-type {\n",
       "        vertical-align: middle;\n",
       "    }\n",
       "\n",
       "    .dataframe tbody tr th {\n",
       "        vertical-align: top;\n",
       "    }\n",
       "\n",
       "    .dataframe thead th {\n",
       "        text-align: right;\n",
       "    }\n",
       "</style>\n",
       "<table border=\"1\" class=\"dataframe\">\n",
       "  <thead>\n",
       "    <tr style=\"text-align: right;\">\n",
       "      <th></th>\n",
       "      <th>carat</th>\n",
       "      <th>depth</th>\n",
       "      <th>table</th>\n",
       "      <th>price</th>\n",
       "      <th>x</th>\n",
       "      <th>y</th>\n",
       "      <th>z</th>\n",
       "    </tr>\n",
       "  </thead>\n",
       "  <tbody>\n",
       "    <tr>\n",
       "      <th>carat</th>\n",
       "      <td>1.000000</td>\n",
       "      <td>0.028224</td>\n",
       "      <td>0.181618</td>\n",
       "      <td>0.921591</td>\n",
       "      <td>0.975094</td>\n",
       "      <td>0.951722</td>\n",
       "      <td>0.953387</td>\n",
       "    </tr>\n",
       "    <tr>\n",
       "      <th>depth</th>\n",
       "      <td>0.028224</td>\n",
       "      <td>1.000000</td>\n",
       "      <td>-0.295779</td>\n",
       "      <td>-0.010647</td>\n",
       "      <td>-0.025289</td>\n",
       "      <td>-0.029341</td>\n",
       "      <td>0.094924</td>\n",
       "    </tr>\n",
       "    <tr>\n",
       "      <th>table</th>\n",
       "      <td>0.181618</td>\n",
       "      <td>-0.295779</td>\n",
       "      <td>1.000000</td>\n",
       "      <td>0.127134</td>\n",
       "      <td>0.195344</td>\n",
       "      <td>0.183760</td>\n",
       "      <td>0.150929</td>\n",
       "    </tr>\n",
       "    <tr>\n",
       "      <th>price</th>\n",
       "      <td>0.921591</td>\n",
       "      <td>-0.010647</td>\n",
       "      <td>0.127134</td>\n",
       "      <td>1.000000</td>\n",
       "      <td>0.884435</td>\n",
       "      <td>0.865421</td>\n",
       "      <td>0.861249</td>\n",
       "    </tr>\n",
       "    <tr>\n",
       "      <th>x</th>\n",
       "      <td>0.975094</td>\n",
       "      <td>-0.025289</td>\n",
       "      <td>0.195344</td>\n",
       "      <td>0.884435</td>\n",
       "      <td>1.000000</td>\n",
       "      <td>0.974701</td>\n",
       "      <td>0.970772</td>\n",
       "    </tr>\n",
       "    <tr>\n",
       "      <th>y</th>\n",
       "      <td>0.951722</td>\n",
       "      <td>-0.029341</td>\n",
       "      <td>0.183760</td>\n",
       "      <td>0.865421</td>\n",
       "      <td>0.974701</td>\n",
       "      <td>1.000000</td>\n",
       "      <td>0.952006</td>\n",
       "    </tr>\n",
       "    <tr>\n",
       "      <th>z</th>\n",
       "      <td>0.953387</td>\n",
       "      <td>0.094924</td>\n",
       "      <td>0.150929</td>\n",
       "      <td>0.861249</td>\n",
       "      <td>0.970772</td>\n",
       "      <td>0.952006</td>\n",
       "      <td>1.000000</td>\n",
       "    </tr>\n",
       "  </tbody>\n",
       "</table>\n",
       "</div>"
      ],
      "text/plain": [
       "          carat     depth     table     price         x         y         z\n",
       "carat  1.000000  0.028224  0.181618  0.921591  0.975094  0.951722  0.953387\n",
       "depth  0.028224  1.000000 -0.295779 -0.010647 -0.025289 -0.029341  0.094924\n",
       "table  0.181618 -0.295779  1.000000  0.127134  0.195344  0.183760  0.150929\n",
       "price  0.921591 -0.010647  0.127134  1.000000  0.884435  0.865421  0.861249\n",
       "x      0.975094 -0.025289  0.195344  0.884435  1.000000  0.974701  0.970772\n",
       "y      0.951722 -0.029341  0.183760  0.865421  0.974701  1.000000  0.952006\n",
       "z      0.953387  0.094924  0.150929  0.861249  0.970772  0.952006  1.000000"
      ]
     },
     "execution_count": 9,
     "metadata": {},
     "output_type": "execute_result"
    }
   ],
   "source": [
    "df.corr()"
   ]
  },
  {
   "cell_type": "markdown",
   "id": "75166ab5-7dd8-4dac-aa16-05643511c146",
   "metadata": {},
   "source": [
    "A correlação entre as variáveis 'price' e 'depth' é de -0.010647"
   ]
  },
  {
   "cell_type": "markdown",
   "id": "34bc51e7-b911-4c28-9f95-5115dfd4b0f8",
   "metadata": {},
   "source": [
    "## 2 PRÉ-PROCESSAMENTO DOS DADOS"
   ]
  },
  {
   "cell_type": "markdown",
   "id": "a79ecdff-90a5-4314-af23-43c45cf3e2c7",
   "metadata": {},
   "source": [
    "### Questão 3 - Após o escalonamento das variáveis numéricas, qual é o valor máximo da variável ‘table’?"
   ]
  },
  {
   "cell_type": "code",
   "execution_count": 10,
   "id": "e7cfdc4d-edfb-49d1-9789-c4bcc7760154",
   "metadata": {},
   "outputs": [],
   "source": [
    "# Separar somente as variáveis numéricas\n",
    "dfNum = df.select_dtypes(include = 'number').drop('price', axis = 1)"
   ]
  },
  {
   "cell_type": "code",
   "execution_count": 11,
   "id": "145aef66-dc3a-4f10-ab82-2ca3217beb25",
   "metadata": {},
   "outputs": [],
   "source": [
    "# Função para o escalonamento das variáveis contínuas\n",
    "\n",
    "def feat_scale(X):\n",
    "\n",
    "  # Calcular a média de todas as variáveis\n",
    "  mu = np.mean(X, axis = 0)\n",
    "\n",
    "  # Calcular o devio padrão de todas as variáveis\n",
    "  sigma = np.std(X, axis=0, ddof=1)\n",
    "\n",
    "  # Fazer os escalonamento das variáveis\n",
    "  xNorm = (X - mu)/sigma\n",
    "\n",
    "  return xNorm"
   ]
  },
  {
   "cell_type": "code",
   "execution_count": 12,
   "id": "69369dad-31a3-4355-99f6-28d50634dd79",
   "metadata": {},
   "outputs": [],
   "source": [
    "# Escalonamento das variáveis\n",
    "dfNum = feat_scale(dfNum)"
   ]
  },
  {
   "cell_type": "code",
   "execution_count": 13,
   "id": "4f21846d-5b2d-4e13-b6de-5635fa60d785",
   "metadata": {},
   "outputs": [
    {
     "data": {
      "text/html": [
       "<div>\n",
       "<style scoped>\n",
       "    .dataframe tbody tr th:only-of-type {\n",
       "        vertical-align: middle;\n",
       "    }\n",
       "\n",
       "    .dataframe tbody tr th {\n",
       "        vertical-align: top;\n",
       "    }\n",
       "\n",
       "    .dataframe thead th {\n",
       "        text-align: right;\n",
       "    }\n",
       "</style>\n",
       "<table border=\"1\" class=\"dataframe\">\n",
       "  <thead>\n",
       "    <tr style=\"text-align: right;\">\n",
       "      <th></th>\n",
       "      <th>carat</th>\n",
       "      <th>depth</th>\n",
       "      <th>table</th>\n",
       "      <th>x</th>\n",
       "      <th>y</th>\n",
       "      <th>z</th>\n",
       "    </tr>\n",
       "  </thead>\n",
       "  <tbody>\n",
       "    <tr>\n",
       "      <th>count</th>\n",
       "      <td>5.394000e+04</td>\n",
       "      <td>5.394000e+04</td>\n",
       "      <td>5.394000e+04</td>\n",
       "      <td>5.394000e+04</td>\n",
       "      <td>5.394000e+04</td>\n",
       "      <td>5.394000e+04</td>\n",
       "    </tr>\n",
       "    <tr>\n",
       "      <th>mean</th>\n",
       "      <td>3.774170e-14</td>\n",
       "      <td>5.528923e-13</td>\n",
       "      <td>-3.621533e-14</td>\n",
       "      <td>1.177763e-13</td>\n",
       "      <td>8.638663e-14</td>\n",
       "      <td>-2.522116e-13</td>\n",
       "    </tr>\n",
       "    <tr>\n",
       "      <th>std</th>\n",
       "      <td>1.000000e+00</td>\n",
       "      <td>1.000000e+00</td>\n",
       "      <td>1.000000e+00</td>\n",
       "      <td>1.000000e+00</td>\n",
       "      <td>1.000000e+00</td>\n",
       "      <td>1.000000e+00</td>\n",
       "    </tr>\n",
       "    <tr>\n",
       "      <th>min</th>\n",
       "      <td>-1.261446e+00</td>\n",
       "      <td>-1.308748e+01</td>\n",
       "      <td>-6.470013e+00</td>\n",
       "      <td>-5.109073e+00</td>\n",
       "      <td>-5.020884e+00</td>\n",
       "      <td>-5.014510e+00</td>\n",
       "    </tr>\n",
       "    <tr>\n",
       "      <th>25%</th>\n",
       "      <td>-8.395154e-01</td>\n",
       "      <td>-5.231005e-01</td>\n",
       "      <td>-6.521325e-01</td>\n",
       "      <td>-9.103164e-01</td>\n",
       "      <td>-8.882717e-01</td>\n",
       "      <td>-8.909378e-01</td>\n",
       "    </tr>\n",
       "    <tr>\n",
       "      <th>50%</th>\n",
       "      <td>-2.066190e-01</td>\n",
       "      <td>3.531645e-02</td>\n",
       "      <td>-2.046032e-01</td>\n",
       "      <td>-2.777527e-02</td>\n",
       "      <td>-2.147379e-02</td>\n",
       "      <td>-1.237607e-02</td>\n",
       "    </tr>\n",
       "    <tr>\n",
       "      <th>75%</th>\n",
       "      <td>5.106635e-01</td>\n",
       "      <td>5.239313e-01</td>\n",
       "      <td>6.904554e-01</td>\n",
       "      <td>7.210475e-01</td>\n",
       "      <td>7.052356e-01</td>\n",
       "      <td>7.103118e-01</td>\n",
       "    </tr>\n",
       "    <tr>\n",
       "      <th>max</th>\n",
       "      <td>8.885992e+00</td>\n",
       "      <td>1.204128e+01</td>\n",
       "      <td>1.680151e+01</td>\n",
       "      <td>4.465161e+00</td>\n",
       "      <td>4.654922e+01</td>\n",
       "      <td>4.004720e+01</td>\n",
       "    </tr>\n",
       "  </tbody>\n",
       "</table>\n",
       "</div>"
      ],
      "text/plain": [
       "              carat         depth         table             x             y  \\\n",
       "count  5.394000e+04  5.394000e+04  5.394000e+04  5.394000e+04  5.394000e+04   \n",
       "mean   3.774170e-14  5.528923e-13 -3.621533e-14  1.177763e-13  8.638663e-14   \n",
       "std    1.000000e+00  1.000000e+00  1.000000e+00  1.000000e+00  1.000000e+00   \n",
       "min   -1.261446e+00 -1.308748e+01 -6.470013e+00 -5.109073e+00 -5.020884e+00   \n",
       "25%   -8.395154e-01 -5.231005e-01 -6.521325e-01 -9.103164e-01 -8.882717e-01   \n",
       "50%   -2.066190e-01  3.531645e-02 -2.046032e-01 -2.777527e-02 -2.147379e-02   \n",
       "75%    5.106635e-01  5.239313e-01  6.904554e-01  7.210475e-01  7.052356e-01   \n",
       "max    8.885992e+00  1.204128e+01  1.680151e+01  4.465161e+00  4.654922e+01   \n",
       "\n",
       "                  z  \n",
       "count  5.394000e+04  \n",
       "mean  -2.522116e-13  \n",
       "std    1.000000e+00  \n",
       "min   -5.014510e+00  \n",
       "25%   -8.909378e-01  \n",
       "50%   -1.237607e-02  \n",
       "75%    7.103118e-01  \n",
       "max    4.004720e+01  "
      ]
     },
     "execution_count": 13,
     "metadata": {},
     "output_type": "execute_result"
    }
   ],
   "source": [
    "dfNum.describe()"
   ]
  },
  {
   "cell_type": "markdown",
   "id": "4df36e7b-f339-45fd-bd09-993aaa351829",
   "metadata": {},
   "source": [
    "Após o escalonamento, o maior valor da variável 'table' é 16.80."
   ]
  },
  {
   "cell_type": "markdown",
   "id": "0a4affa3-a272-42cf-849e-9b9f8e823675",
   "metadata": {},
   "source": [
    "### Questão 4 - Após a ‘dummyficação’ das variáveis categóricas, quantas colunas existem em um dataset com somente variáveis desse tipo?"
   ]
  },
  {
   "cell_type": "code",
   "execution_count": 14,
   "id": "67871087-addf-409a-8e25-8cd0a7472bd7",
   "metadata": {},
   "outputs": [],
   "source": [
    "# Separar somente as variáveis categóricas\n",
    "dfCat = df.loc[:, ~df.columns.isin(dfNum.columns)].drop('price', axis = 1)"
   ]
  },
  {
   "cell_type": "code",
   "execution_count": 15,
   "id": "0e5fb791-0862-4525-834d-ac4249e1e8ec",
   "metadata": {},
   "outputs": [],
   "source": [
    "# Transforma as variáveis de text em 'categorias'\n",
    "dfCat = dfCat.astype('category')"
   ]
  },
  {
   "cell_type": "code",
   "execution_count": 16,
   "id": "e106e9dd-e868-44eb-be55-ce82433ef7a8",
   "metadata": {},
   "outputs": [],
   "source": [
    "dfCat = pd.get_dummies(dfCat, drop_first = True)"
   ]
  },
  {
   "cell_type": "code",
   "execution_count": 17,
   "id": "8d8eeb8f-e0c3-4437-8ac7-b68abab9f3ba",
   "metadata": {},
   "outputs": [
    {
     "data": {
      "text/plain": [
       "(53940, 17)"
      ]
     },
     "execution_count": 17,
     "metadata": {},
     "output_type": "execute_result"
    }
   ],
   "source": [
    "dfCat.shape"
   ]
  },
  {
   "cell_type": "markdown",
   "id": "1834b3e7-d17d-4dd8-a40e-a7f5b82d86d9",
   "metadata": {},
   "source": [
    "Após a dummyficação das variáveis categóricas, existirão 17 variáveis. OBS: atentar-se o argumento 'drop_first'."
   ]
  },
  {
   "cell_type": "markdown",
   "id": "f50ab7ae-5d78-4db1-990c-252354d8a112",
   "metadata": {},
   "source": [
    "### Questão 5 - A distribuição da resposta ‘price’ é normal e não precisa ser transformada."
   ]
  },
  {
   "cell_type": "code",
   "execution_count": 18,
   "id": "c2f3fe1e-3bcc-49d1-9e98-05695eca73ba",
   "metadata": {},
   "outputs": [
    {
     "data": {
      "application/vnd.jupyter.widget-view+json": {
       "model_id": "fd49ad3678524bd1873e1a2970c8bcd6",
       "version_major": 2,
       "version_minor": 0
      },
      "text/plain": [
       "Canvas(toolbar=Toolbar(toolitems=[('Home', 'Reset original view', 'home', 'home'), ('Back', 'Back to previous …"
      ]
     },
     "metadata": {},
     "output_type": "display_data"
    },
    {
     "data": {
      "text/plain": [
       "Text(0, 0.5, 'Frequência')"
      ]
     },
     "execution_count": 18,
     "metadata": {},
     "output_type": "execute_result"
    }
   ],
   "source": [
    "# Histograma da variável 'price'\n",
    "fig = plt.figure()\n",
    "\n",
    "plt.hist(df['price'])\n",
    "\n",
    "plt.title('Preço dos diamantes', loc = 'left', fontweight = 'bold')\n",
    "\n",
    "plt.xlabel('USD$')\n",
    "\n",
    "plt.ylabel('Frequência')"
   ]
  },
  {
   "cell_type": "code",
   "execution_count": 19,
   "id": "b15dede3-d754-4be1-a4ea-be4493cef240",
   "metadata": {},
   "outputs": [],
   "source": [
    "# Teste de normalidade\n",
    "kStat, kPvalue = stats.kstest(df['price'], cdf = 'norm')"
   ]
  },
  {
   "cell_type": "code",
   "execution_count": 20,
   "id": "3008ca10-bbc4-4ff2-b16f-b9d9812a6985",
   "metadata": {},
   "outputs": [
    {
     "name": "stdout",
     "output_type": "stream",
     "text": [
      "Estatística de teste: 1.0 \n",
      " p-value: 0.0\n"
     ]
    }
   ],
   "source": [
    "print('Estatística de teste:', kStat, \"\\n\", 'p-value:', kPvalue)"
   ]
  },
  {
   "cell_type": "markdown",
   "id": "53c76a9a-7156-4d59-a1da-f00492e89d4f",
   "metadata": {},
   "source": [
    "Falso: a resposta é não normal."
   ]
  },
  {
   "cell_type": "markdown",
   "id": "a55d95bd-cbbb-4875-b587-aa346a67840e",
   "metadata": {},
   "source": [
    "## 4 AJUSTE DO MODELO"
   ]
  },
  {
   "cell_type": "markdown",
   "id": "3dbd6f9d-c72c-4b11-bf5e-ecc9b4dae2f0",
   "metadata": {},
   "source": [
    "### Questão 6. Ao separar o dataset em dois pedaços, o de treinamento e o de teste, quantas linhas possuirá o dataset de teste? (Utilize uma proporção de 20% e argumento random_state = 123456) Dica: concatene os datasets e faça a matriz do modelo antes de fazer a separação entre treinamento e teste."
   ]
  },
  {
   "cell_type": "code",
   "execution_count": 21,
   "id": "50c5f6fb-9fc3-4dd4-b5a6-beebda8dd704",
   "metadata": {},
   "outputs": [],
   "source": [
    "# Concatenar todos os dados\n",
    "dfFull = pd.concat([dfNum, dfCat, df['price']], axis = 1)"
   ]
  },
  {
   "cell_type": "code",
   "execution_count": 22,
   "id": "3104fa39-d771-43ab-8eb5-2527dd749fd6",
   "metadata": {},
   "outputs": [
    {
     "data": {
      "text/html": [
       "<div>\n",
       "<style scoped>\n",
       "    .dataframe tbody tr th:only-of-type {\n",
       "        vertical-align: middle;\n",
       "    }\n",
       "\n",
       "    .dataframe tbody tr th {\n",
       "        vertical-align: top;\n",
       "    }\n",
       "\n",
       "    .dataframe thead th {\n",
       "        text-align: right;\n",
       "    }\n",
       "</style>\n",
       "<table border=\"1\" class=\"dataframe\">\n",
       "  <thead>\n",
       "    <tr style=\"text-align: right;\">\n",
       "      <th></th>\n",
       "      <th>carat</th>\n",
       "      <th>depth</th>\n",
       "      <th>table</th>\n",
       "      <th>x</th>\n",
       "      <th>y</th>\n",
       "      <th>z</th>\n",
       "      <th>cut_Good</th>\n",
       "      <th>cut_Ideal</th>\n",
       "      <th>cut_Premium</th>\n",
       "      <th>cut_Very Good</th>\n",
       "      <th>...</th>\n",
       "      <th>color_I</th>\n",
       "      <th>color_J</th>\n",
       "      <th>clarity_IF</th>\n",
       "      <th>clarity_SI1</th>\n",
       "      <th>clarity_SI2</th>\n",
       "      <th>clarity_VS1</th>\n",
       "      <th>clarity_VS2</th>\n",
       "      <th>clarity_VVS1</th>\n",
       "      <th>clarity_VVS2</th>\n",
       "      <th>price</th>\n",
       "    </tr>\n",
       "  </thead>\n",
       "  <tbody>\n",
       "    <tr>\n",
       "      <th>0</th>\n",
       "      <td>-1.198157</td>\n",
       "      <td>-0.174090</td>\n",
       "      <td>-1.099662</td>\n",
       "      <td>-1.587823</td>\n",
       "      <td>-1.536181</td>\n",
       "      <td>-1.571115</td>\n",
       "      <td>0</td>\n",
       "      <td>1</td>\n",
       "      <td>0</td>\n",
       "      <td>0</td>\n",
       "      <td>...</td>\n",
       "      <td>0</td>\n",
       "      <td>0</td>\n",
       "      <td>0</td>\n",
       "      <td>0</td>\n",
       "      <td>1</td>\n",
       "      <td>0</td>\n",
       "      <td>0</td>\n",
       "      <td>0</td>\n",
       "      <td>0</td>\n",
       "      <td>326</td>\n",
       "    </tr>\n",
       "    <tr>\n",
       "      <th>1</th>\n",
       "      <td>-1.240350</td>\n",
       "      <td>-1.360726</td>\n",
       "      <td>1.585514</td>\n",
       "      <td>-1.641310</td>\n",
       "      <td>-1.658759</td>\n",
       "      <td>-1.741159</td>\n",
       "      <td>0</td>\n",
       "      <td>0</td>\n",
       "      <td>1</td>\n",
       "      <td>0</td>\n",
       "      <td>...</td>\n",
       "      <td>0</td>\n",
       "      <td>0</td>\n",
       "      <td>0</td>\n",
       "      <td>1</td>\n",
       "      <td>0</td>\n",
       "      <td>0</td>\n",
       "      <td>0</td>\n",
       "      <td>0</td>\n",
       "      <td>0</td>\n",
       "      <td>326</td>\n",
       "    </tr>\n",
       "    <tr>\n",
       "      <th>2</th>\n",
       "      <td>-1.198157</td>\n",
       "      <td>-3.384987</td>\n",
       "      <td>3.375631</td>\n",
       "      <td>-1.498677</td>\n",
       "      <td>-1.457382</td>\n",
       "      <td>-1.741159</td>\n",
       "      <td>1</td>\n",
       "      <td>0</td>\n",
       "      <td>0</td>\n",
       "      <td>0</td>\n",
       "      <td>...</td>\n",
       "      <td>0</td>\n",
       "      <td>0</td>\n",
       "      <td>0</td>\n",
       "      <td>0</td>\n",
       "      <td>0</td>\n",
       "      <td>1</td>\n",
       "      <td>0</td>\n",
       "      <td>0</td>\n",
       "      <td>0</td>\n",
       "      <td>327</td>\n",
       "    </tr>\n",
       "    <tr>\n",
       "      <th>3</th>\n",
       "      <td>-1.071577</td>\n",
       "      <td>0.454129</td>\n",
       "      <td>0.242926</td>\n",
       "      <td>-1.364959</td>\n",
       "      <td>-1.317293</td>\n",
       "      <td>-1.287708</td>\n",
       "      <td>0</td>\n",
       "      <td>0</td>\n",
       "      <td>1</td>\n",
       "      <td>0</td>\n",
       "      <td>...</td>\n",
       "      <td>1</td>\n",
       "      <td>0</td>\n",
       "      <td>0</td>\n",
       "      <td>0</td>\n",
       "      <td>0</td>\n",
       "      <td>0</td>\n",
       "      <td>1</td>\n",
       "      <td>0</td>\n",
       "      <td>0</td>\n",
       "      <td>334</td>\n",
       "    </tr>\n",
       "    <tr>\n",
       "      <th>4</th>\n",
       "      <td>-1.029384</td>\n",
       "      <td>1.082348</td>\n",
       "      <td>0.242926</td>\n",
       "      <td>-1.240155</td>\n",
       "      <td>-1.212227</td>\n",
       "      <td>-1.117663</td>\n",
       "      <td>1</td>\n",
       "      <td>0</td>\n",
       "      <td>0</td>\n",
       "      <td>0</td>\n",
       "      <td>...</td>\n",
       "      <td>0</td>\n",
       "      <td>1</td>\n",
       "      <td>0</td>\n",
       "      <td>0</td>\n",
       "      <td>1</td>\n",
       "      <td>0</td>\n",
       "      <td>0</td>\n",
       "      <td>0</td>\n",
       "      <td>0</td>\n",
       "      <td>335</td>\n",
       "    </tr>\n",
       "  </tbody>\n",
       "</table>\n",
       "<p>5 rows × 24 columns</p>\n",
       "</div>"
      ],
      "text/plain": [
       "      carat     depth     table         x         y         z  cut_Good  \\\n",
       "0 -1.198157 -0.174090 -1.099662 -1.587823 -1.536181 -1.571115         0   \n",
       "1 -1.240350 -1.360726  1.585514 -1.641310 -1.658759 -1.741159         0   \n",
       "2 -1.198157 -3.384987  3.375631 -1.498677 -1.457382 -1.741159         1   \n",
       "3 -1.071577  0.454129  0.242926 -1.364959 -1.317293 -1.287708         0   \n",
       "4 -1.029384  1.082348  0.242926 -1.240155 -1.212227 -1.117663         1   \n",
       "\n",
       "   cut_Ideal  cut_Premium  cut_Very Good  ...  color_I  color_J  clarity_IF  \\\n",
       "0          1            0              0  ...        0        0           0   \n",
       "1          0            1              0  ...        0        0           0   \n",
       "2          0            0              0  ...        0        0           0   \n",
       "3          0            1              0  ...        1        0           0   \n",
       "4          0            0              0  ...        0        1           0   \n",
       "\n",
       "   clarity_SI1  clarity_SI2  clarity_VS1  clarity_VS2  clarity_VVS1  \\\n",
       "0            0            1            0            0             0   \n",
       "1            1            0            0            0             0   \n",
       "2            0            0            1            0             0   \n",
       "3            0            0            0            1             0   \n",
       "4            0            1            0            0             0   \n",
       "\n",
       "   clarity_VVS2  price  \n",
       "0             0    326  \n",
       "1             0    326  \n",
       "2             0    327  \n",
       "3             0    334  \n",
       "4             0    335  \n",
       "\n",
       "[5 rows x 24 columns]"
      ]
     },
     "execution_count": 22,
     "metadata": {},
     "output_type": "execute_result"
    }
   ],
   "source": [
    "dfFull.head()"
   ]
  },
  {
   "cell_type": "code",
   "execution_count": 23,
   "id": "d3dccb7f-af5f-4eda-90d1-afcd6fd76b0b",
   "metadata": {},
   "outputs": [],
   "source": [
    "# Função para escrever a fórmula\n",
    "def ols_formula(df, dependent_var, *excluded_rows):\n",
    "\n",
    "  # Listar o nome das colunas do dataframe\n",
    "  dfCols = list(df.columns.values)\n",
    "\n",
    "  # Remover a variável dependente\n",
    "  dfCols.remove(dependent_var)\n",
    "\n",
    "  # Remover as variáveis excluídas\n",
    "  for col in excluded_rows:\n",
    "    dfCols.remove(col)\n",
    "\n",
    "  # Retornar a fórmula\n",
    "  return dependent_var + ' ~ ' + ' + '.join(dfCols)"
   ]
  },
  {
   "cell_type": "code",
   "execution_count": 24,
   "id": "fc49ec25-2c87-449a-8d56-1b1f1ee38822",
   "metadata": {},
   "outputs": [
    {
     "data": {
      "text/plain": [
       "'price ~ carat + depth + table + x + y + z + cut_Good + cut_Ideal + cut_Premium + cut_Very Good + color_E + color_F + color_G + color_H + color_I + color_J + clarity_IF + clarity_SI1 + clarity_SI2 + clarity_VS1 + clarity_VS2 + clarity_VVS1 + clarity_VVS2'"
      ]
     },
     "execution_count": 24,
     "metadata": {},
     "output_type": "execute_result"
    }
   ],
   "source": [
    "ols_formula(dfFull, 'price')"
   ]
  },
  {
   "cell_type": "code",
   "execution_count": 25,
   "id": "064e85b1-aafa-4009-a2fb-8400768800dc",
   "metadata": {},
   "outputs": [],
   "source": [
    "# Renomear a coluna 'cut_Very Good' para remover o espaço\n",
    "dfFull = dfFull.rename(columns={'cut_Very Good' : 'cut_VeryGood'})"
   ]
  },
  {
   "cell_type": "code",
   "execution_count": 26,
   "id": "94d260af-d1e9-4653-9c6b-200dddfcb50c",
   "metadata": {},
   "outputs": [],
   "source": [
    "# Criação da matriz do modelo\n",
    "y, X = pt.dmatrices(ols_formula(dfFull, 'price'), data = dfFull , return_type='dataframe')"
   ]
  },
  {
   "cell_type": "code",
   "execution_count": 27,
   "id": "2914b5cf-5bbd-4f98-9cd0-4c55d0b16d23",
   "metadata": {},
   "outputs": [],
   "source": [
    "# Separação dos datasets\n",
    "xTrain, xTest, yTrain, yTest = train_test_split(X, y, test_size = 0.2, random_state = 123456)"
   ]
  },
  {
   "cell_type": "code",
   "execution_count": 28,
   "id": "2b464711-3b39-4826-8648-334ecfdcff1c",
   "metadata": {},
   "outputs": [],
   "source": [
    "# Reset index\n",
    "xTrain.reset_index(drop=True, inplace=True)\n",
    "xTest.reset_index(drop=True, inplace=True)\n",
    "yTrain.reset_index(drop=True, inplace=True)\n",
    "yTest.reset_index(drop=True, inplace=True)"
   ]
  },
  {
   "cell_type": "code",
   "execution_count": 29,
   "id": "86bafd9e-515d-48c5-ab61-11f927b574fd",
   "metadata": {},
   "outputs": [
    {
     "data": {
      "text/plain": [
       "(10788, 24)"
      ]
     },
     "execution_count": 29,
     "metadata": {},
     "output_type": "execute_result"
    }
   ],
   "source": [
    "xTest.shape"
   ]
  },
  {
   "cell_type": "markdown",
   "id": "6f4f7b6e-6787-42e0-b7ba-32ec3db47ee0",
   "metadata": {},
   "source": [
    "A quantidade de linhas no dataset de teste é 10788."
   ]
  },
  {
   "cell_type": "markdown",
   "id": "9a21a7fd-c3a8-42b6-8c12-7845f24d0186",
   "metadata": {},
   "source": [
    "### Questão 7 - Utilizando o método dos mínimos quadrados e ajustando o modelo com o logaritmo natural da resposta ‘price’ e os dados de ajuste, qual é a variável que tem o maior valor para a estatística ‘t’. (OBS: desconsidere o ‘intercept’)."
   ]
  },
  {
   "cell_type": "code",
   "execution_count": 30,
   "id": "3c09b925-5081-4762-9587-68ae9c2abc32",
   "metadata": {},
   "outputs": [
    {
     "name": "stdout",
     "output_type": "stream",
     "text": [
      "                            OLS Regression Results                            \n",
      "==============================================================================\n",
      "Dep. Variable:                  price   R-squared:                       0.968\n",
      "Model:                            OLS   Adj. R-squared:                  0.968\n",
      "Method:                 Least Squares   F-statistic:                 5.655e+04\n",
      "Date:                Fri, 06 Aug 2021   Prob (F-statistic):               0.00\n",
      "Time:                        11:53:45   Log-Likelihood:                 12290.\n",
      "No. Observations:               43152   AIC:                        -2.453e+04\n",
      "Df Residuals:                   43128   BIC:                        -2.432e+04\n",
      "Df Model:                          23                                         \n",
      "Covariance Type:            nonrobust                                         \n",
      "================================================================================\n",
      "                   coef    std err          t      P>|t|      [0.025      0.975]\n",
      "--------------------------------------------------------------------------------\n",
      "Intercept        7.1184      0.009    782.126      0.000       7.101       7.136\n",
      "carat           -0.2562      0.004    -62.887      0.000      -0.264      -0.248\n",
      "depth            0.0734      0.001     63.984      0.000       0.071       0.076\n",
      "table            0.0201      0.001     17.140      0.000       0.018       0.022\n",
      "x                1.2840      0.006    205.705      0.000       1.272       1.296\n",
      "y                0.0316      0.004      8.836      0.000       0.025       0.039\n",
      "z                0.0230      0.004      5.895      0.000       0.015       0.031\n",
      "cut_Good         0.0935      0.006     15.383      0.000       0.082       0.105\n",
      "cut_Ideal        0.1543      0.006     25.565      0.000       0.143       0.166\n",
      "cut_Premium      0.1106      0.006     18.977      0.000       0.099       0.122\n",
      "cut_VeryGood     0.1233      0.006     21.142      0.000       0.112       0.135\n",
      "color_E         -0.0604      0.003    -18.750      0.000      -0.067      -0.054\n",
      "color_F         -0.0908      0.003    -27.885      0.000      -0.097      -0.084\n",
      "color_G         -0.1576      0.003    -49.480      0.000      -0.164      -0.151\n",
      "color_H         -0.2591      0.003    -76.555      0.000      -0.266      -0.252\n",
      "color_I         -0.3868      0.004   -101.220      0.000      -0.394      -0.379\n",
      "color_J         -0.5295      0.005   -112.814      0.000      -0.539      -0.520\n",
      "clarity_IF       1.0953      0.009    119.239      0.000       1.077       1.113\n",
      "clarity_SI1      0.6086      0.008     77.428      0.000       0.593       0.624\n",
      "clarity_SI2      0.4412      0.008     55.866      0.000       0.426       0.457\n",
      "clarity_VS1      0.8183      0.008    101.973      0.000       0.803       0.834\n",
      "clarity_VS2      0.7504      0.008     94.932      0.000       0.735       0.766\n",
      "clarity_VVS1     1.0006      0.008    117.727      0.000       0.984       1.017\n",
      "clarity_VVS2     0.9374      0.008    113.417      0.000       0.921       0.954\n",
      "==============================================================================\n",
      "Omnibus:                    88382.366   Durbin-Watson:                   1.999\n",
      "Prob(Omnibus):                  0.000   Jarque-Bera (JB):       1073957180.969\n",
      "Skew:                          16.676   Prob(JB):                         0.00\n",
      "Kurtosis:                     775.136   Cond. No.                         49.6\n",
      "==============================================================================\n",
      "\n",
      "Notes:\n",
      "[1] Standard Errors assume that the covariance matrix of the errors is correctly specified.\n"
     ]
    }
   ],
   "source": [
    "# Ajustar o modelo\n",
    "reg1 = sm.OLS(np.log(yTrain), xTrain)\n",
    "reg1fit = reg1.fit()\n",
    "print(reg1fit.summary())"
   ]
  },
  {
   "cell_type": "markdown",
   "id": "3e9b71d3-9621-404f-a2ec-de972733faa1",
   "metadata": {},
   "source": [
    "A variável que tem o maior valor absoluto para a estatística 't' é a 'x', com t = 205.705"
   ]
  },
  {
   "cell_type": "markdown",
   "id": "e6030aac-6964-46c8-9a1f-b5a52307f083",
   "metadata": {},
   "source": [
    "### Questão 8 - Para o modelo ajustado na questão 07, qual é a variável que possui o maior VIF?"
   ]
  },
  {
   "cell_type": "code",
   "execution_count": 31,
   "id": "54d20f54-bcc7-4aca-8e41-6f2d62fdb77a",
   "metadata": {},
   "outputs": [
    {
     "data": {
      "text/html": [
       "<div>\n",
       "<style scoped>\n",
       "    .dataframe tbody tr th:only-of-type {\n",
       "        vertical-align: middle;\n",
       "    }\n",
       "\n",
       "    .dataframe tbody tr th {\n",
       "        vertical-align: top;\n",
       "    }\n",
       "\n",
       "    .dataframe thead th {\n",
       "        text-align: right;\n",
       "    }\n",
       "</style>\n",
       "<table border=\"1\" class=\"dataframe\">\n",
       "  <thead>\n",
       "    <tr style=\"text-align: right;\">\n",
       "      <th></th>\n",
       "      <th>Variaveis</th>\n",
       "      <th>VIF</th>\n",
       "    </tr>\n",
       "  </thead>\n",
       "  <tbody>\n",
       "    <tr>\n",
       "      <th>0</th>\n",
       "      <td>carat</td>\n",
       "      <td>21.714137</td>\n",
       "    </tr>\n",
       "    <tr>\n",
       "      <th>1</th>\n",
       "      <td>depth</td>\n",
       "      <td>1.712892</td>\n",
       "    </tr>\n",
       "    <tr>\n",
       "      <th>2</th>\n",
       "      <td>table</td>\n",
       "      <td>1.783268</td>\n",
       "    </tr>\n",
       "    <tr>\n",
       "      <th>3</th>\n",
       "      <td>x</td>\n",
       "      <td>50.908609</td>\n",
       "    </tr>\n",
       "    <tr>\n",
       "      <th>4</th>\n",
       "      <td>y</td>\n",
       "      <td>16.921473</td>\n",
       "    </tr>\n",
       "    <tr>\n",
       "      <th>5</th>\n",
       "      <td>z</td>\n",
       "      <td>20.059420</td>\n",
       "    </tr>\n",
       "    <tr>\n",
       "      <th>6</th>\n",
       "      <td>cut_Good</td>\n",
       "      <td>3.943117</td>\n",
       "    </tr>\n",
       "    <tr>\n",
       "      <th>7</th>\n",
       "      <td>cut_Ideal</td>\n",
       "      <td>11.397405</td>\n",
       "    </tr>\n",
       "    <tr>\n",
       "      <th>8</th>\n",
       "      <td>cut_Premium</td>\n",
       "      <td>8.408910</td>\n",
       "    </tr>\n",
       "    <tr>\n",
       "      <th>9</th>\n",
       "      <td>cut_VeryGood</td>\n",
       "      <td>7.698138</td>\n",
       "    </tr>\n",
       "    <tr>\n",
       "      <th>10</th>\n",
       "      <td>color_E</td>\n",
       "      <td>2.002840</td>\n",
       "    </tr>\n",
       "    <tr>\n",
       "      <th>11</th>\n",
       "      <td>color_F</td>\n",
       "      <td>2.006709</td>\n",
       "    </tr>\n",
       "    <tr>\n",
       "      <th>12</th>\n",
       "      <td>color_G</td>\n",
       "      <td>2.192393</td>\n",
       "    </tr>\n",
       "    <tr>\n",
       "      <th>13</th>\n",
       "      <td>color_H</td>\n",
       "      <td>1.951752</td>\n",
       "    </tr>\n",
       "    <tr>\n",
       "      <th>14</th>\n",
       "      <td>color_I</td>\n",
       "      <td>1.701044</td>\n",
       "    </tr>\n",
       "    <tr>\n",
       "      <th>15</th>\n",
       "      <td>color_J</td>\n",
       "      <td>1.423129</td>\n",
       "    </tr>\n",
       "    <tr>\n",
       "      <th>16</th>\n",
       "      <td>clarity_IF</td>\n",
       "      <td>3.534158</td>\n",
       "    </tr>\n",
       "    <tr>\n",
       "      <th>17</th>\n",
       "      <td>clarity_SI1</td>\n",
       "      <td>14.808963</td>\n",
       "    </tr>\n",
       "    <tr>\n",
       "      <th>18</th>\n",
       "      <td>clarity_SI2</td>\n",
       "      <td>11.436577</td>\n",
       "    </tr>\n",
       "    <tr>\n",
       "      <th>19</th>\n",
       "      <td>clarity_VS1</td>\n",
       "      <td>10.829476</td>\n",
       "    </tr>\n",
       "    <tr>\n",
       "      <th>20</th>\n",
       "      <td>clarity_VS2</td>\n",
       "      <td>14.268302</td>\n",
       "    </tr>\n",
       "    <tr>\n",
       "      <th>21</th>\n",
       "      <td>clarity_VVS1</td>\n",
       "      <td>5.911346</td>\n",
       "    </tr>\n",
       "    <tr>\n",
       "      <th>22</th>\n",
       "      <td>clarity_VVS2</td>\n",
       "      <td>7.543280</td>\n",
       "    </tr>\n",
       "  </tbody>\n",
       "</table>\n",
       "</div>"
      ],
      "text/plain": [
       "       Variaveis        VIF\n",
       "0          carat  21.714137\n",
       "1          depth   1.712892\n",
       "2          table   1.783268\n",
       "3              x  50.908609\n",
       "4              y  16.921473\n",
       "5              z  20.059420\n",
       "6       cut_Good   3.943117\n",
       "7      cut_Ideal  11.397405\n",
       "8    cut_Premium   8.408910\n",
       "9   cut_VeryGood   7.698138\n",
       "10       color_E   2.002840\n",
       "11       color_F   2.006709\n",
       "12       color_G   2.192393\n",
       "13       color_H   1.951752\n",
       "14       color_I   1.701044\n",
       "15       color_J   1.423129\n",
       "16    clarity_IF   3.534158\n",
       "17   clarity_SI1  14.808963\n",
       "18   clarity_SI2  11.436577\n",
       "19   clarity_VS1  10.829476\n",
       "20   clarity_VS2  14.268302\n",
       "21  clarity_VVS1   5.911346\n",
       "22  clarity_VVS2   7.543280"
      ]
     },
     "execution_count": 31,
     "metadata": {},
     "output_type": "execute_result"
    }
   ],
   "source": [
    "# Determinação do VIF para o modelo ajustado\n",
    "pd.DataFrame({'Variaveis': xTrain.columns[1:],\n",
    "              'VIF': [variance_inflation_factor(xTrain.values, i+1) for i in range(len(xTrain.columns[1:]))]})"
   ]
  },
  {
   "cell_type": "markdown",
   "id": "75b88ba5-1ae1-48a6-bab2-a7dfb3a1d04e",
   "metadata": {},
   "source": [
    "A variável que possui o maior valor de VIF é a 'x', com VIF de 50.9."
   ]
  },
  {
   "cell_type": "markdown",
   "id": "1773146e-3728-4c4a-a1cd-b48d8b4f637c",
   "metadata": {},
   "source": [
    "### Questão 9 - Após remover todas as variáveis para manter os VIF´s em no máximo 5, quantas variáveis sobraram no modelo? OBS: desconsidere o intercept. (Dica, comece removendo, uma por uma, as variáveis com maior VIF)"
   ]
  },
  {
   "cell_type": "code",
   "execution_count": 32,
   "id": "1a66401b-c381-49c4-a6b6-ccae6bc2bb55",
   "metadata": {},
   "outputs": [
    {
     "data": {
      "text/html": [
       "<div>\n",
       "<style scoped>\n",
       "    .dataframe tbody tr th:only-of-type {\n",
       "        vertical-align: middle;\n",
       "    }\n",
       "\n",
       "    .dataframe tbody tr th {\n",
       "        vertical-align: top;\n",
       "    }\n",
       "\n",
       "    .dataframe thead th {\n",
       "        text-align: right;\n",
       "    }\n",
       "</style>\n",
       "<table border=\"1\" class=\"dataframe\">\n",
       "  <thead>\n",
       "    <tr style=\"text-align: right;\">\n",
       "      <th></th>\n",
       "      <th>Variaveis</th>\n",
       "      <th>VIF</th>\n",
       "    </tr>\n",
       "  </thead>\n",
       "  <tbody>\n",
       "    <tr>\n",
       "      <th>0</th>\n",
       "      <td>depth</td>\n",
       "      <td>1.172445</td>\n",
       "    </tr>\n",
       "    <tr>\n",
       "      <th>1</th>\n",
       "      <td>table</td>\n",
       "      <td>1.535214</td>\n",
       "    </tr>\n",
       "    <tr>\n",
       "      <th>2</th>\n",
       "      <td>y</td>\n",
       "      <td>1.282658</td>\n",
       "    </tr>\n",
       "    <tr>\n",
       "      <th>3</th>\n",
       "      <td>cut_Good</td>\n",
       "      <td>1.310436</td>\n",
       "    </tr>\n",
       "    <tr>\n",
       "      <th>4</th>\n",
       "      <td>cut_Premium</td>\n",
       "      <td>1.553306</td>\n",
       "    </tr>\n",
       "    <tr>\n",
       "      <th>5</th>\n",
       "      <td>cut_VeryGood</td>\n",
       "      <td>1.348768</td>\n",
       "    </tr>\n",
       "    <tr>\n",
       "      <th>6</th>\n",
       "      <td>color_E</td>\n",
       "      <td>2.002190</td>\n",
       "    </tr>\n",
       "    <tr>\n",
       "      <th>7</th>\n",
       "      <td>color_F</td>\n",
       "      <td>2.004205</td>\n",
       "    </tr>\n",
       "    <tr>\n",
       "      <th>8</th>\n",
       "      <td>color_G</td>\n",
       "      <td>2.188579</td>\n",
       "    </tr>\n",
       "    <tr>\n",
       "      <th>9</th>\n",
       "      <td>color_H</td>\n",
       "      <td>1.944377</td>\n",
       "    </tr>\n",
       "    <tr>\n",
       "      <th>10</th>\n",
       "      <td>color_I</td>\n",
       "      <td>1.684859</td>\n",
       "    </tr>\n",
       "    <tr>\n",
       "      <th>11</th>\n",
       "      <td>color_J</td>\n",
       "      <td>1.406805</td>\n",
       "    </tr>\n",
       "    <tr>\n",
       "      <th>12</th>\n",
       "      <td>clarity_IF</td>\n",
       "      <td>1.153976</td>\n",
       "    </tr>\n",
       "    <tr>\n",
       "      <th>13</th>\n",
       "      <td>clarity_SI2</td>\n",
       "      <td>1.411430</td>\n",
       "    </tr>\n",
       "    <tr>\n",
       "      <th>14</th>\n",
       "      <td>clarity_VS1</td>\n",
       "      <td>1.395878</td>\n",
       "    </tr>\n",
       "    <tr>\n",
       "      <th>15</th>\n",
       "      <td>clarity_VS2</td>\n",
       "      <td>1.482765</td>\n",
       "    </tr>\n",
       "    <tr>\n",
       "      <th>16</th>\n",
       "      <td>clarity_VVS1</td>\n",
       "      <td>1.257902</td>\n",
       "    </tr>\n",
       "    <tr>\n",
       "      <th>17</th>\n",
       "      <td>clarity_VVS2</td>\n",
       "      <td>1.302957</td>\n",
       "    </tr>\n",
       "  </tbody>\n",
       "</table>\n",
       "</div>"
      ],
      "text/plain": [
       "       Variaveis       VIF\n",
       "0          depth  1.172445\n",
       "1          table  1.535214\n",
       "2              y  1.282658\n",
       "3       cut_Good  1.310436\n",
       "4    cut_Premium  1.553306\n",
       "5   cut_VeryGood  1.348768\n",
       "6        color_E  2.002190\n",
       "7        color_F  2.004205\n",
       "8        color_G  2.188579\n",
       "9        color_H  1.944377\n",
       "10       color_I  1.684859\n",
       "11       color_J  1.406805\n",
       "12    clarity_IF  1.153976\n",
       "13   clarity_SI2  1.411430\n",
       "14   clarity_VS1  1.395878\n",
       "15   clarity_VS2  1.482765\n",
       "16  clarity_VVS1  1.257902\n",
       "17  clarity_VVS2  1.302957"
      ]
     },
     "execution_count": 32,
     "metadata": {},
     "output_type": "execute_result"
    }
   ],
   "source": [
    "# Variáveis para 'dropar'\n",
    "var = ['x', 'clarity_SI1', 'z', 'cut_Ideal', 'carat']\n",
    "\n",
    "# Cálculo do VIF\n",
    "pd.DataFrame({'Variaveis': xTrain.drop(var, axis = 1).columns[1:],\n",
    "              'VIF': [variance_inflation_factor(xTrain.drop(var, axis = 1).values, i+1) for i in range(len(xTrain.drop(var, axis = 1).columns[1:]))]})"
   ]
  },
  {
   "cell_type": "markdown",
   "id": "85b9c457-1459-494c-be18-1366350a3d89",
   "metadata": {},
   "source": [
    "Após a remoção das variáveis x, clarity_SI1, z, cut_Ideal, carat, sobraram 18 variáveis."
   ]
  },
  {
   "cell_type": "markdown",
   "id": "77d77a4c-42e7-49a7-a188-33e9214cc2bf",
   "metadata": {},
   "source": [
    "## 5 QUALIDADE DE AJUSTE"
   ]
  },
  {
   "cell_type": "markdown",
   "id": "a70ad4d7-7bb6-4fed-8814-43ee74a796d4",
   "metadata": {},
   "source": [
    "### Questão 10. Qual é o R^2 para os dados de teste com o modelo sem as variáveis removidas na questão 9?"
   ]
  },
  {
   "cell_type": "code",
   "execution_count": 33,
   "id": "801526a8-71e7-4d22-8a74-de3803099942",
   "metadata": {},
   "outputs": [
    {
     "name": "stdout",
     "output_type": "stream",
     "text": [
      "                            OLS Regression Results                            \n",
      "==============================================================================\n",
      "Dep. Variable:                  price   R-squared:                       0.896\n",
      "Model:                            OLS   Adj. R-squared:                  0.896\n",
      "Method:                 Least Squares   F-statistic:                 2.069e+04\n",
      "Date:                Fri, 06 Aug 2021   Prob (F-statistic):               0.00\n",
      "Time:                        11:53:48   Log-Likelihood:                -13037.\n",
      "No. Observations:               43152   AIC:                         2.611e+04\n",
      "Df Residuals:                   43133   BIC:                         2.628e+04\n",
      "Df Model:                          18                                         \n",
      "Covariance Type:            nonrobust                                         \n",
      "================================================================================\n",
      "                   coef    std err          t      P>|t|      [0.025      0.975]\n",
      "--------------------------------------------------------------------------------\n",
      "Intercept        7.8353      0.006   1408.633      0.000       7.824       7.846\n",
      "depth            0.0549      0.002     32.128      0.000       0.052       0.058\n",
      "table            0.0199      0.002     10.194      0.000       0.016       0.024\n",
      "y                1.0220      0.002    577.041      0.000       1.019       1.025\n",
      "cut_Good        -0.0457      0.006     -7.247      0.000      -0.058      -0.033\n",
      "cut_Premium      0.0103      0.005      2.278      0.023       0.001       0.019\n",
      "cut_VeryGood    -0.0292      0.004     -6.648      0.000      -0.038      -0.021\n",
      "color_E         -0.0654      0.006    -11.279      0.000      -0.077      -0.054\n",
      "color_F         -0.0759      0.006    -12.970      0.000      -0.087      -0.064\n",
      "color_G         -0.1331      0.006    -23.258      0.000      -0.144      -0.122\n",
      "color_H         -0.2327      0.006    -38.300      0.000      -0.245      -0.221\n",
      "color_I         -0.3457      0.007    -50.541      0.000      -0.359      -0.332\n",
      "color_J         -0.4814      0.008    -57.361      0.000      -0.498      -0.465\n",
      "clarity_IF       0.4161      0.009     44.080      0.000       0.398       0.435\n",
      "clarity_SI2     -0.1120      0.005    -22.447      0.000      -0.122      -0.102\n",
      "clarity_VS1      0.2016      0.005     38.916      0.000       0.191       0.212\n",
      "clarity_VS2      0.1487      0.005     32.458      0.000       0.140       0.158\n",
      "clarity_VVS1     0.3275      0.007     46.444      0.000       0.314       0.341\n",
      "clarity_VVS2     0.2923      0.006     47.317      0.000       0.280       0.304\n",
      "==============================================================================\n",
      "Omnibus:                   153014.644   Durbin-Watson:                   1.988\n",
      "Prob(Omnibus):                  0.000   Jarque-Bera (JB):     156960046011.573\n",
      "Skew:                         -70.197   Prob(JB):                         0.00\n",
      "Kurtosis:                    9345.233   Cond. No.                         9.81\n",
      "==============================================================================\n",
      "\n",
      "Notes:\n",
      "[1] Standard Errors assume that the covariance matrix of the errors is correctly specified.\n"
     ]
    }
   ],
   "source": [
    "# Reajustar o modelo sem as variáveis com alto VIF.\n",
    "reg2 = sm.OLS(np.log(yTrain), xTrain.drop(var, axis = 1))\n",
    "reg2fit = reg2.fit()\n",
    "print(reg2fit.summary())"
   ]
  },
  {
   "cell_type": "code",
   "execution_count": 34,
   "id": "7d81a465-fdea-44b3-9a66-77ec49748b63",
   "metadata": {},
   "outputs": [
    {
     "data": {
      "text/plain": [
       "0        7.920652\n",
       "1        9.380046\n",
       "2        7.205302\n",
       "3        8.737650\n",
       "4        7.270200\n",
       "           ...   \n",
       "10783    6.713603\n",
       "10784    8.352212\n",
       "10785    7.854500\n",
       "10786    7.709704\n",
       "10787    7.761917\n",
       "Length: 10788, dtype: float64"
      ]
     },
     "execution_count": 34,
     "metadata": {},
     "output_type": "execute_result"
    }
   ],
   "source": [
    "reg2fit.predict(xTest.drop(var, axis = 1))"
   ]
  },
  {
   "cell_type": "code",
   "execution_count": 35,
   "id": "b448d58d-9017-41a8-82ad-0813d454160d",
   "metadata": {},
   "outputs": [
    {
     "data": {
      "text/html": [
       "<div>\n",
       "<style scoped>\n",
       "    .dataframe tbody tr th:only-of-type {\n",
       "        vertical-align: middle;\n",
       "    }\n",
       "\n",
       "    .dataframe tbody tr th {\n",
       "        vertical-align: top;\n",
       "    }\n",
       "\n",
       "    .dataframe thead th {\n",
       "        text-align: right;\n",
       "    }\n",
       "</style>\n",
       "<table border=\"1\" class=\"dataframe\">\n",
       "  <thead>\n",
       "    <tr style=\"text-align: right;\">\n",
       "      <th></th>\n",
       "      <th>price</th>\n",
       "      <th>pricePred</th>\n",
       "    </tr>\n",
       "  </thead>\n",
       "  <tbody>\n",
       "    <tr>\n",
       "      <th>0</th>\n",
       "      <td>7.989560</td>\n",
       "      <td>7.920652</td>\n",
       "    </tr>\n",
       "    <tr>\n",
       "      <th>1</th>\n",
       "      <td>9.259035</td>\n",
       "      <td>9.380046</td>\n",
       "    </tr>\n",
       "    <tr>\n",
       "      <th>2</th>\n",
       "      <td>7.064759</td>\n",
       "      <td>7.205302</td>\n",
       "    </tr>\n",
       "    <tr>\n",
       "      <th>3</th>\n",
       "      <td>9.287024</td>\n",
       "      <td>8.737650</td>\n",
       "    </tr>\n",
       "    <tr>\n",
       "      <th>4</th>\n",
       "      <td>7.111512</td>\n",
       "      <td>7.270200</td>\n",
       "    </tr>\n",
       "  </tbody>\n",
       "</table>\n",
       "</div>"
      ],
      "text/plain": [
       "      price  pricePred\n",
       "0  7.989560   7.920652\n",
       "1  9.259035   9.380046\n",
       "2  7.064759   7.205302\n",
       "3  9.287024   8.737650\n",
       "4  7.111512   7.270200"
      ]
     },
     "execution_count": 35,
     "metadata": {},
     "output_type": "execute_result"
    }
   ],
   "source": [
    "# Previsão dos dados de teste\n",
    "lnYPred = pd.concat([np.log(yTest), reg2fit.predict(xTest.drop(var, axis = 1))], axis = 1)\n",
    "lnYPred.columns = ['price', 'pricePred']\n",
    "lnYPred.head()"
   ]
  },
  {
   "cell_type": "code",
   "execution_count": 36,
   "id": "45701fed-c042-4ea4-b4ea-c73a7b90208f",
   "metadata": {},
   "outputs": [
    {
     "name": "stdout",
     "output_type": "stream",
     "text": [
      "Rquadrado 0.9602537286233844\n"
     ]
    }
   ],
   "source": [
    "# Determinação do R^2\n",
    "print('Rquadrado', metrics.r2_score(lnYPred['price'], lnYPred['pricePred']))"
   ]
  },
  {
   "cell_type": "markdown",
   "id": "03882e57-c217-45da-90a8-a83082d2eab5",
   "metadata": {},
   "source": [
    "O R^2 para os dados de teste é 0.96"
   ]
  },
  {
   "cell_type": "markdown",
   "id": "95d932ec-6dd7-48db-b2b3-ae44370905bd",
   "metadata": {},
   "source": [
    "## 6 ANÁLISE DE RESÍDUOS"
   ]
  },
  {
   "cell_type": "markdown",
   "id": "06877b11-eeb1-414b-aa0e-b598b988ec34",
   "metadata": {},
   "source": [
    "### Questão 11 - Utilizando os dados de teste, faça a análise de resíduos e responda: eles estão de acordo com a hipótese para a regressão linear?"
   ]
  },
  {
   "cell_type": "code",
   "execution_count": 37,
   "id": "766db962-5416-49ad-b536-2f1ce7960d4d",
   "metadata": {},
   "outputs": [],
   "source": [
    "# Cálculo dos resíduos\n",
    "lnYPred['res'] = lnYPred['price'] - lnYPred['pricePred']"
   ]
  },
  {
   "cell_type": "code",
   "execution_count": 38,
   "id": "1de61c76-e4e3-4b67-af1e-f68b1d95e9c9",
   "metadata": {},
   "outputs": [
    {
     "data": {
      "application/vnd.jupyter.widget-view+json": {
       "model_id": "f7b56fcf4dfd4c719846187058f931aa",
       "version_major": 2,
       "version_minor": 0
      },
      "text/plain": [
       "Canvas(toolbar=Toolbar(toolitems=[('Home', 'Reset original view', 'home', 'home'), ('Back', 'Back to previous …"
      ]
     },
     "metadata": {},
     "output_type": "display_data"
    },
    {
     "data": {
      "text/plain": [
       "Text(0, 0.5, 'Frequência')"
      ]
     },
     "execution_count": 38,
     "metadata": {},
     "output_type": "execute_result"
    }
   ],
   "source": [
    "# Distribuição dos resíduos\n",
    "fig = plt.figure()\n",
    "\n",
    "plt.hist(lnYPred['res'])\n",
    "\n",
    "plt.title('Resíduos do modelo', loc = 'left', fontweight = 'bold')\n",
    "\n",
    "plt.xlabel('Resíduos')\n",
    "\n",
    "plt.ylabel('Frequência')\n"
   ]
  },
  {
   "cell_type": "code",
   "execution_count": 39,
   "id": "fa0adc36-6c57-4dba-a778-d5da673803ca",
   "metadata": {},
   "outputs": [],
   "source": [
    "# Teste de normalidade\n",
    "kStat, kPvalue = stats.kstest(lnYPred['res'], cdf = 'norm')"
   ]
  },
  {
   "cell_type": "code",
   "execution_count": 40,
   "id": "7989ef92-7172-4242-a13c-ca47d22685f3",
   "metadata": {},
   "outputs": [
    {
     "name": "stdout",
     "output_type": "stream",
     "text": [
      "Estatística de teste: 0.34137001753480556 \n",
      " p-value: 0.0\n"
     ]
    }
   ],
   "source": [
    "print('Estatística de teste:', kStat, \"\\n\", 'p-value:', kPvalue)"
   ]
  },
  {
   "cell_type": "code",
   "execution_count": 41,
   "id": "cc60cfa6-6ef7-4895-bb5b-cec0f8b4e553",
   "metadata": {},
   "outputs": [
    {
     "data": {
      "application/vnd.jupyter.widget-view+json": {
       "model_id": "97da2fd7d5484be5be759b54664b12c8",
       "version_major": 2,
       "version_minor": 0
      },
      "text/plain": [
       "Canvas(toolbar=Toolbar(toolitems=[('Home', 'Reset original view', 'home', 'home'), ('Back', 'Back to previous …"
      ]
     },
     "metadata": {},
     "output_type": "display_data"
    },
    {
     "data": {
      "text/plain": [
       "<matplotlib.collections.PathCollection at 0x23115151e20>"
      ]
     },
     "execution_count": 41,
     "metadata": {},
     "output_type": "execute_result"
    }
   ],
   "source": [
    "# Homocedasticidade\n",
    "fig = plt.figure()\n",
    "plt.scatter(lnYPred['pricePred'], lnYPred['res'])"
   ]
  },
  {
   "cell_type": "markdown",
   "id": "9fafeac5-4c09-471e-a4b3-885f8bf1095b",
   "metadata": {},
   "source": [
    "Apesar dos resíduos terem um distribuição centrada no zero, eles não são normais. Há também um claro comportamento de heterocedasticidade. Por isso, a resposta correta é a 'd': Não, os não são nem homocedásticos nem normais."
   ]
  },
  {
   "cell_type": "markdown",
   "id": "9a09c9ac-6590-4aed-826b-500e5024e35d",
   "metadata": {},
   "source": [
    "## 7 REGRESSÃO REGULARIZADA"
   ]
  },
  {
   "cell_type": "markdown",
   "id": "22edf564-aa66-4552-b4f4-724e00dffc58",
   "metadata": {},
   "source": [
    "### Questão 12 - Utilizando a regressão regularizada tipo “ridge” e o dataset com TODOS os regressores, qual dentre os seguintes valores de alpha deixa o modelo com o maior R^2 para os dados de teste?"
   ]
  },
  {
   "cell_type": "code",
   "execution_count": 42,
   "id": "31658a59-c211-4ae0-bbdd-8eeaf9abb402",
   "metadata": {},
   "outputs": [],
   "source": [
    "# lambida\n",
    "alpha = [10]"
   ]
  },
  {
   "cell_type": "code",
   "execution_count": 43,
   "id": "c5baf94a-d5c7-4b8d-acd2-724731cd6484",
   "metadata": {},
   "outputs": [
    {
     "name": "stdout",
     "output_type": "stream",
     "text": [
      "Rquadrado 0.9233817993266841\n"
     ]
    }
   ],
   "source": [
    "# Especificar o modelo\n",
    "regRidge = Ridge(alpha = alpha)\n",
    "\n",
    "# Fazer o fit do modelo\n",
    "regRidge.fit(xTrain.drop(['Intercept'], axis=1), yTrain)\n",
    "\n",
    "# Prever os valores para o dataset de teste\n",
    "predYReg = pd.concat([yTest, pd.DataFrame(regRidge.predict(xTest.drop(['Intercept'], axis = 1)))], axis = 1)\n",
    "\n",
    "# Mudar o nome das variáveis\n",
    "\n",
    "predYReg.columns = ['price', 'predprice']\n",
    "\n",
    "# Plotar o R2\n",
    "\n",
    "print('Rquadrado', metrics.r2_score(predYReg['price'], predYReg['predprice']))\n"
   ]
  },
  {
   "cell_type": "markdown",
   "id": "b57dbdd0-5ace-420b-bfbf-7eb5689d3858",
   "metadata": {},
   "source": [
    "O valor do alpha que proporciona o maior valor de R^2 nos dados de teste é o 10."
   ]
  }
 ],
 "metadata": {
  "kernelspec": {
   "display_name": "Python 3",
   "language": "python",
   "name": "python3"
  },
  "language_info": {
   "codemirror_mode": {
    "name": "ipython",
    "version": 3
   },
   "file_extension": ".py",
   "mimetype": "text/x-python",
   "name": "python",
   "nbconvert_exporter": "python",
   "pygments_lexer": "ipython3",
   "version": "3.8.11"
  }
 },
 "nbformat": 4,
 "nbformat_minor": 5
}
