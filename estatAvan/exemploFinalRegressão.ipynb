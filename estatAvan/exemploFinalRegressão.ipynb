{
 "cells": [
  {
   "cell_type": "markdown",
   "id": "17944c37",
   "metadata": {},
   "source": [
    "# EXEMPLO DE REGRESSÃO LINEAR"
   ]
  },
  {
   "cell_type": "markdown",
   "id": "88abada9",
   "metadata": {},
   "source": [
    "# 0 CARREGAR BIBLIOTECAS"
   ]
  },
  {
   "cell_type": "code",
   "execution_count": 1,
   "id": "473c601f",
   "metadata": {},
   "outputs": [],
   "source": [
    "import numpy as np\n",
    "import pandas as pd\n",
    "import matplotlib.pyplot as plt\n",
    "import seaborn as sns\n",
    "import statsmodels.api as sm\n",
    "import scipy as sp\n",
    "import patsy as pt\n",
    "from numpy import arange\n",
    "from statsmodels.stats.outliers_influence import variance_inflation_factor \n",
    "from sklearn import metrics\n",
    "from sklearn.model_selection import train_test_split\n",
    "from sklearn.model_selection import GridSearchCV\n",
    "from sklearn.model_selection import RepeatedKFold\n",
    "from sklearn.model_selection import cross_val_score\n",
    "from sklearn.linear_model import Ridge\n",
    "from sklearn.linear_model import RidgeCV\n",
    "from sklearn.linear_model import Lasso\n",
    "from sklearn.linear_model import LassoCV"
   ]
  },
  {
   "cell_type": "code",
   "execution_count": 2,
   "id": "9d880e42",
   "metadata": {},
   "outputs": [],
   "source": [
    "# Para permitir gráficos interativos no notebook\n",
    "%matplotlib widget"
   ]
  },
  {
   "cell_type": "markdown",
   "id": "a9911cd2",
   "metadata": {},
   "source": [
    "# 1 CARREGAR OS DADOS"
   ]
  },
  {
   "cell_type": "code",
   "execution_count": 3,
   "id": "c63335eb",
   "metadata": {},
   "outputs": [],
   "source": [
    "url = 'https://archive.ics.uci.edu/ml/machine-learning-databases/auto-mpg/auto-mpg.data'"
   ]
  },
  {
   "cell_type": "code",
   "execution_count": 4,
   "id": "1ee0722f",
   "metadata": {},
   "outputs": [],
   "source": [
    "## Nome das colunas foi adquirido do arquivo aut-mp.names\n",
    "## https://archive.ics.uci.edu/ml/machine-learning-databases/auto-mpg/auto-mpg.names\n",
    "names = ['mpg', 'cyl', 'disp', 'hp', 'weight', 'acc', 'year', 'origin', 'name']"
   ]
  },
  {
   "cell_type": "code",
   "execution_count": 5,
   "id": "ba954a07",
   "metadata": {},
   "outputs": [],
   "source": [
    "df = pd.read_table(url, header = None, delim_whitespace = True, names = names)"
   ]
  },
  {
   "cell_type": "code",
   "execution_count": 6,
   "id": "44389d69",
   "metadata": {},
   "outputs": [
    {
     "data": {
      "text/html": [
       "<div>\n",
       "<style scoped>\n",
       "    .dataframe tbody tr th:only-of-type {\n",
       "        vertical-align: middle;\n",
       "    }\n",
       "\n",
       "    .dataframe tbody tr th {\n",
       "        vertical-align: top;\n",
       "    }\n",
       "\n",
       "    .dataframe thead th {\n",
       "        text-align: right;\n",
       "    }\n",
       "</style>\n",
       "<table border=\"1\" class=\"dataframe\">\n",
       "  <thead>\n",
       "    <tr style=\"text-align: right;\">\n",
       "      <th></th>\n",
       "      <th>mpg</th>\n",
       "      <th>cyl</th>\n",
       "      <th>disp</th>\n",
       "      <th>hp</th>\n",
       "      <th>weight</th>\n",
       "      <th>acc</th>\n",
       "      <th>year</th>\n",
       "      <th>origin</th>\n",
       "      <th>name</th>\n",
       "    </tr>\n",
       "  </thead>\n",
       "  <tbody>\n",
       "    <tr>\n",
       "      <th>0</th>\n",
       "      <td>18.0</td>\n",
       "      <td>8</td>\n",
       "      <td>307.0</td>\n",
       "      <td>130.0</td>\n",
       "      <td>3504.0</td>\n",
       "      <td>12.0</td>\n",
       "      <td>70</td>\n",
       "      <td>1</td>\n",
       "      <td>chevrolet chevelle malibu</td>\n",
       "    </tr>\n",
       "    <tr>\n",
       "      <th>1</th>\n",
       "      <td>15.0</td>\n",
       "      <td>8</td>\n",
       "      <td>350.0</td>\n",
       "      <td>165.0</td>\n",
       "      <td>3693.0</td>\n",
       "      <td>11.5</td>\n",
       "      <td>70</td>\n",
       "      <td>1</td>\n",
       "      <td>buick skylark 320</td>\n",
       "    </tr>\n",
       "    <tr>\n",
       "      <th>2</th>\n",
       "      <td>18.0</td>\n",
       "      <td>8</td>\n",
       "      <td>318.0</td>\n",
       "      <td>150.0</td>\n",
       "      <td>3436.0</td>\n",
       "      <td>11.0</td>\n",
       "      <td>70</td>\n",
       "      <td>1</td>\n",
       "      <td>plymouth satellite</td>\n",
       "    </tr>\n",
       "    <tr>\n",
       "      <th>3</th>\n",
       "      <td>16.0</td>\n",
       "      <td>8</td>\n",
       "      <td>304.0</td>\n",
       "      <td>150.0</td>\n",
       "      <td>3433.0</td>\n",
       "      <td>12.0</td>\n",
       "      <td>70</td>\n",
       "      <td>1</td>\n",
       "      <td>amc rebel sst</td>\n",
       "    </tr>\n",
       "    <tr>\n",
       "      <th>4</th>\n",
       "      <td>17.0</td>\n",
       "      <td>8</td>\n",
       "      <td>302.0</td>\n",
       "      <td>140.0</td>\n",
       "      <td>3449.0</td>\n",
       "      <td>10.5</td>\n",
       "      <td>70</td>\n",
       "      <td>1</td>\n",
       "      <td>ford torino</td>\n",
       "    </tr>\n",
       "  </tbody>\n",
       "</table>\n",
       "</div>"
      ],
      "text/plain": [
       "    mpg  cyl   disp     hp  weight   acc  year  origin  \\\n",
       "0  18.0    8  307.0  130.0  3504.0  12.0    70       1   \n",
       "1  15.0    8  350.0  165.0  3693.0  11.5    70       1   \n",
       "2  18.0    8  318.0  150.0  3436.0  11.0    70       1   \n",
       "3  16.0    8  304.0  150.0  3433.0  12.0    70       1   \n",
       "4  17.0    8  302.0  140.0  3449.0  10.5    70       1   \n",
       "\n",
       "                        name  \n",
       "0  chevrolet chevelle malibu  \n",
       "1          buick skylark 320  \n",
       "2         plymouth satellite  \n",
       "3              amc rebel sst  \n",
       "4                ford torino  "
      ]
     },
     "execution_count": 6,
     "metadata": {},
     "output_type": "execute_result"
    }
   ],
   "source": [
    "pd.DataFrame.head(df)"
   ]
  },
  {
   "cell_type": "markdown",
   "id": "e3862ad6",
   "metadata": {},
   "source": [
    "# 2 EDA"
   ]
  },
  {
   "cell_type": "markdown",
   "id": "a6f9df32",
   "metadata": {},
   "source": [
    "## 2.1 Estatísticas descritivas"
   ]
  },
  {
   "cell_type": "code",
   "execution_count": 7,
   "id": "8a17a3c1",
   "metadata": {},
   "outputs": [
    {
     "data": {
      "text/html": [
       "<div>\n",
       "<style scoped>\n",
       "    .dataframe tbody tr th:only-of-type {\n",
       "        vertical-align: middle;\n",
       "    }\n",
       "\n",
       "    .dataframe tbody tr th {\n",
       "        vertical-align: top;\n",
       "    }\n",
       "\n",
       "    .dataframe thead th {\n",
       "        text-align: right;\n",
       "    }\n",
       "</style>\n",
       "<table border=\"1\" class=\"dataframe\">\n",
       "  <thead>\n",
       "    <tr style=\"text-align: right;\">\n",
       "      <th></th>\n",
       "      <th>mpg</th>\n",
       "      <th>cyl</th>\n",
       "      <th>disp</th>\n",
       "      <th>weight</th>\n",
       "      <th>acc</th>\n",
       "      <th>year</th>\n",
       "      <th>origin</th>\n",
       "    </tr>\n",
       "  </thead>\n",
       "  <tbody>\n",
       "    <tr>\n",
       "      <th>count</th>\n",
       "      <td>398.000000</td>\n",
       "      <td>398.000000</td>\n",
       "      <td>398.000000</td>\n",
       "      <td>398.000000</td>\n",
       "      <td>398.000000</td>\n",
       "      <td>398.000000</td>\n",
       "      <td>398.000000</td>\n",
       "    </tr>\n",
       "    <tr>\n",
       "      <th>mean</th>\n",
       "      <td>23.514573</td>\n",
       "      <td>5.454774</td>\n",
       "      <td>193.425879</td>\n",
       "      <td>2970.424623</td>\n",
       "      <td>15.568090</td>\n",
       "      <td>76.010050</td>\n",
       "      <td>1.572864</td>\n",
       "    </tr>\n",
       "    <tr>\n",
       "      <th>std</th>\n",
       "      <td>7.815984</td>\n",
       "      <td>1.701004</td>\n",
       "      <td>104.269838</td>\n",
       "      <td>846.841774</td>\n",
       "      <td>2.757689</td>\n",
       "      <td>3.697627</td>\n",
       "      <td>0.802055</td>\n",
       "    </tr>\n",
       "    <tr>\n",
       "      <th>min</th>\n",
       "      <td>9.000000</td>\n",
       "      <td>3.000000</td>\n",
       "      <td>68.000000</td>\n",
       "      <td>1613.000000</td>\n",
       "      <td>8.000000</td>\n",
       "      <td>70.000000</td>\n",
       "      <td>1.000000</td>\n",
       "    </tr>\n",
       "    <tr>\n",
       "      <th>25%</th>\n",
       "      <td>17.500000</td>\n",
       "      <td>4.000000</td>\n",
       "      <td>104.250000</td>\n",
       "      <td>2223.750000</td>\n",
       "      <td>13.825000</td>\n",
       "      <td>73.000000</td>\n",
       "      <td>1.000000</td>\n",
       "    </tr>\n",
       "    <tr>\n",
       "      <th>50%</th>\n",
       "      <td>23.000000</td>\n",
       "      <td>4.000000</td>\n",
       "      <td>148.500000</td>\n",
       "      <td>2803.500000</td>\n",
       "      <td>15.500000</td>\n",
       "      <td>76.000000</td>\n",
       "      <td>1.000000</td>\n",
       "    </tr>\n",
       "    <tr>\n",
       "      <th>75%</th>\n",
       "      <td>29.000000</td>\n",
       "      <td>8.000000</td>\n",
       "      <td>262.000000</td>\n",
       "      <td>3608.000000</td>\n",
       "      <td>17.175000</td>\n",
       "      <td>79.000000</td>\n",
       "      <td>2.000000</td>\n",
       "    </tr>\n",
       "    <tr>\n",
       "      <th>max</th>\n",
       "      <td>46.600000</td>\n",
       "      <td>8.000000</td>\n",
       "      <td>455.000000</td>\n",
       "      <td>5140.000000</td>\n",
       "      <td>24.800000</td>\n",
       "      <td>82.000000</td>\n",
       "      <td>3.000000</td>\n",
       "    </tr>\n",
       "  </tbody>\n",
       "</table>\n",
       "</div>"
      ],
      "text/plain": [
       "              mpg         cyl        disp       weight         acc  \\\n",
       "count  398.000000  398.000000  398.000000   398.000000  398.000000   \n",
       "mean    23.514573    5.454774  193.425879  2970.424623   15.568090   \n",
       "std      7.815984    1.701004  104.269838   846.841774    2.757689   \n",
       "min      9.000000    3.000000   68.000000  1613.000000    8.000000   \n",
       "25%     17.500000    4.000000  104.250000  2223.750000   13.825000   \n",
       "50%     23.000000    4.000000  148.500000  2803.500000   15.500000   \n",
       "75%     29.000000    8.000000  262.000000  3608.000000   17.175000   \n",
       "max     46.600000    8.000000  455.000000  5140.000000   24.800000   \n",
       "\n",
       "             year      origin  \n",
       "count  398.000000  398.000000  \n",
       "mean    76.010050    1.572864  \n",
       "std      3.697627    0.802055  \n",
       "min     70.000000    1.000000  \n",
       "25%     73.000000    1.000000  \n",
       "50%     76.000000    1.000000  \n",
       "75%     79.000000    2.000000  \n",
       "max     82.000000    3.000000  "
      ]
     },
     "execution_count": 7,
     "metadata": {},
     "output_type": "execute_result"
    }
   ],
   "source": [
    "df.describe()"
   ]
  },
  {
   "cell_type": "markdown",
   "id": "337dc7a6",
   "metadata": {},
   "source": [
    "Importante notar que as variáveis year e origin parecem ser \"fatores\". Elas são números, mas não representam ordem de grandeza."
   ]
  },
  {
   "cell_type": "markdown",
   "id": "3af1eb1d",
   "metadata": {},
   "source": [
    "## 2.2 Separação das variáveis"
   ]
  },
  {
   "cell_type": "markdown",
   "id": "bf182707",
   "metadata": {},
   "source": [
    "Para facilitar a vizualização e também a modelagem posterior, vamos seprar o dataframe em três pedaços: (1) a respostas, mpg, (2) as variáveis categóricas e (3) as variáveis numéricas."
   ]
  },
  {
   "cell_type": "markdown",
   "id": "06869e44",
   "metadata": {},
   "source": [
    "### 2.2.1 Variáveis categóricas."
   ]
  },
  {
   "cell_type": "markdown",
   "id": "6fbdee51",
   "metadata": {},
   "source": [
    "Antes de separar as variáveis, vamos transformar tanto o ano quanto a origem em \"fatores\"."
   ]
  },
  {
   "cell_type": "code",
   "execution_count": 8,
   "id": "37af6796",
   "metadata": {},
   "outputs": [],
   "source": [
    "# Variável ano\n",
    "df['year'] = df['year'].astype('category')\n",
    "\n",
    "# Variável origem\n",
    "df['origin'] = df['origin'].astype('category')\n",
    "\n",
    "# Seleciona somente variáveis categóricas\n",
    "xCat = df.select_dtypes(include = 'category')"
   ]
  },
  {
   "cell_type": "code",
   "execution_count": 9,
   "id": "f0e49353",
   "metadata": {},
   "outputs": [
    {
     "data": {
      "text/html": [
       "<div>\n",
       "<style scoped>\n",
       "    .dataframe tbody tr th:only-of-type {\n",
       "        vertical-align: middle;\n",
       "    }\n",
       "\n",
       "    .dataframe tbody tr th {\n",
       "        vertical-align: top;\n",
       "    }\n",
       "\n",
       "    .dataframe thead th {\n",
       "        text-align: right;\n",
       "    }\n",
       "</style>\n",
       "<table border=\"1\" class=\"dataframe\">\n",
       "  <thead>\n",
       "    <tr style=\"text-align: right;\">\n",
       "      <th></th>\n",
       "      <th>year</th>\n",
       "      <th>origin</th>\n",
       "    </tr>\n",
       "  </thead>\n",
       "  <tbody>\n",
       "    <tr>\n",
       "      <th>0</th>\n",
       "      <td>70</td>\n",
       "      <td>1</td>\n",
       "    </tr>\n",
       "    <tr>\n",
       "      <th>1</th>\n",
       "      <td>70</td>\n",
       "      <td>1</td>\n",
       "    </tr>\n",
       "    <tr>\n",
       "      <th>2</th>\n",
       "      <td>70</td>\n",
       "      <td>1</td>\n",
       "    </tr>\n",
       "    <tr>\n",
       "      <th>3</th>\n",
       "      <td>70</td>\n",
       "      <td>1</td>\n",
       "    </tr>\n",
       "    <tr>\n",
       "      <th>4</th>\n",
       "      <td>70</td>\n",
       "      <td>1</td>\n",
       "    </tr>\n",
       "  </tbody>\n",
       "</table>\n",
       "</div>"
      ],
      "text/plain": [
       "  year origin\n",
       "0   70      1\n",
       "1   70      1\n",
       "2   70      1\n",
       "3   70      1\n",
       "4   70      1"
      ]
     },
     "execution_count": 9,
     "metadata": {},
     "output_type": "execute_result"
    }
   ],
   "source": [
    "pd.DataFrame.head(xCat)"
   ]
  },
  {
   "cell_type": "markdown",
   "id": "e3837dd3",
   "metadata": {},
   "source": [
    "### 2.2.2 Variáveis numéricas"
   ]
  },
  {
   "cell_type": "code",
   "execution_count": 10,
   "id": "ec06a72b",
   "metadata": {},
   "outputs": [
    {
     "name": "stderr",
     "output_type": "stream",
     "text": [
      "C:\\ProgramData\\Anaconda3\\lib\\site-packages\\pandas\\core\\frame.py:4308: SettingWithCopyWarning: \n",
      "A value is trying to be set on a copy of a slice from a DataFrame\n",
      "\n",
      "See the caveats in the documentation: https://pandas.pydata.org/pandas-docs/stable/user_guide/indexing.html#returning-a-view-versus-a-copy\n",
      "  return super().drop(\n"
     ]
    }
   ],
   "source": [
    "# Seleciona somente as variáveis numéricas\n",
    "xNum = df.select_dtypes(include = 'number')\n",
    "\n",
    "# Remover a coluna de resposta 'mpg'\n",
    "xNum.drop(['mpg'], axis = 1, inplace = True)"
   ]
  },
  {
   "cell_type": "code",
   "execution_count": 11,
   "id": "7dec9718",
   "metadata": {},
   "outputs": [
    {
     "data": {
      "text/html": [
       "<div>\n",
       "<style scoped>\n",
       "    .dataframe tbody tr th:only-of-type {\n",
       "        vertical-align: middle;\n",
       "    }\n",
       "\n",
       "    .dataframe tbody tr th {\n",
       "        vertical-align: top;\n",
       "    }\n",
       "\n",
       "    .dataframe thead th {\n",
       "        text-align: right;\n",
       "    }\n",
       "</style>\n",
       "<table border=\"1\" class=\"dataframe\">\n",
       "  <thead>\n",
       "    <tr style=\"text-align: right;\">\n",
       "      <th></th>\n",
       "      <th>cyl</th>\n",
       "      <th>disp</th>\n",
       "      <th>weight</th>\n",
       "      <th>acc</th>\n",
       "    </tr>\n",
       "  </thead>\n",
       "  <tbody>\n",
       "    <tr>\n",
       "      <th>0</th>\n",
       "      <td>8</td>\n",
       "      <td>307.0</td>\n",
       "      <td>3504.0</td>\n",
       "      <td>12.0</td>\n",
       "    </tr>\n",
       "    <tr>\n",
       "      <th>1</th>\n",
       "      <td>8</td>\n",
       "      <td>350.0</td>\n",
       "      <td>3693.0</td>\n",
       "      <td>11.5</td>\n",
       "    </tr>\n",
       "    <tr>\n",
       "      <th>2</th>\n",
       "      <td>8</td>\n",
       "      <td>318.0</td>\n",
       "      <td>3436.0</td>\n",
       "      <td>11.0</td>\n",
       "    </tr>\n",
       "    <tr>\n",
       "      <th>3</th>\n",
       "      <td>8</td>\n",
       "      <td>304.0</td>\n",
       "      <td>3433.0</td>\n",
       "      <td>12.0</td>\n",
       "    </tr>\n",
       "    <tr>\n",
       "      <th>4</th>\n",
       "      <td>8</td>\n",
       "      <td>302.0</td>\n",
       "      <td>3449.0</td>\n",
       "      <td>10.5</td>\n",
       "    </tr>\n",
       "  </tbody>\n",
       "</table>\n",
       "</div>"
      ],
      "text/plain": [
       "   cyl   disp  weight   acc\n",
       "0    8  307.0  3504.0  12.0\n",
       "1    8  350.0  3693.0  11.5\n",
       "2    8  318.0  3436.0  11.0\n",
       "3    8  304.0  3433.0  12.0\n",
       "4    8  302.0  3449.0  10.5"
      ]
     },
     "execution_count": 11,
     "metadata": {},
     "output_type": "execute_result"
    }
   ],
   "source": [
    "pd.DataFrame.head(xNum)"
   ]
  },
  {
   "cell_type": "markdown",
   "id": "fa17fe42",
   "metadata": {},
   "source": [
    "### 2.2.3 Resposta"
   ]
  },
  {
   "cell_type": "code",
   "execution_count": 12,
   "id": "f2ae36f6",
   "metadata": {},
   "outputs": [],
   "source": [
    "# Salva a resposta no objeto 'y'\n",
    "y = df['mpg']"
   ]
  },
  {
   "cell_type": "code",
   "execution_count": 13,
   "id": "fbe90d2d",
   "metadata": {},
   "outputs": [
    {
     "data": {
      "text/plain": [
       "0    18.0\n",
       "1    15.0\n",
       "2    18.0\n",
       "3    16.0\n",
       "4    17.0\n",
       "Name: mpg, dtype: float64"
      ]
     },
     "execution_count": 13,
     "metadata": {},
     "output_type": "execute_result"
    }
   ],
   "source": [
    "pd.DataFrame.head(y)"
   ]
  },
  {
   "cell_type": "markdown",
   "id": "8e73f381",
   "metadata": {},
   "source": [
    "## 2.3 Distribuição das variáveis"
   ]
  },
  {
   "cell_type": "markdown",
   "id": "1ca70c69",
   "metadata": {},
   "source": [
    "### 2.3.1 Variáveis cagegóricas"
   ]
  },
  {
   "cell_type": "code",
   "execution_count": 14,
   "id": "389c21da",
   "metadata": {},
   "outputs": [
    {
     "data": {
      "application/vnd.jupyter.widget-view+json": {
       "model_id": "bed4d0d17a5045ab9b2ae7234a4de791",
       "version_major": 2,
       "version_minor": 0
      },
      "text/plain": [
       "Canvas(toolbar=Toolbar(toolitems=[('Home', 'Reset original view', 'home', 'home'), ('Back', 'Back to previous …"
      ]
     },
     "metadata": {},
     "output_type": "display_data"
    },
    {
     "data": {
      "text/plain": [
       "Text(0.5, 1.0, 'Freq. ao longo da origem')"
      ]
     },
     "execution_count": 14,
     "metadata": {},
     "output_type": "execute_result"
    }
   ],
   "source": [
    "# Cria imagens vazias\n",
    "fig = plt.figure()\n",
    "ax1 = fig.add_subplot(1, 2, 1)\n",
    "ax2 = fig.add_subplot(1, 2, 2)\n",
    "\n",
    "#Gráfico para frequência dos anos\n",
    "ax1.bar(xCat['year'].unique(), xCat['year'].value_counts())\n",
    "ax1.set_title('Freq. ao longo dos anos')\n",
    "\n",
    "# Gráfico para frequência das origens\n",
    "ax2.bar(xCat['origin'].unique(), xCat['origin'].value_counts())\n",
    "ax2.set_title('Freq. ao longo da origem')"
   ]
  },
  {
   "cell_type": "markdown",
   "id": "aa98b68f",
   "metadata": {},
   "source": [
    "Percebe-se que a frequência de carros em cada ano ou cada origem não é a mesma. "
   ]
  },
  {
   "cell_type": "markdown",
   "id": "41b2bf46",
   "metadata": {},
   "source": [
    "### 2.3.2 Variáveis numéricas"
   ]
  },
  {
   "cell_type": "code",
   "execution_count": 15,
   "id": "8e465471",
   "metadata": {},
   "outputs": [
    {
     "data": {
      "application/vnd.jupyter.widget-view+json": {
       "model_id": "8ce9be10f8f543ba9280e15414fd5d91",
       "version_major": 2,
       "version_minor": 0
      },
      "text/plain": [
       "Canvas(toolbar=Toolbar(toolitems=[('Home', 'Reset original view', 'home', 'home'), ('Back', 'Back to previous …"
      ]
     },
     "metadata": {},
     "output_type": "display_data"
    }
   ],
   "source": [
    "# Definir a quantidade de subplots\n",
    "nCols = 2\n",
    "nRows = int(np.ceil(len(xNum.columns) / (1.0*nCols)))\n",
    "\n",
    "# Plota a figura vazia\n",
    "fig, axes = plt.subplots(nrows = nRows, ncols = nCols, figsize = (10, 10))\n",
    "\n",
    "# Inicializa a variáve counter\n",
    "counter = 0\n",
    "\n",
    "# Plota os histogramas de modo automático\n",
    "for i in range(nRows):\n",
    "    for j in range(nCols):\n",
    "    \n",
    "        ax = axes[i][j]\n",
    "        \n",
    "        # Plota somente se tivermos dados\n",
    "        if counter < len(xNum.columns):\n",
    "            \n",
    "            ax.hist(xNum[xNum.columns[counter]]) # Plota o gráfico\n",
    "            ax.set_xlabel(xNum.columns[counter]) # Define o título do eixo x\n",
    "            ax.set_ylabel('freq')\n",
    "            \n",
    "        else:\n",
    "            ax.set_axis_off()\n",
    "            \n",
    "        counter += 1\n",
    "    \n",
    "plt.show()\n"
   ]
  },
  {
   "cell_type": "markdown",
   "id": "68a78208",
   "metadata": {},
   "source": [
    "É possível ver que as variáveis contínuas possuem (1) escalas diferentes e (2) distribuições que não são normais. Em alguns casos (como na variávei 'disp') há uma bimodalidade aparente."
   ]
  },
  {
   "cell_type": "markdown",
   "id": "bb8ac4cf",
   "metadata": {},
   "source": [
    "### 2.3.3 Resposta"
   ]
  },
  {
   "cell_type": "code",
   "execution_count": 16,
   "id": "1a8f4145",
   "metadata": {},
   "outputs": [
    {
     "data": {
      "application/vnd.jupyter.widget-view+json": {
       "model_id": "82d1e179a29f40748d2827601a3d3c68",
       "version_major": 2,
       "version_minor": 0
      },
      "text/plain": [
       "Canvas(toolbar=Toolbar(toolitems=[('Home', 'Reset original view', 'home', 'home'), ('Back', 'Back to previous …"
      ]
     },
     "metadata": {},
     "output_type": "display_data"
    },
    {
     "data": {
      "text/plain": [
       "Text(0, 0.5, 'Freq')"
      ]
     },
     "execution_count": 16,
     "metadata": {},
     "output_type": "execute_result"
    }
   ],
   "source": [
    "fig = plt.figure()\n",
    "ax = fig.add_subplot(1, 1, 1)\n",
    "plt.hist(y)\n",
    "ax.set_title('Consumo médio')\n",
    "ax.set_xlabel('Milhas por galão')\n",
    "ax.set_ylabel('Freq')"
   ]
  },
  {
   "cell_type": "markdown",
   "id": "04709b0f",
   "metadata": {},
   "source": [
    "A resposta claramente não possui uma distribuição normal. Ela possui uma grande assimetria para a esquerda."
   ]
  },
  {
   "cell_type": "markdown",
   "id": "5c40fee5",
   "metadata": {},
   "source": [
    "# 3 PRÉ TRATAMENTO"
   ]
  },
  {
   "cell_type": "markdown",
   "id": "cec67481",
   "metadata": {},
   "source": [
    "# 3.1 Resposta"
   ]
  },
  {
   "cell_type": "markdown",
   "id": "740df2ea",
   "metadata": {},
   "source": [
    "Antes de realizar qualquer transformação na resposta, vamos realizar um teste de normalidade com o intuito de quantificar o desvio."
   ]
  },
  {
   "cell_type": "code",
   "execution_count": 17,
   "id": "4e2f57f9",
   "metadata": {},
   "outputs": [],
   "source": [
    "kStat,kPvalue = sp.stats.kstest(y, 'norm')"
   ]
  },
  {
   "cell_type": "code",
   "execution_count": 18,
   "id": "8907bd54",
   "metadata": {},
   "outputs": [
    {
     "data": {
      "text/plain": [
       "1.0"
      ]
     },
     "execution_count": 18,
     "metadata": {},
     "output_type": "execute_result"
    }
   ],
   "source": [
    "kStat"
   ]
  },
  {
   "cell_type": "code",
   "execution_count": 19,
   "id": "c1eaaa2e",
   "metadata": {},
   "outputs": [
    {
     "data": {
      "text/plain": [
       "0.0"
      ]
     },
     "execution_count": 19,
     "metadata": {},
     "output_type": "execute_result"
    }
   ],
   "source": [
    "kPvalue"
   ]
  },
  {
   "cell_type": "markdown",
   "id": "0e84b958",
   "metadata": {},
   "source": [
    "Como dito na aula sobre pré tratamento dos dados, um p-value pequeno representa que os dados não são normais. Por isso, é interessante tentar normalizá-los antes da modelagem. Uma transformação muito comum para dados assimétricos é a logarítmo natural, 'ln'. Para que essa transformação seja utilizada, não é permitido existir nenhum número menor ou igual a zero nos dados."
   ]
  },
  {
   "cell_type": "markdown",
   "id": "8ab1f74f",
   "metadata": {},
   "source": [
    "### Transformação da resposta - LN"
   ]
  },
  {
   "cell_type": "code",
   "execution_count": 20,
   "id": "cc987b55",
   "metadata": {},
   "outputs": [],
   "source": [
    "yLog = np.log(y)"
   ]
  },
  {
   "cell_type": "code",
   "execution_count": 21,
   "id": "69270bea",
   "metadata": {},
   "outputs": [
    {
     "data": {
      "application/vnd.jupyter.widget-view+json": {
       "model_id": "0c10185a63364541b884610a27d1e1ed",
       "version_major": 2,
       "version_minor": 0
      },
      "text/plain": [
       "Canvas(toolbar=Toolbar(toolitems=[('Home', 'Reset original view', 'home', 'home'), ('Back', 'Back to previous …"
      ]
     },
     "metadata": {},
     "output_type": "display_data"
    },
    {
     "data": {
      "text/plain": [
       "Text(0, 0.5, 'Freq')"
      ]
     },
     "execution_count": 21,
     "metadata": {},
     "output_type": "execute_result"
    }
   ],
   "source": [
    "fig = plt.figure()\n",
    "ax = fig.add_subplot(1, 1, 1)\n",
    "plt.hist(yLog)\n",
    "ax.set_title('Consumo médio')\n",
    "ax.set_xlabel('Log milhas por galão')\n",
    "ax.set_ylabel('Freq')"
   ]
  },
  {
   "cell_type": "code",
   "execution_count": 22,
   "id": "86a86def",
   "metadata": {},
   "outputs": [],
   "source": [
    "kStat,kPvalue = sp.stats.kstest(yLog, 'norm')"
   ]
  },
  {
   "cell_type": "code",
   "execution_count": 23,
   "id": "aae63591",
   "metadata": {},
   "outputs": [
    {
     "data": {
      "text/plain": [
       "0.9868363378442295"
      ]
     },
     "execution_count": 23,
     "metadata": {},
     "output_type": "execute_result"
    }
   ],
   "source": [
    "kStat"
   ]
  },
  {
   "cell_type": "code",
   "execution_count": 24,
   "id": "7a2ce162",
   "metadata": {},
   "outputs": [
    {
     "data": {
      "text/plain": [
       "0.0"
      ]
     },
     "execution_count": 24,
     "metadata": {},
     "output_type": "execute_result"
    }
   ],
   "source": [
    "kPvalue"
   ]
  },
  {
   "cell_type": "markdown",
   "id": "26bc07e6",
   "metadata": {},
   "source": [
    "Como pode ser visto, apesar de graficamente os dados terem melhorado, o teste de normalidade ainda mostra dados não normais. Por isso, testar-se-á um método mais moderno chamado transformada de Box-Cox, que faz vários tipos de trasnformadas e indica qual é a melhor."
   ]
  },
  {
   "cell_type": "markdown",
   "id": "d7eac0ad",
   "metadata": {},
   "source": [
    "### Transformação da resposta - Box Cox"
   ]
  },
  {
   "cell_type": "code",
   "execution_count": 25,
   "id": "885b5f3c",
   "metadata": {},
   "outputs": [],
   "source": [
    "yBx = sp.stats.boxcox(y, alpha = 0.01)"
   ]
  },
  {
   "cell_type": "code",
   "execution_count": 26,
   "id": "8b375879",
   "metadata": {},
   "outputs": [
    {
     "data": {
      "text/plain": [
       "0.19735475361200427"
      ]
     },
     "execution_count": 26,
     "metadata": {},
     "output_type": "execute_result"
    }
   ],
   "source": [
    "# Mostra o melhor valor da transformação\n",
    "yBx[1]"
   ]
  },
  {
   "cell_type": "code",
   "execution_count": 27,
   "id": "9f019aca",
   "metadata": {},
   "outputs": [
    {
     "data": {
      "text/plain": [
       "(-0.18013781883434132, 0.577186423120012)"
      ]
     },
     "execution_count": 27,
     "metadata": {},
     "output_type": "execute_result"
    }
   ],
   "source": [
    "# Mostra o intervalo de confiança 99%\n",
    "yBx[2]"
   ]
  },
  {
   "cell_type": "markdown",
   "id": "2da313c7",
   "metadata": {},
   "source": [
    "Com esses resultados, há duas possibilidades: (1) usar o valor do lambda ótimo, de 0.197 e (2) usar um valor aproximado que está dentro do intervalo de confiança. Nesse caso, ambos '0' e '0.5' estão dentro do intervalo. O valor '0' equivale ao logaritmo natural, que já foi testado. Vamos então avaliar o lambda ótimo e o valor de 0.5 (raiz quadrada)."
   ]
  },
  {
   "cell_type": "markdown",
   "id": "16dda347",
   "metadata": {},
   "source": [
    "#### Lambda ótimo = 0.197"
   ]
  },
  {
   "cell_type": "code",
   "execution_count": 28,
   "id": "685fe702",
   "metadata": {},
   "outputs": [
    {
     "data": {
      "application/vnd.jupyter.widget-view+json": {
       "model_id": "2135cb515a6842079ab8b56ed068d1d9",
       "version_major": 2,
       "version_minor": 0
      },
      "text/plain": [
       "Canvas(toolbar=Toolbar(toolitems=[('Home', 'Reset original view', 'home', 'home'), ('Back', 'Back to previous …"
      ]
     },
     "metadata": {},
     "output_type": "display_data"
    },
    {
     "data": {
      "text/plain": [
       "Text(0, 0.5, 'Freq')"
      ]
     },
     "execution_count": 28,
     "metadata": {},
     "output_type": "execute_result"
    }
   ],
   "source": [
    "fig = plt.figure()\n",
    "ax = fig.add_subplot(1, 1, 1)\n",
    "plt.hist(yBx[0])\n",
    "ax.set_title('Consumo médio - Box Cox - Lambda ótimo')\n",
    "ax.set_xlabel('Milhas por galão')\n",
    "ax.set_ylabel('Freq')"
   ]
  },
  {
   "cell_type": "code",
   "execution_count": 29,
   "id": "c8c8a0dd",
   "metadata": {},
   "outputs": [],
   "source": [
    "kStat,kPvalue = sp.stats.kstest(yBx[0], 'norm')"
   ]
  },
  {
   "cell_type": "code",
   "execution_count": 30,
   "id": "d5d82277",
   "metadata": {},
   "outputs": [
    {
     "data": {
      "text/plain": [
       "0.9970260615656921"
      ]
     },
     "execution_count": 30,
     "metadata": {},
     "output_type": "execute_result"
    }
   ],
   "source": [
    "kStat"
   ]
  },
  {
   "cell_type": "code",
   "execution_count": 31,
   "id": "43c9fb99",
   "metadata": {},
   "outputs": [
    {
     "data": {
      "text/plain": [
       "0.0"
      ]
     },
     "execution_count": 31,
     "metadata": {},
     "output_type": "execute_result"
    }
   ],
   "source": [
    "kPvalue"
   ]
  },
  {
   "cell_type": "markdown",
   "id": "79e22287",
   "metadata": {},
   "source": [
    "#### Lambda de 0.5 (raiz quadrada)"
   ]
  },
  {
   "cell_type": "code",
   "execution_count": 32,
   "id": "c2bdab90",
   "metadata": {},
   "outputs": [],
   "source": [
    "ySqrt = np.sqrt(y)"
   ]
  },
  {
   "cell_type": "code",
   "execution_count": 33,
   "id": "02540727",
   "metadata": {},
   "outputs": [
    {
     "data": {
      "application/vnd.jupyter.widget-view+json": {
       "model_id": "238cbe40fc684263af5e3e7abd7113b1",
       "version_major": 2,
       "version_minor": 0
      },
      "text/plain": [
       "Canvas(toolbar=Toolbar(toolitems=[('Home', 'Reset original view', 'home', 'home'), ('Back', 'Back to previous …"
      ]
     },
     "metadata": {},
     "output_type": "display_data"
    },
    {
     "data": {
      "text/plain": [
       "Text(0, 0.5, 'Freq')"
      ]
     },
     "execution_count": 33,
     "metadata": {},
     "output_type": "execute_result"
    }
   ],
   "source": [
    "fig = plt.figure()\n",
    "ax = fig.add_subplot(1, 1, 1)\n",
    "plt.hist(ySqrt)\n",
    "ax.set_title('Consumo médio - Box Cox - Lambda 0.5')\n",
    "ax.set_xlabel('Milhas por galão')\n",
    "ax.set_ylabel('Freq')"
   ]
  },
  {
   "cell_type": "code",
   "execution_count": 34,
   "id": "66d05bfd",
   "metadata": {},
   "outputs": [],
   "source": [
    "kStat,kPvalue = sp.stats.kstest(ySqrt, 'norm')"
   ]
  },
  {
   "cell_type": "code",
   "execution_count": 35,
   "id": "4db139af",
   "metadata": {},
   "outputs": [
    {
     "data": {
      "text/plain": [
       "0.9986501019683699"
      ]
     },
     "execution_count": 35,
     "metadata": {},
     "output_type": "execute_result"
    }
   ],
   "source": [
    "kStat"
   ]
  },
  {
   "cell_type": "code",
   "execution_count": 36,
   "id": "11dfff83",
   "metadata": {},
   "outputs": [
    {
     "data": {
      "text/plain": [
       "0.0"
      ]
     },
     "execution_count": 36,
     "metadata": {},
     "output_type": "execute_result"
    }
   ],
   "source": [
    "kPvalue"
   ]
  },
  {
   "cell_type": "markdown",
   "id": "42979e56",
   "metadata": {},
   "source": [
    "Nenhuma transformada foi capaz de normalizar a resposta numericamente, mas é possível pelos gráficos que todas conseguiram pelo menos diminuir a assimetria. Assim, vamos dar seguimento utilizando o logaritmo natural por essas razões: (1) historicamente é a trasnformada mais utilizada, (2) é fácil de \"voltar\" os dados á escala original (exp(log(y)) e (3) apresentou o menor valor da estatística no teste do Kolmogorov."
   ]
  },
  {
   "cell_type": "markdown",
   "id": "40ae95f6",
   "metadata": {},
   "source": [
    "## 3.2 Variáveis contínuas"
   ]
  },
  {
   "cell_type": "markdown",
   "id": "205a2d25",
   "metadata": {},
   "source": [
    "Para as variáveis contínuas, a transformação utilizada será o escalonamento. Para facilitar a aplicação dessa operação, uma função será criada."
   ]
  },
  {
   "cell_type": "code",
   "execution_count": 37,
   "id": "8b664312",
   "metadata": {},
   "outputs": [],
   "source": [
    "def feat_scale(X):\n",
    "    # Calcula a média de todas as variáveis\n",
    "    mu = np.mean(X, axis = 0) \n",
    "    \n",
    "    # Calcula o desvio padrão de todas as variáveis\n",
    "    sigma = np.std(X, axis = 0, ddof = 1) \n",
    "    \n",
    "    # Faz o escalonamento\n",
    "    xNorm = (X - mu)/sigma\n",
    "    \n",
    "    return xNorm, mu, sigma"
   ]
  },
  {
   "cell_type": "code",
   "execution_count": 38,
   "id": "ff078324",
   "metadata": {},
   "outputs": [],
   "source": [
    "# Aplicando a função às variáveis contínuas\n",
    "xNorm, mu, sigma = feat_scale(xNum)"
   ]
  },
  {
   "cell_type": "code",
   "execution_count": 39,
   "id": "2b5b5d62",
   "metadata": {},
   "outputs": [
    {
     "data": {
      "text/html": [
       "<div>\n",
       "<style scoped>\n",
       "    .dataframe tbody tr th:only-of-type {\n",
       "        vertical-align: middle;\n",
       "    }\n",
       "\n",
       "    .dataframe tbody tr th {\n",
       "        vertical-align: top;\n",
       "    }\n",
       "\n",
       "    .dataframe thead th {\n",
       "        text-align: right;\n",
       "    }\n",
       "</style>\n",
       "<table border=\"1\" class=\"dataframe\">\n",
       "  <thead>\n",
       "    <tr style=\"text-align: right;\">\n",
       "      <th></th>\n",
       "      <th>cyl</th>\n",
       "      <th>disp</th>\n",
       "      <th>weight</th>\n",
       "      <th>acc</th>\n",
       "    </tr>\n",
       "  </thead>\n",
       "  <tbody>\n",
       "    <tr>\n",
       "      <th>0</th>\n",
       "      <td>1.496308</td>\n",
       "      <td>1.089233</td>\n",
       "      <td>0.630077</td>\n",
       "      <td>-1.293870</td>\n",
       "    </tr>\n",
       "    <tr>\n",
       "      <th>1</th>\n",
       "      <td>1.496308</td>\n",
       "      <td>1.501624</td>\n",
       "      <td>0.853259</td>\n",
       "      <td>-1.475181</td>\n",
       "    </tr>\n",
       "    <tr>\n",
       "      <th>2</th>\n",
       "      <td>1.496308</td>\n",
       "      <td>1.194728</td>\n",
       "      <td>0.549778</td>\n",
       "      <td>-1.656492</td>\n",
       "    </tr>\n",
       "    <tr>\n",
       "      <th>3</th>\n",
       "      <td>1.496308</td>\n",
       "      <td>1.060461</td>\n",
       "      <td>0.546236</td>\n",
       "      <td>-1.293870</td>\n",
       "    </tr>\n",
       "    <tr>\n",
       "      <th>4</th>\n",
       "      <td>1.496308</td>\n",
       "      <td>1.041280</td>\n",
       "      <td>0.565130</td>\n",
       "      <td>-1.837804</td>\n",
       "    </tr>\n",
       "  </tbody>\n",
       "</table>\n",
       "</div>"
      ],
      "text/plain": [
       "        cyl      disp    weight       acc\n",
       "0  1.496308  1.089233  0.630077 -1.293870\n",
       "1  1.496308  1.501624  0.853259 -1.475181\n",
       "2  1.496308  1.194728  0.549778 -1.656492\n",
       "3  1.496308  1.060461  0.546236 -1.293870\n",
       "4  1.496308  1.041280  0.565130 -1.837804"
      ]
     },
     "execution_count": 39,
     "metadata": {},
     "output_type": "execute_result"
    }
   ],
   "source": [
    "pd.DataFrame.head(xNorm)"
   ]
  },
  {
   "cell_type": "markdown",
   "id": "599db7cd",
   "metadata": {},
   "source": [
    "Checando o resultado."
   ]
  },
  {
   "cell_type": "code",
   "execution_count": 40,
   "id": "69350144",
   "metadata": {},
   "outputs": [
    {
     "data": {
      "application/vnd.jupyter.widget-view+json": {
       "model_id": "3e4e05bfbeeb46e287216362340c94c9",
       "version_major": 2,
       "version_minor": 0
      },
      "text/plain": [
       "Canvas(toolbar=Toolbar(toolitems=[('Home', 'Reset original view', 'home', 'home'), ('Back', 'Back to previous …"
      ]
     },
     "metadata": {},
     "output_type": "display_data"
    }
   ],
   "source": [
    "# Definir a quantidade de subplots\n",
    "nCols = 2\n",
    "nRows = int(np.ceil(len(xNorm.columns) / (1.0*nCols)))\n",
    "\n",
    "# Plota a figura vazia\n",
    "fig, axes = plt.subplots(nrows = nRows, ncols = nCols, figsize = (10, 10))\n",
    "\n",
    "counter = 0\n",
    "\n",
    "# Plota os histogramas de modo automático\n",
    "for i in range(nRows):\n",
    "    for j in range(nCols):\n",
    "    \n",
    "        ax = axes[i][j]\n",
    "        \n",
    "        # Plota somente se tivermos dados\n",
    "        if counter < len(xNum.columns):\n",
    "            \n",
    "            ax.hist(xNorm[xNorm.columns[counter]]) # Plota o gráfico\n",
    "            ax.set_xlabel(xNorm.columns[counter]) # Define o título do eixo x\n",
    "            ax.set_ylabel('freq')\n",
    "            \n",
    "        else:\n",
    "            ax.set_axis_off()\n",
    "            \n",
    "        counter += 1\n",
    "    \n",
    "plt.show()\n"
   ]
  },
  {
   "cell_type": "code",
   "execution_count": 41,
   "id": "0b2ce89f",
   "metadata": {},
   "outputs": [
    {
     "data": {
      "text/plain": [
       "cyl      -5.065741e-16\n",
       "disp     -8.256935e-17\n",
       "weight   -9.637740e-17\n",
       "acc       5.479704e-15\n",
       "dtype: float64"
      ]
     },
     "execution_count": 41,
     "metadata": {},
     "output_type": "execute_result"
    }
   ],
   "source": [
    "np.mean(xNorm)"
   ]
  },
  {
   "cell_type": "code",
   "execution_count": 42,
   "id": "a55d529a",
   "metadata": {},
   "outputs": [
    {
     "data": {
      "text/plain": [
       "cyl       1.0\n",
       "disp      1.0\n",
       "weight    1.0\n",
       "acc       1.0\n",
       "dtype: float64"
      ]
     },
     "execution_count": 42,
     "metadata": {},
     "output_type": "execute_result"
    }
   ],
   "source": [
    "np.std(xNorm, ddof = 1)"
   ]
  },
  {
   "cell_type": "markdown",
   "id": "3e93a094",
   "metadata": {},
   "source": [
    "Agora todas as variáveis possuem média zero e desvio padrão igual a 1."
   ]
  },
  {
   "cell_type": "markdown",
   "id": "ee6fa62b",
   "metadata": {},
   "source": [
    "#### Avaliação da multicolinearidade"
   ]
  },
  {
   "cell_type": "code",
   "execution_count": 43,
   "id": "092328ae",
   "metadata": {},
   "outputs": [
    {
     "data": {
      "application/vnd.jupyter.widget-view+json": {
       "model_id": "a34ec9dc03f0420f88e6a062c33453a1",
       "version_major": 2,
       "version_minor": 0
      },
      "text/plain": [
       "Canvas(toolbar=Toolbar(toolitems=[('Home', 'Reset original view', 'home', 'home'), ('Back', 'Back to previous …"
      ]
     },
     "metadata": {},
     "output_type": "display_data"
    },
    {
     "data": {
      "text/plain": [
       "<seaborn.axisgrid.PairGrid at 0x20cb75035b0>"
      ]
     },
     "execution_count": 43,
     "metadata": {},
     "output_type": "execute_result"
    }
   ],
   "source": [
    "sns.pairplot(xNorm)"
   ]
  },
  {
   "cell_type": "markdown",
   "id": "c267f612",
   "metadata": {},
   "source": [
    "Mesmo com a normalização das variáveis, ainda é possível ver uma alta correlação entre peso e deslocamento e deslocamento e aceleração. Deveremos tomar cuidado com os testes estatísticos dessas duas variáveis."
   ]
  },
  {
   "cell_type": "markdown",
   "id": "108f94ec",
   "metadata": {},
   "source": [
    "## 3.3 Variáveis categoricas"
   ]
  },
  {
   "cell_type": "markdown",
   "id": "f642c15b",
   "metadata": {},
   "source": [
    "Para as variáveis categóricas, o pré-processamento consiste em \"dummyficar\" seus valores."
   ]
  },
  {
   "cell_type": "code",
   "execution_count": 44,
   "id": "e5950bd6",
   "metadata": {},
   "outputs": [],
   "source": [
    "xCatD = pd.get_dummies(xCat)"
   ]
  },
  {
   "cell_type": "code",
   "execution_count": 45,
   "id": "46b73f85",
   "metadata": {},
   "outputs": [
    {
     "data": {
      "text/html": [
       "<div>\n",
       "<style scoped>\n",
       "    .dataframe tbody tr th:only-of-type {\n",
       "        vertical-align: middle;\n",
       "    }\n",
       "\n",
       "    .dataframe tbody tr th {\n",
       "        vertical-align: top;\n",
       "    }\n",
       "\n",
       "    .dataframe thead th {\n",
       "        text-align: right;\n",
       "    }\n",
       "</style>\n",
       "<table border=\"1\" class=\"dataframe\">\n",
       "  <thead>\n",
       "    <tr style=\"text-align: right;\">\n",
       "      <th></th>\n",
       "      <th>year_70</th>\n",
       "      <th>year_71</th>\n",
       "      <th>year_72</th>\n",
       "      <th>year_73</th>\n",
       "      <th>year_74</th>\n",
       "      <th>year_75</th>\n",
       "      <th>year_76</th>\n",
       "      <th>year_77</th>\n",
       "      <th>year_78</th>\n",
       "      <th>year_79</th>\n",
       "      <th>year_80</th>\n",
       "      <th>year_81</th>\n",
       "      <th>year_82</th>\n",
       "      <th>origin_1</th>\n",
       "      <th>origin_2</th>\n",
       "      <th>origin_3</th>\n",
       "    </tr>\n",
       "  </thead>\n",
       "  <tbody>\n",
       "    <tr>\n",
       "      <th>0</th>\n",
       "      <td>1</td>\n",
       "      <td>0</td>\n",
       "      <td>0</td>\n",
       "      <td>0</td>\n",
       "      <td>0</td>\n",
       "      <td>0</td>\n",
       "      <td>0</td>\n",
       "      <td>0</td>\n",
       "      <td>0</td>\n",
       "      <td>0</td>\n",
       "      <td>0</td>\n",
       "      <td>0</td>\n",
       "      <td>0</td>\n",
       "      <td>1</td>\n",
       "      <td>0</td>\n",
       "      <td>0</td>\n",
       "    </tr>\n",
       "    <tr>\n",
       "      <th>1</th>\n",
       "      <td>1</td>\n",
       "      <td>0</td>\n",
       "      <td>0</td>\n",
       "      <td>0</td>\n",
       "      <td>0</td>\n",
       "      <td>0</td>\n",
       "      <td>0</td>\n",
       "      <td>0</td>\n",
       "      <td>0</td>\n",
       "      <td>0</td>\n",
       "      <td>0</td>\n",
       "      <td>0</td>\n",
       "      <td>0</td>\n",
       "      <td>1</td>\n",
       "      <td>0</td>\n",
       "      <td>0</td>\n",
       "    </tr>\n",
       "    <tr>\n",
       "      <th>2</th>\n",
       "      <td>1</td>\n",
       "      <td>0</td>\n",
       "      <td>0</td>\n",
       "      <td>0</td>\n",
       "      <td>0</td>\n",
       "      <td>0</td>\n",
       "      <td>0</td>\n",
       "      <td>0</td>\n",
       "      <td>0</td>\n",
       "      <td>0</td>\n",
       "      <td>0</td>\n",
       "      <td>0</td>\n",
       "      <td>0</td>\n",
       "      <td>1</td>\n",
       "      <td>0</td>\n",
       "      <td>0</td>\n",
       "    </tr>\n",
       "    <tr>\n",
       "      <th>3</th>\n",
       "      <td>1</td>\n",
       "      <td>0</td>\n",
       "      <td>0</td>\n",
       "      <td>0</td>\n",
       "      <td>0</td>\n",
       "      <td>0</td>\n",
       "      <td>0</td>\n",
       "      <td>0</td>\n",
       "      <td>0</td>\n",
       "      <td>0</td>\n",
       "      <td>0</td>\n",
       "      <td>0</td>\n",
       "      <td>0</td>\n",
       "      <td>1</td>\n",
       "      <td>0</td>\n",
       "      <td>0</td>\n",
       "    </tr>\n",
       "    <tr>\n",
       "      <th>4</th>\n",
       "      <td>1</td>\n",
       "      <td>0</td>\n",
       "      <td>0</td>\n",
       "      <td>0</td>\n",
       "      <td>0</td>\n",
       "      <td>0</td>\n",
       "      <td>0</td>\n",
       "      <td>0</td>\n",
       "      <td>0</td>\n",
       "      <td>0</td>\n",
       "      <td>0</td>\n",
       "      <td>0</td>\n",
       "      <td>0</td>\n",
       "      <td>1</td>\n",
       "      <td>0</td>\n",
       "      <td>0</td>\n",
       "    </tr>\n",
       "  </tbody>\n",
       "</table>\n",
       "</div>"
      ],
      "text/plain": [
       "   year_70  year_71  year_72  year_73  year_74  year_75  year_76  year_77  \\\n",
       "0        1        0        0        0        0        0        0        0   \n",
       "1        1        0        0        0        0        0        0        0   \n",
       "2        1        0        0        0        0        0        0        0   \n",
       "3        1        0        0        0        0        0        0        0   \n",
       "4        1        0        0        0        0        0        0        0   \n",
       "\n",
       "   year_78  year_79  year_80  year_81  year_82  origin_1  origin_2  origin_3  \n",
       "0        0        0        0        0        0         1         0         0  \n",
       "1        0        0        0        0        0         1         0         0  \n",
       "2        0        0        0        0        0         1         0         0  \n",
       "3        0        0        0        0        0         1         0         0  \n",
       "4        0        0        0        0        0         1         0         0  "
      ]
     },
     "execution_count": 45,
     "metadata": {},
     "output_type": "execute_result"
    }
   ],
   "source": [
    "pd.DataFrame.head(xCatD)"
   ]
  },
  {
   "cell_type": "markdown",
   "id": "35517be8",
   "metadata": {},
   "source": [
    "# 4 AJUSTE DO MODELO E SIGNIFICÂNCIA - Y NA ESCALA ORIGINAL"
   ]
  },
  {
   "cell_type": "markdown",
   "id": "0a2df978",
   "metadata": {},
   "source": [
    "Nesta seção vamos ajustar o modelo somente pelo método dos mínimos qudrados. Mais adiante, faremos o ajuste pelo método do gradiente descendente.\n",
    "\n",
    "Apenas para efeito didático, vamos ajustar 3 modelos: o primeiro terá somente as variáveis contínuasm, o segundo somente as variáveis discretas. O terceiro modelo terá todas as variáveis disponíveis. Todos serão feitos com a escala original para que posteriormente façamos com a escala logarítimica e vejamos a diferença.\n",
    "\n",
    "Para os dois modelos iniciais, como há um objetivo apenas pedagógico, os datasets não serão separados entre ajuste e teste. "
   ]
  },
  {
   "cell_type": "markdown",
   "id": "92c9e832",
   "metadata": {},
   "source": [
    "Para ajustar o modelo usando a biblioteca Statsmodels, primeiro é necessário criar a matrix de especificação do modelo, usando a bibliote Patsy. Isso exige que se junte o dataframe com os dados dos regressores com os dados da resposta."
   ]
  },
  {
   "cell_type": "markdown",
   "id": "5e868f4b",
   "metadata": {},
   "source": [
    "## 4.1 Modelo com variáveis contínuas"
   ]
  },
  {
   "cell_type": "code",
   "execution_count": 46,
   "id": "7be29dec",
   "metadata": {},
   "outputs": [],
   "source": [
    "dfNorm = pd.concat([y.reset_index(drop=True), xNorm], axis=1) # Junta y com xNorm"
   ]
  },
  {
   "cell_type": "code",
   "execution_count": 47,
   "id": "74b8778a",
   "metadata": {},
   "outputs": [
    {
     "data": {
      "text/html": [
       "<div>\n",
       "<style scoped>\n",
       "    .dataframe tbody tr th:only-of-type {\n",
       "        vertical-align: middle;\n",
       "    }\n",
       "\n",
       "    .dataframe tbody tr th {\n",
       "        vertical-align: top;\n",
       "    }\n",
       "\n",
       "    .dataframe thead th {\n",
       "        text-align: right;\n",
       "    }\n",
       "</style>\n",
       "<table border=\"1\" class=\"dataframe\">\n",
       "  <thead>\n",
       "    <tr style=\"text-align: right;\">\n",
       "      <th></th>\n",
       "      <th>mpg</th>\n",
       "      <th>cyl</th>\n",
       "      <th>disp</th>\n",
       "      <th>weight</th>\n",
       "      <th>acc</th>\n",
       "    </tr>\n",
       "  </thead>\n",
       "  <tbody>\n",
       "    <tr>\n",
       "      <th>0</th>\n",
       "      <td>18.0</td>\n",
       "      <td>1.496308</td>\n",
       "      <td>1.089233</td>\n",
       "      <td>0.630077</td>\n",
       "      <td>-1.293870</td>\n",
       "    </tr>\n",
       "    <tr>\n",
       "      <th>1</th>\n",
       "      <td>15.0</td>\n",
       "      <td>1.496308</td>\n",
       "      <td>1.501624</td>\n",
       "      <td>0.853259</td>\n",
       "      <td>-1.475181</td>\n",
       "    </tr>\n",
       "    <tr>\n",
       "      <th>2</th>\n",
       "      <td>18.0</td>\n",
       "      <td>1.496308</td>\n",
       "      <td>1.194728</td>\n",
       "      <td>0.549778</td>\n",
       "      <td>-1.656492</td>\n",
       "    </tr>\n",
       "    <tr>\n",
       "      <th>3</th>\n",
       "      <td>16.0</td>\n",
       "      <td>1.496308</td>\n",
       "      <td>1.060461</td>\n",
       "      <td>0.546236</td>\n",
       "      <td>-1.293870</td>\n",
       "    </tr>\n",
       "    <tr>\n",
       "      <th>4</th>\n",
       "      <td>17.0</td>\n",
       "      <td>1.496308</td>\n",
       "      <td>1.041280</td>\n",
       "      <td>0.565130</td>\n",
       "      <td>-1.837804</td>\n",
       "    </tr>\n",
       "  </tbody>\n",
       "</table>\n",
       "</div>"
      ],
      "text/plain": [
       "    mpg       cyl      disp    weight       acc\n",
       "0  18.0  1.496308  1.089233  0.630077 -1.293870\n",
       "1  15.0  1.496308  1.501624  0.853259 -1.475181\n",
       "2  18.0  1.496308  1.194728  0.549778 -1.656492\n",
       "3  16.0  1.496308  1.060461  0.546236 -1.293870\n",
       "4  17.0  1.496308  1.041280  0.565130 -1.837804"
      ]
     },
     "execution_count": 47,
     "metadata": {},
     "output_type": "execute_result"
    }
   ],
   "source": [
    "pd.DataFrame.head(dfNorm)"
   ]
  },
  {
   "cell_type": "markdown",
   "id": "94cabf57",
   "metadata": {},
   "source": [
    "Para a construção da fórmula usando o Patsy, o modelo inteiro deve ser especificado explicitamente. Para pequenos modelos, essa atividade não gera problemas. Porém, para modelos muito grandes essa atividade pode ser tediosa e até passível de erros. Dessa forma, sugere-se a construção de uma função para \"montar\" a fórmula"
   ]
  },
  {
   "cell_type": "code",
   "execution_count": 48,
   "id": "89c89a97",
   "metadata": {},
   "outputs": [],
   "source": [
    "def ols_formula(df, dependent_var, *excluded_cols):\n",
    "    # Lista o nome das colunas no dataframe\n",
    "    df_columns = list(df.columns.values)\n",
    "    \n",
    "    # Remove a variável dependente\n",
    "    df_columns.remove(dependent_var)\n",
    "    \n",
    "    # Remove as colunas \"excluídas\" (se houver)\n",
    "    for col in excluded_cols:\n",
    "        df_columns.remove(col)\n",
    "    \n",
    "    return dependent_var + ' ~ ' + ' + '.join(df_columns)"
   ]
  },
  {
   "cell_type": "code",
   "execution_count": 49,
   "id": "4890a15b",
   "metadata": {},
   "outputs": [
    {
     "data": {
      "text/plain": [
       "'mpg ~ cyl + disp + weight + acc'"
      ]
     },
     "execution_count": 49,
     "metadata": {},
     "output_type": "execute_result"
    }
   ],
   "source": [
    "ols_formula(dfNorm, 'mpg')"
   ]
  },
  {
   "cell_type": "code",
   "execution_count": 50,
   "id": "fc43645b",
   "metadata": {},
   "outputs": [],
   "source": [
    "y, X = pt.dmatrices(ols_formula(dfNorm, 'mpg'), data=dfNorm, return_type='dataframe')"
   ]
  },
  {
   "cell_type": "code",
   "execution_count": 51,
   "id": "a25e283e",
   "metadata": {},
   "outputs": [
    {
     "data": {
      "text/html": [
       "<div>\n",
       "<style scoped>\n",
       "    .dataframe tbody tr th:only-of-type {\n",
       "        vertical-align: middle;\n",
       "    }\n",
       "\n",
       "    .dataframe tbody tr th {\n",
       "        vertical-align: top;\n",
       "    }\n",
       "\n",
       "    .dataframe thead th {\n",
       "        text-align: right;\n",
       "    }\n",
       "</style>\n",
       "<table border=\"1\" class=\"dataframe\">\n",
       "  <thead>\n",
       "    <tr style=\"text-align: right;\">\n",
       "      <th></th>\n",
       "      <th>Intercept</th>\n",
       "      <th>cyl</th>\n",
       "      <th>disp</th>\n",
       "      <th>weight</th>\n",
       "      <th>acc</th>\n",
       "    </tr>\n",
       "  </thead>\n",
       "  <tbody>\n",
       "    <tr>\n",
       "      <th>0</th>\n",
       "      <td>1.0</td>\n",
       "      <td>1.496308</td>\n",
       "      <td>1.089233</td>\n",
       "      <td>0.630077</td>\n",
       "      <td>-1.293870</td>\n",
       "    </tr>\n",
       "    <tr>\n",
       "      <th>1</th>\n",
       "      <td>1.0</td>\n",
       "      <td>1.496308</td>\n",
       "      <td>1.501624</td>\n",
       "      <td>0.853259</td>\n",
       "      <td>-1.475181</td>\n",
       "    </tr>\n",
       "    <tr>\n",
       "      <th>2</th>\n",
       "      <td>1.0</td>\n",
       "      <td>1.496308</td>\n",
       "      <td>1.194728</td>\n",
       "      <td>0.549778</td>\n",
       "      <td>-1.656492</td>\n",
       "    </tr>\n",
       "    <tr>\n",
       "      <th>3</th>\n",
       "      <td>1.0</td>\n",
       "      <td>1.496308</td>\n",
       "      <td>1.060461</td>\n",
       "      <td>0.546236</td>\n",
       "      <td>-1.293870</td>\n",
       "    </tr>\n",
       "    <tr>\n",
       "      <th>4</th>\n",
       "      <td>1.0</td>\n",
       "      <td>1.496308</td>\n",
       "      <td>1.041280</td>\n",
       "      <td>0.565130</td>\n",
       "      <td>-1.837804</td>\n",
       "    </tr>\n",
       "  </tbody>\n",
       "</table>\n",
       "</div>"
      ],
      "text/plain": [
       "   Intercept       cyl      disp    weight       acc\n",
       "0        1.0  1.496308  1.089233  0.630077 -1.293870\n",
       "1        1.0  1.496308  1.501624  0.853259 -1.475181\n",
       "2        1.0  1.496308  1.194728  0.549778 -1.656492\n",
       "3        1.0  1.496308  1.060461  0.546236 -1.293870\n",
       "4        1.0  1.496308  1.041280  0.565130 -1.837804"
      ]
     },
     "execution_count": 51,
     "metadata": {},
     "output_type": "execute_result"
    }
   ],
   "source": [
    "pd.DataFrame.head(X)"
   ]
  },
  {
   "cell_type": "markdown",
   "id": "765a0751",
   "metadata": {},
   "source": [
    "Percebam que foi adicionado uma coluna de \"intercept\" no dataframe."
   ]
  },
  {
   "cell_type": "code",
   "execution_count": 52,
   "id": "8b4bef08",
   "metadata": {},
   "outputs": [
    {
     "name": "stdout",
     "output_type": "stream",
     "text": [
      "                            OLS Regression Results                            \n",
      "==============================================================================\n",
      "Dep. Variable:                    mpg   R-squared:                       0.701\n",
      "Model:                            OLS   Adj. R-squared:                  0.698\n",
      "Method:                 Least Squares   F-statistic:                     230.0\n",
      "Date:                Mon, 21 Jun 2021   Prob (F-statistic):          1.58e-101\n",
      "Time:                        16:48:31   Log-Likelihood:                -1142.5\n",
      "No. Observations:                 398   AIC:                             2295.\n",
      "Df Residuals:                     393   BIC:                             2315.\n",
      "Df Model:                           4                                         \n",
      "Covariance Type:            nonrobust                                         \n",
      "==============================================================================\n",
      "                 coef    std err          t      P>|t|      [0.025      0.975]\n",
      "------------------------------------------------------------------------------\n",
      "Intercept     23.5146      0.215    109.154      0.000      23.091      23.938\n",
      "cyl           -0.4409      0.698     -0.632      0.528      -1.814       0.932\n",
      "disp          -0.7417      0.922     -0.804      0.422      -2.555       1.071\n",
      "weight        -5.2123      0.628     -8.294      0.000      -6.448      -3.977\n",
      "acc            0.4830      0.269      1.794      0.074      -0.046       1.012\n",
      "==============================================================================\n",
      "Omnibus:                       36.188   Durbin-Watson:                   0.818\n",
      "Prob(Omnibus):                  0.000   Jarque-Bera (JB):               48.194\n",
      "Skew:                           0.676   Prob(JB):                     3.43e-11\n",
      "Kurtosis:                       4.037   Cond. No.                         9.25\n",
      "==============================================================================\n",
      "\n",
      "Notes:\n",
      "[1] Standard Errors assume that the covariance matrix of the errors is correctly specified.\n"
     ]
    }
   ],
   "source": [
    "regNorm = sm.OLS(y, X) # Especifica o modelo\n",
    "resNorm = regNorm.fit() # Ajusta o modelo\n",
    "print(resNorm.summary()) # Imprime o resultado do modelo"
   ]
  },
  {
   "cell_type": "markdown",
   "id": "8c2e2e4d",
   "metadata": {},
   "source": [
    "Como todas as variáveis estão 'escalonadas', é possível fazer uma comparação direta entre os 'coef', que são os 'betas' do modelo. A coluna P>|t| indica os p-values da significância, onde ve-se uma forte influência do peso e da aceleração. Porém, como foi visto a presença de multicolinearidade, é necessário avaliar o quanto ela está afetando o modelo. Um modo de fazer isso é calcular os fatores de inflação da variância (VIF)."
   ]
  },
  {
   "cell_type": "code",
   "execution_count": 53,
   "id": "62a9c85b",
   "metadata": {},
   "outputs": [
    {
     "data": {
      "text/html": [
       "<div>\n",
       "<style scoped>\n",
       "    .dataframe tbody tr th:only-of-type {\n",
       "        vertical-align: middle;\n",
       "    }\n",
       "\n",
       "    .dataframe tbody tr th {\n",
       "        vertical-align: top;\n",
       "    }\n",
       "\n",
       "    .dataframe thead th {\n",
       "        text-align: right;\n",
       "    }\n",
       "</style>\n",
       "<table border=\"1\" class=\"dataframe\">\n",
       "  <thead>\n",
       "    <tr style=\"text-align: right;\">\n",
       "      <th></th>\n",
       "      <th>variables</th>\n",
       "      <th>VIF</th>\n",
       "    </tr>\n",
       "  </thead>\n",
       "  <tbody>\n",
       "    <tr>\n",
       "      <th>0</th>\n",
       "      <td>cyl</td>\n",
       "      <td>10.477644</td>\n",
       "    </tr>\n",
       "    <tr>\n",
       "      <th>1</th>\n",
       "      <td>disp</td>\n",
       "      <td>18.281251</td>\n",
       "    </tr>\n",
       "    <tr>\n",
       "      <th>2</th>\n",
       "      <td>weight</td>\n",
       "      <td>8.489141</td>\n",
       "    </tr>\n",
       "    <tr>\n",
       "      <th>3</th>\n",
       "      <td>acc</td>\n",
       "      <td>1.557257</td>\n",
       "    </tr>\n",
       "  </tbody>\n",
       "</table>\n",
       "</div>"
      ],
      "text/plain": [
       "  variables        VIF\n",
       "0       cyl  10.477644\n",
       "1      disp  18.281251\n",
       "2    weight   8.489141\n",
       "3       acc   1.557257"
      ]
     },
     "execution_count": 53,
     "metadata": {},
     "output_type": "execute_result"
    }
   ],
   "source": [
    "pd.DataFrame({'variables': X.columns[1:], \n",
    "              'VIF': [variance_inflation_factor(X.values, i+1) for i in range(len(X.columns[1:]))]})"
   ]
  },
  {
   "cell_type": "markdown",
   "id": "795d3c26",
   "metadata": {},
   "source": [
    "Valores maiores que '5' devem ser evitados. Dessa maneira, recomenda-se removendo as variáveis de maior VIF. O modelo será refeito sem a variável 'disp'."
   ]
  },
  {
   "cell_type": "code",
   "execution_count": 54,
   "id": "679c728d",
   "metadata": {},
   "outputs": [],
   "source": [
    "y, X2 = pt.dmatrices(ols_formula(dfNorm, 'mpg', 'disp'), data=dfNorm, return_type='dataframe')"
   ]
  },
  {
   "cell_type": "code",
   "execution_count": 55,
   "id": "0f3a9727",
   "metadata": {},
   "outputs": [
    {
     "data": {
      "text/html": [
       "<div>\n",
       "<style scoped>\n",
       "    .dataframe tbody tr th:only-of-type {\n",
       "        vertical-align: middle;\n",
       "    }\n",
       "\n",
       "    .dataframe tbody tr th {\n",
       "        vertical-align: top;\n",
       "    }\n",
       "\n",
       "    .dataframe thead th {\n",
       "        text-align: right;\n",
       "    }\n",
       "</style>\n",
       "<table border=\"1\" class=\"dataframe\">\n",
       "  <thead>\n",
       "    <tr style=\"text-align: right;\">\n",
       "      <th></th>\n",
       "      <th>Intercept</th>\n",
       "      <th>cyl</th>\n",
       "      <th>weight</th>\n",
       "      <th>acc</th>\n",
       "    </tr>\n",
       "  </thead>\n",
       "  <tbody>\n",
       "    <tr>\n",
       "      <th>0</th>\n",
       "      <td>1.0</td>\n",
       "      <td>1.496308</td>\n",
       "      <td>0.630077</td>\n",
       "      <td>-1.293870</td>\n",
       "    </tr>\n",
       "    <tr>\n",
       "      <th>1</th>\n",
       "      <td>1.0</td>\n",
       "      <td>1.496308</td>\n",
       "      <td>0.853259</td>\n",
       "      <td>-1.475181</td>\n",
       "    </tr>\n",
       "    <tr>\n",
       "      <th>2</th>\n",
       "      <td>1.0</td>\n",
       "      <td>1.496308</td>\n",
       "      <td>0.549778</td>\n",
       "      <td>-1.656492</td>\n",
       "    </tr>\n",
       "    <tr>\n",
       "      <th>3</th>\n",
       "      <td>1.0</td>\n",
       "      <td>1.496308</td>\n",
       "      <td>0.546236</td>\n",
       "      <td>-1.293870</td>\n",
       "    </tr>\n",
       "    <tr>\n",
       "      <th>4</th>\n",
       "      <td>1.0</td>\n",
       "      <td>1.496308</td>\n",
       "      <td>0.565130</td>\n",
       "      <td>-1.837804</td>\n",
       "    </tr>\n",
       "  </tbody>\n",
       "</table>\n",
       "</div>"
      ],
      "text/plain": [
       "   Intercept       cyl    weight       acc\n",
       "0        1.0  1.496308  0.630077 -1.293870\n",
       "1        1.0  1.496308  0.853259 -1.475181\n",
       "2        1.0  1.496308  0.549778 -1.656492\n",
       "3        1.0  1.496308  0.546236 -1.293870\n",
       "4        1.0  1.496308  0.565130 -1.837804"
      ]
     },
     "execution_count": 55,
     "metadata": {},
     "output_type": "execute_result"
    }
   ],
   "source": [
    "pd.DataFrame.head(X2)"
   ]
  },
  {
   "cell_type": "code",
   "execution_count": 56,
   "id": "ae237553",
   "metadata": {},
   "outputs": [
    {
     "name": "stdout",
     "output_type": "stream",
     "text": [
      "                            OLS Regression Results                            \n",
      "==============================================================================\n",
      "Dep. Variable:                    mpg   R-squared:                       0.700\n",
      "Model:                            OLS   Adj. R-squared:                  0.698\n",
      "Method:                 Least Squares   F-statistic:                     306.7\n",
      "Date:                Mon, 21 Jun 2021   Prob (F-statistic):          1.14e-102\n",
      "Time:                        16:48:31   Log-Likelihood:                -1142.9\n",
      "No. Observations:                 398   AIC:                             2294.\n",
      "Df Residuals:                     394   BIC:                             2310.\n",
      "Df Model:                           3                                         \n",
      "Covariance Type:            nonrobust                                         \n",
      "==============================================================================\n",
      "                 coef    std err          t      P>|t|      [0.025      0.975]\n",
      "------------------------------------------------------------------------------\n",
      "Intercept     23.5146      0.215    109.203      0.000      23.091      23.938\n",
      "cyl           -0.8211      0.514     -1.599      0.111      -1.831       0.188\n",
      "weight        -5.5309      0.488    -11.342      0.000      -6.490      -4.572\n",
      "acc            0.5610      0.251      2.236      0.026       0.068       1.054\n",
      "==============================================================================\n",
      "Omnibus:                       34.469   Durbin-Watson:                   0.816\n",
      "Prob(Omnibus):                  0.000   Jarque-Bera (JB):               45.516\n",
      "Skew:                           0.654   Prob(JB):                     1.31e-10\n",
      "Kurtosis:                       4.016   Cond. No.                         4.78\n",
      "==============================================================================\n",
      "\n",
      "Notes:\n",
      "[1] Standard Errors assume that the covariance matrix of the errors is correctly specified.\n"
     ]
    }
   ],
   "source": [
    "regNorm2 = sm.OLS(y, X2) # Especifica o modelo\n",
    "resNorm2 = regNorm2.fit() # Ajusta o modelo\n",
    "print(resNorm2.summary()) # Imprime o resultado"
   ]
  },
  {
   "cell_type": "markdown",
   "id": "4c435416",
   "metadata": {},
   "source": [
    "Sem a variável 'disp' é possível ver que a variável 'cyl' começa a ter uma possível significância."
   ]
  },
  {
   "cell_type": "code",
   "execution_count": 57,
   "id": "07abd07d",
   "metadata": {},
   "outputs": [
    {
     "data": {
      "text/html": [
       "<div>\n",
       "<style scoped>\n",
       "    .dataframe tbody tr th:only-of-type {\n",
       "        vertical-align: middle;\n",
       "    }\n",
       "\n",
       "    .dataframe tbody tr th {\n",
       "        vertical-align: top;\n",
       "    }\n",
       "\n",
       "    .dataframe thead th {\n",
       "        text-align: right;\n",
       "    }\n",
       "</style>\n",
       "<table border=\"1\" class=\"dataframe\">\n",
       "  <thead>\n",
       "    <tr style=\"text-align: right;\">\n",
       "      <th></th>\n",
       "      <th>variables</th>\n",
       "      <th>VIF</th>\n",
       "    </tr>\n",
       "  </thead>\n",
       "  <tbody>\n",
       "    <tr>\n",
       "      <th>0</th>\n",
       "      <td>cyl</td>\n",
       "      <td>5.673654</td>\n",
       "    </tr>\n",
       "    <tr>\n",
       "      <th>1</th>\n",
       "      <td>weight</td>\n",
       "      <td>5.115871</td>\n",
       "    </tr>\n",
       "    <tr>\n",
       "      <th>2</th>\n",
       "      <td>acc</td>\n",
       "      <td>1.354660</td>\n",
       "    </tr>\n",
       "  </tbody>\n",
       "</table>\n",
       "</div>"
      ],
      "text/plain": [
       "  variables       VIF\n",
       "0       cyl  5.673654\n",
       "1    weight  5.115871\n",
       "2       acc  1.354660"
      ]
     },
     "execution_count": 57,
     "metadata": {},
     "output_type": "execute_result"
    }
   ],
   "source": [
    "pd.DataFrame({'variables': X2.columns[1:], \n",
    "              'VIF': [variance_inflation_factor(X2.values, i+1) for i in range(len(X2.columns[1:]))]})"
   ]
  },
  {
   "cell_type": "markdown",
   "id": "7c29619b",
   "metadata": {},
   "source": [
    "Sem a variável 'disp', todos os valores de VIF ficam perto de limites aceitáveis."
   ]
  },
  {
   "cell_type": "markdown",
   "id": "b40ea4eb",
   "metadata": {},
   "source": [
    "## 4.2 Modelo com variáveis categóricas \"dummy\""
   ]
  },
  {
   "cell_type": "code",
   "execution_count": 58,
   "id": "c678db98",
   "metadata": {},
   "outputs": [],
   "source": [
    "dfCat = pd.concat([y.reset_index(drop=True), xCatD], axis=1) # Junta y com xNorm"
   ]
  },
  {
   "cell_type": "code",
   "execution_count": 59,
   "id": "fe28e187",
   "metadata": {},
   "outputs": [
    {
     "data": {
      "text/html": [
       "<div>\n",
       "<style scoped>\n",
       "    .dataframe tbody tr th:only-of-type {\n",
       "        vertical-align: middle;\n",
       "    }\n",
       "\n",
       "    .dataframe tbody tr th {\n",
       "        vertical-align: top;\n",
       "    }\n",
       "\n",
       "    .dataframe thead th {\n",
       "        text-align: right;\n",
       "    }\n",
       "</style>\n",
       "<table border=\"1\" class=\"dataframe\">\n",
       "  <thead>\n",
       "    <tr style=\"text-align: right;\">\n",
       "      <th></th>\n",
       "      <th>mpg</th>\n",
       "      <th>year_70</th>\n",
       "      <th>year_71</th>\n",
       "      <th>year_72</th>\n",
       "      <th>year_73</th>\n",
       "      <th>year_74</th>\n",
       "      <th>year_75</th>\n",
       "      <th>year_76</th>\n",
       "      <th>year_77</th>\n",
       "      <th>year_78</th>\n",
       "      <th>year_79</th>\n",
       "      <th>year_80</th>\n",
       "      <th>year_81</th>\n",
       "      <th>year_82</th>\n",
       "      <th>origin_1</th>\n",
       "      <th>origin_2</th>\n",
       "      <th>origin_3</th>\n",
       "    </tr>\n",
       "  </thead>\n",
       "  <tbody>\n",
       "    <tr>\n",
       "      <th>0</th>\n",
       "      <td>18.0</td>\n",
       "      <td>1</td>\n",
       "      <td>0</td>\n",
       "      <td>0</td>\n",
       "      <td>0</td>\n",
       "      <td>0</td>\n",
       "      <td>0</td>\n",
       "      <td>0</td>\n",
       "      <td>0</td>\n",
       "      <td>0</td>\n",
       "      <td>0</td>\n",
       "      <td>0</td>\n",
       "      <td>0</td>\n",
       "      <td>0</td>\n",
       "      <td>1</td>\n",
       "      <td>0</td>\n",
       "      <td>0</td>\n",
       "    </tr>\n",
       "    <tr>\n",
       "      <th>1</th>\n",
       "      <td>15.0</td>\n",
       "      <td>1</td>\n",
       "      <td>0</td>\n",
       "      <td>0</td>\n",
       "      <td>0</td>\n",
       "      <td>0</td>\n",
       "      <td>0</td>\n",
       "      <td>0</td>\n",
       "      <td>0</td>\n",
       "      <td>0</td>\n",
       "      <td>0</td>\n",
       "      <td>0</td>\n",
       "      <td>0</td>\n",
       "      <td>0</td>\n",
       "      <td>1</td>\n",
       "      <td>0</td>\n",
       "      <td>0</td>\n",
       "    </tr>\n",
       "    <tr>\n",
       "      <th>2</th>\n",
       "      <td>18.0</td>\n",
       "      <td>1</td>\n",
       "      <td>0</td>\n",
       "      <td>0</td>\n",
       "      <td>0</td>\n",
       "      <td>0</td>\n",
       "      <td>0</td>\n",
       "      <td>0</td>\n",
       "      <td>0</td>\n",
       "      <td>0</td>\n",
       "      <td>0</td>\n",
       "      <td>0</td>\n",
       "      <td>0</td>\n",
       "      <td>0</td>\n",
       "      <td>1</td>\n",
       "      <td>0</td>\n",
       "      <td>0</td>\n",
       "    </tr>\n",
       "    <tr>\n",
       "      <th>3</th>\n",
       "      <td>16.0</td>\n",
       "      <td>1</td>\n",
       "      <td>0</td>\n",
       "      <td>0</td>\n",
       "      <td>0</td>\n",
       "      <td>0</td>\n",
       "      <td>0</td>\n",
       "      <td>0</td>\n",
       "      <td>0</td>\n",
       "      <td>0</td>\n",
       "      <td>0</td>\n",
       "      <td>0</td>\n",
       "      <td>0</td>\n",
       "      <td>0</td>\n",
       "      <td>1</td>\n",
       "      <td>0</td>\n",
       "      <td>0</td>\n",
       "    </tr>\n",
       "    <tr>\n",
       "      <th>4</th>\n",
       "      <td>17.0</td>\n",
       "      <td>1</td>\n",
       "      <td>0</td>\n",
       "      <td>0</td>\n",
       "      <td>0</td>\n",
       "      <td>0</td>\n",
       "      <td>0</td>\n",
       "      <td>0</td>\n",
       "      <td>0</td>\n",
       "      <td>0</td>\n",
       "      <td>0</td>\n",
       "      <td>0</td>\n",
       "      <td>0</td>\n",
       "      <td>0</td>\n",
       "      <td>1</td>\n",
       "      <td>0</td>\n",
       "      <td>0</td>\n",
       "    </tr>\n",
       "  </tbody>\n",
       "</table>\n",
       "</div>"
      ],
      "text/plain": [
       "    mpg  year_70  year_71  year_72  year_73  year_74  year_75  year_76  \\\n",
       "0  18.0        1        0        0        0        0        0        0   \n",
       "1  15.0        1        0        0        0        0        0        0   \n",
       "2  18.0        1        0        0        0        0        0        0   \n",
       "3  16.0        1        0        0        0        0        0        0   \n",
       "4  17.0        1        0        0        0        0        0        0   \n",
       "\n",
       "   year_77  year_78  year_79  year_80  year_81  year_82  origin_1  origin_2  \\\n",
       "0        0        0        0        0        0        0         1         0   \n",
       "1        0        0        0        0        0        0         1         0   \n",
       "2        0        0        0        0        0        0         1         0   \n",
       "3        0        0        0        0        0        0         1         0   \n",
       "4        0        0        0        0        0        0         1         0   \n",
       "\n",
       "   origin_3  \n",
       "0         0  \n",
       "1         0  \n",
       "2         0  \n",
       "3         0  \n",
       "4         0  "
      ]
     },
     "execution_count": 59,
     "metadata": {},
     "output_type": "execute_result"
    }
   ],
   "source": [
    "pd.DataFrame.head(dfCat)"
   ]
  },
  {
   "cell_type": "code",
   "execution_count": 60,
   "id": "5de4cb22",
   "metadata": {},
   "outputs": [],
   "source": [
    "y, X = pt.dmatrices(ols_formula(dfCat, 'mpg'), data=dfCat, return_type='dataframe')"
   ]
  },
  {
   "cell_type": "code",
   "execution_count": 61,
   "id": "d4d0fa21",
   "metadata": {},
   "outputs": [
    {
     "data": {
      "text/html": [
       "<div>\n",
       "<style scoped>\n",
       "    .dataframe tbody tr th:only-of-type {\n",
       "        vertical-align: middle;\n",
       "    }\n",
       "\n",
       "    .dataframe tbody tr th {\n",
       "        vertical-align: top;\n",
       "    }\n",
       "\n",
       "    .dataframe thead th {\n",
       "        text-align: right;\n",
       "    }\n",
       "</style>\n",
       "<table border=\"1\" class=\"dataframe\">\n",
       "  <thead>\n",
       "    <tr style=\"text-align: right;\">\n",
       "      <th></th>\n",
       "      <th>Intercept</th>\n",
       "      <th>year_70</th>\n",
       "      <th>year_71</th>\n",
       "      <th>year_72</th>\n",
       "      <th>year_73</th>\n",
       "      <th>year_74</th>\n",
       "      <th>year_75</th>\n",
       "      <th>year_76</th>\n",
       "      <th>year_77</th>\n",
       "      <th>year_78</th>\n",
       "      <th>year_79</th>\n",
       "      <th>year_80</th>\n",
       "      <th>year_81</th>\n",
       "      <th>year_82</th>\n",
       "      <th>origin_1</th>\n",
       "      <th>origin_2</th>\n",
       "      <th>origin_3</th>\n",
       "    </tr>\n",
       "  </thead>\n",
       "  <tbody>\n",
       "    <tr>\n",
       "      <th>0</th>\n",
       "      <td>1.0</td>\n",
       "      <td>1.0</td>\n",
       "      <td>0.0</td>\n",
       "      <td>0.0</td>\n",
       "      <td>0.0</td>\n",
       "      <td>0.0</td>\n",
       "      <td>0.0</td>\n",
       "      <td>0.0</td>\n",
       "      <td>0.0</td>\n",
       "      <td>0.0</td>\n",
       "      <td>0.0</td>\n",
       "      <td>0.0</td>\n",
       "      <td>0.0</td>\n",
       "      <td>0.0</td>\n",
       "      <td>1.0</td>\n",
       "      <td>0.0</td>\n",
       "      <td>0.0</td>\n",
       "    </tr>\n",
       "    <tr>\n",
       "      <th>1</th>\n",
       "      <td>1.0</td>\n",
       "      <td>1.0</td>\n",
       "      <td>0.0</td>\n",
       "      <td>0.0</td>\n",
       "      <td>0.0</td>\n",
       "      <td>0.0</td>\n",
       "      <td>0.0</td>\n",
       "      <td>0.0</td>\n",
       "      <td>0.0</td>\n",
       "      <td>0.0</td>\n",
       "      <td>0.0</td>\n",
       "      <td>0.0</td>\n",
       "      <td>0.0</td>\n",
       "      <td>0.0</td>\n",
       "      <td>1.0</td>\n",
       "      <td>0.0</td>\n",
       "      <td>0.0</td>\n",
       "    </tr>\n",
       "    <tr>\n",
       "      <th>2</th>\n",
       "      <td>1.0</td>\n",
       "      <td>1.0</td>\n",
       "      <td>0.0</td>\n",
       "      <td>0.0</td>\n",
       "      <td>0.0</td>\n",
       "      <td>0.0</td>\n",
       "      <td>0.0</td>\n",
       "      <td>0.0</td>\n",
       "      <td>0.0</td>\n",
       "      <td>0.0</td>\n",
       "      <td>0.0</td>\n",
       "      <td>0.0</td>\n",
       "      <td>0.0</td>\n",
       "      <td>0.0</td>\n",
       "      <td>1.0</td>\n",
       "      <td>0.0</td>\n",
       "      <td>0.0</td>\n",
       "    </tr>\n",
       "    <tr>\n",
       "      <th>3</th>\n",
       "      <td>1.0</td>\n",
       "      <td>1.0</td>\n",
       "      <td>0.0</td>\n",
       "      <td>0.0</td>\n",
       "      <td>0.0</td>\n",
       "      <td>0.0</td>\n",
       "      <td>0.0</td>\n",
       "      <td>0.0</td>\n",
       "      <td>0.0</td>\n",
       "      <td>0.0</td>\n",
       "      <td>0.0</td>\n",
       "      <td>0.0</td>\n",
       "      <td>0.0</td>\n",
       "      <td>0.0</td>\n",
       "      <td>1.0</td>\n",
       "      <td>0.0</td>\n",
       "      <td>0.0</td>\n",
       "    </tr>\n",
       "    <tr>\n",
       "      <th>4</th>\n",
       "      <td>1.0</td>\n",
       "      <td>1.0</td>\n",
       "      <td>0.0</td>\n",
       "      <td>0.0</td>\n",
       "      <td>0.0</td>\n",
       "      <td>0.0</td>\n",
       "      <td>0.0</td>\n",
       "      <td>0.0</td>\n",
       "      <td>0.0</td>\n",
       "      <td>0.0</td>\n",
       "      <td>0.0</td>\n",
       "      <td>0.0</td>\n",
       "      <td>0.0</td>\n",
       "      <td>0.0</td>\n",
       "      <td>1.0</td>\n",
       "      <td>0.0</td>\n",
       "      <td>0.0</td>\n",
       "    </tr>\n",
       "  </tbody>\n",
       "</table>\n",
       "</div>"
      ],
      "text/plain": [
       "   Intercept  year_70  year_71  year_72  year_73  year_74  year_75  year_76  \\\n",
       "0        1.0      1.0      0.0      0.0      0.0      0.0      0.0      0.0   \n",
       "1        1.0      1.0      0.0      0.0      0.0      0.0      0.0      0.0   \n",
       "2        1.0      1.0      0.0      0.0      0.0      0.0      0.0      0.0   \n",
       "3        1.0      1.0      0.0      0.0      0.0      0.0      0.0      0.0   \n",
       "4        1.0      1.0      0.0      0.0      0.0      0.0      0.0      0.0   \n",
       "\n",
       "   year_77  year_78  year_79  year_80  year_81  year_82  origin_1  origin_2  \\\n",
       "0      0.0      0.0      0.0      0.0      0.0      0.0       1.0       0.0   \n",
       "1      0.0      0.0      0.0      0.0      0.0      0.0       1.0       0.0   \n",
       "2      0.0      0.0      0.0      0.0      0.0      0.0       1.0       0.0   \n",
       "3      0.0      0.0      0.0      0.0      0.0      0.0       1.0       0.0   \n",
       "4      0.0      0.0      0.0      0.0      0.0      0.0       1.0       0.0   \n",
       "\n",
       "   origin_3  \n",
       "0       0.0  \n",
       "1       0.0  \n",
       "2       0.0  \n",
       "3       0.0  \n",
       "4       0.0  "
      ]
     },
     "execution_count": 61,
     "metadata": {},
     "output_type": "execute_result"
    }
   ],
   "source": [
    "pd.DataFrame.head(X)"
   ]
  },
  {
   "cell_type": "code",
   "execution_count": 62,
   "id": "74350cee",
   "metadata": {},
   "outputs": [
    {
     "name": "stdout",
     "output_type": "stream",
     "text": [
      "                            OLS Regression Results                            \n",
      "==============================================================================\n",
      "Dep. Variable:                    mpg   R-squared:                       0.637\n",
      "Model:                            OLS   Adj. R-squared:                  0.624\n",
      "Method:                 Least Squares   F-statistic:                     48.06\n",
      "Date:                Mon, 21 Jun 2021   Prob (F-statistic):           2.40e-75\n",
      "Time:                        16:48:31   Log-Likelihood:                -1180.8\n",
      "No. Observations:                 398   AIC:                             2392.\n",
      "Df Residuals:                     383   BIC:                             2451.\n",
      "Df Model:                          14                                         \n",
      "Covariance Type:            nonrobust                                         \n",
      "==============================================================================\n",
      "                 coef    std err          t      P>|t|      [0.025      0.975]\n",
      "------------------------------------------------------------------------------\n",
      "Intercept     18.3442      0.202     90.924      0.000      17.947      18.741\n",
      "year_70       -3.4895      0.859     -4.063      0.000      -5.178      -1.801\n",
      "year_71       -0.2891      0.870     -0.332      0.740      -1.999       1.421\n",
      "year_72       -3.3723      0.868     -3.884      0.000      -5.079      -1.665\n",
      "year_73       -4.3424      0.740     -5.865      0.000      -5.798      -2.887\n",
      "year_74       -0.0520      0.883     -0.059      0.953      -1.789       1.685\n",
      "year_75       -1.6245      0.842     -1.930      0.054      -3.280       0.031\n",
      "year_76       -0.4579      0.796     -0.575      0.565      -2.022       1.107\n",
      "year_77        1.2745      0.868      1.468      0.143      -0.433       2.982\n",
      "year_78        1.7204      0.773      2.225      0.027       0.200       3.240\n",
      "year_79        4.1715      0.860      4.850      0.000       2.480       5.863\n",
      "year_80        8.5060      0.876      9.715      0.000       6.784      10.228\n",
      "year_81        6.7028      0.864      7.762      0.000       5.005       8.401\n",
      "year_82        9.5968      0.832     11.533      0.000       7.961      11.233\n",
      "origin_1       1.0051      0.315      3.194      0.002       0.386       1.624\n",
      "origin_2       8.4747      0.460     18.433      0.000       7.571       9.379\n",
      "origin_3       8.8643      0.450     19.694      0.000       7.979       9.749\n",
      "==============================================================================\n",
      "Omnibus:                       14.679   Durbin-Watson:                   1.135\n",
      "Prob(Omnibus):                  0.001   Jarque-Bera (JB):               15.315\n",
      "Skew:                           0.472   Prob(JB):                     0.000472\n",
      "Kurtosis:                       3.175   Cond. No.                     1.08e+16\n",
      "==============================================================================\n",
      "\n",
      "Notes:\n",
      "[1] Standard Errors assume that the covariance matrix of the errors is correctly specified.\n",
      "[2] The smallest eigenvalue is 5.39e-30. This might indicate that there are\n",
      "strong multicollinearity problems or that the design matrix is singular.\n"
     ]
    }
   ],
   "source": [
    "regCat = sm.OLS(y, X) # Especifica o modelo\n",
    "resCat = regCat.fit() # Ajusta o modelo\n",
    "print(resCat.summary())"
   ]
  },
  {
   "cell_type": "markdown",
   "id": "fc522f56",
   "metadata": {},
   "source": [
    "Aqui, cada 'coef' significa o aumento ou redução da média geral 'intercepet' quando um ano específico ou uma origem específica é escolhida."
   ]
  },
  {
   "cell_type": "markdown",
   "id": "e9f39b2e",
   "metadata": {},
   "source": [
    "## 4.3 Modelo com todas as variáveis"
   ]
  },
  {
   "cell_type": "markdown",
   "id": "ca83c912",
   "metadata": {},
   "source": [
    "Antes de fazer o modelo com todas as variáveis, é necessário juntar todos os datasets. Como esse será o modelo final, vamos dividir o dataset em ajuste e teste, para que as métricas de qualidade de ajuste sejam calculadas somente nos dados de teste."
   ]
  },
  {
   "cell_type": "markdown",
   "id": "4c975588",
   "metadata": {},
   "source": [
    "### 4.3.1 Concatenar datasets"
   ]
  },
  {
   "cell_type": "code",
   "execution_count": 63,
   "id": "ba9030ec",
   "metadata": {},
   "outputs": [],
   "source": [
    "dfFinal = pd.concat([dfNorm.reset_index(drop=True), xCatD], axis=1)"
   ]
  },
  {
   "cell_type": "code",
   "execution_count": 64,
   "id": "3b810521",
   "metadata": {},
   "outputs": [
    {
     "data": {
      "text/html": [
       "<div>\n",
       "<style scoped>\n",
       "    .dataframe tbody tr th:only-of-type {\n",
       "        vertical-align: middle;\n",
       "    }\n",
       "\n",
       "    .dataframe tbody tr th {\n",
       "        vertical-align: top;\n",
       "    }\n",
       "\n",
       "    .dataframe thead th {\n",
       "        text-align: right;\n",
       "    }\n",
       "</style>\n",
       "<table border=\"1\" class=\"dataframe\">\n",
       "  <thead>\n",
       "    <tr style=\"text-align: right;\">\n",
       "      <th></th>\n",
       "      <th>mpg</th>\n",
       "      <th>cyl</th>\n",
       "      <th>disp</th>\n",
       "      <th>weight</th>\n",
       "      <th>acc</th>\n",
       "      <th>year_70</th>\n",
       "      <th>year_71</th>\n",
       "      <th>year_72</th>\n",
       "      <th>year_73</th>\n",
       "      <th>year_74</th>\n",
       "      <th>...</th>\n",
       "      <th>year_76</th>\n",
       "      <th>year_77</th>\n",
       "      <th>year_78</th>\n",
       "      <th>year_79</th>\n",
       "      <th>year_80</th>\n",
       "      <th>year_81</th>\n",
       "      <th>year_82</th>\n",
       "      <th>origin_1</th>\n",
       "      <th>origin_2</th>\n",
       "      <th>origin_3</th>\n",
       "    </tr>\n",
       "  </thead>\n",
       "  <tbody>\n",
       "    <tr>\n",
       "      <th>0</th>\n",
       "      <td>18.0</td>\n",
       "      <td>1.496308</td>\n",
       "      <td>1.089233</td>\n",
       "      <td>0.630077</td>\n",
       "      <td>-1.293870</td>\n",
       "      <td>1</td>\n",
       "      <td>0</td>\n",
       "      <td>0</td>\n",
       "      <td>0</td>\n",
       "      <td>0</td>\n",
       "      <td>...</td>\n",
       "      <td>0</td>\n",
       "      <td>0</td>\n",
       "      <td>0</td>\n",
       "      <td>0</td>\n",
       "      <td>0</td>\n",
       "      <td>0</td>\n",
       "      <td>0</td>\n",
       "      <td>1</td>\n",
       "      <td>0</td>\n",
       "      <td>0</td>\n",
       "    </tr>\n",
       "    <tr>\n",
       "      <th>1</th>\n",
       "      <td>15.0</td>\n",
       "      <td>1.496308</td>\n",
       "      <td>1.501624</td>\n",
       "      <td>0.853259</td>\n",
       "      <td>-1.475181</td>\n",
       "      <td>1</td>\n",
       "      <td>0</td>\n",
       "      <td>0</td>\n",
       "      <td>0</td>\n",
       "      <td>0</td>\n",
       "      <td>...</td>\n",
       "      <td>0</td>\n",
       "      <td>0</td>\n",
       "      <td>0</td>\n",
       "      <td>0</td>\n",
       "      <td>0</td>\n",
       "      <td>0</td>\n",
       "      <td>0</td>\n",
       "      <td>1</td>\n",
       "      <td>0</td>\n",
       "      <td>0</td>\n",
       "    </tr>\n",
       "    <tr>\n",
       "      <th>2</th>\n",
       "      <td>18.0</td>\n",
       "      <td>1.496308</td>\n",
       "      <td>1.194728</td>\n",
       "      <td>0.549778</td>\n",
       "      <td>-1.656492</td>\n",
       "      <td>1</td>\n",
       "      <td>0</td>\n",
       "      <td>0</td>\n",
       "      <td>0</td>\n",
       "      <td>0</td>\n",
       "      <td>...</td>\n",
       "      <td>0</td>\n",
       "      <td>0</td>\n",
       "      <td>0</td>\n",
       "      <td>0</td>\n",
       "      <td>0</td>\n",
       "      <td>0</td>\n",
       "      <td>0</td>\n",
       "      <td>1</td>\n",
       "      <td>0</td>\n",
       "      <td>0</td>\n",
       "    </tr>\n",
       "    <tr>\n",
       "      <th>3</th>\n",
       "      <td>16.0</td>\n",
       "      <td>1.496308</td>\n",
       "      <td>1.060461</td>\n",
       "      <td>0.546236</td>\n",
       "      <td>-1.293870</td>\n",
       "      <td>1</td>\n",
       "      <td>0</td>\n",
       "      <td>0</td>\n",
       "      <td>0</td>\n",
       "      <td>0</td>\n",
       "      <td>...</td>\n",
       "      <td>0</td>\n",
       "      <td>0</td>\n",
       "      <td>0</td>\n",
       "      <td>0</td>\n",
       "      <td>0</td>\n",
       "      <td>0</td>\n",
       "      <td>0</td>\n",
       "      <td>1</td>\n",
       "      <td>0</td>\n",
       "      <td>0</td>\n",
       "    </tr>\n",
       "    <tr>\n",
       "      <th>4</th>\n",
       "      <td>17.0</td>\n",
       "      <td>1.496308</td>\n",
       "      <td>1.041280</td>\n",
       "      <td>0.565130</td>\n",
       "      <td>-1.837804</td>\n",
       "      <td>1</td>\n",
       "      <td>0</td>\n",
       "      <td>0</td>\n",
       "      <td>0</td>\n",
       "      <td>0</td>\n",
       "      <td>...</td>\n",
       "      <td>0</td>\n",
       "      <td>0</td>\n",
       "      <td>0</td>\n",
       "      <td>0</td>\n",
       "      <td>0</td>\n",
       "      <td>0</td>\n",
       "      <td>0</td>\n",
       "      <td>1</td>\n",
       "      <td>0</td>\n",
       "      <td>0</td>\n",
       "    </tr>\n",
       "  </tbody>\n",
       "</table>\n",
       "<p>5 rows × 21 columns</p>\n",
       "</div>"
      ],
      "text/plain": [
       "    mpg       cyl      disp    weight       acc  year_70  year_71  year_72  \\\n",
       "0  18.0  1.496308  1.089233  0.630077 -1.293870        1        0        0   \n",
       "1  15.0  1.496308  1.501624  0.853259 -1.475181        1        0        0   \n",
       "2  18.0  1.496308  1.194728  0.549778 -1.656492        1        0        0   \n",
       "3  16.0  1.496308  1.060461  0.546236 -1.293870        1        0        0   \n",
       "4  17.0  1.496308  1.041280  0.565130 -1.837804        1        0        0   \n",
       "\n",
       "   year_73  year_74  ...  year_76  year_77  year_78  year_79  year_80  \\\n",
       "0        0        0  ...        0        0        0        0        0   \n",
       "1        0        0  ...        0        0        0        0        0   \n",
       "2        0        0  ...        0        0        0        0        0   \n",
       "3        0        0  ...        0        0        0        0        0   \n",
       "4        0        0  ...        0        0        0        0        0   \n",
       "\n",
       "   year_81  year_82  origin_1  origin_2  origin_3  \n",
       "0        0        0         1         0         0  \n",
       "1        0        0         1         0         0  \n",
       "2        0        0         1         0         0  \n",
       "3        0        0         1         0         0  \n",
       "4        0        0         1         0         0  \n",
       "\n",
       "[5 rows x 21 columns]"
      ]
     },
     "execution_count": 64,
     "metadata": {},
     "output_type": "execute_result"
    }
   ],
   "source": [
    "pd.DataFrame.head(dfFinal)"
   ]
  },
  {
   "cell_type": "markdown",
   "id": "39be4f44",
   "metadata": {},
   "source": [
    "Formar matrix do modelo."
   ]
  },
  {
   "cell_type": "code",
   "execution_count": 65,
   "id": "5a6d6df0",
   "metadata": {},
   "outputs": [],
   "source": [
    "y, X = pt.dmatrices(ols_formula(dfFinal, 'mpg', 'disp'), data = dfFinal, return_type='dataframe')"
   ]
  },
  {
   "cell_type": "code",
   "execution_count": 66,
   "id": "832b64c7",
   "metadata": {
    "scrolled": true
   },
   "outputs": [
    {
     "data": {
      "text/html": [
       "<div>\n",
       "<style scoped>\n",
       "    .dataframe tbody tr th:only-of-type {\n",
       "        vertical-align: middle;\n",
       "    }\n",
       "\n",
       "    .dataframe tbody tr th {\n",
       "        vertical-align: top;\n",
       "    }\n",
       "\n",
       "    .dataframe thead th {\n",
       "        text-align: right;\n",
       "    }\n",
       "</style>\n",
       "<table border=\"1\" class=\"dataframe\">\n",
       "  <thead>\n",
       "    <tr style=\"text-align: right;\">\n",
       "      <th></th>\n",
       "      <th>Intercept</th>\n",
       "      <th>cyl</th>\n",
       "      <th>weight</th>\n",
       "      <th>acc</th>\n",
       "      <th>year_70</th>\n",
       "      <th>year_71</th>\n",
       "      <th>year_72</th>\n",
       "      <th>year_73</th>\n",
       "      <th>year_74</th>\n",
       "      <th>year_75</th>\n",
       "      <th>year_76</th>\n",
       "      <th>year_77</th>\n",
       "      <th>year_78</th>\n",
       "      <th>year_79</th>\n",
       "      <th>year_80</th>\n",
       "      <th>year_81</th>\n",
       "      <th>year_82</th>\n",
       "      <th>origin_1</th>\n",
       "      <th>origin_2</th>\n",
       "      <th>origin_3</th>\n",
       "    </tr>\n",
       "  </thead>\n",
       "  <tbody>\n",
       "    <tr>\n",
       "      <th>0</th>\n",
       "      <td>1.0</td>\n",
       "      <td>1.496308</td>\n",
       "      <td>0.630077</td>\n",
       "      <td>-1.293870</td>\n",
       "      <td>1.0</td>\n",
       "      <td>0.0</td>\n",
       "      <td>0.0</td>\n",
       "      <td>0.0</td>\n",
       "      <td>0.0</td>\n",
       "      <td>0.0</td>\n",
       "      <td>0.0</td>\n",
       "      <td>0.0</td>\n",
       "      <td>0.0</td>\n",
       "      <td>0.0</td>\n",
       "      <td>0.0</td>\n",
       "      <td>0.0</td>\n",
       "      <td>0.0</td>\n",
       "      <td>1.0</td>\n",
       "      <td>0.0</td>\n",
       "      <td>0.0</td>\n",
       "    </tr>\n",
       "    <tr>\n",
       "      <th>1</th>\n",
       "      <td>1.0</td>\n",
       "      <td>1.496308</td>\n",
       "      <td>0.853259</td>\n",
       "      <td>-1.475181</td>\n",
       "      <td>1.0</td>\n",
       "      <td>0.0</td>\n",
       "      <td>0.0</td>\n",
       "      <td>0.0</td>\n",
       "      <td>0.0</td>\n",
       "      <td>0.0</td>\n",
       "      <td>0.0</td>\n",
       "      <td>0.0</td>\n",
       "      <td>0.0</td>\n",
       "      <td>0.0</td>\n",
       "      <td>0.0</td>\n",
       "      <td>0.0</td>\n",
       "      <td>0.0</td>\n",
       "      <td>1.0</td>\n",
       "      <td>0.0</td>\n",
       "      <td>0.0</td>\n",
       "    </tr>\n",
       "    <tr>\n",
       "      <th>2</th>\n",
       "      <td>1.0</td>\n",
       "      <td>1.496308</td>\n",
       "      <td>0.549778</td>\n",
       "      <td>-1.656492</td>\n",
       "      <td>1.0</td>\n",
       "      <td>0.0</td>\n",
       "      <td>0.0</td>\n",
       "      <td>0.0</td>\n",
       "      <td>0.0</td>\n",
       "      <td>0.0</td>\n",
       "      <td>0.0</td>\n",
       "      <td>0.0</td>\n",
       "      <td>0.0</td>\n",
       "      <td>0.0</td>\n",
       "      <td>0.0</td>\n",
       "      <td>0.0</td>\n",
       "      <td>0.0</td>\n",
       "      <td>1.0</td>\n",
       "      <td>0.0</td>\n",
       "      <td>0.0</td>\n",
       "    </tr>\n",
       "    <tr>\n",
       "      <th>3</th>\n",
       "      <td>1.0</td>\n",
       "      <td>1.496308</td>\n",
       "      <td>0.546236</td>\n",
       "      <td>-1.293870</td>\n",
       "      <td>1.0</td>\n",
       "      <td>0.0</td>\n",
       "      <td>0.0</td>\n",
       "      <td>0.0</td>\n",
       "      <td>0.0</td>\n",
       "      <td>0.0</td>\n",
       "      <td>0.0</td>\n",
       "      <td>0.0</td>\n",
       "      <td>0.0</td>\n",
       "      <td>0.0</td>\n",
       "      <td>0.0</td>\n",
       "      <td>0.0</td>\n",
       "      <td>0.0</td>\n",
       "      <td>1.0</td>\n",
       "      <td>0.0</td>\n",
       "      <td>0.0</td>\n",
       "    </tr>\n",
       "    <tr>\n",
       "      <th>4</th>\n",
       "      <td>1.0</td>\n",
       "      <td>1.496308</td>\n",
       "      <td>0.565130</td>\n",
       "      <td>-1.837804</td>\n",
       "      <td>1.0</td>\n",
       "      <td>0.0</td>\n",
       "      <td>0.0</td>\n",
       "      <td>0.0</td>\n",
       "      <td>0.0</td>\n",
       "      <td>0.0</td>\n",
       "      <td>0.0</td>\n",
       "      <td>0.0</td>\n",
       "      <td>0.0</td>\n",
       "      <td>0.0</td>\n",
       "      <td>0.0</td>\n",
       "      <td>0.0</td>\n",
       "      <td>0.0</td>\n",
       "      <td>1.0</td>\n",
       "      <td>0.0</td>\n",
       "      <td>0.0</td>\n",
       "    </tr>\n",
       "  </tbody>\n",
       "</table>\n",
       "</div>"
      ],
      "text/plain": [
       "   Intercept       cyl    weight       acc  year_70  year_71  year_72  \\\n",
       "0        1.0  1.496308  0.630077 -1.293870      1.0      0.0      0.0   \n",
       "1        1.0  1.496308  0.853259 -1.475181      1.0      0.0      0.0   \n",
       "2        1.0  1.496308  0.549778 -1.656492      1.0      0.0      0.0   \n",
       "3        1.0  1.496308  0.546236 -1.293870      1.0      0.0      0.0   \n",
       "4        1.0  1.496308  0.565130 -1.837804      1.0      0.0      0.0   \n",
       "\n",
       "   year_73  year_74  year_75  year_76  year_77  year_78  year_79  year_80  \\\n",
       "0      0.0      0.0      0.0      0.0      0.0      0.0      0.0      0.0   \n",
       "1      0.0      0.0      0.0      0.0      0.0      0.0      0.0      0.0   \n",
       "2      0.0      0.0      0.0      0.0      0.0      0.0      0.0      0.0   \n",
       "3      0.0      0.0      0.0      0.0      0.0      0.0      0.0      0.0   \n",
       "4      0.0      0.0      0.0      0.0      0.0      0.0      0.0      0.0   \n",
       "\n",
       "   year_81  year_82  origin_1  origin_2  origin_3  \n",
       "0      0.0      0.0       1.0       0.0       0.0  \n",
       "1      0.0      0.0       1.0       0.0       0.0  \n",
       "2      0.0      0.0       1.0       0.0       0.0  \n",
       "3      0.0      0.0       1.0       0.0       0.0  \n",
       "4      0.0      0.0       1.0       0.0       0.0  "
      ]
     },
     "execution_count": 66,
     "metadata": {},
     "output_type": "execute_result"
    }
   ],
   "source": [
    "pd.DataFrame.head(X)"
   ]
  },
  {
   "cell_type": "code",
   "execution_count": 67,
   "id": "80d592b6",
   "metadata": {},
   "outputs": [
    {
     "data": {
      "text/html": [
       "<div>\n",
       "<style scoped>\n",
       "    .dataframe tbody tr th:only-of-type {\n",
       "        vertical-align: middle;\n",
       "    }\n",
       "\n",
       "    .dataframe tbody tr th {\n",
       "        vertical-align: top;\n",
       "    }\n",
       "\n",
       "    .dataframe thead th {\n",
       "        text-align: right;\n",
       "    }\n",
       "</style>\n",
       "<table border=\"1\" class=\"dataframe\">\n",
       "  <thead>\n",
       "    <tr style=\"text-align: right;\">\n",
       "      <th></th>\n",
       "      <th>mpg</th>\n",
       "    </tr>\n",
       "  </thead>\n",
       "  <tbody>\n",
       "    <tr>\n",
       "      <th>0</th>\n",
       "      <td>18.0</td>\n",
       "    </tr>\n",
       "    <tr>\n",
       "      <th>1</th>\n",
       "      <td>15.0</td>\n",
       "    </tr>\n",
       "    <tr>\n",
       "      <th>2</th>\n",
       "      <td>18.0</td>\n",
       "    </tr>\n",
       "    <tr>\n",
       "      <th>3</th>\n",
       "      <td>16.0</td>\n",
       "    </tr>\n",
       "    <tr>\n",
       "      <th>4</th>\n",
       "      <td>17.0</td>\n",
       "    </tr>\n",
       "  </tbody>\n",
       "</table>\n",
       "</div>"
      ],
      "text/plain": [
       "    mpg\n",
       "0  18.0\n",
       "1  15.0\n",
       "2  18.0\n",
       "3  16.0\n",
       "4  17.0"
      ]
     },
     "execution_count": 67,
     "metadata": {},
     "output_type": "execute_result"
    }
   ],
   "source": [
    "pd.DataFrame.head(y)"
   ]
  },
  {
   "cell_type": "markdown",
   "id": "a91a1cf1",
   "metadata": {},
   "source": [
    "### 4.3.2 Dividir datasets"
   ]
  },
  {
   "cell_type": "code",
   "execution_count": 68,
   "id": "a0b64fcf",
   "metadata": {},
   "outputs": [],
   "source": [
    "X_train, X_test, y_train, y_test = train_test_split(X, y, test_size=0.2, random_state=0)"
   ]
  },
  {
   "cell_type": "code",
   "execution_count": 69,
   "id": "7f9bcd2b",
   "metadata": {},
   "outputs": [],
   "source": [
    "# Reset all dataframes index\n",
    "X_train.reset_index(drop=True, inplace=True)\n",
    "X_test.reset_index(drop=True, inplace=True)\n",
    "y_train.reset_index(drop=True, inplace=True)\n",
    "y_test.reset_index(drop=True, inplace=True)"
   ]
  },
  {
   "cell_type": "markdown",
   "id": "64dce11a",
   "metadata": {},
   "source": [
    "### 4.3.3 Ajustar modelo"
   ]
  },
  {
   "cell_type": "code",
   "execution_count": 70,
   "id": "2ff859a8",
   "metadata": {},
   "outputs": [
    {
     "name": "stdout",
     "output_type": "stream",
     "text": [
      "                            OLS Regression Results                            \n",
      "==============================================================================\n",
      "Dep. Variable:                    mpg   R-squared:                       0.851\n",
      "Model:                            OLS   Adj. R-squared:                  0.842\n",
      "Method:                 Least Squares   F-statistic:                     100.5\n",
      "Date:                Mon, 21 Jun 2021   Prob (F-statistic):          7.71e-113\n",
      "Time:                        16:48:31   Log-Likelihood:                -800.68\n",
      "No. Observations:                 318   AIC:                             1637.\n",
      "Df Residuals:                     300   BIC:                             1705.\n",
      "Df Model:                          17                                         \n",
      "Covariance Type:            nonrobust                                         \n",
      "==============================================================================\n",
      "                 coef    std err          t      P>|t|      [0.025      0.975]\n",
      "------------------------------------------------------------------------------\n",
      "Intercept     17.1490      0.156    109.686      0.000      16.841      17.457\n",
      "cyl            0.8789      0.432      2.035      0.043       0.029       1.729\n",
      "weight        -5.1847      0.406    -12.766      0.000      -5.984      -4.385\n",
      "acc            0.5545      0.213      2.598      0.010       0.135       0.974\n",
      "year_70       -2.3592      0.723     -3.262      0.001      -3.783      -0.936\n",
      "year_71       -0.6331      0.610     -1.038      0.300      -1.833       0.567\n",
      "year_72       -1.5320      0.651     -2.352      0.019      -2.814      -0.250\n",
      "year_73       -2.3016      0.537     -4.285      0.000      -3.359      -1.244\n",
      "year_74       -0.3165      0.646     -0.490      0.624      -1.587       0.954\n",
      "year_75       -0.6555      0.636     -1.030      0.304      -1.908       0.597\n",
      "year_76       -0.3265      0.568     -0.575      0.566      -1.444       0.791\n",
      "year_77        1.5121      0.621      2.437      0.015       0.291       2.733\n",
      "year_78        0.8398      0.525      1.599      0.111      -0.194       1.873\n",
      "year_79        2.7591      0.646      4.268      0.000       1.487       4.031\n",
      "year_80        7.6035      0.630     12.070      0.000       6.364       8.843\n",
      "year_81        6.0084      0.634      9.475      0.000       4.761       7.256\n",
      "year_82        6.5504      0.614     10.661      0.000       5.341       7.760\n",
      "origin_1       4.1353      0.285     14.510      0.000       3.574       4.696\n",
      "origin_2       6.4748      0.352     18.402      0.000       5.782       7.167\n",
      "origin_3       6.5389      0.347     18.820      0.000       5.855       7.223\n",
      "==============================================================================\n",
      "Omnibus:                       23.544   Durbin-Watson:                   1.886\n",
      "Prob(Omnibus):                  0.000   Jarque-Bera (JB):               39.767\n",
      "Skew:                           0.463   Prob(JB):                     2.32e-09\n",
      "Kurtosis:                       4.465   Cond. No.                     1.68e+16\n",
      "==============================================================================\n",
      "\n",
      "Notes:\n",
      "[1] Standard Errors assume that the covariance matrix of the errors is correctly specified.\n",
      "[2] The smallest eigenvalue is 2.68e-30. This might indicate that there are\n",
      "strong multicollinearity problems or that the design matrix is singular.\n"
     ]
    }
   ],
   "source": [
    "regFinal = sm.OLS(y_train, X_train) # Especifica o modelo\n",
    "resFinal = regFinal.fit() # Ajusta o modelo\n",
    "print(resFinal.summary())"
   ]
  },
  {
   "cell_type": "markdown",
   "id": "51fdb90c",
   "metadata": {},
   "source": [
    "Check de VIF final do modelo."
   ]
  },
  {
   "cell_type": "code",
   "execution_count": 71,
   "id": "8b1ca313",
   "metadata": {},
   "outputs": [
    {
     "name": "stderr",
     "output_type": "stream",
     "text": [
      "C:\\ProgramData\\Anaconda3\\lib\\site-packages\\statsmodels\\stats\\outliers_influence.py:193: RuntimeWarning: divide by zero encountered in double_scalars\n",
      "  vif = 1. / (1. - r_squared_i)\n"
     ]
    },
    {
     "data": {
      "text/html": [
       "<div>\n",
       "<style scoped>\n",
       "    .dataframe tbody tr th:only-of-type {\n",
       "        vertical-align: middle;\n",
       "    }\n",
       "\n",
       "    .dataframe tbody tr th {\n",
       "        vertical-align: top;\n",
       "    }\n",
       "\n",
       "    .dataframe thead th {\n",
       "        text-align: right;\n",
       "    }\n",
       "</style>\n",
       "<table border=\"1\" class=\"dataframe\">\n",
       "  <thead>\n",
       "    <tr style=\"text-align: right;\">\n",
       "      <th></th>\n",
       "      <th>variables</th>\n",
       "      <th>VIF</th>\n",
       "    </tr>\n",
       "  </thead>\n",
       "  <tbody>\n",
       "    <tr>\n",
       "      <th>0</th>\n",
       "      <td>cyl</td>\n",
       "      <td>6.235065</td>\n",
       "    </tr>\n",
       "    <tr>\n",
       "      <th>1</th>\n",
       "      <td>weight</td>\n",
       "      <td>5.456322</td>\n",
       "    </tr>\n",
       "    <tr>\n",
       "      <th>2</th>\n",
       "      <td>acc</td>\n",
       "      <td>1.451069</td>\n",
       "    </tr>\n",
       "    <tr>\n",
       "      <th>3</th>\n",
       "      <td>year_70</td>\n",
       "      <td>inf</td>\n",
       "    </tr>\n",
       "    <tr>\n",
       "      <th>4</th>\n",
       "      <td>year_71</td>\n",
       "      <td>inf</td>\n",
       "    </tr>\n",
       "    <tr>\n",
       "      <th>5</th>\n",
       "      <td>year_72</td>\n",
       "      <td>inf</td>\n",
       "    </tr>\n",
       "    <tr>\n",
       "      <th>6</th>\n",
       "      <td>year_73</td>\n",
       "      <td>inf</td>\n",
       "    </tr>\n",
       "    <tr>\n",
       "      <th>7</th>\n",
       "      <td>year_74</td>\n",
       "      <td>inf</td>\n",
       "    </tr>\n",
       "    <tr>\n",
       "      <th>8</th>\n",
       "      <td>year_75</td>\n",
       "      <td>inf</td>\n",
       "    </tr>\n",
       "    <tr>\n",
       "      <th>9</th>\n",
       "      <td>year_76</td>\n",
       "      <td>inf</td>\n",
       "    </tr>\n",
       "    <tr>\n",
       "      <th>10</th>\n",
       "      <td>year_77</td>\n",
       "      <td>inf</td>\n",
       "    </tr>\n",
       "    <tr>\n",
       "      <th>11</th>\n",
       "      <td>year_78</td>\n",
       "      <td>inf</td>\n",
       "    </tr>\n",
       "    <tr>\n",
       "      <th>12</th>\n",
       "      <td>year_79</td>\n",
       "      <td>inf</td>\n",
       "    </tr>\n",
       "    <tr>\n",
       "      <th>13</th>\n",
       "      <td>year_80</td>\n",
       "      <td>inf</td>\n",
       "    </tr>\n",
       "    <tr>\n",
       "      <th>14</th>\n",
       "      <td>year_81</td>\n",
       "      <td>inf</td>\n",
       "    </tr>\n",
       "    <tr>\n",
       "      <th>15</th>\n",
       "      <td>year_82</td>\n",
       "      <td>inf</td>\n",
       "    </tr>\n",
       "    <tr>\n",
       "      <th>16</th>\n",
       "      <td>origin_1</td>\n",
       "      <td>inf</td>\n",
       "    </tr>\n",
       "    <tr>\n",
       "      <th>17</th>\n",
       "      <td>origin_2</td>\n",
       "      <td>inf</td>\n",
       "    </tr>\n",
       "    <tr>\n",
       "      <th>18</th>\n",
       "      <td>origin_3</td>\n",
       "      <td>inf</td>\n",
       "    </tr>\n",
       "  </tbody>\n",
       "</table>\n",
       "</div>"
      ],
      "text/plain": [
       "   variables       VIF\n",
       "0        cyl  6.235065\n",
       "1     weight  5.456322\n",
       "2        acc  1.451069\n",
       "3    year_70       inf\n",
       "4    year_71       inf\n",
       "5    year_72       inf\n",
       "6    year_73       inf\n",
       "7    year_74       inf\n",
       "8    year_75       inf\n",
       "9    year_76       inf\n",
       "10   year_77       inf\n",
       "11   year_78       inf\n",
       "12   year_79       inf\n",
       "13   year_80       inf\n",
       "14   year_81       inf\n",
       "15   year_82       inf\n",
       "16  origin_1       inf\n",
       "17  origin_2       inf\n",
       "18  origin_3       inf"
      ]
     },
     "execution_count": 71,
     "metadata": {},
     "output_type": "execute_result"
    }
   ],
   "source": [
    "pd.DataFrame({'variables': X_train.columns[1:], \n",
    "              'VIF': [variance_inflation_factor(X_train.values, i+1) for i in range(len(X_train.columns[1:]))]})"
   ]
  },
  {
   "cell_type": "markdown",
   "id": "d3f1f409",
   "metadata": {},
   "source": [
    "### 4.4 Avaliação da qualidade de ajuste"
   ]
  },
  {
   "cell_type": "code",
   "execution_count": 72,
   "id": "4ad718b8",
   "metadata": {},
   "outputs": [
    {
     "data": {
      "text/plain": [
       "0    13.458026\n",
       "1    23.127015\n",
       "2    13.051024\n",
       "3    22.078209\n",
       "4    18.974951\n",
       "dtype: float64"
      ]
     },
     "execution_count": 72,
     "metadata": {},
     "output_type": "execute_result"
    }
   ],
   "source": [
    "# Predict the values using dados de teste\n",
    "pd.DataFrame.head(resFinal.predict(X_test))"
   ]
  },
  {
   "cell_type": "code",
   "execution_count": 73,
   "id": "dd484d94",
   "metadata": {},
   "outputs": [],
   "source": [
    "predY = pd.concat([y_test, resFinal.predict(X_test)], axis=1)\n",
    "predY.columns = ['mpgReal', 'mpgPrev']"
   ]
  },
  {
   "cell_type": "code",
   "execution_count": 74,
   "id": "8dd279a0",
   "metadata": {},
   "outputs": [
    {
     "data": {
      "text/html": [
       "<div>\n",
       "<style scoped>\n",
       "    .dataframe tbody tr th:only-of-type {\n",
       "        vertical-align: middle;\n",
       "    }\n",
       "\n",
       "    .dataframe tbody tr th {\n",
       "        vertical-align: top;\n",
       "    }\n",
       "\n",
       "    .dataframe thead th {\n",
       "        text-align: right;\n",
       "    }\n",
       "</style>\n",
       "<table border=\"1\" class=\"dataframe\">\n",
       "  <thead>\n",
       "    <tr style=\"text-align: right;\">\n",
       "      <th></th>\n",
       "      <th>mpgReal</th>\n",
       "      <th>mpgPrev</th>\n",
       "    </tr>\n",
       "  </thead>\n",
       "  <tbody>\n",
       "    <tr>\n",
       "      <th>0</th>\n",
       "      <td>14.0</td>\n",
       "      <td>13.458026</td>\n",
       "    </tr>\n",
       "    <tr>\n",
       "      <th>1</th>\n",
       "      <td>25.0</td>\n",
       "      <td>23.127015</td>\n",
       "    </tr>\n",
       "    <tr>\n",
       "      <th>2</th>\n",
       "      <td>13.0</td>\n",
       "      <td>13.051024</td>\n",
       "    </tr>\n",
       "    <tr>\n",
       "      <th>3</th>\n",
       "      <td>21.0</td>\n",
       "      <td>22.078209</td>\n",
       "    </tr>\n",
       "    <tr>\n",
       "      <th>4</th>\n",
       "      <td>18.0</td>\n",
       "      <td>18.974951</td>\n",
       "    </tr>\n",
       "  </tbody>\n",
       "</table>\n",
       "</div>"
      ],
      "text/plain": [
       "   mpgReal    mpgPrev\n",
       "0     14.0  13.458026\n",
       "1     25.0  23.127015\n",
       "2     13.0  13.051024\n",
       "3     21.0  22.078209\n",
       "4     18.0  18.974951"
      ]
     },
     "execution_count": 74,
     "metadata": {},
     "output_type": "execute_result"
    }
   ],
   "source": [
    "pd.DataFrame.head(predY)"
   ]
  },
  {
   "cell_type": "code",
   "execution_count": 75,
   "id": "23d33d23",
   "metadata": {},
   "outputs": [
    {
     "name": "stdout",
     "output_type": "stream",
     "text": [
      "Rquadrado: 0.8389953210238432\n",
      "Raiz do erro quadrado médio: 3.1963939510868493\n"
     ]
    }
   ],
   "source": [
    "print('Rquadrado:', metrics.r2_score(predY['mpgReal'], predY['mpgPrev']))\n",
    "print('Raiz do erro quadrado médio:', np.sqrt(metrics.mean_squared_error(predY['mpgReal'], predY['mpgPrev'])))"
   ]
  },
  {
   "cell_type": "markdown",
   "id": "7fc9d7ac",
   "metadata": {},
   "source": [
    "# 5 ANÁLISE DE RESÍDUOS - Y NA ESCALA ORIGINAL"
   ]
  },
  {
   "cell_type": "markdown",
   "id": "6d67f77e",
   "metadata": {},
   "source": [
    "Para analisar os resíduos, primeiro precisa-se calcular os resíduos."
   ]
  },
  {
   "cell_type": "markdown",
   "id": "8306555d",
   "metadata": {},
   "source": [
    "## 5.1 Cálculo dos resíduos"
   ]
  },
  {
   "cell_type": "code",
   "execution_count": 76,
   "id": "e104d7ad",
   "metadata": {},
   "outputs": [],
   "source": [
    "predY['res'] = predY['mpgReal'] - predY['mpgPrev']"
   ]
  },
  {
   "cell_type": "code",
   "execution_count": 77,
   "id": "38c818a1",
   "metadata": {},
   "outputs": [
    {
     "data": {
      "text/html": [
       "<div>\n",
       "<style scoped>\n",
       "    .dataframe tbody tr th:only-of-type {\n",
       "        vertical-align: middle;\n",
       "    }\n",
       "\n",
       "    .dataframe tbody tr th {\n",
       "        vertical-align: top;\n",
       "    }\n",
       "\n",
       "    .dataframe thead th {\n",
       "        text-align: right;\n",
       "    }\n",
       "</style>\n",
       "<table border=\"1\" class=\"dataframe\">\n",
       "  <thead>\n",
       "    <tr style=\"text-align: right;\">\n",
       "      <th></th>\n",
       "      <th>mpgReal</th>\n",
       "      <th>mpgPrev</th>\n",
       "      <th>res</th>\n",
       "    </tr>\n",
       "  </thead>\n",
       "  <tbody>\n",
       "    <tr>\n",
       "      <th>0</th>\n",
       "      <td>14.0</td>\n",
       "      <td>13.458026</td>\n",
       "      <td>0.541974</td>\n",
       "    </tr>\n",
       "    <tr>\n",
       "      <th>1</th>\n",
       "      <td>25.0</td>\n",
       "      <td>23.127015</td>\n",
       "      <td>1.872985</td>\n",
       "    </tr>\n",
       "    <tr>\n",
       "      <th>2</th>\n",
       "      <td>13.0</td>\n",
       "      <td>13.051024</td>\n",
       "      <td>-0.051024</td>\n",
       "    </tr>\n",
       "    <tr>\n",
       "      <th>3</th>\n",
       "      <td>21.0</td>\n",
       "      <td>22.078209</td>\n",
       "      <td>-1.078209</td>\n",
       "    </tr>\n",
       "    <tr>\n",
       "      <th>4</th>\n",
       "      <td>18.0</td>\n",
       "      <td>18.974951</td>\n",
       "      <td>-0.974951</td>\n",
       "    </tr>\n",
       "  </tbody>\n",
       "</table>\n",
       "</div>"
      ],
      "text/plain": [
       "   mpgReal    mpgPrev       res\n",
       "0     14.0  13.458026  0.541974\n",
       "1     25.0  23.127015  1.872985\n",
       "2     13.0  13.051024 -0.051024\n",
       "3     21.0  22.078209 -1.078209\n",
       "4     18.0  18.974951 -0.974951"
      ]
     },
     "execution_count": 77,
     "metadata": {},
     "output_type": "execute_result"
    }
   ],
   "source": [
    "pd.DataFrame.head(predY)"
   ]
  },
  {
   "cell_type": "markdown",
   "id": "308bd286",
   "metadata": {},
   "source": [
    "## 5.2 Normalidade"
   ]
  },
  {
   "cell_type": "code",
   "execution_count": 78,
   "id": "346539e9",
   "metadata": {},
   "outputs": [
    {
     "data": {
      "application/vnd.jupyter.widget-view+json": {
       "model_id": "d296f725efd34b3c8d363959659d671e",
       "version_major": 2,
       "version_minor": 0
      },
      "text/plain": [
       "Canvas(toolbar=Toolbar(toolitems=[('Home', 'Reset original view', 'home', 'home'), ('Back', 'Back to previous …"
      ]
     },
     "metadata": {},
     "output_type": "display_data"
    },
    {
     "data": {
      "text/plain": [
       "Text(0, 0.5, 'Freq')"
      ]
     },
     "execution_count": 78,
     "metadata": {},
     "output_type": "execute_result"
    }
   ],
   "source": [
    "fig = plt.figure()\n",
    "ax = fig.add_subplot(1, 1, 1)\n",
    "plt.hist(predY['res'])\n",
    "ax.set_title('Distribuição dos resíduos')\n",
    "ax.set_xlabel('Residuos para mpg')\n",
    "ax.set_ylabel('Freq')"
   ]
  },
  {
   "cell_type": "code",
   "execution_count": 79,
   "id": "d47e6d9a",
   "metadata": {},
   "outputs": [],
   "source": [
    "kStat,kPvalue = sp.stats.kstest(predY['res'], 'norm')"
   ]
  },
  {
   "cell_type": "code",
   "execution_count": 80,
   "id": "cd222b3e",
   "metadata": {},
   "outputs": [
    {
     "data": {
      "text/plain": [
       "0.35233123676133826"
      ]
     },
     "execution_count": 80,
     "metadata": {},
     "output_type": "execute_result"
    }
   ],
   "source": [
    "kStat"
   ]
  },
  {
   "cell_type": "code",
   "execution_count": 81,
   "id": "19799062",
   "metadata": {},
   "outputs": [
    {
     "data": {
      "text/plain": [
       "2.1866836056340633e-09"
      ]
     },
     "execution_count": 81,
     "metadata": {},
     "output_type": "execute_result"
    }
   ],
   "source": [
    "kPvalue"
   ]
  },
  {
   "cell_type": "markdown",
   "id": "e95d7ba9",
   "metadata": {},
   "source": [
    "## 5.3 Homocedasticidade"
   ]
  },
  {
   "cell_type": "code",
   "execution_count": 82,
   "id": "65667c12",
   "metadata": {},
   "outputs": [
    {
     "data": {
      "application/vnd.jupyter.widget-view+json": {
       "model_id": "e9b5a9f7cc3442fb85842050bf692906",
       "version_major": 2,
       "version_minor": 0
      },
      "text/plain": [
       "Canvas(toolbar=Toolbar(toolitems=[('Home', 'Reset original view', 'home', 'home'), ('Back', 'Back to previous …"
      ]
     },
     "metadata": {},
     "output_type": "display_data"
    },
    {
     "data": {
      "text/plain": [
       "Text(0, 0.5, 'Freq')"
      ]
     },
     "execution_count": 82,
     "metadata": {},
     "output_type": "execute_result"
    }
   ],
   "source": [
    "fig = plt.figure()\n",
    "ax = fig.add_subplot(1, 1, 1)\n",
    "plt.scatter(predY['mpgPrev'], predY['res'])\n",
    "ax.set_title('Variância dos resíduos')\n",
    "ax.set_xlabel('')\n",
    "ax.set_ylabel('Freq')"
   ]
  },
  {
   "cell_type": "markdown",
   "id": "f1f6343a",
   "metadata": {},
   "source": [
    "Como a variável a variável Y foi utilizada em seus valor original, os resíduos apresentam um pouco de heteroscedastidade e também falharam no teste de normalidade. Vamos repetir o modelo com o logaritmo para ver os efeitos."
   ]
  },
  {
   "cell_type": "markdown",
   "id": "5ff1f495",
   "metadata": {},
   "source": [
    "# 6 MODELO COM O LN(Y)"
   ]
  },
  {
   "cell_type": "markdown",
   "id": "c9ef88bd",
   "metadata": {},
   "source": [
    "## 6.1 Modelo"
   ]
  },
  {
   "cell_type": "code",
   "execution_count": 83,
   "id": "7b83a04d",
   "metadata": {},
   "outputs": [
    {
     "name": "stdout",
     "output_type": "stream",
     "text": [
      "                            OLS Regression Results                            \n",
      "==============================================================================\n",
      "Dep. Variable:                    mpg   R-squared:                       0.895\n",
      "Model:                            OLS   Adj. R-squared:                  0.889\n",
      "Method:                 Least Squares   F-statistic:                     150.1\n",
      "Date:                Mon, 21 Jun 2021   Prob (F-statistic):          1.62e-135\n",
      "Time:                        16:48:32   Log-Likelihood:                 252.96\n",
      "No. Observations:                 318   AIC:                            -469.9\n",
      "Df Residuals:                     300   BIC:                            -402.2\n",
      "Df Model:                          17                                         \n",
      "Covariance Type:            nonrobust                                         \n",
      "==============================================================================\n",
      "                 coef    std err          t      P>|t|      [0.025      0.975]\n",
      "------------------------------------------------------------------------------\n",
      "Intercept      2.2133      0.006    388.963      0.000       2.202       2.225\n",
      "cyl            0.0058      0.016      0.371      0.711      -0.025       0.037\n",
      "weight        -0.2311      0.015    -15.634      0.000      -0.260      -0.202\n",
      "acc            0.0185      0.008      2.378      0.018       0.003       0.034\n",
      "year_70        0.0019      0.026      0.074      0.941      -0.050       0.054\n",
      "year_71        0.0893      0.022      4.024      0.000       0.046       0.133\n",
      "year_72        0.0464      0.024      1.955      0.051      -0.000       0.093\n",
      "year_73        0.0104      0.020      0.533      0.594      -0.028       0.049\n",
      "year_74        0.1119      0.023      4.763      0.000       0.066       0.158\n",
      "year_75        0.1073      0.023      4.635      0.000       0.062       0.153\n",
      "year_76        0.1145      0.021      5.538      0.000       0.074       0.155\n",
      "year_77        0.1936      0.023      8.572      0.000       0.149       0.238\n",
      "year_78        0.1726      0.019      9.029      0.000       0.135       0.210\n",
      "year_79        0.2699      0.024     11.470      0.000       0.224       0.316\n",
      "year_80        0.3896      0.023     16.991      0.000       0.344       0.435\n",
      "year_81        0.3485      0.023     15.102      0.000       0.303       0.394\n",
      "year_82        0.3574      0.022     15.982      0.000       0.313       0.401\n",
      "origin_1       0.6929      0.010     66.800      0.000       0.672       0.713\n",
      "origin_2       0.7667      0.013     59.874      0.000       0.742       0.792\n",
      "origin_3       0.7537      0.013     59.601      0.000       0.729       0.779\n",
      "==============================================================================\n",
      "Omnibus:                        6.605   Durbin-Watson:                   1.804\n",
      "Prob(Omnibus):                  0.037   Jarque-Bera (JB):                8.127\n",
      "Skew:                          -0.186   Prob(JB):                       0.0172\n",
      "Kurtosis:                       3.689   Cond. No.                     1.68e+16\n",
      "==============================================================================\n",
      "\n",
      "Notes:\n",
      "[1] Standard Errors assume that the covariance matrix of the errors is correctly specified.\n",
      "[2] The smallest eigenvalue is 2.68e-30. This might indicate that there are\n",
      "strong multicollinearity problems or that the design matrix is singular.\n"
     ]
    }
   ],
   "source": [
    "regLog = sm.OLS(np.log(y_train), X_train) # Especifica o modelo - tira o log da resposta\n",
    "resFinLog = regLog.fit() # Ajusta o modelo\n",
    "print(resFinLog.summary())"
   ]
  },
  {
   "cell_type": "markdown",
   "id": "e4687299",
   "metadata": {},
   "source": [
    "## 6.2 Métricas de qualidade de ajuste"
   ]
  },
  {
   "cell_type": "code",
   "execution_count": 84,
   "id": "0abd44a1",
   "metadata": {},
   "outputs": [],
   "source": [
    "# Usando o modelo resFinLog\n",
    "predYLog = pd.concat([y_test, np.exp(resFinLog.predict(X_test))], axis=1)\n",
    "predYLog.columns = ['mpgReal', 'mpgPrev']"
   ]
  },
  {
   "cell_type": "code",
   "execution_count": 85,
   "id": "3508150d",
   "metadata": {},
   "outputs": [
    {
     "data": {
      "text/html": [
       "<div>\n",
       "<style scoped>\n",
       "    .dataframe tbody tr th:only-of-type {\n",
       "        vertical-align: middle;\n",
       "    }\n",
       "\n",
       "    .dataframe tbody tr th {\n",
       "        vertical-align: top;\n",
       "    }\n",
       "\n",
       "    .dataframe thead th {\n",
       "        text-align: right;\n",
       "    }\n",
       "</style>\n",
       "<table border=\"1\" class=\"dataframe\">\n",
       "  <thead>\n",
       "    <tr style=\"text-align: right;\">\n",
       "      <th></th>\n",
       "      <th>mpgReal</th>\n",
       "      <th>mpgPrev</th>\n",
       "    </tr>\n",
       "  </thead>\n",
       "  <tbody>\n",
       "    <tr>\n",
       "      <th>0</th>\n",
       "      <td>14.0</td>\n",
       "      <td>13.845203</td>\n",
       "    </tr>\n",
       "    <tr>\n",
       "      <th>1</th>\n",
       "      <td>25.0</td>\n",
       "      <td>23.095121</td>\n",
       "    </tr>\n",
       "    <tr>\n",
       "      <th>2</th>\n",
       "      <td>13.0</td>\n",
       "      <td>13.504346</td>\n",
       "    </tr>\n",
       "    <tr>\n",
       "      <th>3</th>\n",
       "      <td>21.0</td>\n",
       "      <td>21.018789</td>\n",
       "    </tr>\n",
       "    <tr>\n",
       "      <th>4</th>\n",
       "      <td>18.0</td>\n",
       "      <td>18.361161</td>\n",
       "    </tr>\n",
       "  </tbody>\n",
       "</table>\n",
       "</div>"
      ],
      "text/plain": [
       "   mpgReal    mpgPrev\n",
       "0     14.0  13.845203\n",
       "1     25.0  23.095121\n",
       "2     13.0  13.504346\n",
       "3     21.0  21.018789\n",
       "4     18.0  18.361161"
      ]
     },
     "execution_count": 85,
     "metadata": {},
     "output_type": "execute_result"
    }
   ],
   "source": [
    "pd.DataFrame.head(predYLog)"
   ]
  },
  {
   "cell_type": "code",
   "execution_count": 86,
   "id": "035d1142",
   "metadata": {},
   "outputs": [
    {
     "name": "stdout",
     "output_type": "stream",
     "text": [
      "Rquadrado: 0.8814501952077259\n",
      "Raiz do erro quadrado médio: 2.74278315199728\n"
     ]
    }
   ],
   "source": [
    "print('Rquadrado:', metrics.r2_score(predYLog['mpgReal'], predYLog['mpgPrev']))\n",
    "print('Raiz do erro quadrado médio:', np.sqrt(metrics.mean_squared_error(predYLog['mpgReal'], predYLog['mpgPrev'])))"
   ]
  },
  {
   "cell_type": "markdown",
   "id": "b507c6d5",
   "metadata": {},
   "source": [
    "## 6.3 Análise residual"
   ]
  },
  {
   "cell_type": "code",
   "execution_count": 87,
   "id": "af600437",
   "metadata": {},
   "outputs": [],
   "source": [
    "predYLog['res'] = predYLog['mpgReal'] - predYLog['mpgPrev']"
   ]
  },
  {
   "cell_type": "code",
   "execution_count": 88,
   "id": "c2a5412c",
   "metadata": {},
   "outputs": [
    {
     "data": {
      "text/html": [
       "<div>\n",
       "<style scoped>\n",
       "    .dataframe tbody tr th:only-of-type {\n",
       "        vertical-align: middle;\n",
       "    }\n",
       "\n",
       "    .dataframe tbody tr th {\n",
       "        vertical-align: top;\n",
       "    }\n",
       "\n",
       "    .dataframe thead th {\n",
       "        text-align: right;\n",
       "    }\n",
       "</style>\n",
       "<table border=\"1\" class=\"dataframe\">\n",
       "  <thead>\n",
       "    <tr style=\"text-align: right;\">\n",
       "      <th></th>\n",
       "      <th>mpgReal</th>\n",
       "      <th>mpgPrev</th>\n",
       "      <th>res</th>\n",
       "    </tr>\n",
       "  </thead>\n",
       "  <tbody>\n",
       "    <tr>\n",
       "      <th>0</th>\n",
       "      <td>14.0</td>\n",
       "      <td>13.845203</td>\n",
       "      <td>0.154797</td>\n",
       "    </tr>\n",
       "    <tr>\n",
       "      <th>1</th>\n",
       "      <td>25.0</td>\n",
       "      <td>23.095121</td>\n",
       "      <td>1.904879</td>\n",
       "    </tr>\n",
       "    <tr>\n",
       "      <th>2</th>\n",
       "      <td>13.0</td>\n",
       "      <td>13.504346</td>\n",
       "      <td>-0.504346</td>\n",
       "    </tr>\n",
       "    <tr>\n",
       "      <th>3</th>\n",
       "      <td>21.0</td>\n",
       "      <td>21.018789</td>\n",
       "      <td>-0.018789</td>\n",
       "    </tr>\n",
       "    <tr>\n",
       "      <th>4</th>\n",
       "      <td>18.0</td>\n",
       "      <td>18.361161</td>\n",
       "      <td>-0.361161</td>\n",
       "    </tr>\n",
       "  </tbody>\n",
       "</table>\n",
       "</div>"
      ],
      "text/plain": [
       "   mpgReal    mpgPrev       res\n",
       "0     14.0  13.845203  0.154797\n",
       "1     25.0  23.095121  1.904879\n",
       "2     13.0  13.504346 -0.504346\n",
       "3     21.0  21.018789 -0.018789\n",
       "4     18.0  18.361161 -0.361161"
      ]
     },
     "execution_count": 88,
     "metadata": {},
     "output_type": "execute_result"
    }
   ],
   "source": [
    "pd.DataFrame.head(predYLog)"
   ]
  },
  {
   "cell_type": "markdown",
   "id": "5b82e2a2",
   "metadata": {},
   "source": [
    "### Normalidade"
   ]
  },
  {
   "cell_type": "code",
   "execution_count": 89,
   "id": "5b133a85",
   "metadata": {},
   "outputs": [
    {
     "data": {
      "application/vnd.jupyter.widget-view+json": {
       "model_id": "ca179eea5e5e4cb4be17ede037f57398",
       "version_major": 2,
       "version_minor": 0
      },
      "text/plain": [
       "Canvas(toolbar=Toolbar(toolitems=[('Home', 'Reset original view', 'home', 'home'), ('Back', 'Back to previous …"
      ]
     },
     "metadata": {},
     "output_type": "display_data"
    },
    {
     "data": {
      "text/plain": [
       "Text(0, 0.5, 'Freq')"
      ]
     },
     "execution_count": 89,
     "metadata": {},
     "output_type": "execute_result"
    }
   ],
   "source": [
    "fig = plt.figure()\n",
    "ax = fig.add_subplot(1, 1, 1)\n",
    "plt.hist(predYLog['res'])\n",
    "ax.set_title('Distribuição dos resíduos - log da resposta')\n",
    "ax.set_xlabel('Residuos para mpg')\n",
    "ax.set_ylabel('Freq')"
   ]
  },
  {
   "cell_type": "code",
   "execution_count": 90,
   "id": "e283c6fa",
   "metadata": {},
   "outputs": [],
   "source": [
    "kStat,kPvalue = sp.stats.kstest(predYLog['res'], 'norm')"
   ]
  },
  {
   "cell_type": "code",
   "execution_count": 91,
   "id": "a3ff6c92",
   "metadata": {},
   "outputs": [
    {
     "data": {
      "text/plain": [
       "0.2995963099953317"
      ]
     },
     "execution_count": 91,
     "metadata": {},
     "output_type": "execute_result"
    }
   ],
   "source": [
    "kStat"
   ]
  },
  {
   "cell_type": "code",
   "execution_count": 92,
   "id": "27034078",
   "metadata": {},
   "outputs": [
    {
     "data": {
      "text/plain": [
       "7.28507678445783e-07"
      ]
     },
     "execution_count": 92,
     "metadata": {},
     "output_type": "execute_result"
    }
   ],
   "source": [
    "kPvalue"
   ]
  },
  {
   "cell_type": "markdown",
   "id": "3a5095b3",
   "metadata": {},
   "source": [
    "### Homocedasticidade"
   ]
  },
  {
   "cell_type": "code",
   "execution_count": 93,
   "id": "d3f52264",
   "metadata": {},
   "outputs": [
    {
     "data": {
      "application/vnd.jupyter.widget-view+json": {
       "model_id": "7e530994e722412889d9697573f5b013",
       "version_major": 2,
       "version_minor": 0
      },
      "text/plain": [
       "Canvas(toolbar=Toolbar(toolitems=[('Home', 'Reset original view', 'home', 'home'), ('Back', 'Back to previous …"
      ]
     },
     "metadata": {},
     "output_type": "display_data"
    },
    {
     "data": {
      "text/plain": [
       "Text(0, 0.5, 'Freq')"
      ]
     },
     "execution_count": 93,
     "metadata": {},
     "output_type": "execute_result"
    }
   ],
   "source": [
    "fig =  plt.figure()\n",
    "ax = fig.add_subplot(1, 1, 1)\n",
    "plt.scatter(predYLog['mpgPrev'], predYLog['res'])\n",
    "ax.set_title('Variância dos resíduos - log de (Y)')\n",
    "ax.set_xlabel('')\n",
    "ax.set_ylabel('Freq')"
   ]
  },
  {
   "cell_type": "markdown",
   "id": "65186c2f",
   "metadata": {},
   "source": [
    "Mesmo tirando o log e o modelo tendo melhores métricas de qualidade de previsão, a análise residual, apesar de estar melhor, ainda mostra alguns problemas. Provavelmente o modelo mais complexo, com interações ou alguma não linearidade, poderia ajudar a resolver o problema."
   ]
  },
  {
   "cell_type": "markdown",
   "id": "136ac628",
   "metadata": {},
   "source": [
    "# 7 AJUSTE POR GRADIENTE DESCENDENTE"
   ]
  },
  {
   "cell_type": "markdown",
   "id": "0ae5c692",
   "metadata": {},
   "source": [
    "## 7.1 Função perda"
   ]
  },
  {
   "cell_type": "code",
   "execution_count": 94,
   "id": "1e4805a1",
   "metadata": {},
   "outputs": [],
   "source": [
    "def funcao_perda(X, y, theta):\n",
    "  \n",
    "  \"\"\"\n",
    "  X é a matrix com os regressores (m x n).\n",
    "  y é a série com a resposta (1 x m).\n",
    "  theta é a série com os parâmetros (1 x n)\n",
    "  \"\"\"\n",
    "  \n",
    "  #np.dot realiza uma multiplicação de matrizes\n",
    "  pred = X.dot(theta)\n",
    "  \n",
    "  #Cálculo dos resíduos para o conjunto de thetas\n",
    "  res = np.subtract(pred, y.squeeze())\n",
    "  \n",
    "  #Calcula o quadrado dos erros \n",
    "  sqrRes = np.square(res)\n",
    "  \n",
    "  #Calculo da perda \n",
    "  perda = 1 / (2 * m) * np.sum(sqrRes)\n",
    "  \n",
    "  return perda"
   ]
  },
  {
   "cell_type": "markdown",
   "id": "e478b1af",
   "metadata": {},
   "source": [
    "## 7.2 Função gradiente descendente"
   ]
  },
  {
   "cell_type": "code",
   "execution_count": 95,
   "id": "e91ff068",
   "metadata": {},
   "outputs": [],
   "source": [
    "def gradiente_descendente(X, y, theta, alpha, itera):\n",
    "  \"\"\"\n",
    "  Argumentos de entrada\n",
    "  \n",
    "  X é a matriz dos regressores (m x n).\n",
    "  y é a série da resposta (1 x m).\n",
    "  theta é a série dos valores dos parâmetros (1 x n).\n",
    "  alpha é a taxa de aprendizado (esccalar).\n",
    "  itera é q quantidade de iterações do método (escalar)\n",
    "  \n",
    "  Resultados\n",
    "  -----------------\n",
    "  theta é o valor final dos parâmetros\n",
    "  hist_perda é o valor da perda ao longo da iterações\n",
    "  \"\"\"\n",
    "  # Inicializa a série do histórico de perdas\n",
    "  hist_perda = np.zeros(itera)\n",
    "\n",
    "  for i in range(itera):\n",
    "    # Calcula as previsões com os atuais valores dos parâmetros\n",
    "    pred = X.dot(theta)\n",
    "   \n",
    "    # Calcula os resíduos das previsões\n",
    "    res = np.subtract(pred, y.squeeze())\n",
    "    \n",
    "    # Calcula o próximo valor dos thetas - derivada parcial da função perda\n",
    "    sum_delta = (alpha / m) * X.transpose().dot(res);\n",
    "    \n",
    "    # Atualiza os valores de theta    \n",
    "    theta = theta - sum_delta;\n",
    "    \n",
    "    # Calcula o valor da perda com os novos valores de theta\n",
    "    hist_perda[i] = funcao_perda(X, y, theta)  \n",
    "\n",
    "  return theta, hist_perda"
   ]
  },
  {
   "cell_type": "markdown",
   "id": "7a25c749",
   "metadata": {},
   "source": [
    "## 7.3 Aplicação"
   ]
  },
  {
   "cell_type": "markdown",
   "id": "b209620c",
   "metadata": {},
   "source": [
    "Antes de aplicar o gradiente descendente, deve-se definir o falor de \"alpha\" e a quantidade de iterações do método."
   ]
  },
  {
   "cell_type": "code",
   "execution_count": 96,
   "id": "02289940",
   "metadata": {},
   "outputs": [],
   "source": [
    "# Salva o tamanho do df com os regressores (incluindo o )\n",
    "m, n = X_train.shape\n",
    "\n",
    "# Inicializa os valores de \"theta\"\n",
    "theta = np.zeros(n)\n",
    "\n",
    "# Iterações\n",
    "itera = 1000\n",
    "\n",
    "# Taxa de aprendizado\n",
    "alpha = 0.3"
   ]
  },
  {
   "cell_type": "code",
   "execution_count": 97,
   "id": "829577b1",
   "metadata": {},
   "outputs": [],
   "source": [
    "# Roda o algoritmo de gradiente descendente para os dados de teste\n",
    "theta, hist_perda = gradiente_descendente(X = X_train, y = np.log(y_train), theta = theta, alpha = alpha, itera = itera)"
   ]
  },
  {
   "cell_type": "code",
   "execution_count": 98,
   "id": "fd9442e8",
   "metadata": {},
   "outputs": [
    {
     "data": {
      "text/plain": [
       "Intercept    2.213303\n",
       "cyl          0.005835\n",
       "weight      -0.231080\n",
       "acc          0.018474\n",
       "year_70      0.001945\n",
       "year_71      0.089290\n",
       "year_72      0.046365\n",
       "year_73      0.010420\n",
       "year_74      0.111923\n",
       "year_75      0.107325\n",
       "year_76      0.114482\n",
       "year_77      0.193609\n",
       "year_78      0.172580\n",
       "year_79      0.269875\n",
       "year_80      0.389557\n",
       "year_81      0.348536\n",
       "year_82      0.357397\n",
       "origin_1     0.692888\n",
       "origin_2     0.766739\n",
       "origin_3     0.753677\n",
       "dtype: float64"
      ]
     },
     "execution_count": 98,
     "metadata": {},
     "output_type": "execute_result"
    }
   ],
   "source": [
    "theta"
   ]
  },
  {
   "cell_type": "markdown",
   "id": "d8b6ed56",
   "metadata": {},
   "source": [
    "### Convergência"
   ]
  },
  {
   "cell_type": "code",
   "execution_count": 99,
   "id": "197e3ce1",
   "metadata": {},
   "outputs": [
    {
     "data": {
      "application/vnd.jupyter.widget-view+json": {
       "model_id": "4d3b9e5ff5e5476898b7aa075965fa5c",
       "version_major": 2,
       "version_minor": 0
      },
      "text/plain": [
       "Canvas(toolbar=Toolbar(toolitems=[('Home', 'Reset original view', 'home', 'home'), ('Back', 'Back to previous …"
      ]
     },
     "metadata": {},
     "output_type": "display_data"
    },
    {
     "data": {
      "text/plain": [
       "Text(0.5, 1.0, 'Convergence of gradient descent')"
      ]
     },
     "execution_count": 99,
     "metadata": {},
     "output_type": "execute_result"
    }
   ],
   "source": [
    "fig = plt.figure()\n",
    "ax = fig.add_subplot(1, 1, 1)\n",
    "plt.plot(range(1, itera +1), hist_perda, color ='blue')\n",
    "plt.rcParams[\"figure.figsize\"] = (10,6)\n",
    "plt.grid()\n",
    "plt.xlabel(\"Number of iterations\")\n",
    "plt.ylabel(\"cost (J)\")\n",
    "plt.title(\"Convergence of gradient descent\")"
   ]
  },
  {
   "cell_type": "markdown",
   "id": "8d4f8167",
   "metadata": {},
   "source": [
    "### Previsão dos valores e resíduos"
   ]
  },
  {
   "cell_type": "code",
   "execution_count": 100,
   "id": "74eb8c59",
   "metadata": {},
   "outputs": [
    {
     "data": {
      "text/plain": [
       "0    13.845203\n",
       "1    23.095122\n",
       "2    13.504346\n",
       "3    21.018789\n",
       "4    18.361161\n",
       "dtype: float64"
      ]
     },
     "execution_count": 100,
     "metadata": {},
     "output_type": "execute_result"
    }
   ],
   "source": [
    "pd.DataFrame.head(np.exp(X_test.dot(theta)))"
   ]
  },
  {
   "cell_type": "code",
   "execution_count": 101,
   "id": "00332a96",
   "metadata": {},
   "outputs": [],
   "source": [
    "predGradYLog = pd.concat([y_test, np.exp(X_test.dot(theta))], axis=1)\n",
    "predGradYLog.columns = ['mpgReal', 'mpgPrev']\n",
    "predGradYLog['res'] = predGradYLog['mpgReal'] - predGradYLog['mpgPrev']"
   ]
  },
  {
   "cell_type": "code",
   "execution_count": 102,
   "id": "e83f76b2",
   "metadata": {},
   "outputs": [
    {
     "data": {
      "text/html": [
       "<div>\n",
       "<style scoped>\n",
       "    .dataframe tbody tr th:only-of-type {\n",
       "        vertical-align: middle;\n",
       "    }\n",
       "\n",
       "    .dataframe tbody tr th {\n",
       "        vertical-align: top;\n",
       "    }\n",
       "\n",
       "    .dataframe thead th {\n",
       "        text-align: right;\n",
       "    }\n",
       "</style>\n",
       "<table border=\"1\" class=\"dataframe\">\n",
       "  <thead>\n",
       "    <tr style=\"text-align: right;\">\n",
       "      <th></th>\n",
       "      <th>mpgReal</th>\n",
       "      <th>mpgPrev</th>\n",
       "      <th>res</th>\n",
       "    </tr>\n",
       "  </thead>\n",
       "  <tbody>\n",
       "    <tr>\n",
       "      <th>0</th>\n",
       "      <td>14.0</td>\n",
       "      <td>13.845203</td>\n",
       "      <td>0.154797</td>\n",
       "    </tr>\n",
       "    <tr>\n",
       "      <th>1</th>\n",
       "      <td>25.0</td>\n",
       "      <td>23.095122</td>\n",
       "      <td>1.904878</td>\n",
       "    </tr>\n",
       "    <tr>\n",
       "      <th>2</th>\n",
       "      <td>13.0</td>\n",
       "      <td>13.504346</td>\n",
       "      <td>-0.504346</td>\n",
       "    </tr>\n",
       "    <tr>\n",
       "      <th>3</th>\n",
       "      <td>21.0</td>\n",
       "      <td>21.018789</td>\n",
       "      <td>-0.018789</td>\n",
       "    </tr>\n",
       "    <tr>\n",
       "      <th>4</th>\n",
       "      <td>18.0</td>\n",
       "      <td>18.361161</td>\n",
       "      <td>-0.361161</td>\n",
       "    </tr>\n",
       "  </tbody>\n",
       "</table>\n",
       "</div>"
      ],
      "text/plain": [
       "   mpgReal    mpgPrev       res\n",
       "0     14.0  13.845203  0.154797\n",
       "1     25.0  23.095122  1.904878\n",
       "2     13.0  13.504346 -0.504346\n",
       "3     21.0  21.018789 -0.018789\n",
       "4     18.0  18.361161 -0.361161"
      ]
     },
     "execution_count": 102,
     "metadata": {},
     "output_type": "execute_result"
    }
   ],
   "source": [
    "pd.DataFrame.head(predGradYLog)"
   ]
  },
  {
   "cell_type": "markdown",
   "id": "e3bf28d5",
   "metadata": {},
   "source": [
    "### Métricas de qualidade"
   ]
  },
  {
   "cell_type": "code",
   "execution_count": 103,
   "id": "199774e6",
   "metadata": {},
   "outputs": [
    {
     "name": "stdout",
     "output_type": "stream",
     "text": [
      "Rquadrado: 0.8814502079540414\n",
      "Raiz do erro quadrado médio: 2.7427830045471\n"
     ]
    }
   ],
   "source": [
    "print('Rquadrado:', metrics.r2_score(predGradYLog['mpgReal'], predGradYLog['mpgPrev']))\n",
    "print('Raiz do erro quadrado médio:', np.sqrt(metrics.mean_squared_error(predGradYLog['mpgReal'], predGradYLog['mpgPrev'])))"
   ]
  },
  {
   "cell_type": "markdown",
   "id": "0bcfa7bf",
   "metadata": {},
   "source": [
    "# 8 REGRESSÃO REGULARIZADA"
   ]
  },
  {
   "cell_type": "markdown",
   "id": "b6f17bd6-85ab-4863-aab1-b5deaab3cb6c",
   "metadata": {},
   "source": [
    "## 8.1 Regressão Ridge"
   ]
  },
  {
   "cell_type": "markdown",
   "id": "a00d267b-b69a-4b12-abc0-585cee343de1",
   "metadata": {},
   "source": [
    "### 8.1.1 Definição do modelo"
   ]
  },
  {
   "cell_type": "code",
   "execution_count": 104,
   "id": "66fa5b59-47bc-4a51-aba1-99bca3b3769b",
   "metadata": {},
   "outputs": [],
   "source": [
    "mdlRidge = Ridge()"
   ]
  },
  {
   "cell_type": "markdown",
   "id": "e11604a0-c9c3-4198-acdb-69f534f7082c",
   "metadata": {},
   "source": [
    "### 8.1.2 Definição da procura para o melhor alpha"
   ]
  },
  {
   "cell_type": "code",
   "execution_count": 105,
   "id": "84132ed9-f973-4639-9b77-a24b93a6e43c",
   "metadata": {},
   "outputs": [],
   "source": [
    "# Grid para procurar\n",
    "alphas = np.logspace(-1, 1, 200)"
   ]
  },
  {
   "cell_type": "code",
   "execution_count": 106,
   "id": "d348e4f4-47e7-44f8-b54a-2d9a530fda44",
   "metadata": {
    "tags": []
   },
   "outputs": [],
   "source": [
    "# Ajusta modelos para todos os valores de alpha\n",
    "coefs = []\n",
    "\n",
    "for a in alphas:\n",
    "    mdlRidge.set_params(alpha = a)\n",
    "    mdlRidge.fit(np.array(X_train), np.array(y_train))\n",
    "    coefs.append(np.array(mdlRidge.coef_))"
   ]
  },
  {
   "cell_type": "code",
   "execution_count": 107,
   "id": "4c8bb4e9-4d07-4351-a467-bf0604ef1016",
   "metadata": {},
   "outputs": [
    {
     "data": {
      "text/plain": [
       "(200, 1, 20)"
      ]
     },
     "execution_count": 107,
     "metadata": {},
     "output_type": "execute_result"
    }
   ],
   "source": [
    "np.array(coefs).shape"
   ]
  },
  {
   "cell_type": "code",
   "execution_count": 108,
   "id": "60369ba7-0f1d-4cf0-9e0e-28179b562f30",
   "metadata": {},
   "outputs": [
    {
     "data": {
      "application/vnd.jupyter.widget-view+json": {
       "model_id": "7467f2162b9743dc880578d286d6b9ad",
       "version_major": 2,
       "version_minor": 0
      },
      "text/plain": [
       "Canvas(toolbar=Toolbar(toolitems=[('Home', 'Reset original view', 'home', 'home'), ('Back', 'Back to previous …"
      ]
     },
     "metadata": {},
     "output_type": "display_data"
    },
    {
     "ename": "NameError",
     "evalue": "name 'grid' is not defined",
     "output_type": "error",
     "traceback": [
      "\u001b[1;31m---------------------------------------------------------------------------\u001b[0m",
      "\u001b[1;31mNameError\u001b[0m                                 Traceback (most recent call last)",
      "\u001b[1;32m<ipython-input-108-2ab70d9564cb>\u001b[0m in \u001b[0;36m<module>\u001b[1;34m\u001b[0m\n\u001b[0;32m      2\u001b[0m \u001b[0mfig\u001b[0m \u001b[1;33m=\u001b[0m \u001b[0mplt\u001b[0m\u001b[1;33m.\u001b[0m\u001b[0mfigure\u001b[0m\u001b[1;33m(\u001b[0m\u001b[1;33m)\u001b[0m\u001b[1;33m\u001b[0m\u001b[1;33m\u001b[0m\u001b[0m\n\u001b[0;32m      3\u001b[0m \u001b[0max\u001b[0m \u001b[1;33m=\u001b[0m \u001b[0mplt\u001b[0m\u001b[1;33m.\u001b[0m\u001b[0mgca\u001b[0m\u001b[1;33m(\u001b[0m\u001b[1;33m)\u001b[0m\u001b[1;33m\u001b[0m\u001b[1;33m\u001b[0m\u001b[0m\n\u001b[1;32m----> 4\u001b[1;33m \u001b[0max\u001b[0m\u001b[1;33m.\u001b[0m\u001b[0mplot\u001b[0m\u001b[1;33m(\u001b[0m\u001b[0mgrid\u001b[0m\u001b[1;33m,\u001b[0m \u001b[0mcoefs\u001b[0m\u001b[1;33m)\u001b[0m\u001b[1;33m\u001b[0m\u001b[1;33m\u001b[0m\u001b[0m\n\u001b[0m",
      "\u001b[1;31mNameError\u001b[0m: name 'grid' is not defined"
     ]
    }
   ],
   "source": [
    "# Plota os resultados\n",
    "fig = plt.figure()\n",
    "ax = plt.gca()\n",
    "ax.plot(grid, coefs)"
   ]
  },
  {
   "cell_type": "code",
   "execution_count": null,
   "id": "a1d7a020-03f8-4ef7-9237-1d2933c71422",
   "metadata": {},
   "outputs": [],
   "source": [
    "import matplotlib.pyplot as plt\n",
    "import numpy as np\n",
    "\n",
    "from sklearn.datasets import make_regression\n",
    "from sklearn.linear_model import Ridge\n",
    "from sklearn.metrics import mean_squared_error\n",
    "\n",
    "clf = Ridge()\n",
    "\n",
    "X, y, w = make_regression(n_samples=10, n_features=10, coef=True,\n",
    "                          random_state=1, bias=3.5)\n",
    "\n",
    "coefs = []\n",
    "errors = []\n",
    "\n",
    "alphas = np.logspace(-6, 6, 200)\n",
    "\n",
    "# Train the model with different regularisation strengths\n",
    "for a in alphas:\n",
    "    clf.set_params(alpha=a)\n",
    "    clf.fit(X, y)\n",
    "    coefs.append(clf.coef_)\n",
    "\n",
    "\n",
    "# Display results\n",
    "plt.figure(figsize=(20, 6))\n",
    "\n",
    "plt.subplot(121)\n",
    "ax = plt.gca()\n",
    "ax.plot(alphas, coefs)\n",
    "ax.set_xscale('log')\n",
    "plt.xlabel('alpha')\n",
    "plt.ylabel('weights')\n",
    "plt.title('Ridge coefficients as a function of the regularization')\n",
    "plt.axis('tight')"
   ]
  },
  {
   "cell_type": "markdown",
   "id": "cbf70919-915a-4baf-8c84-828365c7916e",
   "metadata": {},
   "source": [
    "### 8.1.3 Procura o melhor alpha"
   ]
  },
  {
   "cell_type": "markdown",
   "id": "b959590f-375a-4dcc-a0ea-93de294b7d72",
   "metadata": {},
   "source": [
    "#### Método Gráfico"
   ]
  },
  {
   "cell_type": "code",
   "execution_count": null,
   "id": "1b68f22f-d931-49cc-bfa1-f42e2ef94f37",
   "metadata": {},
   "outputs": [],
   "source": [
    "# Cria um vetor vazio para guardar o valor dos coeficiente\n",
    "coefs = []\n",
    "\n",
    "#\n",
    "for g in grid:\n",
    "    mdlRid"
   ]
  },
  {
   "cell_type": "markdown",
   "id": "cdfa7e20-2cfa-4063-996f-a05f6505748a",
   "metadata": {},
   "source": [
    "#### Método numérico"
   ]
  },
  {
   "cell_type": "code",
   "execution_count": null,
   "id": "ee02f195-228d-4061-a00f-f2e00f73bf74",
   "metadata": {},
   "outputs": [],
   "source": [
    "# Método de procura kFold\n",
    "cv = RepeatedKFold(n_splits=10, n_repeats=3, random_state=1)"
   ]
  },
  {
   "cell_type": "code",
   "execution_count": null,
   "id": "cd33e709-585d-4e4f-9031-8b4aee241468",
   "metadata": {},
   "outputs": [],
   "source": [
    "# Define a procura\n",
    "search = GridSearchCV(mdlRige, grid, scoring='neg_root_mean_squared_error', cv=cv, n_jobs=-1)"
   ]
  },
  {
   "cell_type": "code",
   "execution_count": null,
   "id": "01a34d4e-1ace-4e5a-a162-8242259a88d2",
   "metadata": {},
   "outputs": [],
   "source": [
    "# Faz a procura\n",
    "results = search.fit(X_train, np.log(y_train))"
   ]
  },
  {
   "cell_type": "markdown",
   "id": "a3c39459-0ca0-4d65-a85a-70cfcc144e35",
   "metadata": {},
   "source": [
    "### Melhor valor de alpha"
   ]
  },
  {
   "cell_type": "code",
   "execution_count": null,
   "id": "f7ab2d2a-1f8e-4383-a904-5671c803743c",
   "metadata": {},
   "outputs": [],
   "source": [
    "print('Config: %s' % results.best_params_)"
   ]
  },
  {
   "cell_type": "markdown",
   "id": "59ae4bad-2a1f-4e46-b5d2-5d2af803e7d0",
   "metadata": {},
   "source": [
    "### Ajuste do modelo com o melhor alpha"
   ]
  },
  {
   "cell_type": "code",
   "execution_count": null,
   "id": "0482ea36-117d-4341-8f81-44597632ecda",
   "metadata": {},
   "outputs": [],
   "source": [
    "# Definição do modelo\n",
    "mdlRige = Ridge(alpha = 0.79)\n",
    "mdlRige.fit(X_train, np.log(y_train))"
   ]
  },
  {
   "cell_type": "code",
   "execution_count": null,
   "id": "0c558f74-7c65-4d32-8467-6dc0f8ce75b7",
   "metadata": {},
   "outputs": [],
   "source": [
    "print(mdlRige.coef_)"
   ]
  },
  {
   "cell_type": "markdown",
   "id": "a30a1a6f-68a8-4fc1-91f7-2f671f70e01a",
   "metadata": {},
   "source": [
    "### Cálculo dos resíduos"
   ]
  },
  {
   "cell_type": "code",
   "execution_count": null,
   "id": "0a2afbc0-2fdf-4d6b-b3cc-5121b6903ef0",
   "metadata": {},
   "outputs": [],
   "source": [
    "# Create predictions\n",
    "predTest = pd.DataFrame(np.exp(mdlRige.predict(X_test)))\n",
    "\n",
    "# Concatena valores reais e previsão\n",
    "predGradYLog = pd.concat([y_test, predTest], axis=1)\n",
    "predGradYLog.columns = ['mpgReal', 'mpgPrev']\n",
    "\n",
    "# Cria os resíduos\n",
    "predGradYLog['res'] = predGradYLog['mpgReal'] - predGradYLog['mpgPrev']\n",
    "\n",
    "pd.DataFrame.head(predGradYLog)"
   ]
  },
  {
   "cell_type": "markdown",
   "id": "e2caa72e-e1ac-4757-8f4a-464f0638b58c",
   "metadata": {},
   "source": [
    "### Métricas de qualidade"
   ]
  },
  {
   "cell_type": "code",
   "execution_count": null,
   "id": "60f47d22-bdb5-4d16-9648-06a411eff94a",
   "metadata": {},
   "outputs": [],
   "source": [
    "print('Rquadrado:', metrics.r2_score(predGradYLog['mpgReal'], predGradYLog['mpgPrev']))\n",
    "print('Raiz do erro quadrado médio:', np.sqrt(metrics.mean_squared_error(predGradYLog['mpgReal'], predGradYLog['mpgPrev'])))"
   ]
  }
 ],
 "metadata": {
  "kernelspec": {
   "display_name": "Python 3",
   "language": "python",
   "name": "python3"
  },
  "language_info": {
   "codemirror_mode": {
    "name": "ipython",
    "version": 3
   },
   "file_extension": ".py",
   "mimetype": "text/x-python",
   "name": "python",
   "nbconvert_exporter": "python",
   "pygments_lexer": "ipython3",
   "version": "3.8.11"
  }
 },
 "nbformat": 4,
 "nbformat_minor": 5
}
