{
 "cells": [
  {
   "cell_type": "markdown",
   "id": "c5353fb4-390c-4f90-a2f0-88722b4620c7",
   "metadata": {},
   "source": [
    "# DNC DATA EXPERT"
   ]
  },
  {
   "cell_type": "markdown",
   "id": "3015cc35-aeb3-4eb5-ae61-fc5221dd8eda",
   "metadata": {},
   "source": [
    "# Dinâmica 01 - New York Flights"
   ]
  },
  {
   "cell_type": "markdown",
   "id": "40acfda4-2886-41e5-9306-a21abf3ba3ec",
   "metadata": {},
   "source": [
    "## 01 Carregamento dos pacotes"
   ]
  },
  {
   "cell_type": "code",
   "execution_count": 1,
   "id": "1c7ec1ca-712c-4eb7-8ef3-766d9185ced9",
   "metadata": {},
   "outputs": [],
   "source": [
    "import pandas as pd\n",
    "import numpy as np\n",
    "import matplotlib.pyplot as plt"
   ]
  }
 ],
 "metadata": {
  "kernelspec": {
   "display_name": "Python 3",
   "language": "python",
   "name": "python3"
  },
  "language_info": {
   "codemirror_mode": {
    "name": "ipython",
    "version": 3
   },
   "file_extension": ".py",
   "mimetype": "text/x-python",
   "name": "python",
   "nbconvert_exporter": "python",
   "pygments_lexer": "ipython3",
   "version": "3.8.10"
  }
 },
 "nbformat": 4,
 "nbformat_minor": 5
}
