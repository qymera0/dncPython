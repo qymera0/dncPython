{
 "cells": [
  {
   "cell_type": "markdown",
   "id": "3e62324a-36a8-405f-94a1-78d25362fdd7",
   "metadata": {},
   "source": [
    "# EXEMPLOS DE ESTATÍSTIVA BÁSICA"
   ]
  },
  {
   "cell_type": "markdown",
   "id": "484481cb-12f9-40f5-adf4-b47f99a76ed6",
   "metadata": {},
   "source": [
    "# 1 CARREGAMENTO DAS BIBLIOTECAS"
   ]
  },
  {
   "cell_type": "code",
   "execution_count": 4,
   "id": "2be594f4-6e49-4da2-9dd4-660ac172bdfa",
   "metadata": {},
   "outputs": [],
   "source": [
    "import pandas as pd\n",
    "import numpy as np\n",
    "import matplotlib.pyplot as plt\n",
    "import seaborn as sns\n",
    "import scipy.stats as stats"
   ]
  },
  {
   "cell_type": "markdown",
   "id": "92c81ed2-36b8-4ce1-a4eb-f2cbd514a0fd",
   "metadata": {},
   "source": [
    "# 2 GERAÇÃO DOS DADOS"
   ]
  }
 ],
 "metadata": {
  "kernelspec": {
   "display_name": "Python 3",
   "language": "python",
   "name": "python3"
  },
  "language_info": {
   "codemirror_mode": {
    "name": "ipython",
    "version": 3
   },
   "file_extension": ".py",
   "mimetype": "text/x-python",
   "name": "python",
   "nbconvert_exporter": "python",
   "pygments_lexer": "ipython3",
   "version": "3.8.10"
  }
 },
 "nbformat": 4,
 "nbformat_minor": 5
}
