{
 "cells": [
  {
   "cell_type": "markdown",
   "id": "3e62324a-36a8-405f-94a1-78d25362fdd7",
   "metadata": {},
   "source": [
    "# EXEMPLOS DE ESTATÍSTIVA BÁSICA"
   ]
  },
  {
   "cell_type": "markdown",
   "id": "484481cb-12f9-40f5-adf4-b47f99a76ed6",
   "metadata": {},
   "source": [
    "# 1 CARREGAMENTO DAS BIBLIOTECAS"
   ]
  },
  {
   "cell_type": "code",
   "execution_count": 1,
   "id": "2be594f4-6e49-4da2-9dd4-660ac172bdfa",
   "metadata": {},
   "outputs": [],
   "source": [
    "import pandas as pd\n",
    "import numpy as np\n",
    "import matplotlib.pyplot as plt\n",
    "import seaborn as sns\n",
    "import scipy.stats as stats\n",
    "%matplotlib widget"
   ]
  },
  {
   "cell_type": "markdown",
   "id": "92c81ed2-36b8-4ce1-a4eb-f2cbd514a0fd",
   "metadata": {},
   "source": [
    "# 2 GERAÇÃO DOS DADOS"
   ]
  },
  {
   "cell_type": "code",
   "execution_count": 2,
   "id": "8171cdd5-fb12-46f1-b7c0-c60abb46d733",
   "metadata": {},
   "outputs": [
    {
     "data": {
      "text/plain": [
       "0    7\n",
       "1    7\n",
       "2    6\n",
       "3    2\n",
       "4    5\n",
       "dtype: int64"
      ]
     },
     "execution_count": 2,
     "metadata": {},
     "output_type": "execute_result"
    }
   ],
   "source": [
    "s1 = pd.Series([7, 7, 6, 2,\t5, 4, 3, 7,\t3, 1, 2, 4, 8, 6, 3, 7, 9, 6, 1, 3])\n",
    "pd.DataFrame.head(s1)"
   ]
  },
  {
   "cell_type": "code",
   "execution_count": 3,
   "id": "37b4bd8a-a325-47ce-8bfa-d4ccacfd85c9",
   "metadata": {},
   "outputs": [
    {
     "data": {
      "text/plain": [
       "0     3\n",
       "1     3\n",
       "2     5\n",
       "3    12\n",
       "4     3\n",
       "dtype: int64"
      ]
     },
     "execution_count": 3,
     "metadata": {},
     "output_type": "execute_result"
    }
   ],
   "source": [
    "s2 = pd.Series([3, 3, 5, 12, 3, 4, 10, 5, 4, 4, 3, 4, 8, 4, 5, 5, 6, 6, 4, 7])\n",
    "pd.DataFrame.head(s2)"
   ]
  },
  {
   "cell_type": "code",
   "execution_count": 4,
   "id": "341af8c0-4edc-4f37-8b64-2852609d5fb0",
   "metadata": {},
   "outputs": [
    {
     "data": {
      "text/plain": [
       "0    7\n",
       "1    7\n",
       "2    7\n",
       "3    8\n",
       "4    8\n",
       "dtype: int64"
      ]
     },
     "execution_count": 4,
     "metadata": {},
     "output_type": "execute_result"
    }
   ],
   "source": [
    "s3 = pd.Series([7, 7, 7, 8, 8, 7, 7, 7, 4, 8, 7, 8, 8, 9, 8, 8, 7, 9, 8, 8])\n",
    "pd.DataFrame.head(s3)"
   ]
  },
  {
   "cell_type": "markdown",
   "id": "7f401ab9-48e8-418a-a4d3-aaa5ac064ec5",
   "metadata": {},
   "source": [
    "# 3 ANÁLISE GRÁFICA DESCRITIVA 01"
   ]
  },
  {
   "cell_type": "markdown",
   "id": "c855d56a-1f7c-48da-a305-001dfb0755f8",
   "metadata": {},
   "source": [
    "## 3.1 Gráfico de histograma"
   ]
  },
  {
   "cell_type": "code",
   "execution_count": 5,
   "id": "23683e3e-9204-4b1b-8995-2d7406145ece",
   "metadata": {},
   "outputs": [
    {
     "data": {
      "application/vnd.jupyter.widget-view+json": {
       "model_id": "e3dab62eba7540269909da465b044898",
       "version_major": 2,
       "version_minor": 0
      },
      "text/plain": [
       "Canvas(toolbar=Toolbar(toolitems=[('Home', 'Reset original view', 'home', 'home'), ('Back', 'Back to previous …"
      ]
     },
     "metadata": {},
     "output_type": "display_data"
    },
    {
     "data": {
      "text/plain": [
       "Text(0, 0.5, 'Frequência')"
      ]
     },
     "execution_count": 5,
     "metadata": {},
     "output_type": "execute_result"
    }
   ],
   "source": [
    "# Cria uma imagem vazia\n",
    "fig = plt.figure()\n",
    "\n",
    "# Plota o histograma\n",
    "plt.hist(s1, bins = 5)\n",
    "\n",
    "# Coloca título nos eixos\n",
    "plt.title(\"Distribuição da variável S1\", loc = 'left')\n",
    "\n",
    "# Coloca nome nos eixos\n",
    "plt.xlabel('s1')\n",
    "plt.ylabel('Frequência')"
   ]
  },
  {
   "cell_type": "code",
   "execution_count": null,
   "id": "67feb473-6b47-4fdf-be6f-2978e5e910c8",
   "metadata": {},
   "outputs": [],
   "source": []
  },
  {
   "cell_type": "markdown",
   "id": "c113a42e-0c19-4644-acbf-f02741735133",
   "metadata": {},
   "source": [
    "### Múltiplos gráficos"
   ]
  },
  {
   "cell_type": "code",
   "execution_count": 41,
   "id": "b75bfa2f-1620-4f58-b71e-7f9b75b2755c",
   "metadata": {},
   "outputs": [
    {
     "data": {
      "application/vnd.jupyter.widget-view+json": {
       "model_id": "d2a7f0eed643421e896459b3e921e04f",
       "version_major": 2,
       "version_minor": 0
      },
      "text/plain": [
       "Canvas(toolbar=Toolbar(toolitems=[('Home', 'Reset original view', 'home', 'home'), ('Back', 'Back to previous …"
      ]
     },
     "metadata": {},
     "output_type": "display_data"
    },
    {
     "data": {
      "text/plain": [
       "Text(0, 0.5, 'Frequência')"
      ]
     },
     "execution_count": 41,
     "metadata": {},
     "output_type": "execute_result"
    }
   ],
   "source": [
    "# Cria a figura e os subplots\n",
    "fig = plt.figure()\n",
    "plt.subplots_adjust(hspace = 0.3, wspace = 0.4)\n",
    "fig.suptitle('Comparação de distribuições', x=0.1, y=.95, horizontalalignment = 'left', verticalalignment = 'top')\n",
    "ax1 = fig.add_subplot(2, 2, 1)\n",
    "ax2 = fig.add_subplot(2, 2, 2)\n",
    "ax3 = fig.add_subplot(2, 2, 3)\n",
    "\n",
    "# Cria os gráficos de histograma e acerta os nomes dos eixos\n",
    "ax1.hist(s1, bins = 5)\n",
    "ax1.set_xlabel('s1')\n",
    "ax1.set_ylabel('Frequência')\n",
    "\n",
    "ax2.hist(s2, bins = 5)\n",
    "ax2.set_xlabel('s2')\n",
    "ax2.set_ylabel('Frequência')\n",
    "\n",
    "ax3.hist(s3, bins = 5)\n",
    "ax3.set_xlabel('s3')\n",
    "ax3.set_ylabel('Frequência')"
   ]
  },
  {
   "cell_type": "markdown",
   "id": "36b3d789-bae6-42fa-9d86-2594a6bfd36a",
   "metadata": {},
   "source": [
    "### Histogramas superpostos"
   ]
  },
  {
   "cell_type": "code",
   "execution_count": 53,
   "id": "0b135320-6841-49ec-9a55-af344d097790",
   "metadata": {},
   "outputs": [
    {
     "data": {
      "application/vnd.jupyter.widget-view+json": {
       "model_id": "93a269d146cf482882a8beb0dfce2d3e",
       "version_major": 2,
       "version_minor": 0
      },
      "text/plain": [
       "Canvas(toolbar=Toolbar(toolitems=[('Home', 'Reset original view', 'home', 'home'), ('Back', 'Back to previous …"
      ]
     },
     "metadata": {},
     "output_type": "display_data"
    },
    {
     "data": {
      "text/plain": [
       "Text(0.0, 1.0, 'Comparação entre variáveis')"
      ]
     },
     "execution_count": 53,
     "metadata": {},
     "output_type": "execute_result"
    }
   ],
   "source": [
    "fig = plt.figure()\n",
    "plt.hist(s1, alpha = 0.5, label = 's1')\n",
    "plt.hist(s2, alpha = 0.5, label = 's1')\n",
    "plt.hist(s3, alpha = 0.5, label = 's1')\n",
    "# Código alternativo\n",
    "# plt.hist([s1, s2, s3], bins, label=['s1', 's2', 's3'])\n",
    "\n",
    "plt.legend(loc = 'upper right')\n",
    "plt.ylabel('Frequência')\n",
    "plt.title('Comparação entre variáveis', loc = 'left')\n",
    "\n"
   ]
  },
  {
   "cell_type": "markdown",
   "id": "b85bba32-3e0c-4647-9394-59d6dccad66b",
   "metadata": {},
   "source": [
    "# 4 MEDIDAS DE CENTRALIZAÇÃO"
   ]
  }
 ],
 "metadata": {
  "kernelspec": {
   "display_name": "Python 3",
   "language": "python",
   "name": "python3"
  },
  "language_info": {
   "codemirror_mode": {
    "name": "ipython",
    "version": 3
   },
   "file_extension": ".py",
   "mimetype": "text/x-python",
   "name": "python",
   "nbconvert_exporter": "python",
   "pygments_lexer": "ipython3",
   "version": "3.8.10"
  }
 },
 "nbformat": 4,
 "nbformat_minor": 5
}
