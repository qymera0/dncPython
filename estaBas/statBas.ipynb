{
 "cells": [
  {
   "cell_type": "markdown",
   "id": "3e62324a-36a8-405f-94a1-78d25362fdd7",
   "metadata": {},
   "source": [
    "# EXEMPLOS DE ESTATÍSTIVA BÁSICA"
   ]
  },
  {
   "cell_type": "markdown",
   "id": "484481cb-12f9-40f5-adf4-b47f99a76ed6",
   "metadata": {},
   "source": [
    "# 1 CARREGAMENTO DAS BIBLIOTECAS"
   ]
  },
  {
   "cell_type": "code",
   "execution_count": 1,
   "id": "2be594f4-6e49-4da2-9dd4-660ac172bdfa",
   "metadata": {},
   "outputs": [],
   "source": [
    "import pandas as pd\n",
    "import numpy as np\n",
    "import matplotlib.pyplot as plt\n",
    "import seaborn as sns\n",
    "import scipy.stats as stats\n",
    "%matplotlib widget"
   ]
  },
  {
   "cell_type": "markdown",
   "id": "92c81ed2-36b8-4ce1-a4eb-f2cbd514a0fd",
   "metadata": {
    "tags": []
   },
   "source": [
    "# 2 GERAÇÃO DOS DADOS"
   ]
  },
  {
   "cell_type": "code",
   "execution_count": 2,
   "id": "8171cdd5-fb12-46f1-b7c0-c60abb46d733",
   "metadata": {},
   "outputs": [
    {
     "data": {
      "text/plain": [
       "0    7\n",
       "1    7\n",
       "2    6\n",
       "3    2\n",
       "4    5\n",
       "dtype: int64"
      ]
     },
     "execution_count": 2,
     "metadata": {},
     "output_type": "execute_result"
    }
   ],
   "source": [
    "s1 = pd.Series([7, 7, 6, 2,\t5, 4, 3, 7,\t3, 1, 2, 4, 8, 6, 3, 7, 9, 6, 1, 3])\n",
    "pd.DataFrame.head(s1)"
   ]
  },
  {
   "cell_type": "code",
   "execution_count": 3,
   "id": "37b4bd8a-a325-47ce-8bfa-d4ccacfd85c9",
   "metadata": {},
   "outputs": [
    {
     "data": {
      "text/plain": [
       "0     3\n",
       "1     3\n",
       "2     5\n",
       "3    12\n",
       "4     3\n",
       "dtype: int64"
      ]
     },
     "execution_count": 3,
     "metadata": {},
     "output_type": "execute_result"
    }
   ],
   "source": [
    "s2 = pd.Series([3, 3, 5, 12, 3, 4, 10, 5, 4, 4, 3, 4, 8, 4, 5, 5, 6, 6, 4, 7])\n",
    "pd.DataFrame.head(s2)"
   ]
  },
  {
   "cell_type": "code",
   "execution_count": 4,
   "id": "341af8c0-4edc-4f37-8b64-2852609d5fb0",
   "metadata": {},
   "outputs": [
    {
     "data": {
      "text/plain": [
       "0    7\n",
       "1    7\n",
       "2    7\n",
       "3    8\n",
       "4    8\n",
       "dtype: int64"
      ]
     },
     "execution_count": 4,
     "metadata": {},
     "output_type": "execute_result"
    }
   ],
   "source": [
    "s3 = pd.Series([7, 7, 7, 8, 8, 7, 7, 7, 4, 8, 7, 8, 8, 9, 8, 8, 7, 9, 8, 8])\n",
    "pd.DataFrame.head(s3)"
   ]
  },
  {
   "cell_type": "markdown",
   "id": "7f401ab9-48e8-418a-a4d3-aaa5ac064ec5",
   "metadata": {},
   "source": [
    "# 3 ANÁLISE GRÁFICA DESCRITIVA 01"
   ]
  },
  {
   "cell_type": "markdown",
   "id": "c855d56a-1f7c-48da-a305-001dfb0755f8",
   "metadata": {},
   "source": [
    "## 3.1 Gráfico de histograma"
   ]
  },
  {
   "cell_type": "code",
   "execution_count": 5,
   "id": "23683e3e-9204-4b1b-8995-2d7406145ece",
   "metadata": {},
   "outputs": [
    {
     "data": {
      "application/vnd.jupyter.widget-view+json": {
       "model_id": "b17542baa7394bce8ade6d580c960b50",
       "version_major": 2,
       "version_minor": 0
      },
      "text/plain": [
       "Canvas(toolbar=Toolbar(toolitems=[('Home', 'Reset original view', 'home', 'home'), ('Back', 'Back to previous …"
      ]
     },
     "metadata": {},
     "output_type": "display_data"
    },
    {
     "data": {
      "text/plain": [
       "Text(0, 0.5, 'Frequência')"
      ]
     },
     "execution_count": 5,
     "metadata": {},
     "output_type": "execute_result"
    }
   ],
   "source": [
    "# Cria uma imagem vazia\n",
    "fig = plt.figure()\n",
    "\n",
    "# Plota o histograma\n",
    "plt.hist(s1, bins = 10)\n",
    "\n",
    "# Coloca título nos eixos\n",
    "plt.title(\"Distribuição da variável S1\", loc = 'left')\n",
    "\n",
    "# Coloca nome nos eixos\n",
    "plt.xlabel('s1')\n",
    "plt.ylabel('Frequência')"
   ]
  },
  {
   "cell_type": "markdown",
   "id": "c113a42e-0c19-4644-acbf-f02741735133",
   "metadata": {},
   "source": [
    "### Múltiplos gráficos"
   ]
  },
  {
   "cell_type": "code",
   "execution_count": 6,
   "id": "b75bfa2f-1620-4f58-b71e-7f9b75b2755c",
   "metadata": {},
   "outputs": [
    {
     "data": {
      "application/vnd.jupyter.widget-view+json": {
       "model_id": "88f2272b4a5049acae8bc2440b82d7d8",
       "version_major": 2,
       "version_minor": 0
      },
      "text/plain": [
       "Canvas(toolbar=Toolbar(toolitems=[('Home', 'Reset original view', 'home', 'home'), ('Back', 'Back to previous …"
      ]
     },
     "metadata": {},
     "output_type": "display_data"
    },
    {
     "data": {
      "text/plain": [
       "Text(0, 0.5, 'Frequência')"
      ]
     },
     "execution_count": 6,
     "metadata": {},
     "output_type": "execute_result"
    }
   ],
   "source": [
    "# Cria a figura e os subplots\n",
    "fig = plt.figure()\n",
    "plt.subplots_adjust(hspace = 0.3, wspace = 0.4)\n",
    "fig.suptitle('Comparação de distribuições', x=0.1, y=.95, horizontalalignment = 'left', verticalalignment = 'top')\n",
    "ax1 = fig.add_subplot(2, 2, 1)\n",
    "ax2 = fig.add_subplot(2, 2, 2)\n",
    "ax3 = fig.add_subplot(2, 2, 3)\n",
    "\n",
    "# Cria os gráficos de histograma e acerta os nomes dos eixos\n",
    "ax1.hist(s1, bins = 5)\n",
    "ax1.set_xlabel('s1')\n",
    "ax1.set_ylabel('Frequência')\n",
    "\n",
    "ax2.hist(s2, bins = 5)\n",
    "ax2.set_xlabel('s2')\n",
    "ax2.set_ylabel('Frequência')\n",
    "\n",
    "ax3.hist(s3, bins = 5)\n",
    "ax3.set_xlabel('s3')\n",
    "ax3.set_ylabel('Frequência')"
   ]
  },
  {
   "cell_type": "markdown",
   "id": "36b3d789-bae6-42fa-9d86-2594a6bfd36a",
   "metadata": {},
   "source": [
    "### Histogramas superpostos"
   ]
  },
  {
   "cell_type": "code",
   "execution_count": 7,
   "id": "0b135320-6841-49ec-9a55-af344d097790",
   "metadata": {},
   "outputs": [
    {
     "data": {
      "application/vnd.jupyter.widget-view+json": {
       "model_id": "c33ac2609048409a9b9d08b17618a336",
       "version_major": 2,
       "version_minor": 0
      },
      "text/plain": [
       "Canvas(toolbar=Toolbar(toolitems=[('Home', 'Reset original view', 'home', 'home'), ('Back', 'Back to previous …"
      ]
     },
     "metadata": {},
     "output_type": "display_data"
    },
    {
     "data": {
      "text/plain": [
       "Text(0.0, 1.0, 'Comparação entre variáveis')"
      ]
     },
     "execution_count": 7,
     "metadata": {},
     "output_type": "execute_result"
    }
   ],
   "source": [
    "fig = plt.figure()\n",
    "plt.hist(s1, alpha = 0.5, label = 's1')\n",
    "plt.hist(s2, alpha = 0.5, label = 's1')\n",
    "plt.hist(s3, alpha = 0.5, label = 's1')\n",
    "# Código alternativo\n",
    "# plt.hist([s1, s2, s3], bins, label=['s1', 's2', 's3'])\n",
    "\n",
    "plt.legend(loc = 'upper right')\n",
    "plt.ylabel('Frequência')\n",
    "plt.title('Comparação entre variáveis', loc = 'left')\n",
    "\n"
   ]
  },
  {
   "cell_type": "markdown",
   "id": "b85bba32-3e0c-4647-9394-59d6dccad66b",
   "metadata": {},
   "source": [
    "# 4 MEDIDAS DE CENTRALIZAÇÃO"
   ]
  },
  {
   "cell_type": "markdown",
   "id": "4eae0df2-8ab5-4d8b-a65f-ffb7eebf6735",
   "metadata": {},
   "source": [
    "## 4.1 Moda"
   ]
  },
  {
   "cell_type": "code",
   "execution_count": 8,
   "id": "d099e62a-2a6d-462c-8c65-6c0db34d5f5b",
   "metadata": {},
   "outputs": [
    {
     "data": {
      "text/plain": [
       "3.0"
      ]
     },
     "execution_count": 8,
     "metadata": {},
     "output_type": "execute_result"
    }
   ],
   "source": [
    "moda1, count1 = stats.mode(s1)\n",
    "# Converte o objeto para np.float64\n",
    "moda1 = np.float64(moda1[0])\n",
    "moda1\n",
    "\n",
    "type\n",
    "\n",
    "# Código alternativo\n",
    "# s1.mode()"
   ]
  },
  {
   "cell_type": "code",
   "execution_count": 9,
   "id": "e081a200-3067-4dda-8584-99b42b07e971",
   "metadata": {},
   "outputs": [
    {
     "data": {
      "text/plain": [
       "4.0"
      ]
     },
     "execution_count": 9,
     "metadata": {},
     "output_type": "execute_result"
    }
   ],
   "source": [
    "moda2, count2 = stats.mode(s2)\n",
    "# Converte o objeto para np.float64\n",
    "moda2 = np.float64(moda2[0])\n",
    "moda2"
   ]
  },
  {
   "cell_type": "code",
   "execution_count": 10,
   "id": "03117aea-b307-4eab-8dff-943747d04260",
   "metadata": {},
   "outputs": [
    {
     "data": {
      "text/plain": [
       "8.0"
      ]
     },
     "execution_count": 10,
     "metadata": {},
     "output_type": "execute_result"
    }
   ],
   "source": [
    "moda3, count3 = stats.mode(s3)\n",
    "# Converte o objeto para np.float64\n",
    "moda3 = np.float64(moda3[0])\n",
    "moda3"
   ]
  },
  {
   "cell_type": "markdown",
   "id": "45b64064-f81d-47df-8963-8544267dadef",
   "metadata": {},
   "source": [
    "# 4.2 Mediana"
   ]
  },
  {
   "cell_type": "code",
   "execution_count": 11,
   "id": "2397e41c-3f95-42cc-bf0a-1459c03e7962",
   "metadata": {},
   "outputs": [
    {
     "data": {
      "text/plain": [
       "4.5"
      ]
     },
     "execution_count": 11,
     "metadata": {},
     "output_type": "execute_result"
    }
   ],
   "source": [
    "# A mediana já é retornada como np.float64\n",
    "mediana1 = np.median(s1)\n",
    "mediana1\n",
    "\n",
    "# Código alternativo\n",
    "# s2.median()"
   ]
  },
  {
   "cell_type": "code",
   "execution_count": 12,
   "id": "d538dc00-a7d1-4d1b-834b-5564a3cc0f60",
   "metadata": {},
   "outputs": [
    {
     "data": {
      "text/plain": [
       "4.5"
      ]
     },
     "execution_count": 12,
     "metadata": {},
     "output_type": "execute_result"
    }
   ],
   "source": [
    "# A mediana já é retornada como np.float64\n",
    "mediana2 = np.median(s2)\n",
    "mediana2"
   ]
  },
  {
   "cell_type": "code",
   "execution_count": 13,
   "id": "d40ce5f5-211d-4f3a-a991-b5d49bdcc630",
   "metadata": {},
   "outputs": [
    {
     "data": {
      "text/plain": [
       "8.0"
      ]
     },
     "execution_count": 13,
     "metadata": {},
     "output_type": "execute_result"
    }
   ],
   "source": [
    "# A mediana já é retornada como np.float64\n",
    "mediana3 = np.median(s3)\n",
    "mediana3"
   ]
  },
  {
   "cell_type": "markdown",
   "id": "bd7319b3-9e49-4263-9a14-cbec9c6aefff",
   "metadata": {},
   "source": [
    "# 4.3 Média"
   ]
  },
  {
   "cell_type": "code",
   "execution_count": 14,
   "id": "fcae8ac2-083f-44bc-ade2-674949675eda",
   "metadata": {},
   "outputs": [
    {
     "data": {
      "text/plain": [
       "4.7"
      ]
     },
     "execution_count": 14,
     "metadata": {},
     "output_type": "execute_result"
    }
   ],
   "source": [
    "media1 = np.mean(s1)\n",
    "# Converte o objeto para np.float64\n",
    "media1 = np.float64(media1)\n",
    "media1\n",
    "\n",
    "# Código alternativo\n",
    "# s1.mean(axis = 0)"
   ]
  },
  {
   "cell_type": "code",
   "execution_count": 15,
   "id": "cdb21757-ed08-46f2-9b53-35026c780f22",
   "metadata": {},
   "outputs": [
    {
     "data": {
      "text/plain": [
       "5.25"
      ]
     },
     "execution_count": 15,
     "metadata": {},
     "output_type": "execute_result"
    }
   ],
   "source": [
    "media2 = np.mean(s2)\n",
    "# Converte o objeto para np.float64\n",
    "media2 = np.float64(media2)\n",
    "media2\n",
    "\n",
    "# Código alternativo\n",
    "# s2.mean(axis = 0)"
   ]
  },
  {
   "cell_type": "code",
   "execution_count": 16,
   "id": "65902e5a-e0bd-4697-9d35-1c4f0b2a484a",
   "metadata": {},
   "outputs": [
    {
     "data": {
      "text/plain": [
       "7.5"
      ]
     },
     "execution_count": 16,
     "metadata": {},
     "output_type": "execute_result"
    }
   ],
   "source": [
    "media3 = np.mean(s3)\n",
    "# Converte o objeto para np.float64\n",
    "media3 = np.float64(media3)\n",
    "media3\n",
    "\n",
    "# Código alternativo\n",
    "# s3.mean(axis = 0)"
   ]
  },
  {
   "cell_type": "markdown",
   "id": "afeb603e-5efa-4c61-99d3-f64bb85f6721",
   "metadata": {},
   "source": [
    "# 4.4 Vizualização"
   ]
  },
  {
   "cell_type": "code",
   "execution_count": 17,
   "id": "9e9f8d48-4ac2-422a-bbcc-115caebd5eb3",
   "metadata": {},
   "outputs": [],
   "source": [
    "xCoords = pd.Series([moda1, mediana1, media1], ['moda', 'mediana', 'media'])"
   ]
  },
  {
   "cell_type": "code",
   "execution_count": 18,
   "id": "f0d6e9ff-b3bc-4820-b4a0-be8e1a183359",
   "metadata": {},
   "outputs": [
    {
     "data": {
      "text/plain": [
       "Index(['moda', 'mediana', 'media'], dtype='object')"
      ]
     },
     "execution_count": 18,
     "metadata": {},
     "output_type": "execute_result"
    }
   ],
   "source": [
    "xCoords.index"
   ]
  },
  {
   "cell_type": "markdown",
   "id": "0dc186e2-13d5-4dda-8f91-ea34fc71ae3e",
   "metadata": {},
   "source": [
    "### 4.4.1 Gráfico único"
   ]
  },
  {
   "cell_type": "code",
   "execution_count": 19,
   "id": "2b434923-e184-4e91-9615-e9137c903550",
   "metadata": {},
   "outputs": [
    {
     "data": {
      "application/vnd.jupyter.widget-view+json": {
       "model_id": "d51d7563296b4ddabaa63b28fb9affb4",
       "version_major": 2,
       "version_minor": 0
      },
      "text/plain": [
       "Canvas(toolbar=Toolbar(toolitems=[('Home', 'Reset original view', 'home', 'home'), ('Back', 'Back to previous …"
      ]
     },
     "metadata": {},
     "output_type": "display_data"
    },
    {
     "data": {
      "text/plain": [
       "<matplotlib.legend.Legend at 0x1abd05da130>"
      ]
     },
     "execution_count": 19,
     "metadata": {},
     "output_type": "execute_result"
    }
   ],
   "source": [
    "# Cria uma imagem vazia\n",
    "fig = plt.figure()\n",
    "\n",
    "# Plota o histograma\n",
    "h = plt.hist(s1, bins = 5)\n",
    "\n",
    "# Coloca título nos eixos\n",
    "plt.title(\"Distribuição da variável S1\", loc = 'left')\n",
    "\n",
    "# Coloca nome nos eixos\n",
    "plt.xlabel('s1')\n",
    "plt.ylabel('Frequência')\n",
    "\n",
    "# Define a coordenada das linhas\n",
    "xCoords = pd.Series([moda1, mediana1, media1], ['moda', 'mediana', 'media'])\n",
    "\n",
    "# Define a cor das linhas\n",
    "colors = ['r', 'k', 'y']\n",
    "\n",
    "# Plota linhas verticais\n",
    "for xc,xn,c in zip(xCoords, xCoords.index, colors):\n",
    "    plt.axvline(x = xc, label = xn, c = c)\n",
    "    \n",
    "plt.legend()"
   ]
  },
  {
   "cell_type": "markdown",
   "id": "f9b27f41-6491-4925-a2c6-b522dbe6fd8f",
   "metadata": {},
   "source": [
    "### 4.4.2 Múltiplos gráficos"
   ]
  },
  {
   "cell_type": "code",
   "execution_count": 20,
   "id": "7e5b2433-fc1e-425a-9391-fb2f50c868a7",
   "metadata": {},
   "outputs": [
    {
     "data": {
      "application/vnd.jupyter.widget-view+json": {
       "model_id": "d32bd776993c41cc9bf2d24b0d3120a5",
       "version_major": 2,
       "version_minor": 0
      },
      "text/plain": [
       "Canvas(toolbar=Toolbar(toolitems=[('Home', 'Reset original view', 'home', 'home'), ('Back', 'Back to previous …"
      ]
     },
     "metadata": {},
     "output_type": "display_data"
    }
   ],
   "source": [
    "# Cria a figura e os subplots\n",
    "fig = plt.figure()\n",
    "plt.subplots_adjust(hspace = 0.3, wspace = 0.4)\n",
    "fig.suptitle('Comparação de distribuições, modas, médias e medianas', x=0.1, y=.95, horizontalalignment = 'left', verticalalignment = 'top')\n",
    "ax1 = fig.add_subplot(2, 2, 1)\n",
    "ax2 = fig.add_subplot(2, 2, 2)\n",
    "ax3 = fig.add_subplot(2, 2, 3)\n",
    "\n",
    "# Cria os gráficos de histograma e acerta os nomes dos eixos\n",
    "ax1.hist(s1, bins = 5)\n",
    "ax1.set_xlabel('s1')\n",
    "ax1.set_ylabel('Frequência')\n",
    "\n",
    "ax2.hist(s2, bins = 5)\n",
    "ax2.set_xlabel('s2')\n",
    "ax2.set_ylabel('Frequência')\n",
    "\n",
    "ax3.hist(s3, bins = 5)\n",
    "ax3.set_xlabel('s3')\n",
    "ax3.set_ylabel('Frequência')\n",
    "\n",
    "# Cria as séries com as coordenadas das linhas verticais\n",
    "\n",
    "xCoords1 = pd.Series([moda1, mediana1, media1], ['moda', 'mediana', 'media'])\n",
    "xCoords2 = pd.Series([moda2, mediana2, media2], ['moda', 'mediana', 'media'])\n",
    "xCoords3 = pd.Series([moda3, mediana3, media3], ['moda', 'mediana', 'media'])\n",
    "\n",
    "# Plota as linhas\n",
    "\n",
    "for xc,xn,c in zip(xCoords1, xCoords1.index, colors):\n",
    "    ax1.axvline(x = xc, label = xn, c = c)\n",
    "    \n",
    "for xc,xn,c in zip(xCoords2, xCoords2.index, colors):\n",
    "    ax2.axvline(x = xc, label = xn, c = c)\n",
    "    \n",
    "for xc,xn,c in zip(xCoords3, xCoords3.index, colors):\n",
    "    ax3.axvline(x = xc, label = xn, c = c)"
   ]
  },
  {
   "cell_type": "markdown",
   "id": "b21e135f-fdd4-42c3-b899-0445e24f021f",
   "metadata": {},
   "source": [
    "# 5 MÉTRICAS DE VARIABBILIDADE"
   ]
  },
  {
   "cell_type": "markdown",
   "id": "9076b16f-7a13-4d2d-a618-677f9bf55436",
   "metadata": {},
   "source": [
    "## 5.1 AMPLITUDE"
   ]
  },
  {
   "cell_type": "code",
   "execution_count": 25,
   "id": "2d026910-c83c-49aa-ae89-9f3081b567a6",
   "metadata": {},
   "outputs": [
    {
     "data": {
      "text/plain": [
       "8"
      ]
     },
     "execution_count": 25,
     "metadata": {},
     "output_type": "execute_result"
    }
   ],
   "source": [
    "range1 = np.ptp(s1)\n",
    "range1"
   ]
  },
  {
   "cell_type": "code",
   "execution_count": 26,
   "id": "cfd7ccce-46d1-446b-bce2-59cd5f65b67c",
   "metadata": {},
   "outputs": [
    {
     "data": {
      "text/plain": [
       "9"
      ]
     },
     "execution_count": 26,
     "metadata": {},
     "output_type": "execute_result"
    }
   ],
   "source": [
    "range2 = np.ptp(s2)\n",
    "range2"
   ]
  },
  {
   "cell_type": "code",
   "execution_count": 27,
   "id": "270843a1-4fbc-4e7d-b7cb-401fad461dd2",
   "metadata": {},
   "outputs": [
    {
     "data": {
      "text/plain": [
       "5"
      ]
     },
     "execution_count": 27,
     "metadata": {},
     "output_type": "execute_result"
    }
   ],
   "source": [
    "range3 = np.ptp(s3)\n",
    "range3"
   ]
  },
  {
   "cell_type": "markdown",
   "id": "3e323ef9-dd25-4e46-bce8-f6fd8effdfc6",
   "metadata": {},
   "source": [
    "## 5.2 VARIÂNCIA"
   ]
  },
  {
   "cell_type": "code",
   "execution_count": 28,
   "id": "0de933cb-8cb1-402c-b14e-a74f868426b7",
   "metadata": {},
   "outputs": [
    {
     "data": {
      "text/plain": [
       "5.8"
      ]
     },
     "execution_count": 28,
     "metadata": {},
     "output_type": "execute_result"
    }
   ],
   "source": [
    "# NumPy calcula por padrão variância populacional. Para amostra, ddof = 1\n",
    "var1 = np.var(s1, ddof = 1)\n",
    "# Converte para np.float64\n",
    "var1 = np.float64(var1)\n",
    "var1\n",
    "\n",
    "# Código alternativo\n",
    "#s1.var(axis = 0)"
   ]
  },
  {
   "cell_type": "code",
   "execution_count": 29,
   "id": "1be61f46-85ce-4b97-9a4f-48ad7e927654",
   "metadata": {},
   "outputs": [
    {
     "data": {
      "text/plain": [
       "5.776315789473684"
      ]
     },
     "execution_count": 29,
     "metadata": {},
     "output_type": "execute_result"
    }
   ],
   "source": [
    "var2 = np.var(s2, ddof = 1)\n",
    "# Converte para np.float64\n",
    "var2 = np.float64(var2)\n",
    "var2"
   ]
  },
  {
   "cell_type": "code",
   "execution_count": 30,
   "id": "a5463435-9a1b-4c75-87d1-d305055deace",
   "metadata": {},
   "outputs": [
    {
     "data": {
      "text/plain": [
       "1.105263157894737"
      ]
     },
     "execution_count": 30,
     "metadata": {},
     "output_type": "execute_result"
    }
   ],
   "source": [
    "var3 = np.var(s3, ddof = 1)\n",
    "# Converte para np.float64\n",
    "var3 = np.float64(var3)\n",
    "var3"
   ]
  },
  {
   "cell_type": "markdown",
   "id": "f1e2a000-0ee3-4a38-b5e4-4d7b07070f53",
   "metadata": {},
   "source": [
    "## 5.3 Desvio Padrão"
   ]
  },
  {
   "cell_type": "code",
   "execution_count": 31,
   "id": "b0b80dce-6039-418d-8a84-988bc870ae7e",
   "metadata": {},
   "outputs": [
    {
     "data": {
      "text/plain": [
       "2.4083189157584592"
      ]
     },
     "execution_count": 31,
     "metadata": {},
     "output_type": "execute_result"
    }
   ],
   "source": [
    "sd1 = np.std(s1, ddof = 1)\n",
    "sd1 = np.float64(sd1)\n",
    "sd1\n",
    "\n",
    "# Código alternatico\n",
    "# s1.std()"
   ]
  },
  {
   "cell_type": "code",
   "execution_count": 32,
   "id": "ddb5b96c-7127-4122-9340-ff22380d612d",
   "metadata": {},
   "outputs": [
    {
     "data": {
      "text/plain": [
       "2.403396719119356"
      ]
     },
     "execution_count": 32,
     "metadata": {},
     "output_type": "execute_result"
    }
   ],
   "source": [
    "sd2 = np.std(s2, ddof = 1)\n",
    "sd2 = np.float64(sd2)\n",
    "sd2"
   ]
  },
  {
   "cell_type": "code",
   "execution_count": 33,
   "id": "07d5356c-2ed4-4df1-8e98-1a40ec0b7225",
   "metadata": {},
   "outputs": [
    {
     "data": {
      "text/plain": [
       "1.0513149660756937"
      ]
     },
     "execution_count": 33,
     "metadata": {},
     "output_type": "execute_result"
    }
   ],
   "source": [
    "sd3 = np.std(s3, ddof = 1)\n",
    "sd3 = np.float64(sd3)\n",
    "sd3"
   ]
  },
  {
   "cell_type": "markdown",
   "id": "4e6b3326-b97b-4416-81be-a1e3e282ff2c",
   "metadata": {},
   "source": [
    "# 6 QUANTIS"
   ]
  },
  {
   "cell_type": "code",
   "execution_count": 34,
   "id": "9e3d3536-d3f3-42c6-8348-493ea9e09404",
   "metadata": {},
   "outputs": [
    {
     "data": {
      "text/plain": [
       "7.0"
      ]
     },
     "execution_count": 34,
     "metadata": {},
     "output_type": "execute_result"
    }
   ],
   "source": [
    "# Quantil 75 (75% dos dados são menores que o valor caculado)\n",
    "s175 = np.quantile(s1, 0.75)\n",
    "s175"
   ]
  },
  {
   "cell_type": "code",
   "execution_count": 35,
   "id": "ab557c6f-21c5-4de9-8827-f9c5f318eaad",
   "metadata": {},
   "outputs": [
    {
     "data": {
      "text/plain": [
       "6.0"
      ]
     },
     "execution_count": 35,
     "metadata": {},
     "output_type": "execute_result"
    }
   ],
   "source": [
    "s275 = np.quantile(s2, 0.75)\n",
    "s275"
   ]
  },
  {
   "cell_type": "code",
   "execution_count": 36,
   "id": "7bd81ef0-ad36-493e-a74f-ed8ef81d9cbf",
   "metadata": {},
   "outputs": [
    {
     "data": {
      "text/plain": [
       "8.0"
      ]
     },
     "execution_count": 36,
     "metadata": {},
     "output_type": "execute_result"
    }
   ],
   "source": [
    "s375 = np.quantile(s3, 0.75)\n",
    "s375"
   ]
  },
  {
   "cell_type": "markdown",
   "id": "f8512c79-13ce-4eb9-9f50-73be4ef15b26",
   "metadata": {},
   "source": [
    "# 7 GRÁFICO BOX-PLOT"
   ]
  },
  {
   "cell_type": "markdown",
   "id": "aff7fa50-ad2a-4420-ac19-04eba918abb4",
   "metadata": {},
   "source": [
    "## 7.1 Gráfico único"
   ]
  },
  {
   "cell_type": "code",
   "execution_count": 37,
   "id": "344c3492-9a5a-495e-8f64-6f0842c54940",
   "metadata": {},
   "outputs": [],
   "source": [
    "plt.close('all')"
   ]
  },
  {
   "cell_type": "code",
   "execution_count": 54,
   "id": "5ed802b9-6e86-46a7-a4f5-b055e0648b57",
   "metadata": {},
   "outputs": [
    {
     "data": {
      "application/vnd.jupyter.widget-view+json": {
       "model_id": "8e079a5b8d324076b10ea48c66ca8cd6",
       "version_major": 2,
       "version_minor": 0
      },
      "text/plain": [
       "Canvas(toolbar=Toolbar(toolitems=[('Home', 'Reset original view', 'home', 'home'), ('Back', 'Back to previous …"
      ]
     },
     "metadata": {},
     "output_type": "display_data"
    },
    {
     "data": {
      "text/plain": [
       "Text(0.0, 1.0, 'Gráfico Box-Plot da Variável s2')"
      ]
     },
     "execution_count": 54,
     "metadata": {},
     "output_type": "execute_result"
    }
   ],
   "source": [
    "fig = plt.figure()\n",
    "plt.boxplot(s2, showmeans = True)\n",
    "plt.ylabel('Valores')\n",
    "\n",
    "# Remove o valor do eixo x\n",
    "plt.xticks([1], [''])\n",
    "\n",
    "# Remove o tick do eixo x\n",
    "plt.tick_params(axis = \"x\", which = \"both\", bottom = False, top = False)\n",
    "\n",
    "plt.title('Gráfico Box-Plot da Variável s2', loc = 'left')"
   ]
  },
  {
   "cell_type": "markdown",
   "id": "e0b9fb47-96a3-4062-9957-8b793337230e",
   "metadata": {},
   "source": [
    "## 7.2 Múltiplas variáveis em um gráfico"
   ]
  },
  {
   "cell_type": "code",
   "execution_count": 55,
   "id": "b468936e-4b3f-49f3-a0e8-7bb1478a31d9",
   "metadata": {},
   "outputs": [
    {
     "data": {
      "application/vnd.jupyter.widget-view+json": {
       "model_id": "a8ae1755259a47b8a142762db3473f7a",
       "version_major": 2,
       "version_minor": 0
      },
      "text/plain": [
       "Canvas(toolbar=Toolbar(toolitems=[('Home', 'Reset original view', 'home', 'home'), ('Back', 'Back to previous …"
      ]
     },
     "metadata": {},
     "output_type": "display_data"
    },
    {
     "data": {
      "text/plain": [
       "Text(0.0, 1.0, 'Gráfico Box-plot')"
      ]
     },
     "execution_count": 55,
     "metadata": {},
     "output_type": "execute_result"
    }
   ],
   "source": [
    "fig = plt.figure()\n",
    "plt.boxplot([s1, s2, s3], showmeans = True)\n",
    "plt.xticks([1, 2, 3], ['s1', 's2', 's3'])\n",
    "plt.ylabel('Valores')\n",
    "plt.title('Gráfico Box-plot', loc = 'left')"
   ]
  },
  {
   "cell_type": "markdown",
   "id": "320ca858-562b-4eb8-b9ce-a37427350ce3",
   "metadata": {},
   "source": [
    "# 8 CORRELAÇÃO"
   ]
  },
  {
   "cell_type": "markdown",
   "id": "0fca6c9a-3808-4f0a-b885-a51e1c21485f",
   "metadata": {},
   "source": [
    "## 8.1 Carregando dados"
   ]
  },
  {
   "cell_type": "code",
   "execution_count": 40,
   "id": "37dbed40-8603-4835-ba02-8b0a2777fce3",
   "metadata": {},
   "outputs": [],
   "source": [
    "url = 'https://archive.ics.uci.edu/ml/machine-learning-databases/auto-mpg/auto-mpg.data'"
   ]
  },
  {
   "cell_type": "code",
   "execution_count": 41,
   "id": "4658acb7-e788-492d-9e45-c8c90684db58",
   "metadata": {},
   "outputs": [],
   "source": [
    "## Nome das colunas foi adquirido do arquivo aut-mp.names\n",
    "## https://archive.ics.uci.edu/ml/machine-learning-databases/auto-mpg/auto-mpg.names\n",
    "names = ['mpg', 'cyl', 'disp', 'hp', 'weight', 'acc', 'year', 'origin', 'name']"
   ]
  },
  {
   "cell_type": "code",
   "execution_count": 42,
   "id": "1ddbb5e5-f747-461c-bdab-075d631fd234",
   "metadata": {},
   "outputs": [],
   "source": [
    "df = pd.read_table(url, header = None, delim_whitespace = True, names = names)"
   ]
  },
  {
   "cell_type": "code",
   "execution_count": 43,
   "id": "ee01da5e-a8b2-4693-8e64-c46a9a0cfa73",
   "metadata": {},
   "outputs": [
    {
     "data": {
      "text/html": [
       "<div>\n",
       "<style scoped>\n",
       "    .dataframe tbody tr th:only-of-type {\n",
       "        vertical-align: middle;\n",
       "    }\n",
       "\n",
       "    .dataframe tbody tr th {\n",
       "        vertical-align: top;\n",
       "    }\n",
       "\n",
       "    .dataframe thead th {\n",
       "        text-align: right;\n",
       "    }\n",
       "</style>\n",
       "<table border=\"1\" class=\"dataframe\">\n",
       "  <thead>\n",
       "    <tr style=\"text-align: right;\">\n",
       "      <th></th>\n",
       "      <th>mpg</th>\n",
       "      <th>cyl</th>\n",
       "      <th>disp</th>\n",
       "      <th>hp</th>\n",
       "      <th>weight</th>\n",
       "      <th>acc</th>\n",
       "      <th>year</th>\n",
       "      <th>origin</th>\n",
       "      <th>name</th>\n",
       "    </tr>\n",
       "  </thead>\n",
       "  <tbody>\n",
       "    <tr>\n",
       "      <th>0</th>\n",
       "      <td>18.0</td>\n",
       "      <td>8</td>\n",
       "      <td>307.0</td>\n",
       "      <td>130.0</td>\n",
       "      <td>3504.0</td>\n",
       "      <td>12.0</td>\n",
       "      <td>70</td>\n",
       "      <td>1</td>\n",
       "      <td>chevrolet chevelle malibu</td>\n",
       "    </tr>\n",
       "    <tr>\n",
       "      <th>1</th>\n",
       "      <td>15.0</td>\n",
       "      <td>8</td>\n",
       "      <td>350.0</td>\n",
       "      <td>165.0</td>\n",
       "      <td>3693.0</td>\n",
       "      <td>11.5</td>\n",
       "      <td>70</td>\n",
       "      <td>1</td>\n",
       "      <td>buick skylark 320</td>\n",
       "    </tr>\n",
       "    <tr>\n",
       "      <th>2</th>\n",
       "      <td>18.0</td>\n",
       "      <td>8</td>\n",
       "      <td>318.0</td>\n",
       "      <td>150.0</td>\n",
       "      <td>3436.0</td>\n",
       "      <td>11.0</td>\n",
       "      <td>70</td>\n",
       "      <td>1</td>\n",
       "      <td>plymouth satellite</td>\n",
       "    </tr>\n",
       "    <tr>\n",
       "      <th>3</th>\n",
       "      <td>16.0</td>\n",
       "      <td>8</td>\n",
       "      <td>304.0</td>\n",
       "      <td>150.0</td>\n",
       "      <td>3433.0</td>\n",
       "      <td>12.0</td>\n",
       "      <td>70</td>\n",
       "      <td>1</td>\n",
       "      <td>amc rebel sst</td>\n",
       "    </tr>\n",
       "    <tr>\n",
       "      <th>4</th>\n",
       "      <td>17.0</td>\n",
       "      <td>8</td>\n",
       "      <td>302.0</td>\n",
       "      <td>140.0</td>\n",
       "      <td>3449.0</td>\n",
       "      <td>10.5</td>\n",
       "      <td>70</td>\n",
       "      <td>1</td>\n",
       "      <td>ford torino</td>\n",
       "    </tr>\n",
       "  </tbody>\n",
       "</table>\n",
       "</div>"
      ],
      "text/plain": [
       "    mpg  cyl   disp     hp  weight   acc  year  origin  \\\n",
       "0  18.0    8  307.0  130.0  3504.0  12.0    70       1   \n",
       "1  15.0    8  350.0  165.0  3693.0  11.5    70       1   \n",
       "2  18.0    8  318.0  150.0  3436.0  11.0    70       1   \n",
       "3  16.0    8  304.0  150.0  3433.0  12.0    70       1   \n",
       "4  17.0    8  302.0  140.0  3449.0  10.5    70       1   \n",
       "\n",
       "                        name  \n",
       "0  chevrolet chevelle malibu  \n",
       "1          buick skylark 320  \n",
       "2         plymouth satellite  \n",
       "3              amc rebel sst  \n",
       "4                ford torino  "
      ]
     },
     "execution_count": 43,
     "metadata": {},
     "output_type": "execute_result"
    }
   ],
   "source": [
    "pd.DataFrame.head(df)"
   ]
  },
  {
   "cell_type": "markdown",
   "id": "536ad9f5-6524-4369-a75b-b9740725fd13",
   "metadata": {},
   "source": [
    "## 8.2 Estatísticas descritivas"
   ]
  },
  {
   "cell_type": "code",
   "execution_count": 44,
   "id": "d97f441b-e6f8-4c6e-9234-01a204b508b6",
   "metadata": {},
   "outputs": [
    {
     "data": {
      "text/html": [
       "<div>\n",
       "<style scoped>\n",
       "    .dataframe tbody tr th:only-of-type {\n",
       "        vertical-align: middle;\n",
       "    }\n",
       "\n",
       "    .dataframe tbody tr th {\n",
       "        vertical-align: top;\n",
       "    }\n",
       "\n",
       "    .dataframe thead th {\n",
       "        text-align: right;\n",
       "    }\n",
       "</style>\n",
       "<table border=\"1\" class=\"dataframe\">\n",
       "  <thead>\n",
       "    <tr style=\"text-align: right;\">\n",
       "      <th></th>\n",
       "      <th>mpg</th>\n",
       "      <th>cyl</th>\n",
       "      <th>disp</th>\n",
       "      <th>weight</th>\n",
       "      <th>acc</th>\n",
       "      <th>year</th>\n",
       "      <th>origin</th>\n",
       "    </tr>\n",
       "  </thead>\n",
       "  <tbody>\n",
       "    <tr>\n",
       "      <th>count</th>\n",
       "      <td>398.000000</td>\n",
       "      <td>398.000000</td>\n",
       "      <td>398.000000</td>\n",
       "      <td>398.000000</td>\n",
       "      <td>398.000000</td>\n",
       "      <td>398.000000</td>\n",
       "      <td>398.000000</td>\n",
       "    </tr>\n",
       "    <tr>\n",
       "      <th>mean</th>\n",
       "      <td>23.514573</td>\n",
       "      <td>5.454774</td>\n",
       "      <td>193.425879</td>\n",
       "      <td>2970.424623</td>\n",
       "      <td>15.568090</td>\n",
       "      <td>76.010050</td>\n",
       "      <td>1.572864</td>\n",
       "    </tr>\n",
       "    <tr>\n",
       "      <th>std</th>\n",
       "      <td>7.815984</td>\n",
       "      <td>1.701004</td>\n",
       "      <td>104.269838</td>\n",
       "      <td>846.841774</td>\n",
       "      <td>2.757689</td>\n",
       "      <td>3.697627</td>\n",
       "      <td>0.802055</td>\n",
       "    </tr>\n",
       "    <tr>\n",
       "      <th>min</th>\n",
       "      <td>9.000000</td>\n",
       "      <td>3.000000</td>\n",
       "      <td>68.000000</td>\n",
       "      <td>1613.000000</td>\n",
       "      <td>8.000000</td>\n",
       "      <td>70.000000</td>\n",
       "      <td>1.000000</td>\n",
       "    </tr>\n",
       "    <tr>\n",
       "      <th>25%</th>\n",
       "      <td>17.500000</td>\n",
       "      <td>4.000000</td>\n",
       "      <td>104.250000</td>\n",
       "      <td>2223.750000</td>\n",
       "      <td>13.825000</td>\n",
       "      <td>73.000000</td>\n",
       "      <td>1.000000</td>\n",
       "    </tr>\n",
       "    <tr>\n",
       "      <th>50%</th>\n",
       "      <td>23.000000</td>\n",
       "      <td>4.000000</td>\n",
       "      <td>148.500000</td>\n",
       "      <td>2803.500000</td>\n",
       "      <td>15.500000</td>\n",
       "      <td>76.000000</td>\n",
       "      <td>1.000000</td>\n",
       "    </tr>\n",
       "    <tr>\n",
       "      <th>75%</th>\n",
       "      <td>29.000000</td>\n",
       "      <td>8.000000</td>\n",
       "      <td>262.000000</td>\n",
       "      <td>3608.000000</td>\n",
       "      <td>17.175000</td>\n",
       "      <td>79.000000</td>\n",
       "      <td>2.000000</td>\n",
       "    </tr>\n",
       "    <tr>\n",
       "      <th>max</th>\n",
       "      <td>46.600000</td>\n",
       "      <td>8.000000</td>\n",
       "      <td>455.000000</td>\n",
       "      <td>5140.000000</td>\n",
       "      <td>24.800000</td>\n",
       "      <td>82.000000</td>\n",
       "      <td>3.000000</td>\n",
       "    </tr>\n",
       "  </tbody>\n",
       "</table>\n",
       "</div>"
      ],
      "text/plain": [
       "              mpg         cyl        disp       weight         acc  \\\n",
       "count  398.000000  398.000000  398.000000   398.000000  398.000000   \n",
       "mean    23.514573    5.454774  193.425879  2970.424623   15.568090   \n",
       "std      7.815984    1.701004  104.269838   846.841774    2.757689   \n",
       "min      9.000000    3.000000   68.000000  1613.000000    8.000000   \n",
       "25%     17.500000    4.000000  104.250000  2223.750000   13.825000   \n",
       "50%     23.000000    4.000000  148.500000  2803.500000   15.500000   \n",
       "75%     29.000000    8.000000  262.000000  3608.000000   17.175000   \n",
       "max     46.600000    8.000000  455.000000  5140.000000   24.800000   \n",
       "\n",
       "             year      origin  \n",
       "count  398.000000  398.000000  \n",
       "mean    76.010050    1.572864  \n",
       "std      3.697627    0.802055  \n",
       "min     70.000000    1.000000  \n",
       "25%     73.000000    1.000000  \n",
       "50%     76.000000    1.000000  \n",
       "75%     79.000000    2.000000  \n",
       "max     82.000000    3.000000  "
      ]
     },
     "execution_count": 44,
     "metadata": {},
     "output_type": "execute_result"
    }
   ],
   "source": [
    "desc = df.describe()\n",
    "desc"
   ]
  },
  {
   "cell_type": "markdown",
   "id": "729ce8e8-227c-41d0-91d9-be2e80d5cd88",
   "metadata": {},
   "source": [
    "## 8.3 Seleção das variáveis numéricas"
   ]
  },
  {
   "cell_type": "code",
   "execution_count": 45,
   "id": "0adce80e-b0f9-4483-943c-62b5b6f8d317",
   "metadata": {},
   "outputs": [
    {
     "data": {
      "text/html": [
       "<div>\n",
       "<style scoped>\n",
       "    .dataframe tbody tr th:only-of-type {\n",
       "        vertical-align: middle;\n",
       "    }\n",
       "\n",
       "    .dataframe tbody tr th {\n",
       "        vertical-align: top;\n",
       "    }\n",
       "\n",
       "    .dataframe thead th {\n",
       "        text-align: right;\n",
       "    }\n",
       "</style>\n",
       "<table border=\"1\" class=\"dataframe\">\n",
       "  <thead>\n",
       "    <tr style=\"text-align: right;\">\n",
       "      <th></th>\n",
       "      <th>mpg</th>\n",
       "      <th>cyl</th>\n",
       "      <th>disp</th>\n",
       "      <th>weight</th>\n",
       "      <th>acc</th>\n",
       "      <th>year</th>\n",
       "      <th>origin</th>\n",
       "    </tr>\n",
       "  </thead>\n",
       "  <tbody>\n",
       "    <tr>\n",
       "      <th>0</th>\n",
       "      <td>18.0</td>\n",
       "      <td>8</td>\n",
       "      <td>307.0</td>\n",
       "      <td>3504.0</td>\n",
       "      <td>12.0</td>\n",
       "      <td>70</td>\n",
       "      <td>1</td>\n",
       "    </tr>\n",
       "    <tr>\n",
       "      <th>1</th>\n",
       "      <td>15.0</td>\n",
       "      <td>8</td>\n",
       "      <td>350.0</td>\n",
       "      <td>3693.0</td>\n",
       "      <td>11.5</td>\n",
       "      <td>70</td>\n",
       "      <td>1</td>\n",
       "    </tr>\n",
       "    <tr>\n",
       "      <th>2</th>\n",
       "      <td>18.0</td>\n",
       "      <td>8</td>\n",
       "      <td>318.0</td>\n",
       "      <td>3436.0</td>\n",
       "      <td>11.0</td>\n",
       "      <td>70</td>\n",
       "      <td>1</td>\n",
       "    </tr>\n",
       "    <tr>\n",
       "      <th>3</th>\n",
       "      <td>16.0</td>\n",
       "      <td>8</td>\n",
       "      <td>304.0</td>\n",
       "      <td>3433.0</td>\n",
       "      <td>12.0</td>\n",
       "      <td>70</td>\n",
       "      <td>1</td>\n",
       "    </tr>\n",
       "    <tr>\n",
       "      <th>4</th>\n",
       "      <td>17.0</td>\n",
       "      <td>8</td>\n",
       "      <td>302.0</td>\n",
       "      <td>3449.0</td>\n",
       "      <td>10.5</td>\n",
       "      <td>70</td>\n",
       "      <td>1</td>\n",
       "    </tr>\n",
       "  </tbody>\n",
       "</table>\n",
       "</div>"
      ],
      "text/plain": [
       "    mpg  cyl   disp  weight   acc  year  origin\n",
       "0  18.0    8  307.0  3504.0  12.0    70       1\n",
       "1  15.0    8  350.0  3693.0  11.5    70       1\n",
       "2  18.0    8  318.0  3436.0  11.0    70       1\n",
       "3  16.0    8  304.0  3433.0  12.0    70       1\n",
       "4  17.0    8  302.0  3449.0  10.5    70       1"
      ]
     },
     "execution_count": 45,
     "metadata": {},
     "output_type": "execute_result"
    }
   ],
   "source": [
    "num = df.select_dtypes(include = 'number')\n",
    "pd.DataFrame.head(num)"
   ]
  },
  {
   "cell_type": "code",
   "execution_count": 46,
   "id": "14596480-6d58-49fc-bc47-e1fb4de3e00b",
   "metadata": {},
   "outputs": [
    {
     "data": {
      "application/vnd.jupyter.widget-view+json": {
       "model_id": "8eb645c25abb44aa8f820fbf656f9534",
       "version_major": 2,
       "version_minor": 0
      },
      "text/plain": [
       "Canvas(toolbar=Toolbar(toolitems=[('Home', 'Reset original view', 'home', 'home'), ('Back', 'Back to previous …"
      ]
     },
     "metadata": {},
     "output_type": "display_data"
    },
    {
     "data": {
      "text/plain": [
       "(array([249.,   0.,  70.,   0.,  79.]),\n",
       " array([1. , 1.4, 1.8, 2.2, 2.6, 3. ]),\n",
       " <BarContainer object of 5 artists>)"
      ]
     },
     "execution_count": 46,
     "metadata": {},
     "output_type": "execute_result"
    }
   ],
   "source": [
    "# Cria a figura e os subplots\n",
    "fig = plt.figure()\n",
    "plt.subplots_adjust(hspace = 0.3, wspace = 0.4)\n",
    "ax1 = fig.add_subplot(1, 2, 1)\n",
    "ax2 = fig.add_subplot(1, 2, 2)\n",
    "\n",
    "# Cria os gráficos de histograma e acerta os nomes dos eixos\n",
    "ax1.hist(num['year'], bins = 5)\n",
    "ax2.hist(num['origin'], bins = 5)\n"
   ]
  },
  {
   "cell_type": "markdown",
   "id": "26982d5a-1265-4aef-9fff-21ae4e38fc18",
   "metadata": {},
   "source": [
    "## 8.4 Remover colunas 'year' e 'origin'"
   ]
  },
  {
   "cell_type": "code",
   "execution_count": 47,
   "id": "1ca6dfe9-5ba0-404d-bcc0-1d7a68e01cc7",
   "metadata": {},
   "outputs": [
    {
     "data": {
      "text/html": [
       "<div>\n",
       "<style scoped>\n",
       "    .dataframe tbody tr th:only-of-type {\n",
       "        vertical-align: middle;\n",
       "    }\n",
       "\n",
       "    .dataframe tbody tr th {\n",
       "        vertical-align: top;\n",
       "    }\n",
       "\n",
       "    .dataframe thead th {\n",
       "        text-align: right;\n",
       "    }\n",
       "</style>\n",
       "<table border=\"1\" class=\"dataframe\">\n",
       "  <thead>\n",
       "    <tr style=\"text-align: right;\">\n",
       "      <th></th>\n",
       "      <th>mpg</th>\n",
       "      <th>cyl</th>\n",
       "      <th>disp</th>\n",
       "      <th>weight</th>\n",
       "      <th>acc</th>\n",
       "    </tr>\n",
       "  </thead>\n",
       "  <tbody>\n",
       "    <tr>\n",
       "      <th>0</th>\n",
       "      <td>18.0</td>\n",
       "      <td>8</td>\n",
       "      <td>307.0</td>\n",
       "      <td>3504.0</td>\n",
       "      <td>12.0</td>\n",
       "    </tr>\n",
       "    <tr>\n",
       "      <th>1</th>\n",
       "      <td>15.0</td>\n",
       "      <td>8</td>\n",
       "      <td>350.0</td>\n",
       "      <td>3693.0</td>\n",
       "      <td>11.5</td>\n",
       "    </tr>\n",
       "    <tr>\n",
       "      <th>2</th>\n",
       "      <td>18.0</td>\n",
       "      <td>8</td>\n",
       "      <td>318.0</td>\n",
       "      <td>3436.0</td>\n",
       "      <td>11.0</td>\n",
       "    </tr>\n",
       "    <tr>\n",
       "      <th>3</th>\n",
       "      <td>16.0</td>\n",
       "      <td>8</td>\n",
       "      <td>304.0</td>\n",
       "      <td>3433.0</td>\n",
       "      <td>12.0</td>\n",
       "    </tr>\n",
       "    <tr>\n",
       "      <th>4</th>\n",
       "      <td>17.0</td>\n",
       "      <td>8</td>\n",
       "      <td>302.0</td>\n",
       "      <td>3449.0</td>\n",
       "      <td>10.5</td>\n",
       "    </tr>\n",
       "  </tbody>\n",
       "</table>\n",
       "</div>"
      ],
      "text/plain": [
       "    mpg  cyl   disp  weight   acc\n",
       "0  18.0    8  307.0  3504.0  12.0\n",
       "1  15.0    8  350.0  3693.0  11.5\n",
       "2  18.0    8  318.0  3436.0  11.0\n",
       "3  16.0    8  304.0  3433.0  12.0\n",
       "4  17.0    8  302.0  3449.0  10.5"
      ]
     },
     "execution_count": 47,
     "metadata": {},
     "output_type": "execute_result"
    }
   ],
   "source": [
    "numClean = num.drop(['year', 'origin'], axis = 1)\n",
    "numClean.head()"
   ]
  },
  {
   "cell_type": "markdown",
   "id": "01c492cf-3d86-47e0-9c74-b633b0d2c2ef",
   "metadata": {},
   "source": [
    "## 8.5 Correlação entre duas variáveis"
   ]
  },
  {
   "cell_type": "code",
   "execution_count": 48,
   "id": "fa1de632-2049-4f43-83f7-540ceff0f3f5",
   "metadata": {},
   "outputs": [],
   "source": [
    "plt.close('all')"
   ]
  },
  {
   "cell_type": "code",
   "execution_count": 49,
   "id": "7a3b00fa-a896-4854-a5fb-4d1a763d20e5",
   "metadata": {},
   "outputs": [
    {
     "data": {
      "application/vnd.jupyter.widget-view+json": {
       "model_id": "e3555b3e109042fa9a6e3495bae9f9b9",
       "version_major": 2,
       "version_minor": 0
      },
      "text/plain": [
       "Canvas(toolbar=Toolbar(toolitems=[('Home', 'Reset original view', 'home', 'home'), ('Back', 'Back to previous …"
      ]
     },
     "metadata": {},
     "output_type": "display_data"
    },
    {
     "data": {
      "text/plain": [
       "Text(0, 0.5, 'Displacement [m]')"
      ]
     },
     "execution_count": 49,
     "metadata": {},
     "output_type": "execute_result"
    }
   ],
   "source": [
    "fig = plt.figure()\n",
    "plt.scatter(numClean['weight'], numClean['disp'])\n",
    "plt.xlabel('Weight [lbs]')\n",
    "plt.ylabel('Displacement [m]')"
   ]
  },
  {
   "cell_type": "code",
   "execution_count": 50,
   "id": "76d83d71-dc02-418f-bfc4-5e819b6e408c",
   "metadata": {},
   "outputs": [
    {
     "data": {
      "text/plain": [
       "array([[1.        , 0.93282415],\n",
       "       [0.93282415, 1.        ]])"
      ]
     },
     "execution_count": 50,
     "metadata": {},
     "output_type": "execute_result"
    }
   ],
   "source": [
    "np.corrcoef(numClean['weight'], numClean['disp'])"
   ]
  },
  {
   "cell_type": "code",
   "execution_count": 51,
   "id": "c01b18a8-3c66-43d3-9193-0fbbe7ba6ff7",
   "metadata": {},
   "outputs": [
    {
     "data": {
      "text/plain": [
       "0.9328241468416341"
      ]
     },
     "execution_count": 51,
     "metadata": {},
     "output_type": "execute_result"
    }
   ],
   "source": [
    "np.corrcoef(numClean['weight'], numClean['disp'])[0,1]"
   ]
  },
  {
   "cell_type": "markdown",
   "id": "965f54e3-704a-42b8-9944-d67c958fb8cb",
   "metadata": {},
   "source": [
    "## 8.6 Correlação entre várias variáveis"
   ]
  },
  {
   "cell_type": "code",
   "execution_count": 52,
   "id": "c35383b2-1898-4eef-a64e-be38e2794b59",
   "metadata": {},
   "outputs": [
    {
     "data": {
      "application/vnd.jupyter.widget-view+json": {
       "model_id": "81e703b048924680ae21b2aae4c9d208",
       "version_major": 2,
       "version_minor": 0
      },
      "text/plain": [
       "Canvas(toolbar=Toolbar(toolitems=[('Home', 'Reset original view', 'home', 'home'), ('Back', 'Back to previous …"
      ]
     },
     "metadata": {},
     "output_type": "display_data"
    },
    {
     "data": {
      "text/plain": [
       "<seaborn.axisgrid.PairGrid at 0x1abd28f4850>"
      ]
     },
     "execution_count": 52,
     "metadata": {},
     "output_type": "execute_result"
    }
   ],
   "source": [
    "sns.pairplot(numClean)"
   ]
  },
  {
   "cell_type": "code",
   "execution_count": 53,
   "id": "739d5ae3-4135-4e06-aec1-16ab7135d6bc",
   "metadata": {},
   "outputs": [
    {
     "data": {
      "text/html": [
       "<div>\n",
       "<style scoped>\n",
       "    .dataframe tbody tr th:only-of-type {\n",
       "        vertical-align: middle;\n",
       "    }\n",
       "\n",
       "    .dataframe tbody tr th {\n",
       "        vertical-align: top;\n",
       "    }\n",
       "\n",
       "    .dataframe thead th {\n",
       "        text-align: right;\n",
       "    }\n",
       "</style>\n",
       "<table border=\"1\" class=\"dataframe\">\n",
       "  <thead>\n",
       "    <tr style=\"text-align: right;\">\n",
       "      <th></th>\n",
       "      <th>mpg</th>\n",
       "      <th>cyl</th>\n",
       "      <th>disp</th>\n",
       "      <th>weight</th>\n",
       "      <th>acc</th>\n",
       "    </tr>\n",
       "  </thead>\n",
       "  <tbody>\n",
       "    <tr>\n",
       "      <th>mpg</th>\n",
       "      <td>1.000000</td>\n",
       "      <td>-0.775396</td>\n",
       "      <td>-0.804203</td>\n",
       "      <td>-0.831741</td>\n",
       "      <td>0.420289</td>\n",
       "    </tr>\n",
       "    <tr>\n",
       "      <th>cyl</th>\n",
       "      <td>-0.775396</td>\n",
       "      <td>1.000000</td>\n",
       "      <td>0.950721</td>\n",
       "      <td>0.896017</td>\n",
       "      <td>-0.505419</td>\n",
       "    </tr>\n",
       "    <tr>\n",
       "      <th>disp</th>\n",
       "      <td>-0.804203</td>\n",
       "      <td>0.950721</td>\n",
       "      <td>1.000000</td>\n",
       "      <td>0.932824</td>\n",
       "      <td>-0.543684</td>\n",
       "    </tr>\n",
       "    <tr>\n",
       "      <th>weight</th>\n",
       "      <td>-0.831741</td>\n",
       "      <td>0.896017</td>\n",
       "      <td>0.932824</td>\n",
       "      <td>1.000000</td>\n",
       "      <td>-0.417457</td>\n",
       "    </tr>\n",
       "    <tr>\n",
       "      <th>acc</th>\n",
       "      <td>0.420289</td>\n",
       "      <td>-0.505419</td>\n",
       "      <td>-0.543684</td>\n",
       "      <td>-0.417457</td>\n",
       "      <td>1.000000</td>\n",
       "    </tr>\n",
       "  </tbody>\n",
       "</table>\n",
       "</div>"
      ],
      "text/plain": [
       "             mpg       cyl      disp    weight       acc\n",
       "mpg     1.000000 -0.775396 -0.804203 -0.831741  0.420289\n",
       "cyl    -0.775396  1.000000  0.950721  0.896017 -0.505419\n",
       "disp   -0.804203  0.950721  1.000000  0.932824 -0.543684\n",
       "weight -0.831741  0.896017  0.932824  1.000000 -0.417457\n",
       "acc     0.420289 -0.505419 -0.543684 -0.417457  1.000000"
      ]
     },
     "execution_count": 53,
     "metadata": {},
     "output_type": "execute_result"
    }
   ],
   "source": [
    "corrMatPd = numClean.corr()\n",
    "corrMatPd"
   ]
  },
  {
   "cell_type": "code",
   "execution_count": null,
   "id": "0b6b4270-3110-4a89-bfbd-ad1a92ad413b",
   "metadata": {},
   "outputs": [],
   "source": []
  },
  {
   "cell_type": "code",
   "execution_count": null,
   "id": "8b7dae5f-b896-4ed0-9bd1-05f53c6b7030",
   "metadata": {},
   "outputs": [],
   "source": []
  }
 ],
 "metadata": {
  "kernelspec": {
   "display_name": "Python 3",
   "language": "python",
   "name": "python3"
  },
  "language_info": {
   "codemirror_mode": {
    "name": "ipython",
    "version": 3
   },
   "file_extension": ".py",
   "mimetype": "text/x-python",
   "name": "python",
   "nbconvert_exporter": "python",
   "pygments_lexer": "ipython3",
   "version": "3.8.10"
  }
 },
 "nbformat": 4,
 "nbformat_minor": 5
}
