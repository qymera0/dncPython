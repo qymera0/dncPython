{
 "cells": [
  {
   "cell_type": "markdown",
   "id": "3e62324a-36a8-405f-94a1-78d25362fdd7",
   "metadata": {},
   "source": [
    "# EXEMPLOS DE ESTATÍSTIVA BÁSICA"
   ]
  },
  {
   "cell_type": "markdown",
   "id": "484481cb-12f9-40f5-adf4-b47f99a76ed6",
   "metadata": {},
   "source": [
    "# 1 CARREGAMENTO DAS BIBLIOTECAS"
   ]
  },
  {
   "cell_type": "code",
   "execution_count": 2,
   "id": "2be594f4-6e49-4da2-9dd4-660ac172bdfa",
   "metadata": {},
   "outputs": [],
   "source": [
    "import pandas as pd\n",
    "import numpy as np\n",
    "import matplotlib.pyplot as plt\n",
    "import seaborn as sns\n",
    "import scipy.stats as stats"
   ]
  },
  {
   "cell_type": "markdown",
   "id": "92c81ed2-36b8-4ce1-a4eb-f2cbd514a0fd",
   "metadata": {},
   "source": [
    "# 2 GERAÇÃO DOS DADOS"
   ]
  },
  {
   "cell_type": "code",
   "execution_count": 3,
   "id": "8171cdd5-fb12-46f1-b7c0-c60abb46d733",
   "metadata": {},
   "outputs": [],
   "source": [
    "s1 = pd.Series([7, 7, 6, 2,\t5, 4, 3, 7,\t3, 1, 2, 4, 8, 6, 3, 7, 9, 6, 1, 3])"
   ]
  },
  {
   "cell_type": "code",
   "execution_count": 4,
   "id": "37b4bd8a-a325-47ce-8bfa-d4ccacfd85c9",
   "metadata": {},
   "outputs": [],
   "source": [
    "s2 = pd.Series([3, 3, 5, 12, 3, 4, 10, 5, 4, 4, 3, 4, 8, 4, 5, 5, 6, 6, 4, 7])"
   ]
  },
  {
   "cell_type": "code",
   "execution_count": 6,
   "id": "341af8c0-4edc-4f37-8b64-2852609d5fb0",
   "metadata": {},
   "outputs": [],
   "source": [
    "s3 = pd.Series([7, 7, 7, 8, 8, 7, 7, 7, 4, 8, 7, 8, 8, 9, 8, 8, 7, 9, 8, 8])"
   ]
  },
  {
   "cell_type": "markdown",
   "id": "7f401ab9-48e8-418a-a4d3-aaa5ac064ec5",
   "metadata": {},
   "source": [
    "# 3 ANÁLISE GRÁFICA DESCRITIVA"
   ]
  }
 ],
 "metadata": {
  "kernelspec": {
   "display_name": "Python 3",
   "language": "python",
   "name": "python3"
  },
  "language_info": {
   "codemirror_mode": {
    "name": "ipython",
    "version": 3
   },
   "file_extension": ".py",
   "mimetype": "text/x-python",
   "name": "python",
   "nbconvert_exporter": "python",
   "pygments_lexer": "ipython3",
   "version": "3.8.10"
  }
 },
 "nbformat": 4,
 "nbformat_minor": 5
}
