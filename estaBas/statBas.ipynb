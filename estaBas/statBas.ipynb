{
 "cells": [
  {
   "cell_type": "markdown",
   "id": "3e62324a-36a8-405f-94a1-78d25362fdd7",
   "metadata": {},
   "source": [
    "# EXEMPLOS DE ESTATÍSTIVA BÁSICA"
   ]
  },
  {
   "cell_type": "markdown",
   "id": "484481cb-12f9-40f5-adf4-b47f99a76ed6",
   "metadata": {},
   "source": [
    "# 1 CARREGAMENTO DAS BIBLIOTECAS"
   ]
  },
  {
   "cell_type": "code",
   "execution_count": 1,
   "id": "2be594f4-6e49-4da2-9dd4-660ac172bdfa",
   "metadata": {},
   "outputs": [],
   "source": [
    "import pandas as pd\n",
    "import numpy as np\n",
    "import matplotlib.pyplot as plt\n",
    "import seaborn as sns\n",
    "import scipy.stats as stats\n",
    "%matplotlib widget"
   ]
  },
  {
   "cell_type": "markdown",
   "id": "92c81ed2-36b8-4ce1-a4eb-f2cbd514a0fd",
   "metadata": {
    "jupyter": {
     "source_hidden": true
    },
    "tags": []
   },
   "source": [
    "# 2 GERAÇÃO DOS DADOS"
   ]
  },
  {
   "cell_type": "code",
   "execution_count": 2,
   "id": "8171cdd5-fb12-46f1-b7c0-c60abb46d733",
   "metadata": {},
   "outputs": [
    {
     "data": {
      "text/plain": [
       "0    7\n",
       "1    7\n",
       "2    6\n",
       "3    2\n",
       "4    5\n",
       "dtype: int64"
      ]
     },
     "execution_count": 2,
     "metadata": {},
     "output_type": "execute_result"
    }
   ],
   "source": [
    "s1 = pd.Series([7, 7, 6, 2,\t5, 4, 3, 7,\t3, 1, 2, 4, 8, 6, 3, 7, 9, 6, 1, 3])\n",
    "pd.DataFrame.head(s1)"
   ]
  },
  {
   "cell_type": "code",
   "execution_count": 3,
   "id": "37b4bd8a-a325-47ce-8bfa-d4ccacfd85c9",
   "metadata": {},
   "outputs": [
    {
     "data": {
      "text/plain": [
       "0     3\n",
       "1     3\n",
       "2     5\n",
       "3    12\n",
       "4     3\n",
       "dtype: int64"
      ]
     },
     "execution_count": 3,
     "metadata": {},
     "output_type": "execute_result"
    }
   ],
   "source": [
    "s2 = pd.Series([3, 3, 5, 12, 3, 4, 10, 5, 4, 4, 3, 4, 8, 4, 5, 5, 6, 6, 4, 7])\n",
    "pd.DataFrame.head(s2)"
   ]
  },
  {
   "cell_type": "code",
   "execution_count": 4,
   "id": "341af8c0-4edc-4f37-8b64-2852609d5fb0",
   "metadata": {},
   "outputs": [
    {
     "data": {
      "text/plain": [
       "0    7\n",
       "1    7\n",
       "2    7\n",
       "3    8\n",
       "4    8\n",
       "dtype: int64"
      ]
     },
     "execution_count": 4,
     "metadata": {},
     "output_type": "execute_result"
    }
   ],
   "source": [
    "s3 = pd.Series([7, 7, 7, 8, 8, 7, 7, 7, 4, 8, 7, 8, 8, 9, 8, 8, 7, 9, 8, 8])\n",
    "pd.DataFrame.head(s3)"
   ]
  },
  {
   "cell_type": "markdown",
   "id": "7f401ab9-48e8-418a-a4d3-aaa5ac064ec5",
   "metadata": {},
   "source": [
    "# 3 ANÁLISE GRÁFICA DESCRITIVA 01"
   ]
  },
  {
   "cell_type": "markdown",
   "id": "c855d56a-1f7c-48da-a305-001dfb0755f8",
   "metadata": {},
   "source": [
    "## 3.1 Gráfico de histograma"
   ]
  },
  {
   "cell_type": "code",
   "execution_count": 5,
   "id": "23683e3e-9204-4b1b-8995-2d7406145ece",
   "metadata": {},
   "outputs": [
    {
     "data": {
      "application/vnd.jupyter.widget-view+json": {
       "model_id": "dda5ea55730f41dfb9e70121af0185b6",
       "version_major": 2,
       "version_minor": 0
      },
      "text/plain": [
       "Canvas(toolbar=Toolbar(toolitems=[('Home', 'Reset original view', 'home', 'home'), ('Back', 'Back to previous …"
      ]
     },
     "metadata": {},
     "output_type": "display_data"
    },
    {
     "data": {
      "text/plain": [
       "Text(0, 0.5, 'Frequência')"
      ]
     },
     "execution_count": 5,
     "metadata": {},
     "output_type": "execute_result"
    }
   ],
   "source": [
    "# Cria uma imagem vazia\n",
    "fig = plt.figure()\n",
    "\n",
    "# Plota o histograma\n",
    "plt.hist(s1, bins = 5)\n",
    "\n",
    "# Coloca título nos eixos\n",
    "plt.title(\"Distribuição da variável S1\", loc = 'left')\n",
    "\n",
    "# Coloca nome nos eixos\n",
    "plt.xlabel('s1')\n",
    "plt.ylabel('Frequência')"
   ]
  },
  {
   "cell_type": "code",
   "execution_count": null,
   "id": "67feb473-6b47-4fdf-be6f-2978e5e910c8",
   "metadata": {},
   "outputs": [],
   "source": []
  },
  {
   "cell_type": "markdown",
   "id": "c113a42e-0c19-4644-acbf-f02741735133",
   "metadata": {},
   "source": [
    "### Múltiplos gráficos"
   ]
  },
  {
   "cell_type": "code",
   "execution_count": 6,
   "id": "b75bfa2f-1620-4f58-b71e-7f9b75b2755c",
   "metadata": {},
   "outputs": [
    {
     "data": {
      "application/vnd.jupyter.widget-view+json": {
       "model_id": "7c0de7d9ee8f40bfb3375995e70416aa",
       "version_major": 2,
       "version_minor": 0
      },
      "text/plain": [
       "Canvas(toolbar=Toolbar(toolitems=[('Home', 'Reset original view', 'home', 'home'), ('Back', 'Back to previous …"
      ]
     },
     "metadata": {},
     "output_type": "display_data"
    },
    {
     "data": {
      "text/plain": [
       "Text(0, 0.5, 'Frequência')"
      ]
     },
     "execution_count": 6,
     "metadata": {},
     "output_type": "execute_result"
    }
   ],
   "source": [
    "# Cria a figura e os subplots\n",
    "fig = plt.figure()\n",
    "plt.subplots_adjust(hspace = 0.3, wspace = 0.4)\n",
    "fig.suptitle('Comparação de distribuições', x=0.1, y=.95, horizontalalignment = 'left', verticalalignment = 'top')\n",
    "ax1 = fig.add_subplot(2, 2, 1)\n",
    "ax2 = fig.add_subplot(2, 2, 2)\n",
    "ax3 = fig.add_subplot(2, 2, 3)\n",
    "\n",
    "# Cria os gráficos de histograma e acerta os nomes dos eixos\n",
    "ax1.hist(s1, bins = 5)\n",
    "ax1.set_xlabel('s1')\n",
    "ax1.set_ylabel('Frequência')\n",
    "\n",
    "ax2.hist(s2, bins = 5)\n",
    "ax2.set_xlabel('s2')\n",
    "ax2.set_ylabel('Frequência')\n",
    "\n",
    "ax3.hist(s3, bins = 5)\n",
    "ax3.set_xlabel('s3')\n",
    "ax3.set_ylabel('Frequência')"
   ]
  },
  {
   "cell_type": "markdown",
   "id": "36b3d789-bae6-42fa-9d86-2594a6bfd36a",
   "metadata": {},
   "source": [
    "### Histogramas superpostos"
   ]
  },
  {
   "cell_type": "code",
   "execution_count": 7,
   "id": "0b135320-6841-49ec-9a55-af344d097790",
   "metadata": {},
   "outputs": [
    {
     "data": {
      "application/vnd.jupyter.widget-view+json": {
       "model_id": "4c5f9ed9854748339c42ae417b424fff",
       "version_major": 2,
       "version_minor": 0
      },
      "text/plain": [
       "Canvas(toolbar=Toolbar(toolitems=[('Home', 'Reset original view', 'home', 'home'), ('Back', 'Back to previous …"
      ]
     },
     "metadata": {},
     "output_type": "display_data"
    },
    {
     "data": {
      "text/plain": [
       "Text(0.0, 1.0, 'Comparação entre variáveis')"
      ]
     },
     "execution_count": 7,
     "metadata": {},
     "output_type": "execute_result"
    }
   ],
   "source": [
    "fig = plt.figure()\n",
    "plt.hist(s1, alpha = 0.5, label = 's1')\n",
    "plt.hist(s2, alpha = 0.5, label = 's1')\n",
    "plt.hist(s3, alpha = 0.5, label = 's1')\n",
    "# Código alternativo\n",
    "# plt.hist([s1, s2, s3], bins, label=['s1', 's2', 's3'])\n",
    "\n",
    "plt.legend(loc = 'upper right')\n",
    "plt.ylabel('Frequência')\n",
    "plt.title('Comparação entre variáveis', loc = 'left')\n",
    "\n"
   ]
  },
  {
   "cell_type": "markdown",
   "id": "b85bba32-3e0c-4647-9394-59d6dccad66b",
   "metadata": {},
   "source": [
    "# 4 MEDIDAS DE CENTRALIZAÇÃO"
   ]
  },
  {
   "cell_type": "markdown",
   "id": "4eae0df2-8ab5-4d8b-a65f-ffb7eebf6735",
   "metadata": {},
   "source": [
    "## 4.1 Moda"
   ]
  },
  {
   "cell_type": "code",
   "execution_count": 51,
   "id": "d099e62a-2a6d-462c-8c65-6c0db34d5f5b",
   "metadata": {},
   "outputs": [
    {
     "data": {
      "text/plain": [
       "numpy.float64"
      ]
     },
     "execution_count": 51,
     "metadata": {},
     "output_type": "execute_result"
    }
   ],
   "source": [
    "moda1, count1 = stats.mode(s1)\n",
    "# Converte o objeto para np.float64\n",
    "moda1 = np.float64(moda1[0])\n",
    "moda1"
   ]
  },
  {
   "cell_type": "code",
   "execution_count": 43,
   "id": "e081a200-3067-4dda-8584-99b42b07e971",
   "metadata": {},
   "outputs": [
    {
     "data": {
      "text/plain": [
       "4"
      ]
     },
     "execution_count": 43,
     "metadata": {},
     "output_type": "execute_result"
    }
   ],
   "source": [
    "moda2, count2 = stats.mode(s2)\n",
    "# Converte o objeto para np.float64\n",
    "moda2 = np.float64(moda2[0])\n",
    "moda2"
   ]
  },
  {
   "cell_type": "code",
   "execution_count": 52,
   "id": "03117aea-b307-4eab-8dff-943747d04260",
   "metadata": {},
   "outputs": [
    {
     "data": {
      "text/plain": [
       "8.0"
      ]
     },
     "execution_count": 52,
     "metadata": {},
     "output_type": "execute_result"
    }
   ],
   "source": [
    "moda3, count3 = stats.mode(s3)\n",
    "# Converte o objeto para np.float64\n",
    "moda3 = np.float64(moda3[0])\n",
    "moda3"
   ]
  },
  {
   "cell_type": "markdown",
   "id": "45b64064-f81d-47df-8963-8544267dadef",
   "metadata": {},
   "source": [
    "# 4.2 Mediana"
   ]
  },
  {
   "cell_type": "code",
   "execution_count": 25,
   "id": "2397e41c-3f95-42cc-bf0a-1459c03e7962",
   "metadata": {},
   "outputs": [
    {
     "data": {
      "text/plain": [
       "4.5"
      ]
     },
     "execution_count": 25,
     "metadata": {},
     "output_type": "execute_result"
    }
   ],
   "source": [
    "# A mediana já é retornada como np.float64\n",
    "mediana1 = np.median(s1)\n",
    "mediana1"
   ]
  },
  {
   "cell_type": "code",
   "execution_count": 26,
   "id": "d538dc00-a7d1-4d1b-834b-5564a3cc0f60",
   "metadata": {},
   "outputs": [
    {
     "data": {
      "text/plain": [
       "4.5"
      ]
     },
     "execution_count": 26,
     "metadata": {},
     "output_type": "execute_result"
    }
   ],
   "source": [
    "# A mediana já é retornada como np.float64\n",
    "mediana2 = np.median(s2)\n",
    "mediana2"
   ]
  },
  {
   "cell_type": "code",
   "execution_count": 27,
   "id": "d40ce5f5-211d-4f3a-a991-b5d49bdcc630",
   "metadata": {},
   "outputs": [
    {
     "data": {
      "text/plain": [
       "8.0"
      ]
     },
     "execution_count": 27,
     "metadata": {},
     "output_type": "execute_result"
    }
   ],
   "source": [
    "# A mediana já é retornada como np.float64\n",
    "mediana3 = np.median(s3)\n",
    "mediana3"
   ]
  },
  {
   "cell_type": "markdown",
   "id": "bd7319b3-9e49-4263-9a14-cbec9c6aefff",
   "metadata": {},
   "source": [
    "# 4.3 Média"
   ]
  },
  {
   "cell_type": "code",
   "execution_count": 54,
   "id": "fcae8ac2-083f-44bc-ade2-674949675eda",
   "metadata": {},
   "outputs": [
    {
     "data": {
      "text/plain": [
       "numpy.float64"
      ]
     },
     "execution_count": 54,
     "metadata": {},
     "output_type": "execute_result"
    }
   ],
   "source": [
    "media1 = np.mean(s1)\n",
    "# Converte o objeto para np.float64\n",
    "media1 = np.float64(media1)\n",
    "media1"
   ]
  },
  {
   "cell_type": "code",
   "execution_count": 55,
   "id": "cdb21757-ed08-46f2-9b53-35026c780f22",
   "metadata": {},
   "outputs": [
    {
     "data": {
      "text/plain": [
       "5.25"
      ]
     },
     "execution_count": 55,
     "metadata": {},
     "output_type": "execute_result"
    }
   ],
   "source": [
    "media2 = np.mean(s2)\n",
    "# Converte o objeto para np.float64\n",
    "media2 = np.float64(media2)\n",
    "media2"
   ]
  },
  {
   "cell_type": "code",
   "execution_count": 56,
   "id": "65902e5a-e0bd-4697-9d35-1c4f0b2a484a",
   "metadata": {},
   "outputs": [
    {
     "data": {
      "text/plain": [
       "7.5"
      ]
     },
     "execution_count": 56,
     "metadata": {},
     "output_type": "execute_result"
    }
   ],
   "source": [
    "media3 = np.mean(s3)\n",
    "# Converte o objeto para np.float64\n",
    "media3 = np.float64(media3)\n",
    "media3"
   ]
  },
  {
   "cell_type": "markdown",
   "id": "afeb603e-5efa-4c61-99d3-f64bb85f6721",
   "metadata": {},
   "source": [
    "# 4.4 Vizualização"
   ]
  },
  {
   "cell_type": "code",
   "execution_count": 64,
   "id": "9e9f8d48-4ac2-422a-bbcc-115caebd5eb3",
   "metadata": {},
   "outputs": [],
   "source": [
    "xCoords = pd.Series([moda1, mediana1, media1], ['moda', 'mediana', 'media'])"
   ]
  },
  {
   "cell_type": "code",
   "execution_count": 70,
   "id": "f0d6e9ff-b3bc-4820-b4a0-be8e1a183359",
   "metadata": {},
   "outputs": [
    {
     "data": {
      "text/plain": [
       "Index(['moda', 'mediana', 'media'], dtype='object')"
      ]
     },
     "execution_count": 70,
     "metadata": {},
     "output_type": "execute_result"
    }
   ],
   "source": [
    "xCoords.index"
   ]
  },
  {
   "cell_type": "markdown",
   "id": "0dc186e2-13d5-4dda-8f91-ea34fc71ae3e",
   "metadata": {},
   "source": [
    "### 4.4.1 Gráfico único"
   ]
  },
  {
   "cell_type": "code",
   "execution_count": 91,
   "id": "2b434923-e184-4e91-9615-e9137c903550",
   "metadata": {},
   "outputs": [
    {
     "data": {
      "application/vnd.jupyter.widget-view+json": {
       "model_id": "156dfd29600343c08df362430323a711",
       "version_major": 2,
       "version_minor": 0
      },
      "text/plain": [
       "Canvas(toolbar=Toolbar(toolitems=[('Home', 'Reset original view', 'home', 'home'), ('Back', 'Back to previous …"
      ]
     },
     "metadata": {},
     "output_type": "display_data"
    },
    {
     "data": {
      "text/plain": [
       "<matplotlib.legend.Legend at 0x1668287b0d0>"
      ]
     },
     "execution_count": 91,
     "metadata": {},
     "output_type": "execute_result"
    }
   ],
   "source": [
    "# Cria uma imagem vazia\n",
    "fig = plt.figure()\n",
    "\n",
    "# Plota o histograma\n",
    "h = plt.hist(s1, bins = 5)\n",
    "\n",
    "# Coloca título nos eixos\n",
    "plt.title(\"Distribuição da variável S1\", loc = 'left')\n",
    "\n",
    "# Coloca nome nos eixos\n",
    "plt.xlabel('s1')\n",
    "plt.ylabel('Frequência')\n",
    "\n",
    "# Define a coordenada das linhas\n",
    "xCoords = pd.Series([moda1, mediana1, media1], ['moda', 'mediana', 'media'])\n",
    "\n",
    "# Define a cor das linhas\n",
    "colors = ['r', 'k', 'y']\n",
    "\n",
    "# Plota linhas verticais\n",
    "for xc,xn,c in zip(xCoords, xCoords.index, colors):\n",
    "    plt.axvline(x = xc, label = xn, c = c)\n",
    "    \n",
    "plt.legend()"
   ]
  },
  {
   "cell_type": "markdown",
   "id": "f9b27f41-6491-4925-a2c6-b522dbe6fd8f",
   "metadata": {},
   "source": [
    "### 4.4.2 Múltiplos gráficos"
   ]
  },
  {
   "cell_type": "code",
   "execution_count": 97,
   "id": "7e5b2433-fc1e-425a-9391-fb2f50c868a7",
   "metadata": {},
   "outputs": [
    {
     "data": {
      "application/vnd.jupyter.widget-view+json": {
       "model_id": "e52355ed429a4d93a211fe53c9ca75f2",
       "version_major": 2,
       "version_minor": 0
      },
      "text/plain": [
       "Canvas(toolbar=Toolbar(toolitems=[('Home', 'Reset original view', 'home', 'home'), ('Back', 'Back to previous …"
      ]
     },
     "metadata": {},
     "output_type": "display_data"
    }
   ],
   "source": [
    "# Cria a figura e os subplots\n",
    "fig = plt.figure()\n",
    "plt.subplots_adjust(hspace = 0.3, wspace = 0.4)\n",
    "fig.suptitle('Comparação de distribuições, modas, médias e medianas', x=0.1, y=.95, horizontalalignment = 'left', verticalalignment = 'top')\n",
    "ax1 = fig.add_subplot(2, 2, 1)\n",
    "ax2 = fig.add_subplot(2, 2, 2)\n",
    "ax3 = fig.add_subplot(2, 2, 3)\n",
    "\n",
    "# Cria os gráficos de histograma e acerta os nomes dos eixos\n",
    "ax1.hist(s1, bins = 5)\n",
    "ax1.set_xlabel('s1')\n",
    "ax1.set_ylabel('Frequência')\n",
    "\n",
    "ax2.hist(s2, bins = 5)\n",
    "ax2.set_xlabel('s2')\n",
    "ax2.set_ylabel('Frequência')\n",
    "\n",
    "ax3.hist(s3, bins = 5)\n",
    "ax3.set_xlabel('s3')\n",
    "ax3.set_ylabel('Frequência')\n",
    "\n",
    "# Cria as séries com as coordenadas das linhas verticais\n",
    "\n",
    "xCoords1 = pd.Series([moda1, mediana1, media1], ['moda', 'mediana', 'media'])\n",
    "xCoords2 = pd.Series([moda2, mediana2, media2], ['moda', 'mediana', 'media'])\n",
    "xCoords3 = pd.Series([moda3, mediana3, media3], ['moda', 'mediana', 'media'])\n",
    "\n",
    "# Plota as linhas\n",
    "\n",
    "for xc,xn,c in zip(xCoords1, xCoords1.index, colors):\n",
    "    ax1.axvline(x = xc, label = xn, c = c)\n",
    "    \n",
    "for xc,xn,c in zip(xCoords2, xCoords2.index, colors):\n",
    "    ax2.axvline(x = xc, label = xn, c = c)\n",
    "    \n",
    "for xc,xn,c in zip(xCoords3, xCoords3.index, colors):\n",
    "    ax3.axvline(x = xc, label = xn, c = c)"
   ]
  },
  {
   "cell_type": "markdown",
   "id": "b21e135f-fdd4-42c3-b899-0445e24f021f",
   "metadata": {},
   "source": [
    "# 5 QUANTIS"
   ]
  },
  {
   "cell_type": "markdown",
   "id": "f8512c79-13ce-4eb9-9f50-73be4ef15b26",
   "metadata": {},
   "source": [
    "# 6 GRÁFICO BOX PLOT"
   ]
  }
 ],
 "metadata": {
  "kernelspec": {
   "display_name": "Python 3",
   "language": "python",
   "name": "python3"
  },
  "language_info": {
   "codemirror_mode": {
    "name": "ipython",
    "version": 3
   },
   "file_extension": ".py",
   "mimetype": "text/x-python",
   "name": "python",
   "nbconvert_exporter": "python",
   "pygments_lexer": "ipython3",
   "version": "3.8.10"
  }
 },
 "nbformat": 4,
 "nbformat_minor": 5
}
